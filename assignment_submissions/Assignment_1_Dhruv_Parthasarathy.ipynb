{
 "cells": [
  {
   "cell_type": "markdown",
   "metadata": {},
   "source": [
    "# Task:\n",
    "\n",
    "Derive similarity score between two sentences applying three different techniques. \n",
    "- Reference Article: [A beginner’s guide to measuring sentence similarity](https://medium.com/@igniobydigitate/a-beginners-guide-to-measuring-sentence-similarity-f3c78b9da0bc)"
   ]
  },
  {
   "cell_type": "markdown",
   "metadata": {},
   "source": [
    "## Sentence Embedding\n",
    "\n",
    "Sentence embedding represents a sentence as a vector of numbers. This numerical representation of a sentence is called sentence embedding. In a word embedding corresponds to a particular feature or aspect of the word. A sentence embedding is based on a similar concept where the dimensions collectively capture different aspects of the words used in the sentence, the grammatical structure of the sentence, and maybe some more underlying information.\n",
    "\n",
    "There are various ways in which a sentence embedding can be created. Once we have each sentence represented as a vector of numbers, then the problem of finding sentence similarity translates to the problem of finding similarity between these numeric vectors.\n",
    "\n",
    "In this notebook I will discuss a couple of statistical techniques to create numeric representations of sentences and briefly explore an idea of how one can utilize word embeddings for the same task. I will also discuss how similarity between sentence embeddings can be computed."
   ]
  },
  {
   "cell_type": "markdown",
   "metadata": {
    "jp-MarkdownHeadingCollapsed": true
   },
   "source": [
    "## Sample sentences\n",
    "\n",
    "We take sentences form two unrelated movies to work with. This is done with the goal to demonstrate how sentences turn out to be either similar or dissimilar across these movies. I expect sentences from spiderman to show higher similarity with other senteces from the same movie and a lower similarity score from the sentences from the movie Godfather."
   ]
  },
  {
   "cell_type": "code",
   "execution_count": null,
   "metadata": {},
   "outputs": [],
   "source": [
    "import numpy as np\n",
    "import pandas as pd"
   ]
  },
  {
   "cell_type": "code",
   "execution_count": null,
   "metadata": {},
   "outputs": [],
   "source": [
    "# Sample sentences from Spider-Man\n",
    "spiderman_sentences = [\n",
    "    \"With great power comes great responsibility.\",\n",
    "    \"I missed the part where that's my problem.\",\n",
    "    \"You're not Superman, you know.\",\n",
    "    \"Remember, with great power comes great responsibility.\",\n",
    "    \"I'm just Peter Parker. I'm Spider-Man no more.\",\n",
    "    \"Whatever life holds in store for me, I will never forget these words.\",\n",
    "    \"The truth is, I am Spider-Man.\",\n",
    "    \"This is my gift, my curse. Who am I? I'm Spider-Man.\",\n",
    "    \"Sometimes, to do what's right, we have to be steady and give up the things we want the most.\",\n",
    "    \"I want to tell you the truth... here it is: I'm Spider-Man.\"\n",
    "]\n",
    "\n",
    "# Sample sentences from The Godfather\n",
    "godfather_sentences = [\n",
    "    \"I'm gonna make him an offer he can't refuse.\",\n",
    "    \"Revenge is a dish best served cold.\",\n",
    "    \"A man who doesn't spend time with his family can never be a real man.\",\n",
    "    \"Leave the gun. Take the cannoli.\",\n",
    "    \"The lawyer with the briefcase can steal more money than the man with the gun.\",\n",
    "    \"It's not personal, Sonny. It's strictly business.\",\n",
    "    \"Women and children can be careless, but not men.\",\n",
    "    \"Power wears out those who do not have it.\",\n",
    "    \"Friendship is everything. Friendship is more than talent. It is more than the government. It is almost the equal of family.\",\n",
    "    \"Great men are not born great, they grow great.\"\n",
    "]\n",
    "\n",
    "all_sentences = spiderman_sentences + godfather_sentences"
   ]
  },
  {
   "cell_type": "markdown",
   "metadata": {},
   "source": [
    "## Bag of words\n",
    "\n",
    "The basic idea is to find out which words are present in a sentence and assess the importance of a word based on how many times it occurs in a sentence."
   ]
  },
  {
   "cell_type": "markdown",
   "metadata": {},
   "source": [
    "#### Creating a dictionary and removing stop words\n",
    "\n",
    "Words such as is, are, a, an, the etc do not add much value in terms of providing context to a sentence. These are called stop words. So before we go ahead and count the frequency of words, we want to remove these stop words from the sentences."
   ]
  },
  {
   "cell_type": "code",
   "execution_count": null,
   "metadata": {},
   "outputs": [],
   "source": [
    "# Define a list of stop words\n",
    "stop_words = {\n",
    "    'i', 'me', 'my', 'myself', 'we', 'our', 'ours', 'ourselves', 'you', 'your', 'yours', 'yourself', 'yourselves',\n",
    "    'he', 'him', 'his', 'himself', 'she', 'her', 'hers', 'herself', 'it', 'its', 'itself', 'they', 'them', 'their',\n",
    "    'theirs', 'themselves', 'what', 'which', 'who', 'whom', 'this', 'that', 'these', 'those', 'am', 'is', 'are', 'was',\n",
    "    'were', 'be', 'been', 'being', 'have', 'has', 'had', 'having', 'do', 'does', 'did', 'doing', 'a', 'an', 'the',\n",
    "    'and', 'but', 'if', 'or', 'because', 'as', 'until', 'while', 'of', 'at', 'by', 'for', 'with', 'about', 'against',\n",
    "    'between', 'into', 'through', 'during', 'before', 'after', 'above', 'below', 'to', 'from', 'up', 'down', 'in', 'out',\n",
    "    'on', 'off', 'over', 'under', 'again', 'further', 'then', 'once', 'here', 'there', 'when', 'where', 'why', 'how',\n",
    "    'all', 'any', 'both', 'each', 'few', 'more', 'most', 'other', 'some', 'such', 'no', 'nor', 'not', 'only', 'own',\n",
    "    'same', 'so', 'than', 'too', 'very', 's', 't', 'can', 'will', 'just', 'don', 'should', 'now'\n",
    "}"
   ]
  },
  {
   "cell_type": "markdown",
   "metadata": {},
   "source": [
    "#### Removing punctuations\n",
    "Before we go ahead and remove stop words, we first want to remove punctuations from the words so that they also get flagged as stop words. And even if not we don't want to consider men and men. as different words. So we remove punctuations.\n",
    "\n",
    "Explanation of code below:\n",
    "\n",
    "- str.maketrans('', '', string.punctuation) creates a translation table that maps each character in string.punctuation to None.\n",
    "- str.maketrans is a static method that returns a translation table usable for str.translate.\n",
    "- The first two arguments are empty strings ('') because we are not replacing any characters, only removing.\n",
    "- The third argument is string.punctuation, which contains all punctuation characters.\n",
    "- word.translate(...) uses the translation table to remove all punctuation characters from the word."
   ]
  },
  {
   "cell_type": "code",
   "execution_count": null,
   "metadata": {},
   "outputs": [],
   "source": [
    "import string\n",
    "def remove_punctuation(word):\n",
    "    return word.translate(str.maketrans('', '', string.punctuation))"
   ]
  },
  {
   "cell_type": "code",
   "execution_count": null,
   "metadata": {},
   "outputs": [
    {
     "name": "stdout",
     "output_type": "stream",
     "text": [
      "Original sentence: This is an example sentence showing the removal of stop words.\n",
      "Filtered sentence: example sentence showing removal stop words\n"
     ]
    }
   ],
   "source": [
    "# Sample sentence\n",
    "sentence = \"This is an example sentence showing the removal of stop words.\"\n",
    "\n",
    "def remove_stop_words(sentence):\n",
    "    \n",
    "    # Tokenize the sentence\n",
    "    words = sentence.lower().split()\n",
    "    \n",
    "    # Remove stop words\n",
    "    filtered_words = [remove_punctuation(word) for word in words if word not in stop_words]\n",
    "    \n",
    "    # Join the words back into a sentence\n",
    "    filtered_sentence = ' '.join(filtered_words)\n",
    "\n",
    "    return filtered_sentence\n",
    "\n",
    "print(\"Original sentence:\", sentence)\n",
    "print(\"Filtered sentence:\", remove_stop_words(sentence))"
   ]
  },
  {
   "cell_type": "code",
   "execution_count": null,
   "metadata": {},
   "outputs": [
    {
     "name": "stdout",
     "output_type": "stream",
     "text": [
      "spiderman_original:\n",
      "With great power comes great responsibility.\n",
      "I missed the part where that's my problem.\n",
      "You're not Superman, you know.\n",
      "\n",
      "spiderman_stop_removed:\n",
      "['great', 'power', 'comes', 'great', 'responsibility']\n",
      "['missed', 'part', 'thats', 'problem']\n",
      "['youre', 'superman', 'know']\n"
     ]
    }
   ],
   "source": [
    "# Removing stopwords from all sentences in our database\n",
    "\n",
    "spiderman_stop_removed = []\n",
    "godfather_stop_removed = []\n",
    "\n",
    "for sentence in spiderman_sentences:\n",
    "    spiderman_stop_removed.append(remove_stop_words(sentence).split())\n",
    "\n",
    "for sentence in godfather_sentences:\n",
    "    godfather_stop_removed.append(remove_stop_words(sentence).split())\n",
    "\n",
    "print(\"spiderman_original:\")\n",
    "print(spiderman_sentences[0])\n",
    "print(spiderman_sentences[1])\n",
    "print(spiderman_sentences[2])\n",
    "print()\n",
    "print(\"spiderman_stop_removed:\")\n",
    "print(spiderman_stop_removed[0])\n",
    "print(spiderman_stop_removed[1])\n",
    "print(spiderman_stop_removed[2])\n"
   ]
  },
  {
   "cell_type": "markdown",
   "metadata": {},
   "source": [
    "#### Creating a dictionary of words in all sentences\n",
    "\n",
    "Now that we have removed the stop words, let's create a dictionary of all non stop words and create a dataset where for each sentence we have a row of frequency of each word"
   ]
  },
  {
   "cell_type": "code",
   "execution_count": null,
   "metadata": {},
   "outputs": [
    {
     "name": "stdout",
     "output_type": "stream",
     "text": [
      "Total unique words : 82\n"
     ]
    }
   ],
   "source": [
    "# Creating a set of all unique words\n",
    "\n",
    "# Let's combine all arrays into one\n",
    "all_sentences_stop_removed = spiderman_stop_removed+ godfather_stop_removed\n",
    "\n",
    "# get unique words from all sentences and put it into a set\n",
    "unique_words = set()\n",
    "for sentence in all_sentences_stop_removed:\n",
    "    for word in sentence:\n",
    "        unique_words.add(word)\n",
    "\n",
    "print(f\"Total unique words : {len(unique_words)}\")"
   ]
  },
  {
   "cell_type": "markdown",
   "metadata": {},
   "source": [
    "#### Creating the dataframe that shows the word count of each sentence"
   ]
  },
  {
   "cell_type": "code",
   "execution_count": null,
   "metadata": {},
   "outputs": [],
   "source": [
    "from collections import Counter"
   ]
  },
  {
   "cell_type": "code",
   "execution_count": null,
   "metadata": {},
   "outputs": [
    {
     "name": "stdout",
     "output_type": "stream",
     "text": [
      "    remember  equal  know  superman  man  lawyer  money  real  cannoli  im  \\\n",
      "0          0      0     0         0    0       0      0     0        0   0   \n",
      "1          0      0     0         0    0       0      0     0        0   0   \n",
      "2          0      0     1         1    0       0      0     0        0   0   \n",
      "3          1      0     0         0    0       0      0     0        0   0   \n",
      "4          0      0     0         0    0       0      0     0        0   2   \n",
      "5          0      0     0         0    0       0      0     0        0   0   \n",
      "6          0      0     0         0    0       0      0     0        0   0   \n",
      "7          0      0     0         0    0       0      0     0        0   1   \n",
      "8          0      0     0         0    0       0      0     0        0   0   \n",
      "9          0      0     0         0    0       0      0     0        0   1   \n",
      "10         0      0     0         0    0       0      0     0        0   1   \n",
      "11         0      0     0         0    0       0      0     0        0   0   \n",
      "12         0      0     0         0    2       0      0     1        0   0   \n",
      "13         0      0     0         0    0       0      0     0        1   0   \n",
      "14         0      0     0         0    1       1      1     0        0   0   \n",
      "15         0      0     0         0    0       0      0     0        0   0   \n",
      "16         0      0     0         0    0       0      0     0        0   0   \n",
      "17         0      0     0         0    0       0      0     0        0   0   \n",
      "18         0      1     0         0    0       0      0     0        0   0   \n",
      "19         0      0     0         0    0       0      0     0        0   0   \n",
      "\n",
      "    ...  whats  make  spend  strictly  peter  wears  gonna  right  women  dish  \n",
      "0   ...      0     0      0         0      0      0      0      0      0     0  \n",
      "1   ...      0     0      0         0      0      0      0      0      0     0  \n",
      "2   ...      0     0      0         0      0      0      0      0      0     0  \n",
      "3   ...      0     0      0         0      0      0      0      0      0     0  \n",
      "4   ...      0     0      0         0      1      0      0      0      0     0  \n",
      "5   ...      0     0      0         0      0      0      0      0      0     0  \n",
      "6   ...      0     0      0         0      0      0      0      0      0     0  \n",
      "7   ...      0     0      0         0      0      0      0      0      0     0  \n",
      "8   ...      1     0      0         0      0      0      0      1      0     0  \n",
      "9   ...      0     0      0         0      0      0      0      0      0     0  \n",
      "10  ...      0     1      0         0      0      0      1      0      0     0  \n",
      "11  ...      0     0      0         0      0      0      0      0      0     1  \n",
      "12  ...      0     0      1         0      0      0      0      0      0     0  \n",
      "13  ...      0     0      0         0      0      0      0      0      0     0  \n",
      "14  ...      0     0      0         0      0      0      0      0      0     0  \n",
      "15  ...      0     0      0         1      0      0      0      0      0     0  \n",
      "16  ...      0     0      0         0      0      0      0      0      1     0  \n",
      "17  ...      0     0      0         0      0      1      0      0      0     0  \n",
      "18  ...      0     0      0         0      0      0      0      0      0     0  \n",
      "19  ...      0     0      0         0      0      0      0      0      0     0  \n",
      "\n",
      "[20 rows x 82 columns]\n"
     ]
    }
   ],
   "source": [
    "# Create a frequency matrix\n",
    "frequency_matrix = []\n",
    "\n",
    "for sentence in all_sentences_stop_removed:\n",
    "    word_count = Counter(sentence)\n",
    "    frequency_matrix.append([word_count.get(word, 0) for word in unique_words])\n",
    "\n",
    "# Create a DataFrame\n",
    "df = pd.DataFrame(frequency_matrix, columns=list(unique_words))\n",
    "print(df)"
   ]
  },
  {
   "attachments": {
    "616c994e-24cf-44d8-bbbc-fcdad8b8ad9b.png": {
     "image/png": "[encoded data removed]"
    },
    "7e67bc4b-b7cc-478b-aa51-271349dce69a.png": {
     "image/png": "[encoded data removed]"
    }
   },
   "cell_type": "markdown",
   "metadata": {},
   "source": [
    "#### Using cosine similarity to calculate how similar the sentences are\n",
    "\n",
    "Consider that two n-dimensional arrays are plotted as two vectors in an n-dimensional space. Cosine similarity measures the angle between these two vectors and returns a value between -1 and 1. Mathematically, given two vectors A and B, cosine similarity is calculated as follows:\n",
    "\n",
    "![CosineSimilarityFormula.png](attachment:7e67bc4b-b7cc-478b-aa51-271349dce69a.png)\n",
    "\n",
    "where,\n",
    "\n",
    "\n",
    "- A.B = Dot product between two vectors. It is calculated by adding the product of corresponding vector values.\n",
    "\n",
    "\n",
    "- |A|, |B| = Magnitude of a vector. It is the square root of the sum of squares of all the vector values.\n",
    "\n",
    "![CosineSimilarityVectorRepresentation.png](attachment:616c994e-24cf-44d8-bbbc-fcdad8b8ad9b.png)"
   ]
  },
  {
   "cell_type": "markdown",
   "metadata": {},
   "source": [
    "#### The cosine similarity function"
   ]
  },
  {
   "cell_type": "code",
   "execution_count": null,
   "metadata": {},
   "outputs": [],
   "source": [
    "def consine(vec1, vec2):\n",
    "    # Compute the dot product\n",
    "    dot_product = np.dot(vec1, vec2)\n",
    "    \n",
    "    # Compute the Euclidean norm (magnitude) of each vector\n",
    "    norm_vec1 = np.linalg.norm(vec1)\n",
    "    norm_vec2 = np.linalg.norm(vec2)\n",
    "    \n",
    "    # Compute the cosine similarity\n",
    "    if norm_vec1 == 0 or norm_vec2 == 0:\n",
    "        return 0.0\n",
    "    else:\n",
    "        return dot_product / (norm_vec1 * norm_vec2)"
   ]
  },
  {
   "cell_type": "code",
   "execution_count": null,
   "metadata": {},
   "outputs": [
    {
     "name": "stdout",
     "output_type": "stream",
     "text": [
      "['With great power comes great responsibility.', \"I missed the part where that's my problem.\", \"You're not Superman, you know.\", 'Remember, with great power comes great responsibility.', \"I'm just Peter Parker. I'm Spider-Man no more.\", 'Whatever life holds in store for me, I will never forget these words.', 'The truth is, I am Spider-Man.', \"This is my gift, my curse. Who am I? I'm Spider-Man.\", \"Sometimes, to do what's right, we have to be steady and give up the things we want the most.\", \"I want to tell you the truth... here it is: I'm Spider-Man.\", \"I'm gonna make him an offer he can't refuse.\", 'Revenge is a dish best served cold.', \"A man who doesn't spend time with his family can never be a real man.\", 'Leave the gun. Take the cannoli.', 'The lawyer with the briefcase can steal more money than the man with the gun.', \"It's not personal, Sonny. It's strictly business.\", 'Women and children can be careless, but not men.', 'Power wears out those who do not have it.', 'Friendship is everything. Friendship is more than talent. It is more than the government. It is almost the equal of family.', 'Great men are not born great, they grow great.']\n",
      "20\n"
     ]
    }
   ],
   "source": [
    "# Testing this between two sentences within the spiderman movie\n",
    "print(all_sentences)\n",
    "print(len(all_sentences))"
   ]
  },
  {
   "cell_type": "code",
   "execution_count": null,
   "metadata": {},
   "outputs": [
    {
     "data": {
      "text/plain": [
       "'With great power comes great responsibility.'"
      ]
     },
     "metadata": {},
     "output_type": "display_data"
    }
   ],
   "source": [
    "# Let's try the first and the 4th statement\n",
    "all_sentences[0]"
   ]
  },
  {
   "cell_type": "code",
   "execution_count": null,
   "metadata": {},
   "outputs": [
    {
     "data": {
      "text/plain": [
       "'Remember, with great power comes great responsibility.'"
      ]
     },
     "metadata": {},
     "output_type": "display_data"
    }
   ],
   "source": [
    "all_sentences[3]"
   ]
  },
  {
   "cell_type": "code",
   "execution_count": null,
   "metadata": {},
   "outputs": [
    {
     "data": {
      "text/plain": [
       "0.9354143466934852"
      ]
     },
     "metadata": {},
     "output_type": "display_data"
    }
   ],
   "source": [
    "consine(df.loc[0], df.loc[3])"
   ]
  },
  {
   "cell_type": "code",
   "execution_count": null,
   "metadata": {},
   "outputs": [
    {
     "data": {
      "text/plain": [
       "'Friendship is everything. Friendship is more than talent. It is more than the government. It is almost the equal of family.'"
      ]
     },
     "metadata": {},
     "output_type": "display_data"
    }
   ],
   "source": [
    "# Let's pick a sentence that does not have power or responsibility in it\n",
    "all_sentences[18]"
   ]
  },
  {
   "cell_type": "code",
   "execution_count": null,
   "metadata": {},
   "outputs": [
    {
     "data": {
      "text/plain": [
       "0.0"
      ]
     },
     "metadata": {},
     "output_type": "display_data"
    }
   ],
   "source": [
    "consine(df.loc[0], df.loc[18])"
   ]
  },
  {
   "cell_type": "markdown",
   "metadata": {},
   "source": [
    "This is not similar at at all!\n",
    "\n",
    "Let's write a function that given two sentences does this process end to end"
   ]
  },
  {
   "cell_type": "code",
   "execution_count": null,
   "metadata": {},
   "outputs": [],
   "source": [
    "def findSimilarityBagOfWords(sentence1, sentence2):\n",
    "    # combining sentences to an array\n",
    "    sentences = [sentence1, sentence2]\n",
    "    stop_removed = []\n",
    "\n",
    "    # removing stop words and punctuation from the words\n",
    "    for sentence in sentences:\n",
    "        stop_removed.append(remove_stop_words(sentence).split())\n",
    "\n",
    "    # getting list of unique words\n",
    "    unique_words = set()\n",
    "    for sentence in stop_removed:\n",
    "        for word in sentence:\n",
    "            unique_words.add(word)\n",
    "\n",
    "    # Create a frequency matrix\n",
    "    frequency_matrix = []\n",
    "    \n",
    "    for sentence in stop_removed:\n",
    "        word_count = Counter(sentence)\n",
    "        frequency_matrix.append([word_count.get(word, 0) for word in unique_words])\n",
    "    \n",
    "    # Create a DataFrame\n",
    "    df = pd.DataFrame(frequency_matrix, columns=list(unique_words))\n",
    "    print(f\"Similarity score: {consine(df.loc[0], df.loc[1])}\")\n",
    "    return df"
   ]
  },
  {
   "cell_type": "code",
   "execution_count": null,
   "metadata": {},
   "outputs": [
    {
     "name": "stdout",
     "output_type": "stream",
     "text": [
      "Similarity score: 0.6666666666666667\n"
     ]
    },
    {
     "data": {
      "text/html": [
       "<div>\n",
       "<style scoped>\n",
       "    .dataframe tbody tr th:only-of-type {\n",
       "        vertical-align: middle;\n",
       "    }\n",
       "\n",
       "    .dataframe tbody tr th {\n",
       "        vertical-align: top;\n",
       "    }\n",
       "\n",
       "    .dataframe thead th {\n",
       "        text-align: right;\n",
       "    }\n",
       "</style>\n",
       "<table border=\"1\" class=\"dataframe\">\n",
       "  <thead>\n",
       "    <tr style=\"text-align: right;\">\n",
       "      <th></th>\n",
       "      <th>out</th>\n",
       "      <th>dogs</th>\n",
       "      <th>let</th>\n",
       "      <th>cats</th>\n",
       "    </tr>\n",
       "  </thead>\n",
       "  <tbody>\n",
       "    <tr>\n",
       "      <th>0</th>\n",
       "      <td>1</td>\n",
       "      <td>1</td>\n",
       "      <td>1</td>\n",
       "      <td>0</td>\n",
       "    </tr>\n",
       "    <tr>\n",
       "      <th>1</th>\n",
       "      <td>1</td>\n",
       "      <td>0</td>\n",
       "      <td>1</td>\n",
       "      <td>1</td>\n",
       "    </tr>\n",
       "  </tbody>\n",
       "</table>\n",
       "</div>"
      ],
      "text/plain": [
       "   out  dogs  let  cats\n",
       "0    1     1    1     0\n",
       "1    1     0    1     1"
      ]
     },
     "metadata": {},
     "output_type": "display_data"
    }
   ],
   "source": [
    "findSimilarityBagOfWords(\"Who let the dogs out!\", \"Who let the cats out!\")"
   ]
  },
  {
   "cell_type": "code",
   "execution_count": null,
   "metadata": {},
   "outputs": [
    {
     "name": "stdout",
     "output_type": "stream",
     "text": [
      "Similarity score: 0.0\n"
     ]
    },
    {
     "data": {
      "text/html": [
       "<div>\n",
       "<style scoped>\n",
       "    .dataframe tbody tr th:only-of-type {\n",
       "        vertical-align: middle;\n",
       "    }\n",
       "\n",
       "    .dataframe tbody tr th {\n",
       "        vertical-align: top;\n",
       "    }\n",
       "\n",
       "    .dataframe thead th {\n",
       "        text-align: right;\n",
       "    }\n",
       "</style>\n",
       "<table border=\"1\" class=\"dataframe\">\n",
       "  <thead>\n",
       "    <tr style=\"text-align: right;\">\n",
       "      <th></th>\n",
       "      <th>mia</th>\n",
       "      <th>resist</th>\n",
       "      <th>mamma</th>\n",
       "      <th>go</th>\n",
       "      <th>my</th>\n",
       "    </tr>\n",
       "  </thead>\n",
       "  <tbody>\n",
       "    <tr>\n",
       "      <th>0</th>\n",
       "      <td>1</td>\n",
       "      <td>0</td>\n",
       "      <td>1</td>\n",
       "      <td>1</td>\n",
       "      <td>0</td>\n",
       "    </tr>\n",
       "    <tr>\n",
       "      <th>1</th>\n",
       "      <td>0</td>\n",
       "      <td>1</td>\n",
       "      <td>0</td>\n",
       "      <td>0</td>\n",
       "      <td>1</td>\n",
       "    </tr>\n",
       "  </tbody>\n",
       "</table>\n",
       "</div>"
      ],
      "text/plain": [
       "   mia  resist  mamma  go  my\n",
       "0    1       0      1   1   0\n",
       "1    0       1      0   0   1"
      ]
     },
     "metadata": {},
     "output_type": "display_data"
    }
   ],
   "source": [
    "findSimilarityBagOfWords(\"Mamma mia , here we go again \", \"My my! how can I resist you ?\")"
   ]
  },
  {
   "cell_type": "code",
   "execution_count": null,
   "metadata": {},
   "outputs": [
    {
     "name": "stdout",
     "output_type": "stream",
     "text": [
      "In the bustling city of Metropolis, the skyline is dominated by towering skyscrapers that reach for the heavens. The streets below are a hive of activity, with people from all walks of life hurrying to and fro. The air is filled with the sounds of honking cars, distant sirens, and the constant chatter of passersby. Amidst the urban chaos, pockets of tranquility can be found in the form of small parks and green spaces, offering a brief respite from the hustle and bustle. At night, the city transforms into a sea of lights, with neon signs and street lamps illuminating the dark, creating a vibrant and lively atmosphere that never seems to sleep.\n",
      "\n",
      "In the tranquil town of Riverview, life moves at a leisurely pace. The town is known for its picturesque scenery, with rolling hills and a serene river that winds its way through the heart of the community. The streets are lined with charming houses, each with well-tended gardens bursting with colorful flowers. The sound of birds singing fills the air, and the occasional laughter of children playing can be heard in the distance. Riverview's town square is a hub of local activity, where residents gather for farmers' markets, craft fairs, and community events. As the sun sets, the town is bathed in a golden glow, and the sky is painted with hues of pink and orange, bringing a peaceful end to another day in this idyllic setting.\n"
     ]
    }
   ],
   "source": [
    "paragraph1 = \"In the bustling city of Metropolis, the skyline is dominated by towering skyscrapers that reach for the heavens. The streets below are a hive of activity, with people from all walks of life hurrying to and fro. The air is filled with the sounds of honking cars, distant sirens, and the constant chatter of passersby. Amidst the urban chaos, pockets of tranquility can be found in the form of small parks and green spaces, offering a brief respite from the hustle and bustle. At night, the city transforms into a sea of lights, with neon signs and street lamps illuminating the dark, creating a vibrant and lively atmosphere that never seems to sleep.\"\n",
    "paragraph2 = \"In the tranquil town of Riverview, life moves at a leisurely pace. The town is known for its picturesque scenery, with rolling hills and a serene river that winds its way through the heart of the community. The streets are lined with charming houses, each with well-tended gardens bursting with colorful flowers. The sound of birds singing fills the air, and the occasional laughter of children playing can be heard in the distance. Riverview's town square is a hub of local activity, where residents gather for farmers' markets, craft fairs, and community events. As the sun sets, the town is bathed in a golden glow, and the sky is painted with hues of pink and orange, bringing a peaceful end to another day in this idyllic setting.\"\n",
    "\n",
    "print(paragraph1)\n",
    "print()\n",
    "print(paragraph2)"
   ]
  },
  {
   "cell_type": "code",
   "execution_count": null,
   "metadata": {},
   "outputs": [
    {
     "name": "stdout",
     "output_type": "stream",
     "text": [
      "Similarity score: 0.05466133744605251\n"
     ]
    },
    {
     "data": {
      "text/html": [
       "<div>\n",
       "<style scoped>\n",
       "    .dataframe tbody tr th:only-of-type {\n",
       "        vertical-align: middle;\n",
       "    }\n",
       "\n",
       "    .dataframe tbody tr th {\n",
       "        vertical-align: top;\n",
       "    }\n",
       "\n",
       "    .dataframe thead th {\n",
       "        text-align: right;\n",
       "    }\n",
       "</style>\n",
       "<table border=\"1\" class=\"dataframe\">\n",
       "  <thead>\n",
       "    <tr style=\"text-align: right;\">\n",
       "      <th></th>\n",
       "      <th>streets</th>\n",
       "      <th>markets</th>\n",
       "      <th>hustle</th>\n",
       "      <th>occasional</th>\n",
       "      <th>bringing</th>\n",
       "      <th>neon</th>\n",
       "      <th>metropolis</th>\n",
       "      <th>hub</th>\n",
       "      <th>pink</th>\n",
       "      <th>orange</th>\n",
       "      <th>...</th>\n",
       "      <th>distance</th>\n",
       "      <th>serene</th>\n",
       "      <th>bathed</th>\n",
       "      <th>community</th>\n",
       "      <th>form</th>\n",
       "      <th>scenery</th>\n",
       "      <th>activity</th>\n",
       "      <th>hues</th>\n",
       "      <th>residents</th>\n",
       "      <th>day</th>\n",
       "    </tr>\n",
       "  </thead>\n",
       "  <tbody>\n",
       "    <tr>\n",
       "      <th>0</th>\n",
       "      <td>1</td>\n",
       "      <td>0</td>\n",
       "      <td>1</td>\n",
       "      <td>0</td>\n",
       "      <td>0</td>\n",
       "      <td>1</td>\n",
       "      <td>1</td>\n",
       "      <td>0</td>\n",
       "      <td>0</td>\n",
       "      <td>0</td>\n",
       "      <td>...</td>\n",
       "      <td>0</td>\n",
       "      <td>0</td>\n",
       "      <td>0</td>\n",
       "      <td>0</td>\n",
       "      <td>1</td>\n",
       "      <td>0</td>\n",
       "      <td>1</td>\n",
       "      <td>0</td>\n",
       "      <td>0</td>\n",
       "      <td>0</td>\n",
       "    </tr>\n",
       "    <tr>\n",
       "      <th>1</th>\n",
       "      <td>1</td>\n",
       "      <td>1</td>\n",
       "      <td>0</td>\n",
       "      <td>1</td>\n",
       "      <td>1</td>\n",
       "      <td>0</td>\n",
       "      <td>0</td>\n",
       "      <td>1</td>\n",
       "      <td>1</td>\n",
       "      <td>1</td>\n",
       "      <td>...</td>\n",
       "      <td>1</td>\n",
       "      <td>1</td>\n",
       "      <td>1</td>\n",
       "      <td>2</td>\n",
       "      <td>0</td>\n",
       "      <td>1</td>\n",
       "      <td>1</td>\n",
       "      <td>1</td>\n",
       "      <td>1</td>\n",
       "      <td>1</td>\n",
       "    </tr>\n",
       "  </tbody>\n",
       "</table>\n",
       "<p>2 rows × 123 columns</p>\n",
       "</div>"
      ],
      "text/plain": [
       "   streets  markets  hustle  occasional  bringing  neon  metropolis  hub  \\\n",
       "0        1        0       1           0         0     1           1    0   \n",
       "1        1        1       0           1         1     0           0    1   \n",
       "\n",
       "   pink  orange  ...  distance  serene  bathed  community  form  scenery  \\\n",
       "0     0       0  ...         0       0       0          0     1        0   \n",
       "1     1       1  ...         1       1       1          2     0        1   \n",
       "\n",
       "   activity  hues  residents  day  \n",
       "0         1     0          0    0  \n",
       "1         1     1          1    1  \n",
       "\n",
       "[2 rows x 123 columns]"
      ]
     },
     "metadata": {},
     "output_type": "display_data"
    }
   ],
   "source": [
    "findSimilarityBagOfWords(paragraph1, paragraph2)"
   ]
  },
  {
   "attachments": {
    "91adb832-f59a-42a5-b729-17d066bd149b.png": {
     "image/png": "[encoded data removed]"
    },
    "e4b601f7-bc7e-4e72-894f-5c183260b8d2.png": {
     "image/png": "[encoded data removed]"
    }
   },
   "cell_type": "markdown",
   "metadata": {},
   "source": [
    "## TF-IDF\n",
    "\n",
    "#### Explanation of TF-IDF \n",
    "\n",
    "Term frequency - Inverse Document Frequency\n",
    "\n",
    "The bag of words approach gives equal weight to all words. However, a more sophisticated approach is the TF-IDF approach. TF-IDF stands for Term Frequency — Inverse Document Frequency. This approach is based on the rationale that the most common words are usually the least significant ones. While stop words are removed in the bag of words approach, **TF-IDF provides a more sophisticated approach to automatically give less weight to frequent words that appear in the whole corpus.**\n",
    "\n",
    "Let's break it down further: \n",
    "\n",
    "**Term Frequency** : How frequent a term appears within the given document. Can be within the same sentence, paragraph or whole text.\n",
    "\n",
    "**Inverse Document Frequency** : This is representative of how rare this word is across all the documents in the corpus. \n",
    "\n",
    "IDF is calculated by taking the logarithm of the ratio of the total number of documents and the number of documents containing the word (document frequency). The more frequently the word appears across the corpus, the lower its inverse document frequency making it less important. Similarly, the rarer the word in the corpus, the higher its inverse document frequency. \n",
    "\n",
    "Mathematically,\n",
    "\n",
    "![image.png](attachment:e4b601f7-bc7e-4e72-894f-5c183260b8d2.png)\n",
    "\n",
    "The TF-IDF value for a word can be calculated as follows:\n",
    "\n",
    "![image.png](attachment:91adb832-f59a-42a5-b729-17d066bd149b.png)"
   ]
  },
  {
   "cell_type": "markdown",
   "metadata": {},
   "source": [
    "#### What makes TF-IDF better than Bag of words ?\n",
    "\n",
    "Let's find out by trying it out. \n",
    "\n",
    "**Step 1**: Create a corpus of words, that we have already done for the bag of words. \n",
    "\n",
    "**Step 2**: Create a dicrionary of words from the corpus. Already done for bag of words `unique_words`\n",
    "\n",
    "**Step 3**: Creating the word embeddings. This is where the difference comes in between bag of words and TF-IDF. Instead of just sticking to the term frequency, we also calculate the Inverse Document Frequency and multiple it with the TF to get the TF-IDF value for the word in the sentence."
   ]
  },
  {
   "cell_type": "code",
   "execution_count": null,
   "metadata": {},
   "outputs": [
    {
     "name": "stdout",
     "output_type": "stream",
     "text": [
      "    remember     equal      know  superman       man    lawyer     money  \\\n",
      "0   0.000000  0.000000  0.000000  0.000000  0.000000  0.000000  0.000000   \n",
      "1   0.000000  0.000000  0.000000  0.000000  0.000000  0.000000  0.000000   \n",
      "2   0.000000  0.000000  2.995732  2.995732  0.000000  0.000000  0.000000   \n",
      "3   2.995732  0.000000  0.000000  0.000000  0.000000  0.000000  0.000000   \n",
      "4   0.000000  0.000000  0.000000  0.000000  0.000000  0.000000  0.000000   \n",
      "5   0.000000  0.000000  0.000000  0.000000  0.000000  0.000000  0.000000   \n",
      "6   0.000000  0.000000  0.000000  0.000000  0.000000  0.000000  0.000000   \n",
      "7   0.000000  0.000000  0.000000  0.000000  0.000000  0.000000  0.000000   \n",
      "8   0.000000  0.000000  0.000000  0.000000  0.000000  0.000000  0.000000   \n",
      "9   0.000000  0.000000  0.000000  0.000000  0.000000  0.000000  0.000000   \n",
      "10  0.000000  0.000000  0.000000  0.000000  0.000000  0.000000  0.000000   \n",
      "11  0.000000  0.000000  0.000000  0.000000  0.000000  0.000000  0.000000   \n",
      "12  0.000000  0.000000  0.000000  0.000000  4.605170  0.000000  0.000000   \n",
      "13  0.000000  0.000000  0.000000  0.000000  0.000000  0.000000  0.000000   \n",
      "14  0.000000  0.000000  0.000000  0.000000  2.302585  2.995732  2.995732   \n",
      "15  0.000000  0.000000  0.000000  0.000000  0.000000  0.000000  0.000000   \n",
      "16  0.000000  0.000000  0.000000  0.000000  0.000000  0.000000  0.000000   \n",
      "17  0.000000  0.000000  0.000000  0.000000  0.000000  0.000000  0.000000   \n",
      "18  0.000000  2.995732  0.000000  0.000000  0.000000  0.000000  0.000000   \n",
      "19  0.000000  0.000000  0.000000  0.000000  0.000000  0.000000  0.000000   \n",
      "\n",
      "        real   cannoli        im  ...     whats      make     spend  strictly  \\\n",
      "0   0.000000  0.000000  0.000000  ...  0.000000  0.000000  0.000000  0.000000   \n",
      "1   0.000000  0.000000  0.000000  ...  0.000000  0.000000  0.000000  0.000000   \n",
      "2   0.000000  0.000000  0.000000  ...  0.000000  0.000000  0.000000  0.000000   \n",
      "3   0.000000  0.000000  0.000000  ...  0.000000  0.000000  0.000000  0.000000   \n",
      "4   0.000000  0.000000  3.218876  ...  0.000000  0.000000  0.000000  0.000000   \n",
      "5   0.000000  0.000000  0.000000  ...  0.000000  0.000000  0.000000  0.000000   \n",
      "6   0.000000  0.000000  0.000000  ...  0.000000  0.000000  0.000000  0.000000   \n",
      "7   0.000000  0.000000  1.609438  ...  0.000000  0.000000  0.000000  0.000000   \n",
      "8   0.000000  0.000000  0.000000  ...  2.995732  0.000000  0.000000  0.000000   \n",
      "9   0.000000  0.000000  1.609438  ...  0.000000  0.000000  0.000000  0.000000   \n",
      "10  0.000000  0.000000  1.609438  ...  0.000000  2.995732  0.000000  0.000000   \n",
      "11  0.000000  0.000000  0.000000  ...  0.000000  0.000000  0.000000  0.000000   \n",
      "12  2.995732  0.000000  0.000000  ...  0.000000  0.000000  2.995732  0.000000   \n",
      "13  0.000000  2.995732  0.000000  ...  0.000000  0.000000  0.000000  0.000000   \n",
      "14  0.000000  0.000000  0.000000  ...  0.000000  0.000000  0.000000  0.000000   \n",
      "15  0.000000  0.000000  0.000000  ...  0.000000  0.000000  0.000000  2.995732   \n",
      "16  0.000000  0.000000  0.000000  ...  0.000000  0.000000  0.000000  0.000000   \n",
      "17  0.000000  0.000000  0.000000  ...  0.000000  0.000000  0.000000  0.000000   \n",
      "18  0.000000  0.000000  0.000000  ...  0.000000  0.000000  0.000000  0.000000   \n",
      "19  0.000000  0.000000  0.000000  ...  0.000000  0.000000  0.000000  0.000000   \n",
      "\n",
      "       peter     wears     gonna     right     women      dish  \n",
      "0   0.000000  0.000000  0.000000  0.000000  0.000000  0.000000  \n",
      "1   0.000000  0.000000  0.000000  0.000000  0.000000  0.000000  \n",
      "2   0.000000  0.000000  0.000000  0.000000  0.000000  0.000000  \n",
      "3   0.000000  0.000000  0.000000  0.000000  0.000000  0.000000  \n",
      "4   2.995732  0.000000  0.000000  0.000000  0.000000  0.000000  \n",
      "5   0.000000  0.000000  0.000000  0.000000  0.000000  0.000000  \n",
      "6   0.000000  0.000000  0.000000  0.000000  0.000000  0.000000  \n",
      "7   0.000000  0.000000  0.000000  0.000000  0.000000  0.000000  \n",
      "8   0.000000  0.000000  0.000000  2.995732  0.000000  0.000000  \n",
      "9   0.000000  0.000000  0.000000  0.000000  0.000000  0.000000  \n",
      "10  0.000000  0.000000  2.995732  0.000000  0.000000  0.000000  \n",
      "11  0.000000  0.000000  0.000000  0.000000  0.000000  2.995732  \n",
      "12  0.000000  0.000000  0.000000  0.000000  0.000000  0.000000  \n",
      "13  0.000000  0.000000  0.000000  0.000000  0.000000  0.000000  \n",
      "14  0.000000  0.000000  0.000000  0.000000  0.000000  0.000000  \n",
      "15  0.000000  0.000000  0.000000  0.000000  0.000000  0.000000  \n",
      "16  0.000000  0.000000  0.000000  0.000000  2.995732  0.000000  \n",
      "17  0.000000  2.995732  0.000000  0.000000  0.000000  0.000000  \n",
      "18  0.000000  0.000000  0.000000  0.000000  0.000000  0.000000  \n",
      "19  0.000000  0.000000  0.000000  0.000000  0.000000  0.000000  \n",
      "\n",
      "[20 rows x 82 columns]\n"
     ]
    }
   ],
   "source": [
    "import math\n",
    "\n",
    "# Let's go through all sentences and words and create a counter of how many times a word has appeared across documents\n",
    "idf = {}\n",
    "\n",
    "# We pick the array of all sentences that have stop words removed [][]\n",
    "for words_arr in all_sentences_stop_removed:\n",
    "    unique_words_in_sentence = set(words_arr)\n",
    "\n",
    "    # for each of these unique words, increment the value in the idf array\n",
    "    for word in unique_words_in_sentence:\n",
    "        if word in idf :\n",
    "            idf[word] =  idf[word] + 1\n",
    "        else:\n",
    "            idf[word] = 1\n",
    "            \n",
    "number_of_documents = len(all_sentences_stop_removed)\n",
    "\n",
    "\n",
    "\n",
    "# Create a frequency matrix\n",
    "# Each row corresponds to each sentence\n",
    "# Each colunm corresponds to one unique word in the corpus of unique words\n",
    "frequency_matrix = []\n",
    "\n",
    "for sentence in all_sentences_stop_removed:\n",
    "    word_count = Counter(sentence)\n",
    "    frequency_matrix.append([word_count.get(word, 0) * (math.log(number_of_documents / idf[word]) ) for word in unique_words])\n",
    "\n",
    "# Create a DataFrame\n",
    "df = pd.DataFrame(frequency_matrix, columns=list(unique_words))\n",
    "print(df)"
   ]
  },
  {
   "cell_type": "markdown",
   "metadata": {},
   "source": [
    "We notice that the text embeddings are completely different in this case. However the calculation for the similarity still remains the same. We can use cosine similarity from the values present in this dataframe. "
   ]
  },
  {
   "cell_type": "code",
   "execution_count": null,
   "metadata": {},
   "outputs": [
    {
     "name": "stdout",
     "output_type": "stream",
     "text": [
      "With great power comes great responsibility.\n",
      "Remember, with great power comes great responsibility.\n"
     ]
    },
    {
     "data": {
      "text/plain": [
       "0.8724395002378096"
      ]
     },
     "metadata": {},
     "output_type": "display_data"
    }
   ],
   "source": [
    "print(all_sentences[0])\n",
    "print(all_sentences[3])\n",
    "consine(df.loc[0], df.loc[3])"
   ]
  },
  {
   "cell_type": "markdown",
   "metadata": {},
   "source": [
    "Initially using bag of words, we got 0.9354143466934852\n",
    "\n",
    "Now with TF-IDF we get 0.8724395002378096\n",
    "\n",
    "Let's write it into it's own function so that we can compare different methods in parallel."
   ]
  },
  {
   "cell_type": "code",
   "execution_count": null,
   "metadata": {},
   "outputs": [],
   "source": [
    "def findSimilarityTfIdf(sentence1, sentence2):\n",
    "    # combining sentences to an array\n",
    "    sentences = [sentence1, sentence2]\n",
    "    stop_removed = []\n",
    "\n",
    "    # removing stop words and punctuation from the words\n",
    "    for sentence in sentences:\n",
    "        stop_removed.append(remove_stop_words(sentence).split())\n",
    "\n",
    "    # getting list of unique words\n",
    "    unique_words = set()\n",
    "    for sentence in stop_removed:\n",
    "        for word in sentence:\n",
    "            unique_words.add(word)\n",
    "\n",
    "    # Let's go through all sentences and words and create a counter of how many times a word has appeared across documents\n",
    "    idf = {}\n",
    "    # We pick the array of all sentences that have stop words removed [][]\n",
    "    for words_arr in stop_removed:\n",
    "        unique_words_in_sentence = set(words_arr)\n",
    "    \n",
    "        # for each of these unique words, increment the value in the idf dictionary\n",
    "        for word in unique_words_in_sentence:\n",
    "            if word in idf :\n",
    "                idf[word] =  idf[word] + 1\n",
    "            else:\n",
    "                idf[word] = 1\n",
    "\n",
    "    number_of_documents = len(stop_removed) \n",
    "\n",
    "    # Create a frequency matrix\n",
    "    # Each row corresponds to each sentence\n",
    "    # Each colunm corresponds to one unique word in the corpus of unique words\n",
    "    frequency_matrix = []\n",
    "    \n",
    "    for sentence in stop_removed:\n",
    "        sentence_word_counter = Counter(sentence)\n",
    "        frequency_matrix.append([sentence_word_counter.get(word, 0) * (math.log(number_of_documents / idf[word]) ) for word in unique_words])\n",
    "\n",
    "    # Create a DataFrame\n",
    "    df = pd.DataFrame(frequency_matrix, columns=list(unique_words))\n",
    "    print(f\"Similarity score: {consine(df.loc[0], df.loc[1])}\")\n",
    "    return df"
   ]
  },
  {
   "cell_type": "code",
   "execution_count": null,
   "metadata": {},
   "outputs": [],
   "source": [
    "def compareMethods(sentence1, sentence2, showDf):\n",
    "    print(f\"Sentence 1: {sentence1}\")\n",
    "    print()\n",
    "    print(f\"Sentence 2: {sentence2}\")\n",
    "    print()\n",
    "    print(\"Bag of words\")\n",
    "    bowDf = findSimilarityBagOfWords(sentence1, sentence2)\n",
    "    if(showDf):\n",
    "        print(bowDf)\n",
    "    print()\n",
    "    print(\"TF-IDF\")\n",
    "    tfIdfDf = findSimilarityTfIdf(sentence1, sentence2)\n",
    "    if(showDf):\n",
    "        print(tfIdfDf)"
   ]
  },
  {
   "cell_type": "code",
   "execution_count": null,
   "metadata": {},
   "outputs": [
    {
     "name": "stdout",
     "output_type": "stream",
     "text": [
      "Sentence 1: Who let the dogs out!\n",
      "Sentence 2: Who let the cats out!\n",
      "\n",
      "Bag of words\n",
      "Similarity score: 0.6666666666666667\n",
      "   out  dogs  let  cats\n",
      "0    1     1    1     0\n",
      "1    1     0    1     1\n",
      "\n",
      "TF-IDF\n",
      "Similarity score: 0.0\n",
      "   out      dogs  let      cats\n",
      "0  0.0  0.693147  0.0  0.000000\n",
      "1  0.0  0.000000  0.0  0.693147\n"
     ]
    }
   ],
   "source": [
    "compareMethods(\"Who let the dogs out!\", \"Who let the cats out!\", True)"
   ]
  },
  {
   "cell_type": "markdown",
   "metadata": {},
   "source": [
    "## Insights\n",
    "\n",
    "We took two sentences \n",
    "- Who let the dogs out!\n",
    "- Who let the cats out!\n",
    "\n",
    "And we have a look at the word embeddings that were created using the two methods: \n",
    "\n",
    "TF-IDF:\n",
    "```\n",
    "   out      dogs  let      cats\n",
    "0  0.0  0.693147  0.0  0.000000\n",
    "1  0.0  0.000000  0.0  0.693147\n",
    "```\n",
    "\n",
    "Bag of words:\n",
    "```\n",
    "   out  dogs  let  cats\n",
    "0    1     1    1     0\n",
    "1    1     0    1     1\n",
    "```\n",
    "\n",
    "We notice that while TF-IDF heavily penalizes the common words such as out and let in the corpus, those words are given the same priority as the rare words when we use the bag of words method. This way we can get to understand how TF IDF works better than Bag of words."
   ]
  },
  {
   "cell_type": "markdown",
   "metadata": {},
   "source": [
    "## Semantic understanding\n",
    "\n",
    "While the above two methods are able to statistically capture the similarities amongst the words, they fail at instances where we need to capture the semantic understanding of the sentences and then find similar ones. \n",
    "\n",
    "For example let's look at the following sentences where we praise two leaders of the world. \n",
    "\n",
    "Barack Obama: \"Barack Obama's eloquence and unwavering commitment to social justice and equality have inspired millions around the globe, making him a beacon of hope and progressive change.\"\n",
    "\n",
    "Angela Merkel: \"Angela Merkel's steadfast leadership and pragmatic approach to governance have earned her immense respect, as she navigated Germany through numerous crises with remarkable poise and integrity.\""
   ]
  },
  {
   "cell_type": "code",
   "execution_count": null,
   "metadata": {},
   "outputs": [
    {
     "name": "stdout",
     "output_type": "stream",
     "text": [
      "Sentence 1: Barack Obama's eloquence and unwavering commitment to social justice and equality have inspired millions around the globe, making him a beacon of hope and progressive change.\n",
      "\n",
      "Sentence 2: Angela Merkel's steadfast leadership and pragmatic approach to governance have earned her immense respect, as she navigated Germany through numerous crises with remarkable poise and integrity.\n",
      "\n",
      "Bag of words\n",
      "Similarity score: 0.0\n",
      "\n",
      "TF-IDF\n",
      "Similarity score: 0.0\n"
     ]
    }
   ],
   "source": [
    "sentence1 = \"Barack Obama's eloquence and unwavering commitment to social justice and equality have inspired millions around the globe, making him a beacon of hope and progressive change.\"\n",
    "sentence2 = \"Angela Merkel's steadfast leadership and pragmatic approach to governance have earned her immense respect, as she navigated Germany through numerous crises with remarkable poise and integrity.\"\n",
    "compareMethods(sentence1, sentence2, showDf=False)"
   ]
  },
  {
   "cell_type": "markdown",
   "metadata": {},
   "source": [
    "> This is crazy !! Both these sentences are about world leaders and in praise of them. This shows how Bag of words and Tf IDf are pretty rudimentary techniques objectively."
   ]
  },
  {
   "cell_type": "markdown",
   "metadata": {},
   "source": [
    "## Other Traditional Methods for Sentence Similarity\n",
    "\n",
    "Before diving into neural network-based methods for calculating sentence similarity, it is beneficial to explore several traditional techniques. These methods are straightforward to implement and provide a solid foundation for understanding text similarity. Here are some notable traditional methods:\n",
    "\n",
    "### 1. Jaccard Similarity\n",
    "Jaccard similarity measures the similarity between two sets by comparing the size of their intersection to the size of their union. It is useful for comparing text based on the presence or absence of terms.\n",
    "\n",
    "**Example:**\n",
    "```python\n",
    "def jaccard_similarity(set1, set2):\n",
    "    intersection = set1.intersection(set2)\n",
    "    union = set1.union(set2)\n",
    "    return len(intersection) / len(union)\n",
    "```\n",
    "\n",
    "### 2. Levenshtein Distance (Edit Distance)\n",
    "Levenshtein distance calculates the minimum number of single-character edits (insertions, deletions, or substitutions) required to change one word into another. It measures the similarity between two strings.\n",
    "\n",
    "**Example:**\n",
    "```python\n",
    "import Levenshtein\n",
    "\n",
    "levenshtein_distance = Levenshtein.distance(sentence1, sentence2)\n",
    "```\n",
    "\n",
    "### 3. Overlap Coefficient\n",
    "The overlap coefficient measures the overlap between two sets relative to the smaller set. It is particularly useful when comparing sets of different sizes.\n",
    "\n",
    "**Example:**\n",
    "```python\n",
    "def overlap_coefficient(set1, set2):\n",
    "    intersection = set1.intersection(set2)\n",
    "    return len(intersection) / min(len(set1), len(set2))\n",
    "```\n",
    "\n",
    "### 4. Dice Coefficient\n",
    "The Dice coefficient measures the similarity between two sets based on the ratio of twice the size of the intersection to the sum of the sizes of the sets.\n",
    "\n",
    "**Example:**\n",
    "```python\n",
    "def dice_coefficient(set1, set2):\n",
    "    intersection = set1.intersection(set2)\n",
    "    return 2 * len(intersection) / (len(set1) + len(set2))\n",
    "```\n",
    "\n",
    "### Summary\n",
    "These traditional methods offer various ways to measure the similarity between sentences without requiring complex model training. Each method has its strengths and weaknesses, depending on the specific use case and the nature of the text data. Exploring these techniques provides a solid foundation before moving on to more advanced, neural network-based methods for calculating sentence similarity."
   ]
  },
  {
   "cell_type": "markdown",
   "metadata": {},
   "source": [
    "## Applying a third technique for assignment completion"
   ]
  },
  {
   "cell_type": "code",
   "execution_count": null,
   "metadata": {},
   "outputs": [],
   "source": [
    "def jaccard_similarity(set1, set2):\n",
    "    intersection = set1.intersection(set2)\n",
    "    union = set1.union(set2)\n",
    "    return len(intersection) / len(union)"
   ]
  },
  {
   "cell_type": "code",
   "execution_count": null,
   "metadata": {
    "editable": true,
    "slideshow": {
     "slide_type": ""
    },
    "tags": []
   },
   "outputs": [],
   "source": [
    "def overlap_coefficient(set1, set2):\n",
    "    intersection = set1.intersection(set2)\n",
    "    return len(intersection) / min(len(set1), len(set2))"
   ]
  },
  {
   "cell_type": "code",
   "execution_count": null,
   "metadata": {},
   "outputs": [],
   "source": [
    "def dice_coefficient(set1, set2):\n",
    "    intersection = set1.intersection(set2)\n",
    "    return 2 * len(intersection) / (len(set1) + len(set2))"
   ]
  },
  {
   "cell_type": "code",
   "execution_count": null,
   "metadata": {},
   "outputs": [],
   "source": [
    "# Comparing all traditional methods\n",
    "def compare_other_traditional_methods(sentence1, sentence2):\n",
    "    setSentence1 = set(sentence1.split())\n",
    "    setSentence2 = set(sentence2.split())\n",
    "\n",
    "    print(f\"Jaccard similarity for sentence 1 and sentence 2 : {jaccard_similarity(setSentence1, setSentence2)}\")\n",
    "    print()\n",
    "    print(f\"Overlap Coefficient for sentence 1 and sentence 2 : {overlap_coefficient(setSentence1, setSentence2)}\")\n",
    "    print()\n",
    "    print(f\"Dice Coefficient for sentence 1 and sentence 2 : {dice_coefficient(setSentence1, setSentence2)}\")"
   ]
  },
  {
   "cell_type": "code",
   "execution_count": null,
   "metadata": {},
   "outputs": [],
   "source": [
    "# Example 1:\n",
    "sentence1 = \"the cat is on the mat\"\n",
    "sentence2 = \"the mat is under the cat\"\n",
    "# Example 2\n",
    "sentence3 = \"The quick brown fox jumped over the lazy dog\"\n",
    "sentence4 = \"The fast brown fox jumped over the sleepy dog\""
   ]
  },
  {
   "cell_type": "code",
   "execution_count": null,
   "metadata": {},
   "outputs": [
    {
     "name": "stdout",
     "output_type": "stream",
     "text": [
      "Jaccard similarity for sentence 1 and sentence 2 : 0.6666666666666666\n",
      "\n",
      "Overlap Coefficient for sentence 1 and sentence 2 : 0.8\n",
      "\n",
      "Dice Coefficient for sentence 1 and sentence 2 : 0.8\n"
     ]
    }
   ],
   "source": [
    "compare_other_traditional_methods(sentence1, sentence2)"
   ]
  },
  {
   "cell_type": "markdown",
   "metadata": {},
   "source": [
    "# Further reading\n",
    "\n",
    "We got a good gist of how similarity search works and how it can be implemented using traditional techniques. Next we will refer to the following resources and implement advanced techniques that help us to capture the theme, context and semantic meaning of the sentences while embedding them. These form the basis of applications like search engines, language translation and chatbots.\n",
    "\n",
    "## Reference Links:\n",
    "- [Word embeddings: Helping computers understand language semantics](https://medium.com/@igniobydigitate/word-embeddings-helping-computers-understand-language-semantics-dd3456b1f700)\n",
    "- [word_vectors_game_of_thrones-LIVE- GitHub Notebook](https://github.com/llSourcell/word_vectors_game_of_thrones-LIVE/blob/master/Thrones2Vec.ipynb)"
   ]
  },
  {
   "cell_type": "markdown",
   "metadata": {},
   "source": [
    "# Task\n",
    "Find the percentage of major colors in an image.\n",
    "\n",
    "## Libraries\n",
    "- pillow (https://pypi.org/project/pillow/) : The Python Imaging Library adds image processing capabilities to your Python interpreter.\n",
    "- numpy (https://numpy.org/doc/stable/) : NumPy is the fundamental package for scientific computing in Python. It is a Python library that provides a multidimensional array object, various derived objects (such as masked arrays and matrices), and an assortment of routines for fast operations on arrays, including mathematical, logical, shape manipulation, sorting, selecting, I/O, discrete Fourier transforms, basic linear algebra, basic statistical operations, random simulation and much more."
   ]
  },
  {
   "cell_type": "markdown",
   "metadata": {},
   "source": [
    "### Approach\n",
    "We first write the implementation for one image and then generalize it as a function to be run across any given image\n",
    "\n",
    "#### At a high level\n",
    "1. Load Image: The image is loaded and converted to an RGB array.\n",
    "2. K-means Clustering:\n",
    "3. Histogram Calculation: After clustering, we calculate how many points (pixels) are in each cluster and determine the percentages for the top k clusters."
   ]
  },
  {
   "cell_type": "markdown",
   "metadata": {},
   "source": [
    "### Importing packages and reading the image"
   ]
  },
  {
   "cell_type": "code",
   "execution_count": null,
   "metadata": {},
   "outputs": [
    {
     "name": "stdout",
     "output_type": "stream",
     "text": [
      "Matplotlib is installed and ready to use.\n"
     ]
    }
   ],
   "source": [
    "import subprocess\n",
    "import sys\n",
    "\n",
    "def install_package(package):\n",
    "    subprocess.check_call([sys.executable, \"-m\", \"pip\", \"install\", package])\n",
    "\n",
    "try:\n",
    "    import matplotlib\n",
    "except ImportError:\n",
    "    print(\"Matplotlib is not installed. Installing now...\")\n",
    "    install_package(\"matplotlib\")\n",
    "    import matplotlib  # Import after installation\n",
    "\n",
    "print(\"Matplotlib is installed and ready to use.\")"
   ]
  },
  {
   "cell_type": "code",
   "execution_count": null,
   "metadata": {},
   "outputs": [],
   "source": [
    "# Importing libraries\n",
    "from PIL import Image, ImageCms\n",
    "import numpy as np\n",
    "import random\n",
    "import matplotlib.pyplot as plt\n",
    "import requests\n",
    "from io import BytesIO"
   ]
  },
  {
   "cell_type": "code",
   "execution_count": null,
   "metadata": {},
   "outputs": [],
   "source": [
    "# Defining Variables\n",
    "\n",
    "img_location=\"https://raw.githubusercontent.com/parthasarathydNU/gen-ai-coursework/010c1c982065cd31179cd7f54cbc993b09d23127/clustering-colors/data/images/1000_F_197136667_bQFpFJSEK8wQWgibV5QOa2X6i8FNZns1.jpg\"\n",
    "k_means_clusters=5\n",
    "k_means_iteration=10"
   ]
  },
  {
   "cell_type": "code",
   "execution_count": null,
   "metadata": {},
   "outputs": [
    {
     "name": "stdout",
     "output_type": "stream",
     "text": [
      "JPEG (1000, 667) RGB\n"
     ]
    }
   ],
   "source": [
    "response = requests.get(img_location)\n",
    "im = Image.open(BytesIO(response.content))\n",
    "\n",
    "# Printing some information about the image \n",
    "print(im.format, im.size, im.mode)"
   ]
  },
  {
   "cell_type": "code",
   "execution_count": null,
   "metadata": {},
   "outputs": [
    {
     "name": "stdout",
     "output_type": "stream",
     "text": [
      "[[[208 199   0]\n",
      "  [209 200   1]\n",
      "  [212 200   0]\n",
      "  ...\n",
      "  [ 56  43  53]\n",
      "  [126  91  87]\n",
      "  [185 131 121]]\n",
      "\n",
      " [[208 199   0]\n",
      "  [209 200   0]\n",
      "  [211 202   1]\n",
      "  ...\n",
      "  [119  84  88]\n",
      "  [175 128 122]\n",
      "  [186 139 129]]\n",
      "\n",
      " [[208 201   0]\n",
      "  [210 201   0]\n",
      "  [211 202   1]\n",
      "  ...\n",
      "  [181 130 126]\n",
      "  [192 139 131]\n",
      "  [188 144 131]]\n",
      "\n",
      " ...\n",
      "\n",
      " [[  0 100 168]\n",
      "  [  0 100 168]\n",
      "  [  0 101 171]\n",
      "  ...\n",
      "  [  0 193 130]\n",
      "  [  1 195 134]\n",
      "  [  2 197 137]]\n",
      "\n",
      " [[  1 100 168]\n",
      "  [  1 100 168]\n",
      "  [  0 100 170]\n",
      "  ...\n",
      "  [  0 192 127]\n",
      "  [  0 194 133]\n",
      "  [  2 196 136]]\n",
      "\n",
      " [[  2 101 169]\n",
      "  [  1 100 168]\n",
      "  [  0  98 169]\n",
      "  ...\n",
      "  [  0 192 125]\n",
      "  [  0 193 130]\n",
      "  [  1 195 132]]]\n"
     ]
    }
   ],
   "source": [
    "# We now convert the RGB values of the image into a numpy array for further processing\n",
    "img_arr = np.array(im)\n",
    "print(img_arr)"
   ]
  },
  {
   "cell_type": "markdown",
   "metadata": {},
   "source": [
    "### Defining Similarity in Pixels\n",
    "\n",
    "#### In this case where we want to group the pixels by similarity of color, how do we define the measure of similarity ?\n",
    "\n",
    "In the context of clustering pixels by color similarity in an image, the measure of similarity often relies on a distance metric in a color space. Here’s a basic overview of how to define and use these similarity measures:\n",
    "\n",
    "#### 1. **Color Space**\n",
    "Choosing an appropriate color space is crucial. Common color spaces include:\n",
    "- **RGB (Red, Green, Blue)**: Directly measures distances between color vectors but may not align well with human perception of color differences.\n",
    "- **Lab (L * a * b)**: Designed to be more perceptually uniform, meaning that the same amount of numerical change in these values corresponds to about the same amount of visually perceived change.\n",
    "- **HSV (Hue, Saturation, Value)**: Useful for applications where color hue is more important than the luminance (brightness).\n",
    "\n",
    "#### 2. **Distance Metric**\n",
    "Once a color space is selected, you define the similarity of colors using a distance metric:\n",
    "- **Euclidean Distance**: This is the most common distance metric used in color clustering, especially in RGB space. It calculates the root of square differences between the corresponding components of two colors. In RGB, the Euclidean distance between two colors \\(c1\\) and \\(c2\\) with components \\( (r1, g1, b1) \\) and \\( (r2, g2, b2) \\)\n",
    "- **CIE76 Distance in Lab Space**: If using Lab space, the CIE76 formula (a simple Euclidean distance in Lab space) is often used. It is more aligned with human vision. [Learn More about the Delta E formula](https://zschuessler.github.io/DeltaE/learn/)\n",
    "- **Cosine Similarity**: This measures the cosine of the angle between two vectors (used less commonly for color spaces but useful for normalization).\n",
    "\n",
    "#### 3. **Normalization**\n",
    "In some cases, especially in RGB space, normalization of color values (scaling them to a range from 0 to 1) can help reduce the bias due to varying scales of color components.\n",
    "\n",
    "#### 4. **Perceptual Importance**\n",
    "In some applications, certain color components might carry more perceptual importance. For instance, in HSV, hue might be more important than saturation or value. In such cases, custom weighted distance metrics can be used.\n",
    "\n",
    "#### Practical Advice:\n",
    "For practical implementations involving image processing, converting your image data into Lab or HSV color space and then applying a clustering algorithm like k-means with Euclidean distance might give more meaningful results in terms of human color perception compared to straightforward RGB clustering. If using Python libraries like OpenCV or Pillow, these conversions are straightforward and well-supported."
   ]
  },
  {
   "cell_type": "markdown",
   "metadata": {},
   "source": [
    "### Converting the image to Lab color space"
   ]
  },
  {
   "cell_type": "code",
   "execution_count": null,
   "metadata": {},
   "outputs": [
    {
     "name": "stdout",
     "output_type": "stream",
     "text": [
      "[[[202 247  78]\n",
      "  [202 247  79]\n",
      "  [203 248  79]\n",
      "  ...\n",
      "  [ 49   8 252]\n",
      "  [108  14   8]\n",
      "  [153  20  14]]\n",
      "\n",
      " [[202 247  78]\n",
      "  [202 247  79]\n",
      "  [204 247  79]\n",
      "  ...\n",
      "  [101  15   4]\n",
      "  [148  18  11]\n",
      "  [159  17  13]]\n",
      "\n",
      " [[203 246  79]\n",
      "  [203 247  79]\n",
      "  [204 247  79]\n",
      "  ...\n",
      "  [152  20  10]\n",
      "  [161  20  13]\n",
      "  [163  16  14]]\n",
      "\n",
      " ...\n",
      "\n",
      " [[103 252 212]\n",
      "  [103 252 212]\n",
      "  [104 252 211]\n",
      "  ...\n",
      "  [176 202  20]\n",
      "  [178 202  19]\n",
      "  [180 202  18]]\n",
      "\n",
      " [[103 252 212]\n",
      "  [103 252 212]\n",
      "  [103 252 211]\n",
      "  ...\n",
      "  [175 202  21]\n",
      "  [177 202  19]\n",
      "  [179 202  18]]\n",
      "\n",
      " [[104 252 212]\n",
      "  [103 252 212]\n",
      "  [102 253 210]\n",
      "  ...\n",
      "  [175 202  22]\n",
      "  [176 202  20]\n",
      "  [178 202  20]]]\n",
      "(667, 1000, 3)\n"
     ]
    }
   ],
   "source": [
    "# Specify standard profiles for the conversion\n",
    "srgb_profile = ImageCms.createProfile(\"sRGB\")\n",
    "lab_profile  = ImageCms.createProfile(\"LAB\")\n",
    "\n",
    "# Build a transform to convert from RGB to Lab\n",
    "rgb2lab_transform = ImageCms.buildTransformFromOpenProfiles(srgb_profile, lab_profile, \"RGB\", \"LAB\")\n",
    "\n",
    "# Apply transform\n",
    "lab_image = ImageCms.applyTransform(im, rgb2lab_transform)\n",
    "\n",
    "# lab_image now contains the image in the Lab color space\n",
    "lab_img_arr = np.array(lab_image)\n",
    "print(lab_img_arr)\n",
    "print(np.shape(lab_img_arr))"
   ]
  },
  {
   "cell_type": "markdown",
   "metadata": {},
   "source": [
    "The values you're seeing in the array—\\[68, 242, 24\\], \\[59, 242, 24\\], \\[61, 242, 24\\]—are indeed a representation of colors in the Lab color space, but they are encoded in a specific way that PIL/Pillow uses to fit the Lab color model into an 8-bit per channel format. This is often necessary because typical image formats and processing libraries are designed to handle 8-bit channels.\n",
    "\n",
    "### Understanding the Encoding:\n",
    "\n",
    "1. **L\\* component**: It ranges from 0 to 100 in theory, but for 8-bit encoding, it is scaled to fit the 0-255 range. Thus, an L\\* value in this encoding can be converted back to the standard range by multiplying by 100/255.\n",
    "\n",
    "2. **a\\* and b\\* components**: These components typically range from about -128 to +127. However, to store these values in an 8-bit format (which only allows values from 0 to 255), an offset of 128 is usually added. Therefore, the actual a\\* and b\\* values can be recovered by subtracting 128 from the stored values.\n",
    "\n",
    "### Decoding Lab Values:\n",
    "\n",
    "To interpret the Lab values correctly, you can convert them from their 8-bit encoded form back to the typical Lab range:\n",
    "\n",
    "```python\n",
    "import numpy as np\n",
    "\n",
    "# Example LAB values from your output\n",
    "lab_encoded = np.array([[68, 242, 24], [59, 242, 24], [61, 242, 24]])\n",
    "\n",
    "# Convert L from 0-255 scale to 0-100 scale\n",
    "L = (lab_encoded[:, 0] * 100.0) / 255.0\n",
    "\n",
    "# Convert a and b from 0-255 scale to -128 to +127 scale\n",
    "a = lab_encoded[:, 1] - 128\n",
    "b = lab_encoded[:, 2] - 128\n",
    "\n",
    "# Combine and print the decoded LAB values\n",
    "lab_decoded = np.column_stack((L, a, b))\n",
    "print(lab_decoded)\n",
    "```\n",
    "\n",
    "This script will show you the Lab values in a more traditional format that reflects how these values are typically understood in color science. This conversion is essential for proper interpretation and analysis, especially if you're comparing colors, performing color corrections, or any other task that relies on accurate color metrics."
   ]
  },
  {
   "cell_type": "markdown",
   "metadata": {
    "jp-MarkdownHeadingCollapsed": true
   },
   "source": [
    "For calculating the similarity between two LAB space points, we will be using the CIE76 Distance in Lab Space: If using Lab space, the CIE76 formula (a simple Euclidean distance in Lab space) is often used. It is more aligned with human vision. [Learn More about the Delta E formula](https://zschuessler.github.io/DeltaE/learn/)\n",
    "\n",
    "Now that we have this aside, let's go ahead and write down the K Means Algorithm that gives us k clusters.\n",
    "\n",
    "A couple of points to note before we go ahead and implement the K means clustering:\n",
    "\n",
    "- Since clustering algorithms including kmeans use distance-based measurements to determine the similarity between data points, it’s recommended to standardize the data to have a mean of zero and a standard deviation of one since almost always the features in any dataset would have different units of measurements such as age vs income.\n",
    "- Given kmeans iterative nature and the random initialization of centroids at the start of the algorithm, different initializations may lead to different clusters since kmeans algorithm may stuck in a local optimum and may not converge to global optimum. Therefore, it’s recommended to run the algorithm using different initializations of centroids and pick the results of the run that that yielded the lower sum of squared distance.\n",
    "\n",
    "Some comments:\n",
    "- In our case since we are going to use a custom defined function (CIE76) for calculating the similarity between various points in the LAB Space, we will not have to worry about standardizing the data"
   ]
  },
  {
   "cell_type": "markdown",
   "metadata": {},
   "source": [
    "**We will for now stick to the lab values generated by the library and worry about converting them to standard lab values later**"
   ]
  },
  {
   "cell_type": "markdown",
   "metadata": {},
   "source": [
    "### K - Means Clustering\n",
    "\n",
    "[Reference Link](https://towardsdatascience.com/k-means-clustering-algorithm-applications-evaluation-methods-and-drawbacks-aa03e644b48a)\n",
    "\n",
    "Clustering is one of the most common exploratory data analysis technique used to get an intuition about the structure of the data. It can be defined as the task of identifying subgroups in the data such that data points in the same subgroup (cluster) are very similar while data points in different clusters are very different. In other words, we try to find homogeneous subgroups within the data such that data points in each cluster are as similar as possible according to a similarity measure such as euclidean-based distance or correlation-based distance. The decision of which similarity measure to use is application-specific.\n",
    "\n",
    "Unlike supervised learning, clustering is considered an unsupervised learning method since we don’t have the ground truth to compare the output of the clustering algorithm to the true labels to evaluate its performance. We only want to try to investigate the structure of the data by grouping the data points into distinct subgroups.\n",
    "\n",
    "#### K - means Algorithm\n",
    "Kmeans algorithm is an iterative algorithm that tries to partition the dataset into `Kpre-defined distinct non-overlapping subgroups` (clusters) where each data point belongs to only one group. It tries to make the **intra-cluster data points as similar as possible** while also **keeping the clusters as different (far) as possible**. It assigns data points to a cluster such that the **sum of the squared distance between the data points and the cluster’s centroid (arithmetic mean of all the data points that belong to that cluster) is at the minimum**. The less variation we have within clusters, the more homogeneous (similar) the data points are within the same cluster.\n",
    "\n",
    "Here's a website where we can play around with multiple points and visualize some K Means clustering in action: https://www.naftaliharris.com/blog/visualizing-k-means-clustering/\n",
    "\n",
    "##### Expectation Maximization:\n",
    "The approach `kmeans` follows to solve the problem is called `Expectation-Maximization`. The E-step is assigning the data points to the closest cluster. The M-step is computing the centroid of each cluster. "
   ]
  },
  {
   "cell_type": "markdown",
   "metadata": {},
   "source": [
    "#### Simple K - means python implementation"
   ]
  },
  {
   "cell_type": "code",
   "execution_count": null,
   "metadata": {},
   "outputs": [
    {
     "name": "stdout",
     "output_type": "stream",
     "text": [
      "[[202 247  78]\n",
      " [202 247  79]\n",
      " [203 248  79]\n",
      " ...\n",
      " [175 202  22]\n",
      " [176 202  20]\n",
      " [178 202  20]]\n"
     ]
    }
   ],
   "source": [
    "# Testing the initialize_centroids function\n",
    "pixels = []\n",
    "\n",
    "# lab_img_arr\n",
    "pixels = lab_img_arr.reshape((-1,3))\n",
    "\n",
    "print(pixels)"
   ]
  },
  {
   "cell_type": "markdown",
   "metadata": {
    "jp-MarkdownHeadingCollapsed": true
   },
   "source": [
    "### Note on how reshape works\n",
    "\n",
    "The `reshape` function in NumPy is a powerful tool that allows you to change the shape of an existing array without changing its data. This means you can rearrange the elements of the array to have a different structure, which is particularly useful in data processing tasks such as image manipulation or when preparing data for machine learning models.\n",
    "\n",
    "#### Syntax and Basic Usage\n",
    "\n",
    "The basic syntax of the `reshape` function is:\n",
    "\n",
    "```python\n",
    "numpy.reshape(a, newshape)\n",
    "```\n",
    "\n",
    "- **`a`**: The array to be reshaped.\n",
    "- **`newshape`**: The new shape you want the array to have, which must contain the same number of elements as the original array. This can be specified as an integer (if you are reshaping to a one-dimensional array) or as a tuple of integers.\n",
    "\n",
    "#### How `reshape` Works\n",
    "\n",
    "When you reshape an array, you are simply changing the \"view\" of the data in memory. The data itself is not copied or moved; instead, NumPy changes how the data is indexed. This makes reshaping very efficient.\n",
    "\n",
    "For example, if you have an image stored in a 3D array with dimensions corresponding to height, width, and color channels (e.g., \\(100 \\times 100 \\times 3\\) for a 100 by 100 pixel image with RGB values), you can reshape it into a 2D array where each row represents a pixel and each column represents a color channel. This is done as follows:\n",
    "\n",
    "```python\n",
    "image_array = numpy.array(...)  # an array with shape (100, 100, 3)\n",
    "pixels = image_array.reshape((-1, 3))\n",
    "```\n",
    "\n",
    "#### Explanation of the Example\n",
    "\n",
    "- **Original Array**: Suppose `image_array` has a shape of \\(100 \\times 100 \\times 3\\). This means the array has 100 rows (each representing the vertical dimension of the image), 100 columns (each representing the horizontal dimension), and 3 layers (each representing the color channels of RGB).\n",
    "  \n",
    "- **Reshape to (-1, 3)**: \n",
    "  - The `-1` in the reshape function is a placeholder that tells NumPy to calculate the necessary size of this dimension based on the length of the array and the other given dimensions. In this case, it will calculate the size necessary to maintain the same number of total elements in the array.\n",
    "  - The `3` tells NumPy that we want the inner-most dimension (columns in this 2D view) to have 3 elements, which corresponds to the three color channels.\n",
    "\n",
    "Effectively, `image_array.reshape((-1, 3))` flattens the image into a 2D array where each row represents a pixel's RGB values. This transformation is often used when you need to process or analyze each pixel individually, as in color clustering with the K-means algorithm.\n",
    "\n",
    "By using `reshape`, you can efficiently prepare multidimensional data for various analyses without additional computational overhead of data copying."
   ]
  },
  {
   "cell_type": "markdown",
   "metadata": {},
   "source": [
    "### K means function"
   ]
  },
  {
   "cell_type": "markdown",
   "metadata": {},
   "source": [
    "#### Picking first centroids"
   ]
  },
  {
   "cell_type": "code",
   "execution_count": null,
   "metadata": {},
   "outputs": [
    {
     "name": "stdout",
     "output_type": "stream",
     "text": [
      "[[197 195  29]\n",
      " [190 225 221]\n",
      " [ 82  10 223]\n",
      " [128  50 241]\n",
      " [161 236 214]]\n"
     ]
    },
    {
     "data": {
      "text/plain": [
       "5"
      ]
     },
     "metadata": {},
     "output_type": "display_data"
    }
   ],
   "source": [
    "# Initialize centroids randomly from the dataset\n",
    "# We start with k_means_clusters centroids\n",
    "np.random.seed(42)  # for reproducibility\n",
    "\n",
    "# Picking k random indices from total length\n",
    "len = pixels.shape[0]\n",
    "\n",
    "# https://numpy.org/doc/stable/reference/random/generated/numpy.random.choice.html#numpy-random-choice\n",
    "random_indices = np.random.choice(len, k_means_clusters, replace=False)\n",
    "\n",
    "# replaceboolean, optional\n",
    "# Whether the sample is with or without replacement. \n",
    "# Default is True, meaning that a value of a can be selected multiple times.\n",
    "# Since we set it to false here, all the picked indices will be random\n",
    "\n",
    "# Picking centroids at these random indices\n",
    "centroids = pixels[random_indices]\n",
    "print(centroids)\n",
    "centroids.shape[0]"
   ]
  },
  {
   "cell_type": "markdown",
   "metadata": {},
   "source": [
    "#### Calculating distances of all pixels from the centroids   "
   ]
  },
  {
   "cell_type": "code",
   "execution_count": null,
   "metadata": {},
   "outputs": [],
   "source": [
    "# Create an array to hold distances from each point to each centroid\n",
    "distance = np.zeros((pixels.shape[0], centroids.shape[0]))\n",
    "\n",
    "# Calculate the distance from each point to each centroid\n",
    "for k in range(centroids.shape[0]):\n",
    "    row_norm = np.linalg.norm(pixels - centroids[k], axis=1)\n",
    "    distance[:, k] = np.square(row_norm)"
   ]
  },
  {
   "cell_type": "markdown",
   "metadata": {},
   "source": [
    "#### Calculate Distance:\n",
    "\n",
    "> `row_norm = numpy.linalg.norm(X - centroids[k], axis=1)`\n",
    "- Here, (X - centroids[k]) computes the vector difference between each data point in X and the k-th centroid. The norm function from the numpy library (numpy.linalg.norm) then calculates the Euclidean norm (or distance) of these difference vectors.\n",
    "- axis=1 tells the norm function to operate along the axis 1, i.e., it calculates the norm across each row (each row represents a data point in X).\n",
    "\n",
    "#### Store Squared Distances:\n",
    "> `distance[:, k] = np.square(row_norm)`: The distances are squared and stored in the distance array. Squaring the distances is common in K-means to emphasize larger differences and stabilize the clustering convergence, although the square root could also be used if we only need the actual Euclidean distances."
   ]
  },
  {
   "cell_type": "code",
   "execution_count": null,
   "metadata": {},
   "outputs": [
    {
     "data": {
      "text/plain": [
       "array([[  5130.,  13397.,  82890.,  52934.,  16202.],\n",
       "       [  5229.,  13624.,  83113.,  53121.,  16443.],\n",
       "       [  5345.,  13694.,  83829.,  53665.,  16549.],\n",
       "       ...,\n",
       "       [116806., 115619.,  48538.,  26682.,  53576.],\n",
       "       [116283., 115878.,  48509.,  26633.,  53353.],\n",
       "       [117227., 116850.,  48889.,  26829.,  53417.]])"
      ]
     },
     "metadata": {},
     "output_type": "display_data"
    }
   ],
   "source": [
    "# This matrix represents the distance of each pixel from each of the k_means_clusters centroids\n",
    "distance"
   ]
  },
  {
   "cell_type": "markdown",
   "metadata": {},
   "source": [
    "#### How Distance Affects Clustering\n",
    "\n",
    "- After computing these distances, each data point is assigned to the nearest centroid. The nearest centroid is the one with the smallest distance to the point.\n",
    "- This assignment is typically done using:\n",
    "  `\n",
    "  closest_clusters = np.argmin(distance, axis=1)\n",
    "  `\n",
    "  where `np.argmin` finds the index of the minimum distance for each row in the `distance` matrix, effectively assigning each data point to the closest centroid.\n",
    "\n",
    "#### Importance of Distance in K-means\n",
    "\n",
    "Calculating accurate distances is fundamental to the correct functioning of the K-means algorithm. It ensures that each data point is assigned to the most similar cluster, based on the chosen metric (Euclidean distance in this case). The subsequent update of centroids, based on these assignments, then moves each centroid to better represent its cluster, leading to an iterative improvement and refinement of cluster positions until convergence.\n",
    "\n",
    "This distance computation encapsulates the essence of clustering in K-means: grouping data points based on their similarity, which is quantified here as the inverse of their distance to cluster centers."
   ]
  },
  {
   "cell_type": "code",
   "execution_count": null,
   "metadata": {},
   "outputs": [
    {
     "name": "stdout",
     "output_type": "stream",
     "text": [
      "[0 0 0 ... 3 3 3]\n"
     ]
    },
    {
     "data": {
      "text/plain": [
       "(667000,)"
      ]
     },
     "metadata": {},
     "output_type": "display_data"
    }
   ],
   "source": [
    "closest_clusters = np.argmin(distance, axis=1)\n",
    "print(closest_clusters)\n",
    "np.shape(closest_clusters)"
   ]
  },
  {
   "cell_type": "markdown",
   "metadata": {},
   "source": [
    "Here we can see that we have the closest cluster value for each of these pixels"
   ]
  },
  {
   "cell_type": "markdown",
   "metadata": {},
   "source": [
    "#### Updating the centroids after we have found the distance from all points\n",
    "\n",
    "Once you have assigned each data point to the nearest centroid in the K-means clustering algorithm, the next step is to update the centroids based on these assignments. This step is crucial for refining the positions of the centroids to better represent the data points clustered around them.\n",
    "\n",
    "The centroids are updated to be the mean of all points assigned to each centroid's cluster. This process involves calculating the average of the coordinates of all points in each cluster. "
   ]
  },
  {
   "cell_type": "code",
   "execution_count": null,
   "metadata": {},
   "outputs": [
    {
     "name": "stdout",
     "output_type": "stream",
     "text": [
      "[[0. 0. 0.]\n",
      " [0. 0. 0.]\n",
      " [0. 0. 0.]\n",
      " [0. 0. 0.]\n",
      " [0. 0. 0.]]\n"
     ]
    },
    {
     "data": {
      "text/plain": [
       "(5, 3)"
      ]
     },
     "metadata": {},
     "output_type": "display_data"
    }
   ],
   "source": [
    "new_centroids = np.zeros((k_means_clusters, pixels.shape[1]))\n",
    "print(new_centroids)\n",
    "np.shape(new_centroids)"
   ]
  },
  {
   "cell_type": "code",
   "execution_count": null,
   "metadata": {},
   "outputs": [
    {
     "data": {
      "text/plain": [
       "array([False, False, False, ..., False, False, False])"
      ]
     },
     "metadata": {},
     "output_type": "display_data"
    }
   ],
   "source": [
    "# Using boolen to filter out indices from arrays\n",
    "closest_clusters == 1"
   ]
  },
  {
   "cell_type": "code",
   "execution_count": null,
   "metadata": {},
   "outputs": [
    {
     "name": "stdout",
     "output_type": "stream",
     "text": [
      "[[141.00083334 143.15712598 168.62144342]\n",
      " [134.40840311  82.77088027 136.09355917]\n",
      " [159.1353325  124.2789676   74.90020528]\n",
      " [162.98904923 112.50039741 144.81799636]\n",
      " [154.          34.          67.        ]]\n"
     ]
    }
   ],
   "source": [
    "for i in range(k_means_clusters):\n",
    "    # Select all data points assigned to the ith cluster\n",
    "    points_in_cluster = pixels[closest_clusters == (i+1)]\n",
    "    \n",
    "    # Compute the mean of these points in each dimension\n",
    "    if points_in_cluster.size > 0:  # Check if the cluster is not empty\n",
    "        new_centroids[i] = np.mean(points_in_cluster, axis=0)\n",
    "    else:\n",
    "        # If a cluster is empty, reinitialize its centroid randomly (optional)\n",
    "        new_centroids[i] = pixels[np.random.randint(0, pixels.shape[0])]\n",
    "\n",
    "print(new_centroids)"
   ]
  },
  {
   "cell_type": "markdown",
   "metadata": {},
   "source": [
    "### Updating centroids iteratively\n",
    "\n",
    "Now we try performing the above set of actions in a for loop"
   ]
  },
  {
   "cell_type": "code",
   "execution_count": null,
   "metadata": {},
   "outputs": [
    {
     "data": {
      "text/plain": [
       "array([[208, 199,   0],\n",
       "       [209, 200,   1],\n",
       "       [212, 200,   0],\n",
       "       ...,\n",
       "       [  0, 192, 125],\n",
       "       [  0, 193, 130],\n",
       "       [  1, 195, 132]], dtype=uint8)"
      ]
     },
     "metadata": {},
     "output_type": "display_data"
    }
   ],
   "source": [
    "pixels = img_arr.reshape((-1,3))\n",
    "pixels"
   ]
  },
  {
   "cell_type": "code",
   "execution_count": null,
   "metadata": {},
   "outputs": [
    {
     "name": "stdout",
     "output_type": "stream",
     "text": [
      "iteration 0\n",
      "iteration 1\n",
      "iteration 2\n",
      "iteration 3\n",
      "iteration 4\n",
      "iteration 5\n",
      "iteration 6\n",
      "iteration 7\n",
      "iteration 8\n",
      "iteration 9\n",
      "Centroids:\n",
      " [[  7. 128. 131.]\n",
      " [203.  82. 154.]\n",
      " [100.  52.  51.]\n",
      " [ 13. 193. 202.]\n",
      " [239. 215.   1.]]\n"
     ]
    }
   ],
   "source": [
    "# Picking k random indices from total length\n",
    "len = pixels.shape[0]\n",
    "random_indices = np.random.choice(len, k_means_clusters, replace=False)\n",
    "centroids = pixels[random_indices]\n",
    "\n",
    "# Create an array to hold distances from each point to each centroid\n",
    "distance = np.zeros((pixels.shape[0], centroids.shape[0]))\n",
    "\n",
    "# Updating the centroids 100 times and check for convergence each time\n",
    "for iteration  in range(10):\n",
    "    print(f\"iteration {iteration}\")\n",
    "    # Calculate the distance from each point to each centroid\n",
    "    for k in range(centroids.shape[0]):\n",
    "        row_norm = np.linalg.norm(pixels - centroids[k], axis=1) # Calculating the eucledian distance from each centroid\n",
    "        distance[:, k] = np.square(row_norm) # Taking square of the euclidian distance from each centroid\n",
    "\n",
    "    # Finding the closest clusters of each point \n",
    "    # based on the current value of centroids\n",
    "    closest_clusters = np.argmin(distance, axis=1)\n",
    "\n",
    "\n",
    "    # Creating an empty array to start storing new centroid values\n",
    "    new_centroids = np.zeros((k_means_clusters, pixels.shape[1]))\n",
    "    \n",
    "    for i in range(k_means_clusters):\n",
    "        # Select all data points assigned to the ith cluster\n",
    "        points_in_cluster = pixels[closest_clusters == (i+1)]\n",
    "        \n",
    "        # Compute the mean of these points in each dimension\n",
    "        if points_in_cluster.size > 0:  # Check if the cluster is not empty\n",
    "            new_centroids[i] = np.mean(points_in_cluster, axis=0, dtype='int32')\n",
    "        else:\n",
    "            # If a cluster is empty, reinitialize its centroid randomly (optional)\n",
    "            new_centroids[i] = pixels[np.random.randint(0, pixels.shape[0])]\n",
    "\n",
    "    # Check for convergence\n",
    "    if np.allclose(centroids, new_centroids):\n",
    "        break\n",
    "\n",
    "    centroids = new_centroids\n",
    "\n",
    "print(\"Centroids:\\n\", centroids)"
   ]
  },
  {
   "cell_type": "code",
   "execution_count": null,
   "metadata": {},
   "outputs": [
    {
     "name": "stdout",
     "output_type": "stream",
     "text": [
      "[192721 102082 180113  65732 126352]\n"
     ]
    }
   ],
   "source": [
    "# Getting the summary of the output\n",
    "\n",
    "# Initialize counters for the number of points in each cluster\n",
    "cluster_counts = np.zeros(k_means_clusters, dtype=int)\n",
    "\n",
    "# Count the occurrences of each cluster label\n",
    "cluster_counts = np.bincount(closest_clusters, minlength=5)\n",
    "\n",
    "print(cluster_counts)"
   ]
  },
  {
   "cell_type": "code",
   "execution_count": null,
   "metadata": {},
   "outputs": [],
   "source": [
    "from IPython.display import HTML"
   ]
  },
  {
   "cell_type": "code",
   "execution_count": null,
   "metadata": {},
   "outputs": [],
   "source": [
    "def display_rgb_color(rgb_tuple):\n",
    "    # Convert RGB tuple to hex format\n",
    "    color_hex = '#%02x%02x%02x' % rgb_tuple\n",
    "    display(HTML(f\"<div style='width:100px; height:100px; background-color: {color_hex};'></div>\"))"
   ]
  },
  {
   "cell_type": "code",
   "execution_count": null,
   "metadata": {},
   "outputs": [
    {
     "name": "stdout",
     "output_type": "stream",
     "text": [
      "Cluster Summary Statistics:\n",
      "Total points 667000\n",
      "\n",
      "Cluster 1:\n",
      "  Centroid: [  7. 128. 131.]\n",
      "  Number of Elements: 192721\n",
      "  Percentage of Total: 28.89%\n"
     ]
    },
    {
     "data": {
      "text/html": [
       "<div style='width:100px; height:100px; background-color: #078083;'></div>"
      ],
      "text/plain": [
       "<IPython.core.display.HTML object>"
      ]
     },
     "metadata": {},
     "output_type": "display_data"
    },
    {
     "name": "stdout",
     "output_type": "stream",
     "text": [
      "\n",
      "Cluster 2:\n",
      "  Centroid: [203.  82. 154.]\n",
      "  Number of Elements: 102082\n",
      "  Percentage of Total: 15.30%\n"
     ]
    },
    {
     "data": {
      "text/html": [
       "<div style='width:100px; height:100px; background-color: #cb529a;'></div>"
      ],
      "text/plain": [
       "<IPython.core.display.HTML object>"
      ]
     },
     "metadata": {},
     "output_type": "display_data"
    },
    {
     "name": "stdout",
     "output_type": "stream",
     "text": [
      "\n",
      "Cluster 3:\n",
      "  Centroid: [100.  52.  51.]\n",
      "  Number of Elements: 180113\n",
      "  Percentage of Total: 27.00%\n"
     ]
    },
    {
     "data": {
      "text/html": [
       "<div style='width:100px; height:100px; background-color: #643433;'></div>"
      ],
      "text/plain": [
       "<IPython.core.display.HTML object>"
      ]
     },
     "metadata": {},
     "output_type": "display_data"
    },
    {
     "name": "stdout",
     "output_type": "stream",
     "text": [
      "\n",
      "Cluster 4:\n",
      "  Centroid: [ 13. 193. 202.]\n",
      "  Number of Elements: 65732\n",
      "  Percentage of Total: 9.85%\n"
     ]
    },
    {
     "data": {
      "text/html": [
       "<div style='width:100px; height:100px; background-color: #0dc1ca;'></div>"
      ],
      "text/plain": [
       "<IPython.core.display.HTML object>"
      ]
     },
     "metadata": {},
     "output_type": "display_data"
    },
    {
     "name": "stdout",
     "output_type": "stream",
     "text": [
      "\n",
      "Cluster 5:\n",
      "  Centroid: [239. 215.   1.]\n",
      "  Number of Elements: 126352\n",
      "  Percentage of Total: 18.94%\n"
     ]
    },
    {
     "data": {
      "text/html": [
       "<div style='width:100px; height:100px; background-color: #efd701;'></div>"
      ],
      "text/plain": [
       "<IPython.core.display.HTML object>"
      ]
     },
     "metadata": {},
     "output_type": "display_data"
    },
    {
     "name": "stdout",
     "output_type": "stream",
     "text": [
      "\n"
     ]
    }
   ],
   "source": [
    "# Total number of points\n",
    "total_points = pixels.shape[0]\n",
    "\n",
    "# Print the summary\n",
    "print(\"Cluster Summary Statistics:\")\n",
    "print(f\"Total points {total_points}\")\n",
    "print()\n",
    "for i in range(k_means_clusters):\n",
    "    centroid = centroids[i]\n",
    "    print(f\"Cluster {i + 1}:\")\n",
    "    print(f\"  Centroid: {centroid}\")\n",
    "    print(f\"  Number of Elements: {cluster_counts[i]}\")\n",
    "    print(f\"  Percentage of Total: {100 * cluster_counts[i] / total_points:.2f}%\")\n",
    "    display_rgb_color((int(centroid[0]), int(centroid[1]), int(centroid[2])))\n",
    "    print()"
   ]
  },
  {
   "cell_type": "code",
   "execution_count": null,
   "metadata": {},
   "outputs": [],
   "source": [
    "# Creating bar plot\n",
    "\n",
    "def rgb_to_hex(rgb):\n",
    "    return \"#{:02x}{:02x}{:02x}\".format(int(rgb[0]), int(rgb[1]), int(rgb[2]))"
   ]
  },
  {
   "cell_type": "code",
   "execution_count": null,
   "metadata": {},
   "outputs": [
    {
     "data": {
      "text/plain": [
       "['#078083', '#cb529a', '#643433', '#0dc1ca', '#efd701']"
      ]
     },
     "metadata": {},
     "output_type": "display_data"
    }
   ],
   "source": [
    "centroid_colors = [rgb_to_hex(color) for color in centroids]\n",
    "centroid_colors"
   ]
  },
  {
   "cell_type": "markdown",
   "metadata": {},
   "source": [
    "#### Creating the Bar Plot\n",
    "Now, we use Matplotlib to create the bar plot where each bar's color corresponds to its cluster's centroid color:"
   ]
  },
  {
   "cell_type": "code",
   "execution_count": null,
   "metadata": {},
   "outputs": [],
   "source": [
    "def plot_clusters(cluster_counts, centroid_colors):\n",
    "    length = np.shape(cluster_counts)[0]\n",
    "    # Create the bar plot\n",
    "    plt.figure(figsize=(10, 6))\n",
    "    bars = plt.bar(range(length), cluster_counts, color=centroid_colors)\n",
    "\n",
    "    # Adding labels and title\n",
    "    plt.xlabel('Cluster Index')\n",
    "    plt.ylabel('Number of Points')\n",
    "    plt.title('Cluster Distribution with Centroid Colors')\n",
    "    plt.xticks(range(length), [f'Cluster {i+1}' for i in range(length)])\n",
    "\n",
    "    # Show the plot\n",
    "    plt.show()"
   ]
  },
  {
   "cell_type": "code",
   "execution_count": null,
   "metadata": {},
   "outputs": [],
   "source": [
    "def plot_clusters_with_percentages(cluster_counts, centroid_colors, centroid_rgb):\n",
    "    \n",
    "    \n",
    "    # Calculate percentages\n",
    "    total_points = sum(cluster_counts)\n",
    "    percentages = (cluster_counts / total_points) * 100\n",
    "\n",
    "    # Sort clusters by percentages in descending order\n",
    "    sorted_indices = np.argsort(percentages)[::-1]\n",
    "    sorted_percentages = percentages[sorted_indices]\n",
    "    sorted_colors = [centroid_colors[i] for i in sorted_indices]\n",
    "    sorted_rgb = [centroid_rgb[i] for i in sorted_indices]\n",
    "\n",
    "    length = np.shape(sorted_percentages)[0]\n",
    "    \n",
    "    # Create the bar plot\n",
    "    plt.figure(figsize=(10, 6))\n",
    "    bars = plt.bar(range(length), sorted_percentages, color=sorted_colors)\n",
    "\n",
    "    # Adding labels and title\n",
    "    plt.xlabel('Cluster Index')\n",
    "    plt.ylabel('Percentage of Points (%)')\n",
    "    plt.title('Cluster Distribution with Centroid Colors')\n",
    "    plt.xticks(range(length), [f'Cluster {i+1}' for i in sorted_indices])\n",
    "\n",
    "    # Add percentage values above each bar\n",
    "    for bar, percentage, color_text in zip(bars, sorted_percentages, sorted_rgb):\n",
    "        yval = bar.get_height()\n",
    "        plt.text(bar.get_x() + bar.get_width()/2, yval, f'{percentage:.2f}%', ha='center', va='bottom')\n",
    "\n",
    "        # Add color description inside the bar\n",
    "        if yval > 5:  # Ensure there's enough space to display the text inside the bar\n",
    "            plt.text(bar.get_x() + bar.get_width()/2, yval / 2, f'RGB\\n{color_text}', ha='center', va='center', color='white')\n",
    "\n",
    "    # Show the plot\n",
    "    plt.show()"
   ]
  },
  {
   "cell_type": "code",
   "execution_count": null,
   "metadata": {},
   "outputs": [
    {
     "data": {
      "image/png": "[encoded data removed]",
      "text/plain": [
       "<Figure size 1000x600 with 1 Axes>"
      ]
     },
     "metadata": {},
     "output_type": "display_data"
    }
   ],
   "source": [
    "# Call the function to plot\n",
    "plot_clusters_with_percentages(cluster_counts, centroid_colors, centroids)"
   ]
  }
 ],
 "metadata": {
  "kernelspec": {
   "display_name": "Python 3 (ipykernel)",
   "language": "python",
   "name": "python3"
  },
  "language_info": {
   "codemirror_mode": {
    "name": "ipython",
    "version": 3
   },
   "file_extension": ".py",
   "mimetype": "text/x-python",
   "name": "python",
   "nbconvert_exporter": "python",
   "pygments_lexer": "ipython3",
   "version": "3.11.7"
  }
 },
 "nbformat": 4,
 "nbformat_minor": 4
}

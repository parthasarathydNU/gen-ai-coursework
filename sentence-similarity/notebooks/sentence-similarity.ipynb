{
 "cells": [
  {
   "cell_type": "markdown",
   "id": "479429b1-3c25-4cc5-bfdc-598e03f846fe",
   "metadata": {},
   "source": [
    "# Task:\n",
    "\n",
    "Derive similarity score between two sentences applying three different techniques. \n",
    "- Reference Article: [A beginner’s guide to measuring sentence similarity](https://medium.com/@igniobydigitate/a-beginners-guide-to-measuring-sentence-similarity-f3c78b9da0bc)"
   ]
  },
  {
   "cell_type": "markdown",
   "id": "59bb0231-ccf2-41a4-b897-cff2223b9180",
   "metadata": {},
   "source": [
    "## Sentence Embedding\n",
    "\n",
    "Sentence embedding represents a sentence as a vector of numbers. This numerical representation of a sentence is called sentence embedding. In a word embedding corresponds to a particular feature or aspect of the word. A sentence embedding is based on a similar concept where the dimensions collectively capture different aspects of the words used in the sentence, the grammatical structure of the sentence, and maybe some more underlying information.\n",
    "\n",
    "There are various ways in which a sentence embedding can be created. Once we have each sentence represented as a vector of numbers, then the problem of finding sentence similarity translates to the problem of finding similarity between these numeric vectors.\n",
    "\n",
    "In this notebook I will discuss a couple of statistical techniques to create numeric representations of sentences and briefly explore an idea of how one can utilize word embeddings for the same task. I will also discuss how similarity between sentence embeddings can be computed."
   ]
  },
  {
   "cell_type": "markdown",
   "id": "757c4245-ab9c-4381-a71c-829edc119884",
   "metadata": {
    "jp-MarkdownHeadingCollapsed": true
   },
   "source": [
    "## Sample sentences\n",
    "\n",
    "We take sentences form two unrelated movies to work with. This is done with the goal to demonstrate how sentences turn out to be either similar or dissimilar across these movies. I expect sentences from spiderman to show higher similarity with other senteces from the same movie and a lower similarity score from the sentences from the movie Godfather."
   ]
  },
  {
   "cell_type": "code",
   "execution_count": 249,
   "id": "1b272645-5ead-4af5-a12e-0463f88279ad",
   "metadata": {},
   "outputs": [],
   "source": [
    "import numpy as np\n",
    "import pandas as pd"
   ]
  },
  {
   "cell_type": "code",
   "execution_count": 250,
   "id": "85ec961c-ccc6-4320-9c0b-d49845d31955",
   "metadata": {},
   "outputs": [],
   "source": [
    "# Sample sentences from Spider-Man\n",
    "spiderman_sentences = [\n",
    "    \"With great power comes great responsibility.\",\n",
    "    \"I missed the part where that's my problem.\",\n",
    "    \"You're not Superman, you know.\",\n",
    "    \"Remember, with great power comes great responsibility.\",\n",
    "    \"I'm just Peter Parker. I'm Spider-Man no more.\",\n",
    "    \"Whatever life holds in store for me, I will never forget these words.\",\n",
    "    \"The truth is, I am Spider-Man.\",\n",
    "    \"This is my gift, my curse. Who am I? I'm Spider-Man.\",\n",
    "    \"Sometimes, to do what's right, we have to be steady and give up the things we want the most.\",\n",
    "    \"I want to tell you the truth... here it is: I'm Spider-Man.\"\n",
    "]\n",
    "\n",
    "# Sample sentences from The Godfather\n",
    "godfather_sentences = [\n",
    "    \"I'm gonna make him an offer he can't refuse.\",\n",
    "    \"Revenge is a dish best served cold.\",\n",
    "    \"A man who doesn't spend time with his family can never be a real man.\",\n",
    "    \"Leave the gun. Take the cannoli.\",\n",
    "    \"The lawyer with the briefcase can steal more money than the man with the gun.\",\n",
    "    \"It's not personal, Sonny. It's strictly business.\",\n",
    "    \"Women and children can be careless, but not men.\",\n",
    "    \"Power wears out those who do not have it.\",\n",
    "    \"Friendship is everything. Friendship is more than talent. It is more than the government. It is almost the equal of family.\",\n",
    "    \"Great men are not born great, they grow great.\"\n",
    "]\n",
    "\n",
    "all_sentences = spiderman_sentences + godfather_sentences"
   ]
  },
  {
   "cell_type": "markdown",
   "id": "35e72365-8f84-45d6-a1ce-23be3f47a47a",
   "metadata": {},
   "source": [
    "## Bag of words\n",
    "\n",
    "The basic idea is to find out which words are present in a sentence and assess the importance of a word based on how many times it occurs in a sentence."
   ]
  },
  {
   "cell_type": "markdown",
   "id": "1eeec257-9c01-4195-9b18-cc0a7a339128",
   "metadata": {},
   "source": [
    "#### Creating a dictionary and removing stop words\n",
    "\n",
    "Words such as is, are, a, an, the etc do not add much value in terms of providing context to a sentence. These are called stop words. So before we go ahead and count the frequency of words, we want to remove these stop words from the sentences."
   ]
  },
  {
   "cell_type": "code",
   "execution_count": 251,
   "id": "5f110552-8b1b-4857-9ca9-9bf44a2ffbc5",
   "metadata": {},
   "outputs": [],
   "source": [
    "# Define a list of stop words\n",
    "stop_words = {\n",
    "    'i', 'me', 'my', 'myself', 'we', 'our', 'ours', 'ourselves', 'you', 'your', 'yours', 'yourself', 'yourselves',\n",
    "    'he', 'him', 'his', 'himself', 'she', 'her', 'hers', 'herself', 'it', 'its', 'itself', 'they', 'them', 'their',\n",
    "    'theirs', 'themselves', 'what', 'which', 'who', 'whom', 'this', 'that', 'these', 'those', 'am', 'is', 'are', 'was',\n",
    "    'were', 'be', 'been', 'being', 'have', 'has', 'had', 'having', 'do', 'does', 'did', 'doing', 'a', 'an', 'the',\n",
    "    'and', 'but', 'if', 'or', 'because', 'as', 'until', 'while', 'of', 'at', 'by', 'for', 'with', 'about', 'against',\n",
    "    'between', 'into', 'through', 'during', 'before', 'after', 'above', 'below', 'to', 'from', 'up', 'down', 'in', 'out',\n",
    "    'on', 'off', 'over', 'under', 'again', 'further', 'then', 'once', 'here', 'there', 'when', 'where', 'why', 'how',\n",
    "    'all', 'any', 'both', 'each', 'few', 'more', 'most', 'other', 'some', 'such', 'no', 'nor', 'not', 'only', 'own',\n",
    "    'same', 'so', 'than', 'too', 'very', 's', 't', 'can', 'will', 'just', 'don', 'should', 'now'\n",
    "}"
   ]
  },
  {
   "cell_type": "markdown",
   "id": "ad141e9f-da0c-48ed-af90-a0ffc34d0c0f",
   "metadata": {},
   "source": [
    "#### Removing punctuations\n",
    "Before we go ahead and remove stop words, we first want to remove punctuations from the words so that they also get flagged as stop words. And even if not we don't want to consider men and men. as different words. So we remove punctuations.\n",
    "\n",
    "Explanation of code below:\n",
    "\n",
    "- str.maketrans('', '', string.punctuation) creates a translation table that maps each character in string.punctuation to None.\n",
    "- str.maketrans is a static method that returns a translation table usable for str.translate.\n",
    "- The first two arguments are empty strings ('') because we are not replacing any characters, only removing.\n",
    "- The third argument is string.punctuation, which contains all punctuation characters.\n",
    "- word.translate(...) uses the translation table to remove all punctuation characters from the word."
   ]
  },
  {
   "cell_type": "code",
   "execution_count": 252,
   "id": "eb3206f6-23ee-401c-abff-e4a7673920ea",
   "metadata": {},
   "outputs": [],
   "source": [
    "import string\n",
    "def remove_punctuation(word):\n",
    "    return word.translate(str.maketrans('', '', string.punctuation))"
   ]
  },
  {
   "cell_type": "code",
   "execution_count": 253,
   "id": "0c386e66-a1fe-44fa-98df-ce2bbd1b8fa8",
   "metadata": {},
   "outputs": [
    {
     "name": "stdout",
     "output_type": "stream",
     "text": [
      "Original sentence: This is an example sentence showing the removal of stop words.\n",
      "Filtered sentence: example sentence showing removal stop words\n"
     ]
    }
   ],
   "source": [
    "# Sample sentence\n",
    "sentence = \"This is an example sentence showing the removal of stop words.\"\n",
    "\n",
    "def remove_stop_words(sentence):\n",
    "    \n",
    "    # Tokenize the sentence\n",
    "    words = sentence.lower().split()\n",
    "    \n",
    "    # Remove stop words\n",
    "    filtered_words = [remove_punctuation(word) for word in words if word not in stop_words]\n",
    "    \n",
    "    # Join the words back into a sentence\n",
    "    filtered_sentence = ' '.join(filtered_words)\n",
    "\n",
    "    return filtered_sentence\n",
    "\n",
    "print(\"Original sentence:\", sentence)\n",
    "print(\"Filtered sentence:\", remove_stop_words(sentence))"
   ]
  },
  {
   "cell_type": "code",
   "execution_count": 254,
   "id": "eefa7986-2909-4f5c-a8f7-9cc069139005",
   "metadata": {},
   "outputs": [
    {
     "name": "stdout",
     "output_type": "stream",
     "text": [
      "spiderman_original:\n",
      "With great power comes great responsibility.\n",
      "I missed the part where that's my problem.\n",
      "You're not Superman, you know.\n",
      "\n",
      "spiderman_stop_removed:\n",
      "['great', 'power', 'comes', 'great', 'responsibility']\n",
      "['missed', 'part', 'thats', 'problem']\n",
      "['youre', 'superman', 'know']\n"
     ]
    }
   ],
   "source": [
    "# Removing stopwords from all sentences in our database\n",
    "\n",
    "spiderman_stop_removed = []\n",
    "godfather_stop_removed = []\n",
    "\n",
    "for sentence in spiderman_sentences:\n",
    "    spiderman_stop_removed.append(remove_stop_words(sentence).split())\n",
    "\n",
    "for sentence in godfather_sentences:\n",
    "    godfather_stop_removed.append(remove_stop_words(sentence).split())\n",
    "\n",
    "print(\"spiderman_original:\")\n",
    "print(spiderman_sentences[0])\n",
    "print(spiderman_sentences[1])\n",
    "print(spiderman_sentences[2])\n",
    "print()\n",
    "print(\"spiderman_stop_removed:\")\n",
    "print(spiderman_stop_removed[0])\n",
    "print(spiderman_stop_removed[1])\n",
    "print(spiderman_stop_removed[2])\n"
   ]
  },
  {
   "cell_type": "markdown",
   "id": "1aa72ace-4b7f-46fd-8c6a-fc7f0d30c4e4",
   "metadata": {},
   "source": [
    "#### Creating a dictionary of words in all sentences\n",
    "\n",
    "Now that we have removed the stop words, let's create a dictionary of all non stop words and create a dataset where for each sentence we have a row of frequency of each word"
   ]
  },
  {
   "cell_type": "code",
   "execution_count": 255,
   "id": "a54e91ca-6805-4562-b7f8-d61de830a280",
   "metadata": {},
   "outputs": [
    {
     "name": "stdout",
     "output_type": "stream",
     "text": [
      "Total unique words : 82\n"
     ]
    }
   ],
   "source": [
    "# Creating a set of all unique words\n",
    "\n",
    "# Let's combine all arrays into one\n",
    "all_sentences_stop_removed = spiderman_stop_removed+ godfather_stop_removed\n",
    "\n",
    "# get unique words from all sentences and put it into a set\n",
    "unique_words = set()\n",
    "for sentence in all_sentences_stop_removed:\n",
    "    for word in sentence:\n",
    "        unique_words.add(word)\n",
    "\n",
    "print(f\"Total unique words : {len(unique_words)}\")"
   ]
  },
  {
   "cell_type": "markdown",
   "id": "19b521c8-8a46-4e8b-bc14-474d6261a71a",
   "metadata": {},
   "source": [
    "#### Creating the dataframe that shows the word count of each sentence"
   ]
  },
  {
   "cell_type": "code",
   "execution_count": 256,
   "id": "7387cf1f-0d41-484f-9110-e2c4c9aa0957",
   "metadata": {},
   "outputs": [],
   "source": [
    "from collections import Counter"
   ]
  },
  {
   "cell_type": "code",
   "execution_count": 257,
   "id": "06c0d444-e06c-45d5-9edd-9b66f94ac1fa",
   "metadata": {},
   "outputs": [
    {
     "name": "stdout",
     "output_type": "stream",
     "text": [
      "    remember  equal  know  superman  man  lawyer  money  real  cannoli  im  \\\n",
      "0          0      0     0         0    0       0      0     0        0   0   \n",
      "1          0      0     0         0    0       0      0     0        0   0   \n",
      "2          0      0     1         1    0       0      0     0        0   0   \n",
      "3          1      0     0         0    0       0      0     0        0   0   \n",
      "4          0      0     0         0    0       0      0     0        0   2   \n",
      "5          0      0     0         0    0       0      0     0        0   0   \n",
      "6          0      0     0         0    0       0      0     0        0   0   \n",
      "7          0      0     0         0    0       0      0     0        0   1   \n",
      "8          0      0     0         0    0       0      0     0        0   0   \n",
      "9          0      0     0         0    0       0      0     0        0   1   \n",
      "10         0      0     0         0    0       0      0     0        0   1   \n",
      "11         0      0     0         0    0       0      0     0        0   0   \n",
      "12         0      0     0         0    2       0      0     1        0   0   \n",
      "13         0      0     0         0    0       0      0     0        1   0   \n",
      "14         0      0     0         0    1       1      1     0        0   0   \n",
      "15         0      0     0         0    0       0      0     0        0   0   \n",
      "16         0      0     0         0    0       0      0     0        0   0   \n",
      "17         0      0     0         0    0       0      0     0        0   0   \n",
      "18         0      1     0         0    0       0      0     0        0   0   \n",
      "19         0      0     0         0    0       0      0     0        0   0   \n",
      "\n",
      "    ...  whats  make  spend  strictly  peter  wears  gonna  right  women  dish  \n",
      "0   ...      0     0      0         0      0      0      0      0      0     0  \n",
      "1   ...      0     0      0         0      0      0      0      0      0     0  \n",
      "2   ...      0     0      0         0      0      0      0      0      0     0  \n",
      "3   ...      0     0      0         0      0      0      0      0      0     0  \n",
      "4   ...      0     0      0         0      1      0      0      0      0     0  \n",
      "5   ...      0     0      0         0      0      0      0      0      0     0  \n",
      "6   ...      0     0      0         0      0      0      0      0      0     0  \n",
      "7   ...      0     0      0         0      0      0      0      0      0     0  \n",
      "8   ...      1     0      0         0      0      0      0      1      0     0  \n",
      "9   ...      0     0      0         0      0      0      0      0      0     0  \n",
      "10  ...      0     1      0         0      0      0      1      0      0     0  \n",
      "11  ...      0     0      0         0      0      0      0      0      0     1  \n",
      "12  ...      0     0      1         0      0      0      0      0      0     0  \n",
      "13  ...      0     0      0         0      0      0      0      0      0     0  \n",
      "14  ...      0     0      0         0      0      0      0      0      0     0  \n",
      "15  ...      0     0      0         1      0      0      0      0      0     0  \n",
      "16  ...      0     0      0         0      0      0      0      0      1     0  \n",
      "17  ...      0     0      0         0      0      1      0      0      0     0  \n",
      "18  ...      0     0      0         0      0      0      0      0      0     0  \n",
      "19  ...      0     0      0         0      0      0      0      0      0     0  \n",
      "\n",
      "[20 rows x 82 columns]\n"
     ]
    }
   ],
   "source": [
    "# Create a frequency matrix\n",
    "frequency_matrix = []\n",
    "\n",
    "for sentence in all_sentences_stop_removed:\n",
    "    word_count = Counter(sentence)\n",
    "    frequency_matrix.append([word_count.get(word, 0) for word in unique_words])\n",
    "\n",
    "# Create a DataFrame\n",
    "df = pd.DataFrame(frequency_matrix, columns=list(unique_words))\n",
    "print(df)"
   ]
  },
  {
   "attachments": {
    "616c994e-24cf-44d8-bbbc-fcdad8b8ad9b.png": {
     "image/png": "[encoded data removed]"
    },
    "7e67bc4b-b7cc-478b-aa51-271349dce69a.png": {
     "image/png": "[encoded data removed]"
    }
   },
   "cell_type": "markdown",
   "id": "98c41b13-ea8e-4304-95fd-028c73a26560",
   "metadata": {},
   "source": [
    "#### Using cosine similarity to calculate how similar the sentences are\n",
    "\n",
    "Consider that two n-dimensional arrays are plotted as two vectors in an n-dimensional space. Cosine similarity measures the angle between these two vectors and returns a value between -1 and 1. Mathematically, given two vectors A and B, cosine similarity is calculated as follows:\n",
    "\n",
    "![CosineSimilarityFormula.png](attachment:7e67bc4b-b7cc-478b-aa51-271349dce69a.png)\n",
    "\n",
    "where,\n",
    "\n",
    "\n",
    "- A.B = Dot product between two vectors. It is calculated by adding the product of corresponding vector values.\n",
    "\n",
    "\n",
    "- |A|, |B| = Magnitude of a vector. It is the square root of the sum of squares of all the vector values.\n",
    "\n",
    "![CosineSimilarityVectorRepresentation.png](attachment:616c994e-24cf-44d8-bbbc-fcdad8b8ad9b.png)"
   ]
  },
  {
   "cell_type": "markdown",
   "id": "6536aafd-8047-4dbb-8ea9-78d94b341649",
   "metadata": {},
   "source": [
    "#### The cosine similarity function"
   ]
  },
  {
   "cell_type": "code",
   "execution_count": 258,
   "id": "1593b1ce-69ba-4606-9246-823abf2942f2",
   "metadata": {},
   "outputs": [],
   "source": [
    "def consine(vec1, vec2):\n",
    "    # Compute the dot product\n",
    "    dot_product = np.dot(vec1, vec2)\n",
    "    \n",
    "    # Compute the Euclidean norm (magnitude) of each vector\n",
    "    norm_vec1 = np.linalg.norm(vec1)\n",
    "    norm_vec2 = np.linalg.norm(vec2)\n",
    "    \n",
    "    # Compute the cosine similarity\n",
    "    if norm_vec1 == 0 or norm_vec2 == 0:\n",
    "        return 0.0\n",
    "    else:\n",
    "        return dot_product / (norm_vec1 * norm_vec2)"
   ]
  },
  {
   "cell_type": "code",
   "execution_count": 259,
   "id": "06bfec8f-8449-4888-9a65-53deb2e848da",
   "metadata": {},
   "outputs": [
    {
     "name": "stdout",
     "output_type": "stream",
     "text": [
      "['With great power comes great responsibility.', \"I missed the part where that's my problem.\", \"You're not Superman, you know.\", 'Remember, with great power comes great responsibility.', \"I'm just Peter Parker. I'm Spider-Man no more.\", 'Whatever life holds in store for me, I will never forget these words.', 'The truth is, I am Spider-Man.', \"This is my gift, my curse. Who am I? I'm Spider-Man.\", \"Sometimes, to do what's right, we have to be steady and give up the things we want the most.\", \"I want to tell you the truth... here it is: I'm Spider-Man.\", \"I'm gonna make him an offer he can't refuse.\", 'Revenge is a dish best served cold.', \"A man who doesn't spend time with his family can never be a real man.\", 'Leave the gun. Take the cannoli.', 'The lawyer with the briefcase can steal more money than the man with the gun.', \"It's not personal, Sonny. It's strictly business.\", 'Women and children can be careless, but not men.', 'Power wears out those who do not have it.', 'Friendship is everything. Friendship is more than talent. It is more than the government. It is almost the equal of family.', 'Great men are not born great, they grow great.']\n",
      "20\n"
     ]
    }
   ],
   "source": [
    "# Testing this between two sentences within the spiderman movie\n",
    "print(all_sentences)\n",
    "print(len(all_sentences))"
   ]
  },
  {
   "cell_type": "code",
   "execution_count": 260,
   "id": "6154c758-2a95-4ac6-a249-621fe0c8604f",
   "metadata": {},
   "outputs": [
    {
     "data": {
      "text/plain": [
       "'With great power comes great responsibility.'"
      ]
     },
     "execution_count": 260,
     "metadata": {},
     "output_type": "execute_result"
    }
   ],
   "source": [
    "# Let's try the first and the 4th statement\n",
    "all_sentences[0]"
   ]
  },
  {
   "cell_type": "code",
   "execution_count": 261,
   "id": "f3262f92-806b-474c-ba90-50d9c027c3a7",
   "metadata": {},
   "outputs": [
    {
     "data": {
      "text/plain": [
       "'Remember, with great power comes great responsibility.'"
      ]
     },
     "execution_count": 261,
     "metadata": {},
     "output_type": "execute_result"
    }
   ],
   "source": [
    "all_sentences[3]"
   ]
  },
  {
   "cell_type": "code",
   "execution_count": 262,
   "id": "26fd9347-801f-4d16-9362-d2222f87c1ab",
   "metadata": {},
   "outputs": [
    {
     "data": {
      "text/plain": [
       "0.9354143466934852"
      ]
     },
     "execution_count": 262,
     "metadata": {},
     "output_type": "execute_result"
    }
   ],
   "source": [
    "consine(df.loc[0], df.loc[3])"
   ]
  },
  {
   "cell_type": "code",
   "execution_count": 263,
   "id": "fff241a9-0ff7-47c4-8112-93abc8e86d24",
   "metadata": {},
   "outputs": [
    {
     "data": {
      "text/plain": [
       "'Friendship is everything. Friendship is more than talent. It is more than the government. It is almost the equal of family.'"
      ]
     },
     "execution_count": 263,
     "metadata": {},
     "output_type": "execute_result"
    }
   ],
   "source": [
    "# Let's pick a sentence that does not have power or responsibility in it\n",
    "all_sentences[18]"
   ]
  },
  {
   "cell_type": "code",
   "execution_count": 264,
   "id": "393f848c-df8c-41fa-a70b-a95408d6bff4",
   "metadata": {},
   "outputs": [
    {
     "data": {
      "text/plain": [
       "0.0"
      ]
     },
     "execution_count": 264,
     "metadata": {},
     "output_type": "execute_result"
    }
   ],
   "source": [
    "consine(df.loc[0], df.loc[18])"
   ]
  },
  {
   "cell_type": "markdown",
   "id": "67270059-ef4c-4f47-a477-228c4bbb3ad0",
   "metadata": {},
   "source": [
    "This is not similar at at all!\n",
    "\n",
    "Let's write a function that given two sentences does this process end to end"
   ]
  },
  {
   "cell_type": "code",
   "execution_count": 265,
   "id": "028bd49f-31f0-470e-8b64-eaeedd4206a0",
   "metadata": {},
   "outputs": [],
   "source": [
    "def findSimilarityBagOfWords(sentence1, sentence2):\n",
    "    # combining sentences to an array\n",
    "    sentences = [sentence1, sentence2]\n",
    "    stop_removed = []\n",
    "\n",
    "    # removing stop words and punctuation from the words\n",
    "    for sentence in sentences:\n",
    "        stop_removed.append(remove_stop_words(sentence).split())\n",
    "\n",
    "    # getting list of unique words\n",
    "    unique_words = set()\n",
    "    for sentence in stop_removed:\n",
    "        for word in sentence:\n",
    "            unique_words.add(word)\n",
    "\n",
    "    # Create a frequency matrix\n",
    "    frequency_matrix = []\n",
    "    \n",
    "    for sentence in stop_removed:\n",
    "        word_count = Counter(sentence)\n",
    "        frequency_matrix.append([word_count.get(word, 0) for word in unique_words])\n",
    "    \n",
    "    # Create a DataFrame\n",
    "    df = pd.DataFrame(frequency_matrix, columns=list(unique_words))\n",
    "    print(f\"Similarity score: {consine(df.loc[0], df.loc[1])}\")\n",
    "    return df"
   ]
  },
  {
   "cell_type": "code",
   "execution_count": 266,
   "id": "c6025dcc-9685-44b2-a124-e60a4c94b139",
   "metadata": {},
   "outputs": [
    {
     "name": "stdout",
     "output_type": "stream",
     "text": [
      "Similarity score: 0.6666666666666667\n"
     ]
    },
    {
     "data": {
      "text/html": [
       "<div>\n",
       "<style scoped>\n",
       "    .dataframe tbody tr th:only-of-type {\n",
       "        vertical-align: middle;\n",
       "    }\n",
       "\n",
       "    .dataframe tbody tr th {\n",
       "        vertical-align: top;\n",
       "    }\n",
       "\n",
       "    .dataframe thead th {\n",
       "        text-align: right;\n",
       "    }\n",
       "</style>\n",
       "<table border=\"1\" class=\"dataframe\">\n",
       "  <thead>\n",
       "    <tr style=\"text-align: right;\">\n",
       "      <th></th>\n",
       "      <th>out</th>\n",
       "      <th>dogs</th>\n",
       "      <th>let</th>\n",
       "      <th>cats</th>\n",
       "    </tr>\n",
       "  </thead>\n",
       "  <tbody>\n",
       "    <tr>\n",
       "      <th>0</th>\n",
       "      <td>1</td>\n",
       "      <td>1</td>\n",
       "      <td>1</td>\n",
       "      <td>0</td>\n",
       "    </tr>\n",
       "    <tr>\n",
       "      <th>1</th>\n",
       "      <td>1</td>\n",
       "      <td>0</td>\n",
       "      <td>1</td>\n",
       "      <td>1</td>\n",
       "    </tr>\n",
       "  </tbody>\n",
       "</table>\n",
       "</div>"
      ],
      "text/plain": [
       "   out  dogs  let  cats\n",
       "0    1     1    1     0\n",
       "1    1     0    1     1"
      ]
     },
     "execution_count": 266,
     "metadata": {},
     "output_type": "execute_result"
    }
   ],
   "source": [
    "findSimilarityBagOfWords(\"Who let the dogs out!\", \"Who let the cats out!\")"
   ]
  },
  {
   "cell_type": "code",
   "execution_count": 267,
   "id": "ed66a5d1-d062-4589-9d1c-de5a6b0c7899",
   "metadata": {},
   "outputs": [
    {
     "name": "stdout",
     "output_type": "stream",
     "text": [
      "Similarity score: 0.0\n"
     ]
    },
    {
     "data": {
      "text/html": [
       "<div>\n",
       "<style scoped>\n",
       "    .dataframe tbody tr th:only-of-type {\n",
       "        vertical-align: middle;\n",
       "    }\n",
       "\n",
       "    .dataframe tbody tr th {\n",
       "        vertical-align: top;\n",
       "    }\n",
       "\n",
       "    .dataframe thead th {\n",
       "        text-align: right;\n",
       "    }\n",
       "</style>\n",
       "<table border=\"1\" class=\"dataframe\">\n",
       "  <thead>\n",
       "    <tr style=\"text-align: right;\">\n",
       "      <th></th>\n",
       "      <th>mia</th>\n",
       "      <th>resist</th>\n",
       "      <th>mamma</th>\n",
       "      <th>go</th>\n",
       "      <th>my</th>\n",
       "    </tr>\n",
       "  </thead>\n",
       "  <tbody>\n",
       "    <tr>\n",
       "      <th>0</th>\n",
       "      <td>1</td>\n",
       "      <td>0</td>\n",
       "      <td>1</td>\n",
       "      <td>1</td>\n",
       "      <td>0</td>\n",
       "    </tr>\n",
       "    <tr>\n",
       "      <th>1</th>\n",
       "      <td>0</td>\n",
       "      <td>1</td>\n",
       "      <td>0</td>\n",
       "      <td>0</td>\n",
       "      <td>1</td>\n",
       "    </tr>\n",
       "  </tbody>\n",
       "</table>\n",
       "</div>"
      ],
      "text/plain": [
       "   mia  resist  mamma  go  my\n",
       "0    1       0      1   1   0\n",
       "1    0       1      0   0   1"
      ]
     },
     "execution_count": 267,
     "metadata": {},
     "output_type": "execute_result"
    }
   ],
   "source": [
    "findSimilarityBagOfWords(\"Mamma mia , here we go again \", \"My my! how can I resist you ?\")"
   ]
  },
  {
   "cell_type": "code",
   "execution_count": 268,
   "id": "557c752b-14e3-4f31-9357-2aa30bc832c0",
   "metadata": {},
   "outputs": [
    {
     "name": "stdout",
     "output_type": "stream",
     "text": [
      "In the bustling city of Metropolis, the skyline is dominated by towering skyscrapers that reach for the heavens. The streets below are a hive of activity, with people from all walks of life hurrying to and fro. The air is filled with the sounds of honking cars, distant sirens, and the constant chatter of passersby. Amidst the urban chaos, pockets of tranquility can be found in the form of small parks and green spaces, offering a brief respite from the hustle and bustle. At night, the city transforms into a sea of lights, with neon signs and street lamps illuminating the dark, creating a vibrant and lively atmosphere that never seems to sleep.\n",
      "\n",
      "In the tranquil town of Riverview, life moves at a leisurely pace. The town is known for its picturesque scenery, with rolling hills and a serene river that winds its way through the heart of the community. The streets are lined with charming houses, each with well-tended gardens bursting with colorful flowers. The sound of birds singing fills the air, and the occasional laughter of children playing can be heard in the distance. Riverview's town square is a hub of local activity, where residents gather for farmers' markets, craft fairs, and community events. As the sun sets, the town is bathed in a golden glow, and the sky is painted with hues of pink and orange, bringing a peaceful end to another day in this idyllic setting.\n"
     ]
    }
   ],
   "source": [
    "paragraph1 = \"In the bustling city of Metropolis, the skyline is dominated by towering skyscrapers that reach for the heavens. The streets below are a hive of activity, with people from all walks of life hurrying to and fro. The air is filled with the sounds of honking cars, distant sirens, and the constant chatter of passersby. Amidst the urban chaos, pockets of tranquility can be found in the form of small parks and green spaces, offering a brief respite from the hustle and bustle. At night, the city transforms into a sea of lights, with neon signs and street lamps illuminating the dark, creating a vibrant and lively atmosphere that never seems to sleep.\"\n",
    "paragraph2 = \"In the tranquil town of Riverview, life moves at a leisurely pace. The town is known for its picturesque scenery, with rolling hills and a serene river that winds its way through the heart of the community. The streets are lined with charming houses, each with well-tended gardens bursting with colorful flowers. The sound of birds singing fills the air, and the occasional laughter of children playing can be heard in the distance. Riverview's town square is a hub of local activity, where residents gather for farmers' markets, craft fairs, and community events. As the sun sets, the town is bathed in a golden glow, and the sky is painted with hues of pink and orange, bringing a peaceful end to another day in this idyllic setting.\"\n",
    "\n",
    "print(paragraph1)\n",
    "print()\n",
    "print(paragraph2)"
   ]
  },
  {
   "cell_type": "code",
   "execution_count": 269,
   "id": "32588b65-702b-437d-8cbc-d416c95556ed",
   "metadata": {},
   "outputs": [
    {
     "name": "stdout",
     "output_type": "stream",
     "text": [
      "Similarity score: 0.05466133744605251\n"
     ]
    },
    {
     "data": {
      "text/html": [
       "<div>\n",
       "<style scoped>\n",
       "    .dataframe tbody tr th:only-of-type {\n",
       "        vertical-align: middle;\n",
       "    }\n",
       "\n",
       "    .dataframe tbody tr th {\n",
       "        vertical-align: top;\n",
       "    }\n",
       "\n",
       "    .dataframe thead th {\n",
       "        text-align: right;\n",
       "    }\n",
       "</style>\n",
       "<table border=\"1\" class=\"dataframe\">\n",
       "  <thead>\n",
       "    <tr style=\"text-align: right;\">\n",
       "      <th></th>\n",
       "      <th>streets</th>\n",
       "      <th>markets</th>\n",
       "      <th>hustle</th>\n",
       "      <th>occasional</th>\n",
       "      <th>bringing</th>\n",
       "      <th>neon</th>\n",
       "      <th>metropolis</th>\n",
       "      <th>hub</th>\n",
       "      <th>pink</th>\n",
       "      <th>orange</th>\n",
       "      <th>...</th>\n",
       "      <th>distance</th>\n",
       "      <th>serene</th>\n",
       "      <th>bathed</th>\n",
       "      <th>community</th>\n",
       "      <th>form</th>\n",
       "      <th>scenery</th>\n",
       "      <th>activity</th>\n",
       "      <th>hues</th>\n",
       "      <th>residents</th>\n",
       "      <th>day</th>\n",
       "    </tr>\n",
       "  </thead>\n",
       "  <tbody>\n",
       "    <tr>\n",
       "      <th>0</th>\n",
       "      <td>1</td>\n",
       "      <td>0</td>\n",
       "      <td>1</td>\n",
       "      <td>0</td>\n",
       "      <td>0</td>\n",
       "      <td>1</td>\n",
       "      <td>1</td>\n",
       "      <td>0</td>\n",
       "      <td>0</td>\n",
       "      <td>0</td>\n",
       "      <td>...</td>\n",
       "      <td>0</td>\n",
       "      <td>0</td>\n",
       "      <td>0</td>\n",
       "      <td>0</td>\n",
       "      <td>1</td>\n",
       "      <td>0</td>\n",
       "      <td>1</td>\n",
       "      <td>0</td>\n",
       "      <td>0</td>\n",
       "      <td>0</td>\n",
       "    </tr>\n",
       "    <tr>\n",
       "      <th>1</th>\n",
       "      <td>1</td>\n",
       "      <td>1</td>\n",
       "      <td>0</td>\n",
       "      <td>1</td>\n",
       "      <td>1</td>\n",
       "      <td>0</td>\n",
       "      <td>0</td>\n",
       "      <td>1</td>\n",
       "      <td>1</td>\n",
       "      <td>1</td>\n",
       "      <td>...</td>\n",
       "      <td>1</td>\n",
       "      <td>1</td>\n",
       "      <td>1</td>\n",
       "      <td>2</td>\n",
       "      <td>0</td>\n",
       "      <td>1</td>\n",
       "      <td>1</td>\n",
       "      <td>1</td>\n",
       "      <td>1</td>\n",
       "      <td>1</td>\n",
       "    </tr>\n",
       "  </tbody>\n",
       "</table>\n",
       "<p>2 rows × 123 columns</p>\n",
       "</div>"
      ],
      "text/plain": [
       "   streets  markets  hustle  occasional  bringing  neon  metropolis  hub  \\\n",
       "0        1        0       1           0         0     1           1    0   \n",
       "1        1        1       0           1         1     0           0    1   \n",
       "\n",
       "   pink  orange  ...  distance  serene  bathed  community  form  scenery  \\\n",
       "0     0       0  ...         0       0       0          0     1        0   \n",
       "1     1       1  ...         1       1       1          2     0        1   \n",
       "\n",
       "   activity  hues  residents  day  \n",
       "0         1     0          0    0  \n",
       "1         1     1          1    1  \n",
       "\n",
       "[2 rows x 123 columns]"
      ]
     },
     "execution_count": 269,
     "metadata": {},
     "output_type": "execute_result"
    }
   ],
   "source": [
    "findSimilarityBagOfWords(paragraph1, paragraph2)"
   ]
  },
  {
   "attachments": {
    "91adb832-f59a-42a5-b729-17d066bd149b.png": {
     "image/png": "[encoded data removed]"
    },
    "e4b601f7-bc7e-4e72-894f-5c183260b8d2.png": {
     "image/png": "[encoded data removed]"
    }
   },
   "cell_type": "markdown",
   "id": "e5d768cd-31e8-4ac9-9be5-e7bc5cf9240e",
   "metadata": {},
   "source": [
    "## TF-IDF\n",
    "\n",
    "#### Explanation of TF-IDF \n",
    "\n",
    "Term frequency - Inverse Document Frequency\n",
    "\n",
    "The bag of words approach gives equal weight to all words. However, a more sophisticated approach is the TF-IDF approach. TF-IDF stands for Term Frequency — Inverse Document Frequency. This approach is based on the rationale that the most common words are usually the least significant ones. While stop words are removed in the bag of words approach, **TF-IDF provides a more sophisticated approach to automatically give less weight to frequent words that appear in the whole corpus.**\n",
    "\n",
    "Let's break it down further: \n",
    "\n",
    "**Term Frequency** : How frequent a term appears within the given document. Can be within the same sentence, paragraph or whole text.\n",
    "\n",
    "**Inverse Document Frequency** : This is representative of how rare this word is across all the documents in the corpus. \n",
    "\n",
    "IDF is calculated by taking the logarithm of the ratio of the total number of documents and the number of documents containing the word (document frequency). The more frequently the word appears across the corpus, the lower its inverse document frequency making it less important. Similarly, the rarer the word in the corpus, the higher its inverse document frequency. \n",
    "\n",
    "Mathematically,\n",
    "\n",
    "![image.png](attachment:e4b601f7-bc7e-4e72-894f-5c183260b8d2.png)\n",
    "\n",
    "The TF-IDF value for a word can be calculated as follows:\n",
    "\n",
    "![image.png](attachment:91adb832-f59a-42a5-b729-17d066bd149b.png)"
   ]
  },
  {
   "cell_type": "markdown",
   "id": "e20525d0-6f8e-47b1-b7b0-c87dc0fd45c3",
   "metadata": {},
   "source": [
    "#### What makes TF-IDF better than Bag of words ?\n",
    "\n",
    "Let's find out by trying it out. \n",
    "\n",
    "**Step 1**: Create a corpus of words, that we have already done for the bag of words. \n",
    "\n",
    "**Step 2**: Create a dicrionary of words from the corpus. Already done for bag of words `unique_words`\n",
    "\n",
    "**Step 3**: Creating the word embeddings. This is where the difference comes in between bag of words and TF-IDF. Instead of just sticking to the term frequency, we also calculate the Inverse Document Frequency and multiple it with the TF to get the TF-IDF value for the word in the sentence."
   ]
  },
  {
   "cell_type": "code",
   "execution_count": 270,
   "id": "01cfd304-e753-4361-9e2c-98d9a70aaca7",
   "metadata": {},
   "outputs": [
    {
     "name": "stdout",
     "output_type": "stream",
     "text": [
      "    remember     equal      know  superman       man    lawyer     money  \\\n",
      "0   0.000000  0.000000  0.000000  0.000000  0.000000  0.000000  0.000000   \n",
      "1   0.000000  0.000000  0.000000  0.000000  0.000000  0.000000  0.000000   \n",
      "2   0.000000  0.000000  2.995732  2.995732  0.000000  0.000000  0.000000   \n",
      "3   2.995732  0.000000  0.000000  0.000000  0.000000  0.000000  0.000000   \n",
      "4   0.000000  0.000000  0.000000  0.000000  0.000000  0.000000  0.000000   \n",
      "5   0.000000  0.000000  0.000000  0.000000  0.000000  0.000000  0.000000   \n",
      "6   0.000000  0.000000  0.000000  0.000000  0.000000  0.000000  0.000000   \n",
      "7   0.000000  0.000000  0.000000  0.000000  0.000000  0.000000  0.000000   \n",
      "8   0.000000  0.000000  0.000000  0.000000  0.000000  0.000000  0.000000   \n",
      "9   0.000000  0.000000  0.000000  0.000000  0.000000  0.000000  0.000000   \n",
      "10  0.000000  0.000000  0.000000  0.000000  0.000000  0.000000  0.000000   \n",
      "11  0.000000  0.000000  0.000000  0.000000  0.000000  0.000000  0.000000   \n",
      "12  0.000000  0.000000  0.000000  0.000000  4.605170  0.000000  0.000000   \n",
      "13  0.000000  0.000000  0.000000  0.000000  0.000000  0.000000  0.000000   \n",
      "14  0.000000  0.000000  0.000000  0.000000  2.302585  2.995732  2.995732   \n",
      "15  0.000000  0.000000  0.000000  0.000000  0.000000  0.000000  0.000000   \n",
      "16  0.000000  0.000000  0.000000  0.000000  0.000000  0.000000  0.000000   \n",
      "17  0.000000  0.000000  0.000000  0.000000  0.000000  0.000000  0.000000   \n",
      "18  0.000000  2.995732  0.000000  0.000000  0.000000  0.000000  0.000000   \n",
      "19  0.000000  0.000000  0.000000  0.000000  0.000000  0.000000  0.000000   \n",
      "\n",
      "        real   cannoli        im  ...     whats      make     spend  strictly  \\\n",
      "0   0.000000  0.000000  0.000000  ...  0.000000  0.000000  0.000000  0.000000   \n",
      "1   0.000000  0.000000  0.000000  ...  0.000000  0.000000  0.000000  0.000000   \n",
      "2   0.000000  0.000000  0.000000  ...  0.000000  0.000000  0.000000  0.000000   \n",
      "3   0.000000  0.000000  0.000000  ...  0.000000  0.000000  0.000000  0.000000   \n",
      "4   0.000000  0.000000  3.218876  ...  0.000000  0.000000  0.000000  0.000000   \n",
      "5   0.000000  0.000000  0.000000  ...  0.000000  0.000000  0.000000  0.000000   \n",
      "6   0.000000  0.000000  0.000000  ...  0.000000  0.000000  0.000000  0.000000   \n",
      "7   0.000000  0.000000  1.609438  ...  0.000000  0.000000  0.000000  0.000000   \n",
      "8   0.000000  0.000000  0.000000  ...  2.995732  0.000000  0.000000  0.000000   \n",
      "9   0.000000  0.000000  1.609438  ...  0.000000  0.000000  0.000000  0.000000   \n",
      "10  0.000000  0.000000  1.609438  ...  0.000000  2.995732  0.000000  0.000000   \n",
      "11  0.000000  0.000000  0.000000  ...  0.000000  0.000000  0.000000  0.000000   \n",
      "12  2.995732  0.000000  0.000000  ...  0.000000  0.000000  2.995732  0.000000   \n",
      "13  0.000000  2.995732  0.000000  ...  0.000000  0.000000  0.000000  0.000000   \n",
      "14  0.000000  0.000000  0.000000  ...  0.000000  0.000000  0.000000  0.000000   \n",
      "15  0.000000  0.000000  0.000000  ...  0.000000  0.000000  0.000000  2.995732   \n",
      "16  0.000000  0.000000  0.000000  ...  0.000000  0.000000  0.000000  0.000000   \n",
      "17  0.000000  0.000000  0.000000  ...  0.000000  0.000000  0.000000  0.000000   \n",
      "18  0.000000  0.000000  0.000000  ...  0.000000  0.000000  0.000000  0.000000   \n",
      "19  0.000000  0.000000  0.000000  ...  0.000000  0.000000  0.000000  0.000000   \n",
      "\n",
      "       peter     wears     gonna     right     women      dish  \n",
      "0   0.000000  0.000000  0.000000  0.000000  0.000000  0.000000  \n",
      "1   0.000000  0.000000  0.000000  0.000000  0.000000  0.000000  \n",
      "2   0.000000  0.000000  0.000000  0.000000  0.000000  0.000000  \n",
      "3   0.000000  0.000000  0.000000  0.000000  0.000000  0.000000  \n",
      "4   2.995732  0.000000  0.000000  0.000000  0.000000  0.000000  \n",
      "5   0.000000  0.000000  0.000000  0.000000  0.000000  0.000000  \n",
      "6   0.000000  0.000000  0.000000  0.000000  0.000000  0.000000  \n",
      "7   0.000000  0.000000  0.000000  0.000000  0.000000  0.000000  \n",
      "8   0.000000  0.000000  0.000000  2.995732  0.000000  0.000000  \n",
      "9   0.000000  0.000000  0.000000  0.000000  0.000000  0.000000  \n",
      "10  0.000000  0.000000  2.995732  0.000000  0.000000  0.000000  \n",
      "11  0.000000  0.000000  0.000000  0.000000  0.000000  2.995732  \n",
      "12  0.000000  0.000000  0.000000  0.000000  0.000000  0.000000  \n",
      "13  0.000000  0.000000  0.000000  0.000000  0.000000  0.000000  \n",
      "14  0.000000  0.000000  0.000000  0.000000  0.000000  0.000000  \n",
      "15  0.000000  0.000000  0.000000  0.000000  0.000000  0.000000  \n",
      "16  0.000000  0.000000  0.000000  0.000000  2.995732  0.000000  \n",
      "17  0.000000  2.995732  0.000000  0.000000  0.000000  0.000000  \n",
      "18  0.000000  0.000000  0.000000  0.000000  0.000000  0.000000  \n",
      "19  0.000000  0.000000  0.000000  0.000000  0.000000  0.000000  \n",
      "\n",
      "[20 rows x 82 columns]\n"
     ]
    }
   ],
   "source": [
    "import math\n",
    "\n",
    "# Let's go through all sentences and words and create a counter of how many times a word has appeared across documents\n",
    "idf = {}\n",
    "\n",
    "# We pick the array of all sentences that have stop words removed [][]\n",
    "for words_arr in all_sentences_stop_removed:\n",
    "    unique_words_in_sentence = set(words_arr)\n",
    "\n",
    "    # for each of these unique words, increment the value in the idf array\n",
    "    for word in unique_words_in_sentence:\n",
    "        if word in idf :\n",
    "            idf[word] =  idf[word] + 1\n",
    "        else:\n",
    "            idf[word] = 1\n",
    "            \n",
    "number_of_documents = len(all_sentences_stop_removed)\n",
    "\n",
    "\n",
    "\n",
    "# Create a frequency matrix\n",
    "# Each row corresponds to each sentence\n",
    "# Each colunm corresponds to one unique word in the corpus of unique words\n",
    "frequency_matrix = []\n",
    "\n",
    "for sentence in all_sentences_stop_removed:\n",
    "    word_count = Counter(sentence)\n",
    "    frequency_matrix.append([word_count.get(word, 0) * (math.log(number_of_documents / idf[word]) ) for word in unique_words])\n",
    "\n",
    "# Create a DataFrame\n",
    "df = pd.DataFrame(frequency_matrix, columns=list(unique_words))\n",
    "print(df)"
   ]
  },
  {
   "cell_type": "markdown",
   "id": "69f60b4a-7c80-4eab-93b4-b238ef71b2cd",
   "metadata": {},
   "source": [
    "We notice that the text embeddings are completely different in this case. However the calculation for the similarity still remains the same. We can use cosine similarity from the values present in this dataframe. "
   ]
  },
  {
   "cell_type": "code",
   "execution_count": 271,
   "id": "554ca5ab-3e06-47ba-bb40-8bd050146f0d",
   "metadata": {},
   "outputs": [
    {
     "name": "stdout",
     "output_type": "stream",
     "text": [
      "With great power comes great responsibility.\n",
      "Remember, with great power comes great responsibility.\n"
     ]
    },
    {
     "data": {
      "text/plain": [
       "0.8724395002378096"
      ]
     },
     "execution_count": 271,
     "metadata": {},
     "output_type": "execute_result"
    }
   ],
   "source": [
    "print(all_sentences[0])\n",
    "print(all_sentences[3])\n",
    "consine(df.loc[0], df.loc[3])"
   ]
  },
  {
   "cell_type": "markdown",
   "id": "297c1d95-2fc4-47a6-9b8e-4d31000fae3e",
   "metadata": {},
   "source": [
    "Initially using bag of words, we got 0.9354143466934852\n",
    "\n",
    "Now with TF-IDF we get 0.8724395002378096\n",
    "\n",
    "Let's write it into it's own function so that we can compare different methods in parallel."
   ]
  },
  {
   "cell_type": "code",
   "execution_count": 272,
   "id": "a8f03fe0-1fda-4cd8-a6af-03ff9d08d2cc",
   "metadata": {},
   "outputs": [],
   "source": [
    "def findSimilarityTfIdf(sentence1, sentence2):\n",
    "    # combining sentences to an array\n",
    "    sentences = [sentence1, sentence2]\n",
    "    stop_removed = []\n",
    "\n",
    "    # removing stop words and punctuation from the words\n",
    "    for sentence in sentences:\n",
    "        stop_removed.append(remove_stop_words(sentence).split())\n",
    "\n",
    "    # getting list of unique words\n",
    "    unique_words = set()\n",
    "    for sentence in stop_removed:\n",
    "        for word in sentence:\n",
    "            unique_words.add(word)\n",
    "\n",
    "    # Let's go through all sentences and words and create a counter of how many times a word has appeared across documents\n",
    "    idf = {}\n",
    "    # We pick the array of all sentences that have stop words removed [][]\n",
    "    for words_arr in stop_removed:\n",
    "        unique_words_in_sentence = set(words_arr)\n",
    "    \n",
    "        # for each of these unique words, increment the value in the idf dictionary\n",
    "        for word in unique_words_in_sentence:\n",
    "            if word in idf :\n",
    "                idf[word] =  idf[word] + 1\n",
    "            else:\n",
    "                idf[word] = 1\n",
    "\n",
    "    number_of_documents = len(stop_removed) \n",
    "\n",
    "    # Create a frequency matrix\n",
    "    # Each row corresponds to each sentence\n",
    "    # Each colunm corresponds to one unique word in the corpus of unique words\n",
    "    frequency_matrix = []\n",
    "    \n",
    "    for sentence in stop_removed:\n",
    "        sentence_word_counter = Counter(sentence)\n",
    "        frequency_matrix.append([sentence_word_counter.get(word, 0) * (math.log(number_of_documents / idf[word]) ) for word in unique_words])\n",
    "\n",
    "    # Create a DataFrame\n",
    "    df = pd.DataFrame(frequency_matrix, columns=list(unique_words))\n",
    "    print(f\"Similarity score: {consine(df.loc[0], df.loc[1])}\")\n",
    "    return df"
   ]
  },
  {
   "cell_type": "code",
   "execution_count": 281,
   "id": "16d3b116-640f-47d1-b081-b394a55a99f6",
   "metadata": {},
   "outputs": [],
   "source": [
    "def compareMethods(sentence1, sentence2, showDf):\n",
    "    print(f\"Sentence 1: {sentence1}\")\n",
    "    print()\n",
    "    print(f\"Sentence 2: {sentence2}\")\n",
    "    print()\n",
    "    print(\"Bag of words\")\n",
    "    bowDf = findSimilarityBagOfWords(sentence1, sentence2)\n",
    "    if(showDf):\n",
    "        print(bowDf)\n",
    "    print()\n",
    "    print(\"TF-IDF\")\n",
    "    tfIdfDf = findSimilarityTfIdf(sentence1, sentence2)\n",
    "    if(showDf):\n",
    "        print(tfIdfDf)"
   ]
  },
  {
   "cell_type": "code",
   "execution_count": 279,
   "id": "b6364279-bc20-4586-8ee8-a40720c16039",
   "metadata": {},
   "outputs": [
    {
     "name": "stdout",
     "output_type": "stream",
     "text": [
      "Sentence 1: Who let the dogs out!\n",
      "Sentence 2: Who let the cats out!\n",
      "\n",
      "Bag of words\n",
      "Similarity score: 0.6666666666666667\n",
      "   out  dogs  let  cats\n",
      "0    1     1    1     0\n",
      "1    1     0    1     1\n",
      "\n",
      "TF-IDF\n",
      "Similarity score: 0.0\n",
      "   out      dogs  let      cats\n",
      "0  0.0  0.693147  0.0  0.000000\n",
      "1  0.0  0.000000  0.0  0.693147\n"
     ]
    }
   ],
   "source": [
    "compareMethods(\"Who let the dogs out!\", \"Who let the cats out!\", True)"
   ]
  },
  {
   "cell_type": "markdown",
   "id": "e133c276-4b42-47ab-9fa3-9e61913f4d11",
   "metadata": {},
   "source": [
    "## Insights\n",
    "\n",
    "We took two sentences \n",
    "- Who let the dogs out!\n",
    "- Who let the cats out!\n",
    "\n",
    "And we have a look at the word embeddings that were created using the two methods: \n",
    "\n",
    "TF-IDF:\n",
    "```\n",
    "   out      dogs  let      cats\n",
    "0  0.0  0.693147  0.0  0.000000\n",
    "1  0.0  0.000000  0.0  0.693147\n",
    "```\n",
    "\n",
    "Bag of words:\n",
    "```\n",
    "   out  dogs  let  cats\n",
    "0    1     1    1     0\n",
    "1    1     0    1     1\n",
    "```\n",
    "\n",
    "We notice that while TF-IDF heavily penalizes the common words such as out and let in the corpus, those words are given the same priority as the rare words when we use the bag of words method. This way we can get to understand how TF IDF works better than Bag of words."
   ]
  },
  {
   "cell_type": "markdown",
   "id": "0eefe23d-a2f7-4e33-9ef3-0125694f6687",
   "metadata": {},
   "source": [
    "## Semantic understanding\n",
    "\n",
    "While the above two methods are able to statistically capture the similarities amongst the words, they fail at instances where we need to capture the semantic understanding of the sentences and then find similar ones. \n",
    "\n",
    "For example let's look at the following sentences where we praise two leaders of the world. \n",
    "\n",
    "Barack Obama: \"Barack Obama's eloquence and unwavering commitment to social justice and equality have inspired millions around the globe, making him a beacon of hope and progressive change.\"\n",
    "\n",
    "Angela Merkel: \"Angela Merkel's steadfast leadership and pragmatic approach to governance have earned her immense respect, as she navigated Germany through numerous crises with remarkable poise and integrity.\""
   ]
  },
  {
   "cell_type": "code",
   "execution_count": 282,
   "id": "ed212843-d4fc-4359-a9ca-45868dcacb4a",
   "metadata": {},
   "outputs": [
    {
     "name": "stdout",
     "output_type": "stream",
     "text": [
      "Sentence 1: Barack Obama's eloquence and unwavering commitment to social justice and equality have inspired millions around the globe, making him a beacon of hope and progressive change.\n",
      "\n",
      "Sentence 2: Angela Merkel's steadfast leadership and pragmatic approach to governance have earned her immense respect, as she navigated Germany through numerous crises with remarkable poise and integrity.\n",
      "\n",
      "Bag of words\n",
      "Similarity score: 0.0\n",
      "\n",
      "TF-IDF\n",
      "Similarity score: 0.0\n"
     ]
    }
   ],
   "source": [
    "sentence1 = \"Barack Obama's eloquence and unwavering commitment to social justice and equality have inspired millions around the globe, making him a beacon of hope and progressive change.\"\n",
    "sentence2 = \"Angela Merkel's steadfast leadership and pragmatic approach to governance have earned her immense respect, as she navigated Germany through numerous crises with remarkable poise and integrity.\"\n",
    "compareMethods(sentence1, sentence2, showDf=False)"
   ]
  },
  {
   "cell_type": "markdown",
   "id": "87b1acca-028a-4515-87a6-29592515e2ba",
   "metadata": {},
   "source": [
    "> This is crazy !! Both these sentences are about world leaders and in praise of them. This shows how Bag of words and Tf IDf are pretty rudimentary techniques objectively."
   ]
  },
  {
   "cell_type": "markdown",
   "id": "b601cc9c-808a-457f-b63f-65b734e3c6e3",
   "metadata": {},
   "source": [
    "## Other Traditional Methods for Sentence Similarity\n",
    "\n",
    "Before diving into neural network-based methods for calculating sentence similarity, it is beneficial to explore several traditional techniques. These methods are straightforward to implement and provide a solid foundation for understanding text similarity. Here are some notable traditional methods:\n",
    "\n",
    "### 1. Jaccard Similarity\n",
    "Jaccard similarity measures the similarity between two sets by comparing the size of their intersection to the size of their union. It is useful for comparing text based on the presence or absence of terms.\n",
    "\n",
    "**Example:**\n",
    "```python\n",
    "def jaccard_similarity(set1, set2):\n",
    "    intersection = set1.intersection(set2)\n",
    "    union = set1.union(set2)\n",
    "    return len(intersection) / len(union)\n",
    "```\n",
    "\n",
    "### 2. Levenshtein Distance (Edit Distance)\n",
    "Levenshtein distance calculates the minimum number of single-character edits (insertions, deletions, or substitutions) required to change one word into another. It measures the similarity between two strings.\n",
    "\n",
    "**Example:**\n",
    "```python\n",
    "import Levenshtein\n",
    "\n",
    "levenshtein_distance = Levenshtein.distance(sentence1, sentence2)\n",
    "```\n",
    "\n",
    "### 3. Overlap Coefficient\n",
    "The overlap coefficient measures the overlap between two sets relative to the smaller set. It is particularly useful when comparing sets of different sizes.\n",
    "\n",
    "**Example:**\n",
    "```python\n",
    "def overlap_coefficient(set1, set2):\n",
    "    intersection = set1.intersection(set2)\n",
    "    return len(intersection) / min(len(set1), len(set2))\n",
    "```\n",
    "\n",
    "### 4. Dice Coefficient\n",
    "The Dice coefficient measures the similarity between two sets based on the ratio of twice the size of the intersection to the sum of the sizes of the sets.\n",
    "\n",
    "**Example:**\n",
    "```python\n",
    "def dice_coefficient(set1, set2):\n",
    "    intersection = set1.intersection(set2)\n",
    "    return 2 * len(intersection) / (len(set1) + len(set2))\n",
    "```\n",
    "\n",
    "### Summary\n",
    "These traditional methods offer various ways to measure the similarity between sentences without requiring complex model training. Each method has its strengths and weaknesses, depending on the specific use case and the nature of the text data. Exploring these techniques provides a solid foundation before moving on to more advanced, neural network-based methods for calculating sentence similarity."
   ]
  },
  {
   "cell_type": "markdown",
   "id": "2a695eb3-d443-4f60-8de7-fbced8b17f34",
   "metadata": {},
   "source": [
    "## Applying a third technique for assignment completion"
   ]
  },
  {
   "cell_type": "code",
   "execution_count": 9,
   "id": "eefaa5b8-23a4-4a81-be32-39e93c70d14e",
   "metadata": {},
   "outputs": [],
   "source": [
    "def jaccard_similarity(set1, set2):\n",
    "    intersection = set1.intersection(set2)\n",
    "    union = set1.union(set2)\n",
    "    return len(intersection) / len(union)"
   ]
  },
  {
   "cell_type": "code",
   "execution_count": 10,
   "id": "03c9bb2c-52ad-4e3a-835c-3a413440792c",
   "metadata": {
    "editable": true,
    "slideshow": {
     "slide_type": ""
    },
    "tags": []
   },
   "outputs": [],
   "source": [
    "def overlap_coefficient(set1, set2):\n",
    "    intersection = set1.intersection(set2)\n",
    "    return len(intersection) / min(len(set1), len(set2))"
   ]
  },
  {
   "cell_type": "code",
   "execution_count": 11,
   "id": "1824a0d7-b70f-4fa5-ad2d-014aca64a57d",
   "metadata": {},
   "outputs": [],
   "source": [
    "def dice_coefficient(set1, set2):\n",
    "    intersection = set1.intersection(set2)\n",
    "    return 2 * len(intersection) / (len(set1) + len(set2))"
   ]
  },
  {
   "cell_type": "code",
   "execution_count": 12,
   "id": "f03b1d33-a599-4ce4-aca3-42d674fd5a6f",
   "metadata": {},
   "outputs": [],
   "source": [
    "# Comparing all traditional methods\n",
    "def compare_other_traditional_methods(sentence1, sentence2):\n",
    "    setSentence1 = set(sentence1.split())\n",
    "    setSentence2 = set(sentence2.split())\n",
    "\n",
    "    print(f\"Jaccard similarity for sentence 1 and sentence 2 : {jaccard_similarity(setSentence1, setSentence2)}\")\n",
    "    print()\n",
    "    print(f\"Overlap Coefficient for sentence 1 and sentence 2 : {overlap_coefficient(setSentence1, setSentence2)}\")\n",
    "    print()\n",
    "    print(f\"Dice Coefficient for sentence 1 and sentence 2 : {dice_coefficient(setSentence1, setSentence2)}\")"
   ]
  },
  {
   "cell_type": "code",
   "execution_count": 13,
   "id": "54fd4299-2e40-46df-abd7-957a0b574a3f",
   "metadata": {},
   "outputs": [],
   "source": [
    "# Example 1:\n",
    "sentence1 = \"the cat is on the mat\"\n",
    "sentence2 = \"the mat is under the cat\"\n",
    "# Example 2\n",
    "sentence3 = \"The quick brown fox jumped over the lazy dog\"\n",
    "sentence4 = \"The fast brown fox jumped over the sleepy dog\""
   ]
  },
  {
   "cell_type": "code",
   "execution_count": 14,
   "id": "16514750-8b58-4bc7-be58-472017a28e32",
   "metadata": {},
   "outputs": [
    {
     "name": "stdout",
     "output_type": "stream",
     "text": [
      "Jaccard similarity for sentence 1 and sentence 2 : 0.6666666666666666\n",
      "\n",
      "Overlap Coefficient for sentence 1 and sentence 2 : 0.8\n",
      "\n",
      "Dice Coefficient for sentence 1 and sentence 2 : 0.8\n"
     ]
    }
   ],
   "source": [
    "compare_other_traditional_methods(sentence1, sentence2)"
   ]
  },
  {
   "cell_type": "markdown",
   "id": "40abc245-fbc7-48a0-ae24-cb463ff0b569",
   "metadata": {},
   "source": [
    "# Further reading\n",
    "\n",
    "We got a good gist of how similarity search works and how it can be implemented using traditional techniques. Next we will refer to the following resources and implement advanced techniques that help us to capture the theme, context and semantic meaning of the sentences while embedding them. These form the basis of applications like search engines, language translation and chatbots.\n",
    "\n",
    "## Reference Links:\n",
    "- [Word embeddings: Helping computers understand language semantics](https://medium.com/@igniobydigitate/word-embeddings-helping-computers-understand-language-semantics-dd3456b1f700)\n",
    "- [word_vectors_game_of_thrones-LIVE- GitHub Notebook](https://github.com/llSourcell/word_vectors_game_of_thrones-LIVE/blob/master/Thrones2Vec.ipynb)"
   ]
  }
 ],
 "metadata": {
  "kernelspec": {
   "display_name": "Python 3 (ipykernel)",
   "language": "python",
   "name": "python3"
  },
  "language_info": {
   "codemirror_mode": {
    "name": "ipython",
    "version": 3
   },
   "file_extension": ".py",
   "mimetype": "text/x-python",
   "name": "python",
   "nbconvert_exporter": "python",
   "pygments_lexer": "ipython3",
   "version": "3.11.7"
  }
 },
 "nbformat": 4,
 "nbformat_minor": 5
}

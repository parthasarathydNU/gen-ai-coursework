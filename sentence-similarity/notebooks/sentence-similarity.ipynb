{
 "cells": [
  {
   "cell_type": "markdown",
   "id": "479429b1-3c25-4cc5-bfdc-598e03f846fe",
   "metadata": {},
   "source": [
    "# Task:\n",
    "\n",
    "Derive similarity score between two sentences applying three different techniques. \n",
    "- Reference Article: [A beginner’s guide to measuring sentence similarity](https://medium.com/@igniobydigitate/a-beginners-guide-to-measuring-sentence-similarity-f3c78b9da0bc)"
   ]
  },
  {
   "cell_type": "markdown",
   "id": "59bb0231-ccf2-41a4-b897-cff2223b9180",
   "metadata": {},
   "source": [
    "## Sentence Embedding\n",
    "\n",
    "Sentence embedding represents a sentence as a vector of numbers. This numerical representation of a sentence is called sentence embedding. In a word embedding corresponds to a particular feature or aspect of the word. A sentence embedding is based on a similar concept where the dimensions collectively capture different aspects of the words used in the sentence, the grammatical structure of the sentence, and maybe some more underlying information.\n",
    "\n",
    "There are various ways in which a sentence embedding can be created. Once we have each sentence represented as a vector of numbers, then the problem of finding sentence similarity translates to the problem of finding similarity between these numeric vectors.\n",
    "\n",
    "In this notebook I will discuss a couple of statistical techniques to create numeric representations of sentences and briefly explore an idea of how one can utilize word embeddings for the same task. I will also discuss how similarity between sentence embeddings can be computed."
   ]
  },
  {
   "cell_type": "markdown",
   "id": "757c4245-ab9c-4381-a71c-829edc119884",
   "metadata": {},
   "source": [
    "### Sample sentences\n",
    "\n",
    "We take sentences form two unrelated movies to work with. This is done with the goal to demonstrate how sentences turn out to be either similar or dissimilar across these movies. I expect sentences from spiderman to show higher similarity with other senteces from the same movie and a lower similarity score from the sentences from the movie Godfather."
   ]
  },
  {
   "cell_type": "code",
   "execution_count": 47,
   "id": "1b272645-5ead-4af5-a12e-0463f88279ad",
   "metadata": {},
   "outputs": [],
   "source": [
    "import numpy as np\n",
    "import pandas as pd"
   ]
  },
  {
   "cell_type": "code",
   "execution_count": 70,
   "id": "85ec961c-ccc6-4320-9c0b-d49845d31955",
   "metadata": {},
   "outputs": [],
   "source": [
    "# Sample sentences from Spider-Man\n",
    "spiderman_sentences = [\n",
    "    \"With great power comes great responsibility.\",\n",
    "    \"I missed the part where that's my problem.\",\n",
    "    \"You're not Superman, you know.\",\n",
    "    \"Remember, with great power comes great responsibility.\",\n",
    "    \"I'm just Peter Parker. I'm Spider-Man no more.\",\n",
    "    \"Whatever life holds in store for me, I will never forget these words.\",\n",
    "    \"The truth is, I am Spider-Man.\",\n",
    "    \"This is my gift, my curse. Who am I? I'm Spider-Man.\",\n",
    "    \"Sometimes, to do what's right, we have to be steady and give up the things we want the most.\",\n",
    "    \"I want to tell you the truth... here it is: I'm Spider-Man.\"\n",
    "]\n",
    "\n",
    "# Sample sentences from The Godfather\n",
    "godfather_sentences = [\n",
    "    \"I'm gonna make him an offer he can't refuse.\",\n",
    "    \"Revenge is a dish best served cold.\",\n",
    "    \"A man who doesn't spend time with his family can never be a real man.\",\n",
    "    \"Leave the gun. Take the cannoli.\",\n",
    "    \"The lawyer with the briefcase can steal more money than the man with the gun.\",\n",
    "    \"It's not personal, Sonny. It's strictly business.\",\n",
    "    \"Women and children can be careless, but not men.\",\n",
    "    \"Power wears out those who do not have it.\",\n",
    "    \"Friendship is everything. Friendship is more than talent. It is more than the government. It is almost the equal of family.\",\n",
    "    \"Great men are not born great, they grow great.\"\n",
    "]\n",
    "\n",
    "all_sentences = spiderman_sentences + godfather_sentences"
   ]
  },
  {
   "cell_type": "markdown",
   "id": "35e72365-8f84-45d6-a1ce-23be3f47a47a",
   "metadata": {},
   "source": [
    "### Bag of words\n",
    "\n",
    "The basic idea is to find out which words are present in a sentence and assess the importance of a word based on how many times it occurs in a sentence."
   ]
  },
  {
   "cell_type": "markdown",
   "id": "1eeec257-9c01-4195-9b18-cc0a7a339128",
   "metadata": {},
   "source": [
    "#### Creating a dictionary and removing stop words\n",
    "\n",
    "Words such as is, are, a, an, the etc do not add much value in terms of providing context to a sentence. These are called stop words. So before we go ahead and count the frequency of words, we want to remove these stop words from the sentences."
   ]
  },
  {
   "cell_type": "code",
   "execution_count": 1,
   "id": "5f110552-8b1b-4857-9ca9-9bf44a2ffbc5",
   "metadata": {},
   "outputs": [],
   "source": [
    "# Define a list of stop words\n",
    "stop_words = {\n",
    "    'i', 'me', 'my', 'myself', 'we', 'our', 'ours', 'ourselves', 'you', 'your', 'yours', 'yourself', 'yourselves',\n",
    "    'he', 'him', 'his', 'himself', 'she', 'her', 'hers', 'herself', 'it', 'its', 'itself', 'they', 'them', 'their',\n",
    "    'theirs', 'themselves', 'what', 'which', 'who', 'whom', 'this', 'that', 'these', 'those', 'am', 'is', 'are', 'was',\n",
    "    'were', 'be', 'been', 'being', 'have', 'has', 'had', 'having', 'do', 'does', 'did', 'doing', 'a', 'an', 'the',\n",
    "    'and', 'but', 'if', 'or', 'because', 'as', 'until', 'while', 'of', 'at', 'by', 'for', 'with', 'about', 'against',\n",
    "    'between', 'into', 'through', 'during', 'before', 'after', 'above', 'below', 'to', 'from', 'up', 'down', 'in', 'out',\n",
    "    'on', 'off', 'over', 'under', 'again', 'further', 'then', 'once', 'here', 'there', 'when', 'where', 'why', 'how',\n",
    "    'all', 'any', 'both', 'each', 'few', 'more', 'most', 'other', 'some', 'such', 'no', 'nor', 'not', 'only', 'own',\n",
    "    'same', 'so', 'than', 'too', 'very', 's', 't', 'can', 'will', 'just', 'don', 'should', 'now'\n",
    "}"
   ]
  },
  {
   "cell_type": "markdown",
   "id": "ad141e9f-da0c-48ed-af90-a0ffc34d0c0f",
   "metadata": {},
   "source": [
    "#### Removing punctuations\n",
    "Before we go ahead and remove stop words, we first want to remove punctuations from the words so that they also get flagged as stop words. And even if not we don't want to consider men and men. as different words. So we remove punctuations.\n",
    "\n",
    "Explanation of code below:\n",
    "\n",
    "- str.maketrans('', '', string.punctuation) creates a translation table that maps each character in string.punctuation to None.\n",
    "- str.maketrans is a static method that returns a translation table usable for str.translate.\n",
    "- The first two arguments are empty strings ('') because we are not replacing any characters, only removing.\n",
    "- The third argument is string.punctuation, which contains all punctuation characters.\n",
    "- word.translate(...) uses the translation table to remove all punctuation characters from the word."
   ]
  },
  {
   "cell_type": "code",
   "execution_count": 43,
   "id": "eb3206f6-23ee-401c-abff-e4a7673920ea",
   "metadata": {},
   "outputs": [],
   "source": [
    "import string\n",
    "def remove_punctuation(word):\n",
    "    return word.translate(str.maketrans('', '', string.punctuation))"
   ]
  },
  {
   "cell_type": "code",
   "execution_count": 44,
   "id": "0c386e66-a1fe-44fa-98df-ce2bbd1b8fa8",
   "metadata": {},
   "outputs": [
    {
     "name": "stdout",
     "output_type": "stream",
     "text": [
      "Original sentence: This is an example sentence showing the removal of stop words.\n",
      "Filtered sentence: example sentence showing removal stop words\n"
     ]
    }
   ],
   "source": [
    "# Sample sentence\n",
    "sentence = \"This is an example sentence showing the removal of stop words.\"\n",
    "\n",
    "def remove_stop_words(sentence):\n",
    "    \n",
    "    # Tokenize the sentence\n",
    "    words = sentence.lower().split()\n",
    "    \n",
    "    # Remove stop words\n",
    "    filtered_words = [remove_punctuation(word) for word in words if word not in stop_words]\n",
    "    \n",
    "    # Join the words back into a sentence\n",
    "    filtered_sentence = ' '.join(filtered_words)\n",
    "\n",
    "    return filtered_sentence\n",
    "\n",
    "print(\"Original sentence:\", sentence)\n",
    "print(\"Filtered sentence:\", remove_stop_words(sentence))"
   ]
  },
  {
   "cell_type": "code",
   "execution_count": 45,
   "id": "eefa7986-2909-4f5c-a8f7-9cc069139005",
   "metadata": {},
   "outputs": [
    {
     "name": "stdout",
     "output_type": "stream",
     "text": [
      "spiderman_original:\n",
      "With great power comes great responsibility.\n",
      "I missed the part where that's my problem.\n",
      "You're not Superman, you know.\n",
      "\n",
      "spiderman_stop_removed:\n",
      "['great', 'power', 'comes', 'great', 'responsibility']\n",
      "['missed', 'part', 'thats', 'problem']\n",
      "['youre', 'superman', 'know']\n"
     ]
    }
   ],
   "source": [
    "# Removing stopwords from all sentences in our database\n",
    "\n",
    "spiderman_stop_removed = []\n",
    "godfather_stop_removed = []\n",
    "\n",
    "for sentence in spiderman_sentences:\n",
    "    spiderman_stop_removed.append(remove_stop_words(sentence).split())\n",
    "\n",
    "for sentence in godfather_sentences:\n",
    "    godfather_stop_removed.append(remove_stop_words(sentence).split())\n",
    "\n",
    "print(\"spiderman_original:\")\n",
    "print(spiderman_sentences[0])\n",
    "print(spiderman_sentences[1])\n",
    "print(spiderman_sentences[2])\n",
    "print()\n",
    "print(\"spiderman_stop_removed:\")\n",
    "print(spiderman_stop_removed[0])\n",
    "print(spiderman_stop_removed[1])\n",
    "print(spiderman_stop_removed[2])\n"
   ]
  },
  {
   "cell_type": "markdown",
   "id": "1aa72ace-4b7f-46fd-8c6a-fc7f0d30c4e4",
   "metadata": {},
   "source": [
    "#### Creating a dictionary of words in all sentences\n",
    "\n",
    "Now that we have removed the stop words, let's create a dictionary of all non stop words and create a dataset where for each sentence we have a row of frequency of each word"
   ]
  },
  {
   "cell_type": "code",
   "execution_count": 53,
   "id": "a54e91ca-6805-4562-b7f8-d61de830a280",
   "metadata": {},
   "outputs": [
    {
     "name": "stdout",
     "output_type": "stream",
     "text": [
      "Total unique words : 82\n"
     ]
    }
   ],
   "source": [
    "# Creating a set of all unique words\n",
    "\n",
    "# Let's combine all arrays into one\n",
    "all_sentences_stop_removed = spiderman_stop_removed+ godfather_stop_removed\n",
    "\n",
    "# get unique words from all sentences and put it into a set\n",
    "unique_words = set()\n",
    "for sentence in all_sentences_stop_removed:\n",
    "    for word in sentence:\n",
    "        unique_words.add(word)\n",
    "\n",
    "print(f\"Total unique words : {len(unique_words)}\")"
   ]
  },
  {
   "cell_type": "markdown",
   "id": "19b521c8-8a46-4e8b-bc14-474d6261a71a",
   "metadata": {},
   "source": [
    "#### Creating the dataframe that shows the word count of each sentence"
   ]
  },
  {
   "cell_type": "code",
   "execution_count": 49,
   "id": "7387cf1f-0d41-484f-9110-e2c4c9aa0957",
   "metadata": {},
   "outputs": [],
   "source": [
    "from collections import Counter"
   ]
  },
  {
   "cell_type": "code",
   "execution_count": 55,
   "id": "06c0d444-e06c-45d5-9edd-9b66f94ac1fa",
   "metadata": {},
   "outputs": [
    {
     "name": "stdout",
     "output_type": "stream",
     "text": [
      "    remember  equal  know  superman  man  lawyer  money  real  cannoli  im  \\\n",
      "0          0      0     0         0    0       0      0     0        0   0   \n",
      "1          0      0     0         0    0       0      0     0        0   0   \n",
      "2          0      0     1         1    0       0      0     0        0   0   \n",
      "3          1      0     0         0    0       0      0     0        0   0   \n",
      "4          0      0     0         0    0       0      0     0        0   2   \n",
      "5          0      0     0         0    0       0      0     0        0   0   \n",
      "6          0      0     0         0    0       0      0     0        0   0   \n",
      "7          0      0     0         0    0       0      0     0        0   1   \n",
      "8          0      0     0         0    0       0      0     0        0   0   \n",
      "9          0      0     0         0    0       0      0     0        0   1   \n",
      "10         0      0     0         0    0       0      0     0        0   1   \n",
      "11         0      0     0         0    0       0      0     0        0   0   \n",
      "12         0      0     0         0    2       0      0     1        0   0   \n",
      "13         0      0     0         0    0       0      0     0        1   0   \n",
      "14         0      0     0         0    1       1      1     0        0   0   \n",
      "15         0      0     0         0    0       0      0     0        0   0   \n",
      "16         0      0     0         0    0       0      0     0        0   0   \n",
      "17         0      0     0         0    0       0      0     0        0   0   \n",
      "18         0      1     0         0    0       0      0     0        0   0   \n",
      "19         0      0     0         0    0       0      0     0        0   0   \n",
      "\n",
      "    ...  whats  make  spend  strictly  peter  wears  gonna  right  women  dish  \n",
      "0   ...      0     0      0         0      0      0      0      0      0     0  \n",
      "1   ...      0     0      0         0      0      0      0      0      0     0  \n",
      "2   ...      0     0      0         0      0      0      0      0      0     0  \n",
      "3   ...      0     0      0         0      0      0      0      0      0     0  \n",
      "4   ...      0     0      0         0      1      0      0      0      0     0  \n",
      "5   ...      0     0      0         0      0      0      0      0      0     0  \n",
      "6   ...      0     0      0         0      0      0      0      0      0     0  \n",
      "7   ...      0     0      0         0      0      0      0      0      0     0  \n",
      "8   ...      1     0      0         0      0      0      0      1      0     0  \n",
      "9   ...      0     0      0         0      0      0      0      0      0     0  \n",
      "10  ...      0     1      0         0      0      0      1      0      0     0  \n",
      "11  ...      0     0      0         0      0      0      0      0      0     1  \n",
      "12  ...      0     0      1         0      0      0      0      0      0     0  \n",
      "13  ...      0     0      0         0      0      0      0      0      0     0  \n",
      "14  ...      0     0      0         0      0      0      0      0      0     0  \n",
      "15  ...      0     0      0         1      0      0      0      0      0     0  \n",
      "16  ...      0     0      0         0      0      0      0      0      1     0  \n",
      "17  ...      0     0      0         0      0      1      0      0      0     0  \n",
      "18  ...      0     0      0         0      0      0      0      0      0     0  \n",
      "19  ...      0     0      0         0      0      0      0      0      0     0  \n",
      "\n",
      "[20 rows x 82 columns]\n"
     ]
    }
   ],
   "source": [
    "# Create a frequency matrix\n",
    "frequency_matrix = []\n",
    "\n",
    "for sentence in all_sentences_stop_removed:\n",
    "    word_count = Counter(sentence)\n",
    "    frequency_matrix.append([word_count.get(word, 0) for word in unique_words])\n",
    "\n",
    "# Create a DataFrame\n",
    "df = pd.DataFrame(frequency_matrix, columns=list(unique_words))\n",
    "print(df)"
   ]
  },
  {
   "attachments": {
    "616c994e-24cf-44d8-bbbc-fcdad8b8ad9b.png": {
     "image/png": "[encoded data removed]"
    },
    "7e67bc4b-b7cc-478b-aa51-271349dce69a.png": {
     "image/png": "[encoded data removed]"
    }
   },
   "cell_type": "markdown",
   "id": "98c41b13-ea8e-4304-95fd-028c73a26560",
   "metadata": {},
   "source": [
    "#### Using cosine similarity to calculate how similar the sentences are\n",
    "\n",
    "Consider that two n-dimensional arrays are plotted as two vectors in an n-dimensional space. Cosine similarity measures the angle between these two vectors and returns a value between -1 and 1. Mathematically, given two vectors A and B, cosine similarity is calculated as follows:\n",
    "\n",
    "![CosineSimilarityFormula.png](attachment:7e67bc4b-b7cc-478b-aa51-271349dce69a.png)\n",
    "\n",
    "where,\n",
    "\n",
    "\n",
    "- A.B = Dot product between two vectors. It is calculated by adding the product of corresponding vector values.\n",
    "\n",
    "\n",
    "- |A|, |B| = Magnitude of a vector. It is the square root of the sum of squares of all the vector values.\n",
    "\n",
    "![CosineSimilarityVectorRepresentation.png](attachment:616c994e-24cf-44d8-bbbc-fcdad8b8ad9b.png)"
   ]
  },
  {
   "cell_type": "markdown",
   "id": "6536aafd-8047-4dbb-8ea9-78d94b341649",
   "metadata": {},
   "source": [
    "#### The cosine similarity function"
   ]
  },
  {
   "cell_type": "code",
   "execution_count": 56,
   "id": "1593b1ce-69ba-4606-9246-823abf2942f2",
   "metadata": {},
   "outputs": [],
   "source": [
    "def consine(vec1, vec2):\n",
    "    # Compute the dot product\n",
    "    dot_product = np.dot(vec1, vec2)\n",
    "    \n",
    "    # Compute the Euclidean norm (magnitude) of each vector\n",
    "    norm_vec1 = np.linalg.norm(vec1)\n",
    "    norm_vec2 = np.linalg.norm(vec2)\n",
    "    \n",
    "    # Compute the cosine similarity\n",
    "    if norm_vec1 == 0 or norm_vec2 == 0:\n",
    "        return 0.0\n",
    "    else:\n",
    "        return dot_product / (norm_vec1 * norm_vec2)"
   ]
  },
  {
   "cell_type": "code",
   "execution_count": 76,
   "id": "06bfec8f-8449-4888-9a65-53deb2e848da",
   "metadata": {},
   "outputs": [
    {
     "name": "stdout",
     "output_type": "stream",
     "text": [
      "['With great power comes great responsibility.', \"I missed the part where that's my problem.\", \"You're not Superman, you know.\", 'Remember, with great power comes great responsibility.', \"I'm just Peter Parker. I'm Spider-Man no more.\", 'Whatever life holds in store for me, I will never forget these words.', 'The truth is, I am Spider-Man.', \"This is my gift, my curse. Who am I? I'm Spider-Man.\", \"Sometimes, to do what's right, we have to be steady and give up the things we want the most.\", \"I want to tell you the truth... here it is: I'm Spider-Man.\", \"I'm gonna make him an offer he can't refuse.\", 'Revenge is a dish best served cold.', \"A man who doesn't spend time with his family can never be a real man.\", 'Leave the gun. Take the cannoli.', 'The lawyer with the briefcase can steal more money than the man with the gun.', \"It's not personal, Sonny. It's strictly business.\", 'Women and children can be careless, but not men.', 'Power wears out those who do not have it.', 'Friendship is everything. Friendship is more than talent. It is more than the government. It is almost the equal of family.', 'Great men are not born great, they grow great.']\n",
      "20\n"
     ]
    }
   ],
   "source": [
    "# Testing this between two sentences within the spiderman movie\n",
    "print(all_sentences)\n",
    "print(len(all_sentences))"
   ]
  },
  {
   "cell_type": "code",
   "execution_count": 72,
   "id": "6154c758-2a95-4ac6-a249-621fe0c8604f",
   "metadata": {},
   "outputs": [
    {
     "data": {
      "text/plain": [
       "'With great power comes great responsibility.'"
      ]
     },
     "execution_count": 72,
     "metadata": {},
     "output_type": "execute_result"
    }
   ],
   "source": [
    "# Let's try the first and the 4th statement\n",
    "all_sentences[0]"
   ]
  },
  {
   "cell_type": "code",
   "execution_count": 71,
   "id": "f3262f92-806b-474c-ba90-50d9c027c3a7",
   "metadata": {},
   "outputs": [
    {
     "data": {
      "text/plain": [
       "'Remember, with great power comes great responsibility.'"
      ]
     },
     "execution_count": 71,
     "metadata": {},
     "output_type": "execute_result"
    }
   ],
   "source": [
    "all_sentences[3]"
   ]
  },
  {
   "cell_type": "code",
   "execution_count": 80,
   "id": "26fd9347-801f-4d16-9362-d2222f87c1ab",
   "metadata": {},
   "outputs": [
    {
     "data": {
      "text/plain": [
       "0.9354143466934852"
      ]
     },
     "execution_count": 80,
     "metadata": {},
     "output_type": "execute_result"
    }
   ],
   "source": [
    "consine(df.loc[0], df.loc[3])"
   ]
  },
  {
   "cell_type": "code",
   "execution_count": 79,
   "id": "fff241a9-0ff7-47c4-8112-93abc8e86d24",
   "metadata": {},
   "outputs": [
    {
     "data": {
      "text/plain": [
       "'Friendship is everything. Friendship is more than talent. It is more than the government. It is almost the equal of family.'"
      ]
     },
     "execution_count": 79,
     "metadata": {},
     "output_type": "execute_result"
    }
   ],
   "source": [
    "# Let's pick a sentence that does not have power or responsibility in it\n",
    "all_sentences[18]"
   ]
  },
  {
   "cell_type": "code",
   "execution_count": 82,
   "id": "393f848c-df8c-41fa-a70b-a95408d6bff4",
   "metadata": {},
   "outputs": [
    {
     "data": {
      "text/plain": [
       "0.0"
      ]
     },
     "execution_count": 82,
     "metadata": {},
     "output_type": "execute_result"
    }
   ],
   "source": [
    "consine(df.loc[0], df.loc[18])"
   ]
  },
  {
   "cell_type": "markdown",
   "id": "67270059-ef4c-4f47-a477-228c4bbb3ad0",
   "metadata": {},
   "source": [
    "This is not similar at at all!\n",
    "\n",
    "Let's write a function that given two sentences does this process end to end"
   ]
  },
  {
   "cell_type": "code",
   "execution_count": 83,
   "id": "028bd49f-31f0-470e-8b64-eaeedd4206a0",
   "metadata": {},
   "outputs": [],
   "source": [
    "def findSimilarityCosine(sentence1, sentence2):\n",
    "    # combining sentences to an array\n",
    "    sentences = [sentence1, sentence2]\n",
    "    stop_removed = []\n",
    "\n",
    "    # removing stop words and punctuation from the words\n",
    "    for sentence in sentences:\n",
    "        stop_removed.append(remove_stop_words(sentence).split())\n",
    "\n",
    "    # getting list of unique words\n",
    "    unique_words = set()\n",
    "    for sentence in stop_removed:\n",
    "        for word in sentence:\n",
    "            unique_words.add(word)\n",
    "\n",
    "    # Create a frequency matrix\n",
    "    frequency_matrix = []\n",
    "    \n",
    "    for sentence in stop_removed:\n",
    "        word_count = Counter(sentence)\n",
    "        frequency_matrix.append([word_count.get(word, 0) for word in unique_words])\n",
    "    \n",
    "    # Create a DataFrame\n",
    "    df = pd.DataFrame(frequency_matrix, columns=list(unique_words))\n",
    "\n",
    "    return consine(df.loc[0], df.loc[1])"
   ]
  },
  {
   "cell_type": "code",
   "execution_count": 84,
   "id": "c6025dcc-9685-44b2-a124-e60a4c94b139",
   "metadata": {},
   "outputs": [
    {
     "data": {
      "text/plain": [
       "0.6666666666666667"
      ]
     },
     "execution_count": 84,
     "metadata": {},
     "output_type": "execute_result"
    }
   ],
   "source": [
    "findSimilarityCosine(\"Who let the dogs out!\", \"Who let the cats out!\")"
   ]
  },
  {
   "cell_type": "code",
   "execution_count": 86,
   "id": "ed66a5d1-d062-4589-9d1c-de5a6b0c7899",
   "metadata": {},
   "outputs": [
    {
     "data": {
      "text/plain": [
       "0.0"
      ]
     },
     "execution_count": 86,
     "metadata": {},
     "output_type": "execute_result"
    }
   ],
   "source": [
    "findSimilarityCosine(\"Mamma mia , here we go again \", \"My my! how can I resist you ?\")"
   ]
  },
  {
   "cell_type": "code",
   "execution_count": 88,
   "id": "557c752b-14e3-4f31-9357-2aa30bc832c0",
   "metadata": {},
   "outputs": [
    {
     "name": "stdout",
     "output_type": "stream",
     "text": [
      "In the bustling city of Metropolis, the skyline is dominated by towering skyscrapers that reach for the heavens. The streets below are a hive of activity, with people from all walks of life hurrying to and fro. The air is filled with the sounds of honking cars, distant sirens, and the constant chatter of passersby. Amidst the urban chaos, pockets of tranquility can be found in the form of small parks and green spaces, offering a brief respite from the hustle and bustle. At night, the city transforms into a sea of lights, with neon signs and street lamps illuminating the dark, creating a vibrant and lively atmosphere that never seems to sleep.\n",
      "\n",
      "In the tranquil town of Riverview, life moves at a leisurely pace. The town is known for its picturesque scenery, with rolling hills and a serene river that winds its way through the heart of the community. The streets are lined with charming houses, each with well-tended gardens bursting with colorful flowers. The sound of birds singing fills the air, and the occasional laughter of children playing can be heard in the distance. Riverview's town square is a hub of local activity, where residents gather for farmers' markets, craft fairs, and community events. As the sun sets, the town is bathed in a golden glow, and the sky is painted with hues of pink and orange, bringing a peaceful end to another day in this idyllic setting.\n"
     ]
    }
   ],
   "source": [
    "paragraph1 = \"In the bustling city of Metropolis, the skyline is dominated by towering skyscrapers that reach for the heavens. The streets below are a hive of activity, with people from all walks of life hurrying to and fro. The air is filled with the sounds of honking cars, distant sirens, and the constant chatter of passersby. Amidst the urban chaos, pockets of tranquility can be found in the form of small parks and green spaces, offering a brief respite from the hustle and bustle. At night, the city transforms into a sea of lights, with neon signs and street lamps illuminating the dark, creating a vibrant and lively atmosphere that never seems to sleep.\"\n",
    "paragraph2 = \"In the tranquil town of Riverview, life moves at a leisurely pace. The town is known for its picturesque scenery, with rolling hills and a serene river that winds its way through the heart of the community. The streets are lined with charming houses, each with well-tended gardens bursting with colorful flowers. The sound of birds singing fills the air, and the occasional laughter of children playing can be heard in the distance. Riverview's town square is a hub of local activity, where residents gather for farmers' markets, craft fairs, and community events. As the sun sets, the town is bathed in a golden glow, and the sky is painted with hues of pink and orange, bringing a peaceful end to another day in this idyllic setting.\"\n",
    "\n",
    "print(paragraph1)\n",
    "print()\n",
    "print(paragraph2)"
   ]
  },
  {
   "cell_type": "code",
   "execution_count": 89,
   "id": "32588b65-702b-437d-8cbc-d416c95556ed",
   "metadata": {},
   "outputs": [
    {
     "data": {
      "text/plain": [
       "0.05466133744605251"
      ]
     },
     "execution_count": 89,
     "metadata": {},
     "output_type": "execute_result"
    }
   ],
   "source": [
    "findSimilarityCosine(paragraph1, paragraph2)"
   ]
  }
 ],
 "metadata": {
  "kernelspec": {
   "display_name": "Python 3 (ipykernel)",
   "language": "python",
   "name": "python3"
  },
  "language_info": {
   "codemirror_mode": {
    "name": "ipython",
    "version": 3
   },
   "file_extension": ".py",
   "mimetype": "text/x-python",
   "name": "python",
   "nbconvert_exporter": "python",
   "pygments_lexer": "ipython3",
   "version": "3.11.7"
  }
 },
 "nbformat": 4,
 "nbformat_minor": 5
}

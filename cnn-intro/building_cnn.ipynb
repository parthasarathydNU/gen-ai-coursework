{
  "nbformat": 4,
  "nbformat_minor": 0,
  "metadata": {
    "colab": {
      "provenance": [],
      "authorship_tag": "ABX9TyNiKkhpWDBftBCuR3dcBDCd",
      "include_colab_link": true
    },
    "kernelspec": {
      "name": "python3",
      "display_name": "Python 3"
    },
    "language_info": {
      "name": "python"
    }
  },
  "cells": [
    {
      "cell_type": "markdown",
      "metadata": {
        "id": "view-in-github",
        "colab_type": "text"
      },
      "source": [
        "<a href=\"https://colab.research.google.com/github/parthasarathydNU/gen-ai-coursework/blob/main/cnn-intro/building_cnn.ipynb\" target=\"_parent\"><img src=\"https://colab.research.google.com/assets/colab-badge.svg\" alt=\"Open In Colab\"/></a>"
      ]
    },
    {
      "cell_type": "markdown",
      "source": [
        "# Convolutional Neural Networks\n",
        "\n",
        "Classify CIFAR 10 images with a CNN model and study the effect on the performance by varying the following modeling aspects:\n",
        "1. Batch Normalization\n",
        "2. Dropout\n",
        "3. Number of convolution and pooling layers\n",
        "4. Activation functions\n",
        "\n",
        "## Reference Notebook:\n",
        "\n",
        "TensorFlow's tutorial on building CNNs : https://www.tensorflow.org/tutorials/images/cnn"
      ],
      "metadata": {
        "id": "-R03P89TOhMp"
      }
    },
    {
      "cell_type": "code",
      "execution_count": null,
      "metadata": {
        "id": "vJD-kgyjOcig"
      },
      "outputs": [],
      "source": []
    }
  ]
}
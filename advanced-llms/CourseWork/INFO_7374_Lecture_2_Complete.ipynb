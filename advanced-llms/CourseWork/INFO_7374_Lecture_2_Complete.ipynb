{
  "nbformat": 4,
  "nbformat_minor": 0,
  "metadata": {
    "colab": {
      "provenance": [],
      "toc_visible": true,
      "include_colab_link": true
    },
    "kernelspec": {
      "name": "python3",
      "display_name": "Python 3"
    },
    "language_info": {
      "name": "python"
    }
  },
  "cells": [
    {
      "cell_type": "markdown",
      "metadata": {
        "id": "view-in-github",
        "colab_type": "text"
      },
      "source": [
        "<a href=\"https://colab.research.google.com/github/parthasarathydNU/gen-ai-coursework/blob/main/advanced-llms/CourseWork/INFO_7374_Lecture_2_Complete.ipynb\" target=\"_parent\"><img src=\"https://colab.research.google.com/assets/colab-badge.svg\" alt=\"Open In Colab\"/></a>"
      ]
    },
    {
      "cell_type": "code",
      "execution_count": null,
      "metadata": {
        "id": "OqlLCEBdN-3I"
      },
      "outputs": [],
      "source": [
        "%matplotlib inline\n",
        "import matplotlib.pyplot as plt\n",
        "import torch\n",
        "from torch import nn as nn\n",
        "from torch.nn import functional as F\n",
        "import numpy as np"
      ]
    },
    {
      "cell_type": "markdown",
      "source": [
        "## Objectives\n",
        "\n",
        "1. language modeling objective\n",
        "2. Understand how attention works and how to implement it\n",
        "3. Understand transformer’s scaling problem\n",
        "4. generation"
      ],
      "metadata": {
        "id": "UTeInE4IONkv"
      }
    },
    {
      "cell_type": "markdown",
      "source": [
        "## Tokenization\n",
        "\n",
        "\n",
        "We need some way to convert our strings into a form that neural networks can understand (ie some numerical representation).\n",
        "\n",
        "There are two parts:\n",
        "1. how do we chunk the strings and what are the atomic parts (word/character/etc)?\n",
        "2. how do we represent each chunk/atomic part?\n",
        "\n",
        "A tokenizer helps us break a string of text into smaller parts called tokens. A tokenizer has a mapping of unique tokens to ids (ints).\n",
        "\n"
      ],
      "metadata": {
        "id": "i41VvwbxdlkK"
      }
    },
    {
      "cell_type": "markdown",
      "source": [
        "a -> 0\n",
        "b -> 1\n",
        "...\n",
        "z -> 25\n",
        "dog -> [d, o, g] -> [5, 10, 15]\n",
        "\n",
        "\n",
        "lolololololololololololololol"
      ],
      "metadata": {
        "id": "ZyuXfEANoPyn"
      }
    },
    {
      "cell_type": "markdown",
      "source": [
        "### Character Level Tokenizer"
      ],
      "metadata": {
        "id": "fxrF-qLtHWck"
      }
    },
    {
      "cell_type": "code",
      "source": [
        "vocab = ['a', 'b', 'c', 'd', 'e']\n",
        "\n",
        "c2id = {c: i for i, c in enumerate(vocab)}\n",
        "id2c = {i: c for c, i in c2id.items()}\n",
        "\n",
        "def encode(s: str) -> list[int]:\n",
        "    return [c2id[c] for c in s]\n",
        "\n",
        "def decode(ids) -> str:\n",
        "    return ''.join([id2c[i] for i in ids])\n",
        "\n",
        "print(c2id)\n",
        "print(id2c)\n",
        "\n",
        "text = 'abcdeabcde'\n",
        "print(encode(text))\n",
        "\n",
        "print(decode(encode(text)))\n",
        "\n"
      ],
      "metadata": {
        "colab": {
          "base_uri": "https://localhost:8080/"
        },
        "id": "KDaxj3Xz_2Ts",
        "outputId": "fbaf00fb-6828-4831-9d9e-21b7aa9a6e23"
      },
      "execution_count": null,
      "outputs": [
        {
          "output_type": "stream",
          "name": "stdout",
          "text": [
            "{'a': 0, 'b': 1, 'c': 2, 'd': 3, 'e': 4}\n",
            "{0: 'a', 1: 'b', 2: 'c', 3: 'd', 4: 'e'}\n",
            "[0, 1, 2, 3, 4, 0, 1, 2, 3, 4]\n",
            "abcdeabcde\n"
          ]
        }
      ]
    },
    {
      "cell_type": "markdown",
      "source": [
        "### Subword Tokenization\n",
        "\n",
        "![](https://preview.redd.it/demystifying-tokens-a-beginners-guide-to-understanding-ai-v0-r8i6o14l29qb1.jpg?width=727&format=pjpg&auto=webp&s=39335dc154fc35a65506461e609a2f4fe53b3aaa)\n",
        "\n",
        "\n",
        "In practice, people use sub word level: [openai tokenizer](\"https://platform.openai.com/tokenizer\")\n",
        "\n",
        "\n",
        "[`phi-2` tokenizer](\"https://huggingface.co/microsoft/phi-2/raw/main/tokenizer.json\")"
      ],
      "metadata": {
        "id": "eXRz7MiAHeoQ"
      }
    },
    {
      "cell_type": "markdown",
      "source": [
        "# Token Representation"
      ],
      "metadata": {
        "id": "-AbvtZdpHDp3"
      }
    },
    {
      "cell_type": "markdown",
      "source": [
        "## One Hot Encoding\n",
        "\n",
        "![](https://miro.medium.com/v2/resize:fit:837/1*d5-PQyRRjvzBZjI5f7X3hA.png)\n",
        "\n",
        "Although we could directly feed the token ids into the network directly, this representation is not ideal it might lead the model think `a < b < c` which doesn't make too much sense. One improvement is to use one hot encoding.\n",
        "\n",
        "One-hot encoding is a technique used to convert categorical data, like words or labels, into a numerical form that can be understood by algorithms. In one-hot encoding, each category is represented by a vector containing all zeros except for a single one at the position unique to that category. For example 'a' might be encoded as `[1, 0, 0, 0, 0]`, b might encoded as `[0, 1, 0, 0, 0]`, c might be encoded as `[0, 0, 1, 0, 0]`, etc."
      ],
      "metadata": {
        "id": "0SVpuD_odvVw"
      }
    },
    {
      "cell_type": "code",
      "source": [
        "import torch\n",
        "import torch.nn.functional as F\n",
        "\n",
        "F.one_hot(torch.tensor([0, 1, 2]), num_classes=5)\n",
        "# F.one_hot(torch.tensor(3), num_classes=5)\n"
      ],
      "metadata": {
        "colab": {
          "base_uri": "https://localhost:8080/"
        },
        "id": "fgvXQ4EVd0ab",
        "outputId": "c4f6630d-7f9c-47c5-f614-d958c7844ad9"
      },
      "execution_count": null,
      "outputs": [
        {
          "output_type": "execute_result",
          "data": {
            "text/plain": [
              "tensor([0, 0, 0, 1, 0])"
            ]
          },
          "metadata": {},
          "execution_count": 4
        }
      ]
    },
    {
      "cell_type": "markdown",
      "source": [
        "## Embedding table\n",
        "\n",
        "\n",
        "One-hot encoding represents each class as a unique vector with all zeros except for a one at the index of the class. `nn.Embedding`, on the other hand, maps each class to a dense vector of floating point values which are learned during trainin.g\n",
        "\n",
        "Improvements over one-hot\n",
        "* dimensionality reduction: For one hot, you need one dimension per class. Using embeddings, we can use a smaller dimension\n",
        "* more expressive: the features are automatically learned/tuned and are not hard coded.\n"
      ],
      "metadata": {
        "id": "WInpOwpGIoct"
      }
    },
    {
      "cell_type": "markdown",
      "source": [
        "![](https://encrypted-tbn0.gstatic.com/images?q=tbn:ANd9GcQozC3LJimeoj8XJT4N0vxT0_ypTsppsKxpQ6axH_el&s)"
      ],
      "metadata": {
        "id": "MqX5T354Iy0I"
      }
    },
    {
      "cell_type": "markdown",
      "source": [],
      "metadata": {
        "id": "XVDPCGBqI0y7"
      }
    },
    {
      "cell_type": "code",
      "source": [
        "import torch\n",
        "import torch.nn as nn\n",
        "\n",
        "# Define the number of classes and embedding dimension\n",
        "num_classes = 5\n",
        "embedding_dim = 2 # You can choose this value as needed\n",
        "\n",
        "# Create an embedding layer\n",
        "embedding_layer = nn.Embedding(num_classes, embedding_dim) # [5, 2]\n",
        "\n",
        "# Example input: class indices\n",
        "input_classes = torch.tensor([0, 3, 4], dtype=torch.long) # [3]\n",
        "\n",
        "# Get the embeddings for the input\n",
        "embeddings = embedding_layer(input_classes) #\n",
        "\n",
        "print(embeddings)\n"
      ],
      "metadata": {
        "colab": {
          "base_uri": "https://localhost:8080/"
        },
        "id": "fV7Xb4gYI7dj",
        "outputId": "6c8487e2-b73a-4b51-fe80-84615e6efa93"
      },
      "execution_count": null,
      "outputs": [
        {
          "output_type": "stream",
          "name": "stdout",
          "text": [
            "tensor([[-1.9767, -1.3781],\n",
            "        [-1.1571,  1.1239],\n",
            "        [ 0.0104, -0.9000]], grad_fn=<EmbeddingBackward0>)\n"
          ]
        }
      ]
    },
    {
      "cell_type": "markdown",
      "source": [
        "# Bigram Models\n",
        "Predict next token given current token (bigram)\n",
        "\n"
      ],
      "metadata": {
        "id": "1DBj4FtqgolV"
      }
    },
    {
      "cell_type": "code",
      "source": [
        "import random\n",
        "import torch\n",
        "from torch.nn import functional as F\n",
        "\n",
        "c2id = {'a': 0, 'b': 1, 'c': 2, 'd': 3, 'e': 4}\n",
        "\n",
        "# [0.2, 0.3, 0.0, 0.1, 0.4]\n",
        "\n",
        "def generate_dataset():\n",
        "    inputs = []\n",
        "    outputs = []\n",
        "\n",
        "    words = []\n",
        "\n",
        "    for _ in range(100):\n",
        "        count_a = random.randint(1, 3)\n",
        "        count_b = random.randint(1, 3)\n",
        "        count_c = random.randint(1, 3)\n",
        "        count_d = random.randint(1, 3)\n",
        "        count_e = random.randint(1, 3)\n",
        "        word = 'a' * count_a + 'b' * count_b + 'c' * count_c + 'd' * count_d + 'e' * count_e\n",
        "\n",
        "        words.append(word)\n",
        "\n",
        "        for c1, c2 in zip(word, word[1:]):\n",
        "            inputs.append(F.one_hot(torch.tensor(c2id[c1]), 5))\n",
        "            outputs.append(F.one_hot(torch.tensor(c2id[c2]), 5))\n",
        "\n",
        "    return torch.stack(inputs), torch.stack(outputs), words\n",
        "\n",
        "\n",
        "inputs, outputs, words = generate_dataset()  # Generate dataset\n",
        "\n",
        "print(words[:3])"
      ],
      "metadata": {
        "id": "ngy5BQp9gnhg",
        "colab": {
          "base_uri": "https://localhost:8080/"
        },
        "outputId": "a7c0ea76-25dd-42e7-f149-176bcc8c815c"
      },
      "execution_count": null,
      "outputs": [
        {
          "output_type": "stream",
          "name": "stdout",
          "text": [
            "['abbbccdddee', 'aabcdee', 'abbcdddeee']\n"
          ]
        }
      ]
    },
    {
      "cell_type": "code",
      "source": [
        "print(f\"{inputs=}\")\n",
        "print(f\"{outputs=}\")\n",
        "print(f\"{words=}\")"
      ],
      "metadata": {
        "colab": {
          "base_uri": "https://localhost:8080/"
        },
        "id": "dzpjJ-xGsS2a",
        "outputId": "eed0563b-572a-44d4-d49c-450d45e7050f"
      },
      "execution_count": null,
      "outputs": [
        {
          "output_type": "stream",
          "name": "stdout",
          "text": [
            "inputs=tensor([[1, 0, 0, 0, 0],\n",
            "        [0, 1, 0, 0, 0],\n",
            "        [0, 1, 0, 0, 0],\n",
            "        ...,\n",
            "        [0, 0, 1, 0, 0],\n",
            "        [0, 0, 1, 0, 0],\n",
            "        [0, 0, 0, 1, 0]])\n",
            "outputs=tensor([[0, 1, 0, 0, 0],\n",
            "        [0, 1, 0, 0, 0],\n",
            "        [0, 1, 0, 0, 0],\n",
            "        ...,\n",
            "        [0, 0, 1, 0, 0],\n",
            "        [0, 0, 0, 1, 0],\n",
            "        [0, 0, 0, 0, 1]])\n",
            "words=['abbbccdddee', 'aabcdee', 'abbcdddeee', 'aabccdddeee', 'aaabcccde', 'aaabbbccdddee', 'aaabbbcddee', 'aabccdee', 'aabcdddeee', 'aaabbbccdee', 'aabbbccde', 'aaabbbcccdddee', 'abcccddde', 'aaabbcccdddee', 'abbcdeee', 'abbcccddee', 'abbbcdddee', 'aaabbcdee', 'aabbcddee', 'aaabbbcddde', 'aaabcccddeee', 'aabbcdddeee', 'aabbcddeee', 'aabcdddee', 'abbbcccdee', 'aaabbbccdee', 'aaabbccddde', 'abbbcdddee', 'abcdddeee', 'abbccdddeee', 'abcdee', 'aaabbbcdee', 'aaabcddee', 'aaabbccdddeee', 'abbcccdeee', 'aaabbccddde', 'aaabcddeee', 'aaabcdddee', 'aabccddeee', 'aabbbcdee', 'aaabcddee', 'abbbccde', 'abccddeee', 'aaabbccddde', 'aabbbcdde', 'aabbbcccdde', 'aaabcddee', 'aaabbccddeee', 'abbbcddee', 'aabbbccddee', 'abccdddeee', 'aabbcddee', 'aaabcccddeee', 'aabcccdee', 'abccddee', 'abbbcccddee', 'aabccdeee', 'abbbcccdde', 'aabbcdddeee', 'aabccdddeee', 'aaabccddeee', 'aabbbcdee', 'aabcccdddee', 'aaabccddeee', 'aabbcde', 'abccdddee', 'aabccdee', 'aabbcccdde', 'aabcccdddee', 'aaabcdeee', 'aabbbcccdde', 'aabbbcccdddee', 'abbbcccdddee', 'aaabbcccdee', 'aabcde', 'aabccdee', 'abbbcccdde', 'aaabbcde', 'aaabcddeee', 'aaabbbcde', 'aabbcccddee', 'abbccddee', 'aabbcccdeee', 'aabcccdeee', 'abbbcccdeee', 'abcde', 'aabbccdee', 'aaabcdde', 'aaabbbccde', 'abbbcddeee', 'aaabbbccddee', 'aabbbcccde', 'abbcdeee', 'abbccde', 'abcdde', 'aaabbcccdde', 'aabbccdddee', 'aabbbcddeee', 'abbcccddeee', 'abbccde']\n"
          ]
        }
      ]
    },
    {
      "cell_type": "code",
      "source": [
        "word = 'abcde'\n",
        "for c1, c2 in zip(word, word[1:]):\n",
        "    print(c1, c2)"
      ],
      "metadata": {
        "id": "s95L3aeyuvgh",
        "colab": {
          "base_uri": "https://localhost:8080/"
        },
        "outputId": "f44355fb-d055-467c-b058-c7c3ef056982"
      },
      "execution_count": null,
      "outputs": [
        {
          "output_type": "stream",
          "name": "stdout",
          "text": [
            "a b\n",
            "b c\n",
            "c d\n",
            "d e\n"
          ]
        }
      ]
    },
    {
      "cell_type": "markdown",
      "source": [
        "a, b\n",
        "b, c\n",
        "c, d\n",
        "d, e\n",
        "\n",
        "\n",
        "aab\n",
        "\n",
        "a, a = [1, 0, 0, 0, 0], [1, 0, 0, 0, 0]\n",
        "a, b = [1, 0, 0, 0, 0], [0, 1, 0, 0, 0]\n",
        "\n",
        "\n"
      ],
      "metadata": {
        "id": "D2IHHpnzvCG6"
      }
    },
    {
      "cell_type": "code",
      "source": [
        "a = torch.arange(5)\n",
        "\n",
        "torch.stack([a, a, a], dim=0).shape"
      ],
      "metadata": {
        "colab": {
          "base_uri": "https://localhost:8080/"
        },
        "id": "rQns4kphzX1X",
        "outputId": "e1d7abc2-6a5b-448f-ca1e-94fce621a45a"
      },
      "execution_count": null,
      "outputs": [
        {
          "output_type": "execute_result",
          "data": {
            "text/plain": [
              "torch.Size([3, 5])"
            ]
          },
          "metadata": {},
          "execution_count": 13
        }
      ]
    },
    {
      "cell_type": "code",
      "source": [
        "inputs[0], outputs[0]\n",
        "# (tensor([1, 0, 0, 0, 0]), tensor([1, 0, 0, 0, 0]))\n",
        "# (tensor([1, 0, 0, 0, 0]), tensor([0, 1, 0, 0, 0]))\n",
        "\n",
        "# [0.2, 0.8, 0.4, 0.1, -0.3] -> (1-0.2) ** 2 + (0-0.8) ** 2 + ...\n",
        "\n",
        "# all values must sum to one\n",
        "# each element should be within [0, 1]\n",
        "\n",
        "\n",
        "# normalization(model_output) -> probability distribution\n",
        "\n",
        "# [-3, -2, -1, 0, 1]\n",
        "\n",
        "# [e**-3, e**-2, e**-1, e**0, e**1]\n",
        "\n",
        "# sum = e**-3 + e**-2 + e**-1 + e**0 + e**1\n",
        "\n",
        "# [e**-3 / sum, e**-2 / sum, e**-1/sum, e**0/sum, e**1 / sum]\n",
        "\n"
      ],
      "metadata": {
        "colab": {
          "base_uri": "https://localhost:8080/"
        },
        "id": "SM1v4Sm_ESYk",
        "outputId": "b0430dd8-b669-46b7-a143-bf13895ff1b3"
      },
      "execution_count": null,
      "outputs": [
        {
          "output_type": "execute_result",
          "data": {
            "text/plain": [
              "(tensor([1, 0, 0, 0, 0]), tensor([1, 0, 0, 0, 0]))"
            ]
          },
          "metadata": {},
          "execution_count": 51
        }
      ]
    },
    {
      "cell_type": "markdown",
      "source": [
        "The model outputs a tensor of shape `[BATCH_SIZE, 5]`\n",
        "\n",
        "\n",
        "Let's consider a batch size of 1 for simplicity. Therefore, output size is (1, 5). This represents a probability distribution over what token should be next.\n",
        "\n",
        "One issue is that some of the outputs might be negative. For example, suppose our output is [-3, -2, -1, 0, 1].\n",
        "\n",
        "To address, this we are going to normalize the values by using the softmax function\n",
        "\n",
        "$\\frac{e^{x_i}}{\\sum e^{x_j}}$\n",
        "\n",
        "By exponentiating, each value becomes positive.\n",
        "Then, we add each exponentiated value together and divide each value by this sum. This way, the sum of all the terms will be 1 so we will have a probability distribution.\n",
        "\n",
        "\n",
        "We preserve the relative ordering since the exponential function is monotonic (strictly increasing)\n",
        "\n"
      ],
      "metadata": {
        "id": "osjaGOfhgqvP"
      }
    },
    {
      "cell_type": "code",
      "source": [
        "xs = np.arange(-10, 10)\n",
        "ys = np.exp(xs)\n",
        "\n",
        "plt.plot(xs, ys)"
      ],
      "metadata": {
        "id": "Xq3mLmHZgsLJ",
        "colab": {
          "base_uri": "https://localhost:8080/",
          "height": 448
        },
        "outputId": "850f276b-b91d-4d2b-b626-677a85f145f4"
      },
      "execution_count": null,
      "outputs": [
        {
          "output_type": "execute_result",
          "data": {
            "text/plain": [
              "[<matplotlib.lines.Line2D at 0x78871ed7d120>]"
            ]
          },
          "metadata": {},
          "execution_count": 8
        },
        {
          "output_type": "display_data",
          "data": {
            "text/plain": [
              "<Figure size 640x480 with 1 Axes>"
            ],
            "image/png": "[encoded data removed]"
          },
          "metadata": {}
        }
      ]
    },
    {
      "cell_type": "markdown",
      "source": [
        "a -> a\n",
        "a -> b\n",
        "\n",
        "aaaaaaaaaaa:  model(a) -> probability we predict a = 0.1\n",
        "\n",
        "model(paragraph) -> first token of next paragraph 'b'\n",
        "\n",
        "'a', 'b', 'c'\n",
        "\n",
        "likelihood(next paragraph) = p(a | original parapgraph) * p(b | original paragraph + a) * p(c | original paragraph + a + b)\n",
        "\n",
        "\n",
        "bad case a -> e\n"
      ],
      "metadata": {
        "id": "W_LUnDemjakL"
      }
    },
    {
      "cell_type": "markdown",
      "source": [
        "abc\n",
        "\n",
        "model(a) -> [p(a), p(b), p(c)]\n",
        "\n",
        "model(b) -> [p(a), p(b), p(c) really high]\n",
        "\n",
        "\n",
        "a * b\n",
        "log(a * b) -> loga + logb\n",
        "\n"
      ],
      "metadata": {
        "id": "0WIo9BjPhc6f"
      }
    },
    {
      "cell_type": "markdown",
      "source": [
        "## Loss Function\n",
        "\n",
        "Now that we have a probability distribution over all the possible next tokens, we need to measure how far off our model prediction is from the ground truth.\n",
        "\n",
        "### Likelihood\n",
        "Likelihood refers to the probability of observing the training data given a set of parameters in a statistical model.\n",
        "\n",
        "It is a key concept in model fitting, where the goal is to find the parameter values that make the observed data most probable.\n",
        "\n",
        "In mathematical terms, if our model's parameters are denoted by $\\theta$ and our data by $D$, then the likelihood is $P(D|\\theta)$.\n",
        "\n",
        "### Importance of Likelihood in MLE\n",
        "\n",
        "In MLE, we adjust $\\theta$ to maximize $P(D|\\theta)$.\n",
        "\n",
        "This process involves iteratively improving our model's parameters so that the probability of the observed data under the model is maximized.\n",
        "\n",
        "The higher the likelihood, the better our model fits the data.\n",
        "\n",
        "### Product of Probabilities:\n",
        "For independent data points $x_1, x_2, \\ldots, x_n$, the total likelihood is the product of individual probabilities:\n",
        "\n",
        "$$L(\\theta | x_1, x_2, \\ldots, x_n) = \\prod_{i=1}^{n} P(x_i | \\theta)$$\n",
        "\n",
        "### Challenges with Product of Probabilities\n",
        "\n",
        "#### Small Numbers\n",
        "\n",
        "Multiplying probabilities (which are $\\leq 1$) for many data points results in a very small number, which can cause numerical underflow.\n",
        "\n",
        "#### Logarithm Properties:\n",
        "$\\log(a) > \\log(b)$ if $a > b$.\n",
        "\n",
        "Maximizing $L(\\theta | x)$ is equivalent to maximizing $\\log(L(\\theta | x))$.\n",
        "\n",
        "\n",
        "#### Turning Product into Sum:\n",
        "Logarithm of a product: $\\log \\left( \\prod_{i=1}^{n} P(x_i | \\theta) \\right) = \\sum_{i=1}^{n} \\log(P(x_i | \\theta))$\n",
        "\n",
        "\n",
        "#### Negative Log Likelihood (NLL):\n",
        "\n",
        "\n",
        "NLL Formula for our prediction $[0.1, 0.7, 0.1, 0.05, 0.05]$ and ground truth $[0.0, 1.0, 0.0, 0.0, 0.0]$:\n",
        "\n",
        "$$NLL = -\\sum_{i=1}^{n} y_i \\log(p_i)$$\n",
        "\n",
        "For the given example, NLL would be:\n",
        "\n",
        "$$NLL = -(0 \\cdot \\log(0.1) + 1 \\cdot \\log(0.7) + 0 \\cdot \\log(0.1)) + 0 \\cdot \\log(0.05) + 0 \\cdot \\log(0.05)$$\n",
        "\n",
        "This simplifies to $-\\log(0.7)$ as the contribution of the terms with zero in the ground truth is zero."
      ],
      "metadata": {
        "id": "2Zh_R7tcguUy"
      }
    },
    {
      "cell_type": "code",
      "source": [],
      "metadata": {
        "id": "B5pD1BSbQsuK"
      },
      "execution_count": null,
      "outputs": []
    },
    {
      "cell_type": "markdown",
      "source": [
        "$$ \\text{softmax}(z_i) = \\frac{e^{z_i}}{\\sum_{j=1}^{n} e^{z_j}} $$\n",
        "\n",
        "The softmax function converts a vector of raw scores (logits) \\( z \\) into a probability distribution, where each value is in the range (0, 1), and the sum of all probabilities equals 1. It is often used in the output layer of a neural network for classification tasks.\n"
      ],
      "metadata": {
        "id": "2CkEMOZlQtNi"
      }
    },
    {
      "cell_type": "code",
      "source": [
        "xs = range(1, 100)\n",
        "ys = np.log(xs)\n",
        "\n",
        "plt.plot(xs, ys)\n"
      ],
      "metadata": {
        "colab": {
          "base_uri": "https://localhost:8080/",
          "height": 448
        },
        "id": "QLqQk_u8gzBM",
        "outputId": "a706f12d-a0c9-46b5-a0b7-00a5aba44901"
      },
      "execution_count": null,
      "outputs": [
        {
          "output_type": "execute_result",
          "data": {
            "text/plain": [
              "[<matplotlib.lines.Line2D at 0x79eedc23e950>]"
            ]
          },
          "metadata": {},
          "execution_count": 39
        },
        {
          "output_type": "display_data",
          "data": {
            "text/plain": [
              "<Figure size 640x480 with 1 Axes>"
            ],
            "image/png": "[encoded data removed]"
          },
          "metadata": {}
        }
      ]
    },
    {
      "cell_type": "code",
      "source": [
        "xs = range(1, 100)\n",
        "ys = -np.log(xs)\n",
        "\n",
        "plt.plot(xs, ys)\n"
      ],
      "metadata": {
        "colab": {
          "base_uri": "https://localhost:8080/",
          "height": 448
        },
        "id": "r5Jg-N3EyPyT",
        "outputId": "b9a82bbd-6e8a-4661-d4a1-bceab52148e5"
      },
      "execution_count": null,
      "outputs": [
        {
          "output_type": "execute_result",
          "data": {
            "text/plain": [
              "[<matplotlib.lines.Line2D at 0x79eedc0aacb0>]"
            ]
          },
          "metadata": {},
          "execution_count": 40
        },
        {
          "output_type": "display_data",
          "data": {
            "text/plain": [
              "<Figure size 640x480 with 1 Axes>"
            ],
            "image/png": "[encoded data removed]"
          },
          "metadata": {}
        }
      ]
    },
    {
      "cell_type": "markdown",
      "source": [
        "## Bigram One Hot Model"
      ],
      "metadata": {
        "id": "Hor20iHkJoJi"
      }
    },
    {
      "cell_type": "markdown",
      "source": [
        "\n",
        "\n"
      ],
      "metadata": {
        "id": "Aahq8h-xrShw"
      }
    },
    {
      "cell_type": "code",
      "source": [
        "import torch\n",
        "import torch.nn as nn\n",
        "import torch.optim as optim\n",
        "\n",
        "torch.manual_seed(1)\n",
        "\n",
        "c2id = {'a': 0, 'b': 1, 'c': 2, 'd': 3, 'e': 4}\n",
        "\n",
        "\n",
        "# MLP model definition\n",
        "class BigramMLP(nn.Module):\n",
        "    def __init__(self):\n",
        "        super().__init__()\n",
        "\n",
        "        \"\"\"\n",
        "        x: [8, 5]\n",
        "        w1: torch.rand([5, 10], requires_grad=True)\n",
        "        out = x @ w1 -> [8, 5] @ [5, 10] = [8, 10]\n",
        "\n",
        "        w2: [10, 5]\n",
        "        \"\"\"\n",
        "\n",
        "        self.fc1 = nn.Linear(5, 10)  # First layer\n",
        "        self.fc2 = nn.Linear(10, 5)  # Second layer\n",
        "\n",
        "    def forward(self, x):\n",
        "        # x: [8, 5] batch size: 8, 5 dimension (one hot)\n",
        "        out = self.fc1(x) # [8, 10]\n",
        "        out = torch.relu(out) # [8, 10]\n",
        "        out = self.fc2(out) # [8, 5]\n",
        "        return out\n",
        "\n",
        "def cross_entropy_loss(outputs, targets):\n",
        "    log_probs = torch.log_softmax(outputs, dim=1) # [BATCH_SIZE, TOKEN_PROBS]\n",
        "    # pick out prob for gt\n",
        "    loss = -(log_probs * targets).mean()\n",
        "    return loss\n",
        "\n",
        "# Train function\n",
        "def train(model, inputs, outputs, epochs, learning_rate):\n",
        "    optimizer = optim.SGD(model.parameters(), lr=learning_rate)\n",
        "\n",
        "    model.train()\n",
        "\n",
        "    for epoch in range(epochs):\n",
        "        optimizer.zero_grad()\n",
        "        predictions = model(inputs.float()) # [8, 5]\n",
        "        loss = cross_entropy_loss(predictions, outputs.float())\n",
        "        loss.backward()\n",
        "        optimizer.step()\n",
        "\n",
        "    print(f'Epoch {epoch + 1}, Loss: {loss.item()}')\n",
        "\n",
        "# Generate function\n",
        "def generate(model, start_char='d', max_new_tokens=10):\n",
        "    model.eval()\n",
        "    with torch.no_grad():\n",
        "        current_char = start_char\n",
        "        word = current_char\n",
        "        for _ in range(max_new_tokens):\n",
        "            input_tensor = F.one_hot(torch.tensor(c2id[current_char]), 5).unsqueeze(0).float()\n",
        "            output = model(input_tensor)\n",
        "            next_char_id = torch.argmax(output).item()\n",
        "            next_char = [k for k, v in c2id.items() if v == next_char_id][0]\n",
        "            current_char = next_char\n",
        "            word += current_char\n",
        "        return word\n",
        "\n",
        "# Create and train the model\n",
        "model = BigramMLP()\n",
        "\n",
        "generated_word = generate(model)\n",
        "print(f'Generated word: {generated_word}')\n",
        "\n",
        "train(model, inputs, outputs, epochs=5000, learning_rate=0.01)\n",
        "\n",
        "generated_word = generate(model)\n",
        "print(f'Generated word: {generated_word}')"
      ],
      "metadata": {
        "id": "rXz6Np80g15T",
        "colab": {
          "base_uri": "https://localhost:8080/"
        },
        "outputId": "28b4e328-ce9a-454d-fe53-b6f0f82e6ad8"
      },
      "execution_count": null,
      "outputs": [
        {
          "output_type": "stream",
          "name": "stdout",
          "text": [
            "Generated word: dcbbbbbbbbb\n",
            "Epoch 5000, Loss: 0.24748535454273224\n",
            "Generated word: deeeeeeeeee\n"
          ]
        }
      ]
    },
    {
      "cell_type": "code",
      "source": [
        "import torch\n",
        "\n",
        "a = torch.tensor([0, 1, 0])\n",
        "b = torch.tensor([1, 1, 1])\n",
        "a * b"
      ],
      "metadata": {
        "id": "kc5z9JcPg33m",
        "colab": {
          "base_uri": "https://localhost:8080/"
        },
        "outputId": "0752bb0c-571f-4afc-cb74-e06d06bb4162"
      },
      "execution_count": null,
      "outputs": [
        {
          "output_type": "execute_result",
          "data": {
            "text/plain": [
              "tensor([0, 1, 0])"
            ]
          },
          "metadata": {},
          "execution_count": 24
        }
      ]
    },
    {
      "cell_type": "markdown",
      "source": [
        "<!-- ## Embedding table\n",
        "\n",
        "\n",
        "One-hot encoding represents each class as a unique vector with all zeros except for a one at the index of the class. `nn.Embedding`, on the other hand, maps each class to a dense vector of floating point values which are learned during trainin.g\n",
        "\n",
        "Improvements over one-hot\n",
        "* dimensionality reduction: For one hot, you need one dimension per class. Using embeddings, we can use a smaller dimension\n",
        "* more expressive: the features are automatically learned/tuned and are not hard coded. -->\n"
      ],
      "metadata": {
        "id": "_s7RG9QRg52Q"
      }
    },
    {
      "cell_type": "markdown",
      "source": [
        "## Bigram Embedding Table Model"
      ],
      "metadata": {
        "id": "8q0UriW8Jgmv"
      }
    },
    {
      "cell_type": "markdown",
      "source": [
        "<!-- ![](https://encrypted-tbn0.gstatic.com/images?q=tbn:ANd9GcQozC3LJimeoj8XJT4N0vxT0_ypTsppsKxpQ6axH_el&s) -->"
      ],
      "metadata": {
        "id": "SiAju4hr-Qd3"
      }
    },
    {
      "cell_type": "code",
      "source": [
        "import torch\n",
        "import torch.nn as nn\n",
        "import torch.optim as optim\n",
        "\n",
        "torch.manual_seed(1)\n",
        "\n",
        "c2id = {'a': 0, 'b': 1, 'c': 2, 'd': 3, 'e': 4}\n",
        "\n",
        "def generate_dataset():\n",
        "    inputs = []\n",
        "    outputs = []\n",
        "\n",
        "    words = []\n",
        "\n",
        "    for _ in range(100):\n",
        "        count_a = random.randint(1, 3)\n",
        "        count_b = random.randint(1, 3)\n",
        "        count_c = random.randint(1, 3)\n",
        "        count_d = random.randint(1, 3)\n",
        "        count_e = random.randint(1, 3)\n",
        "        word = 'a' * count_a + 'b' * count_b + 'c' * count_c + 'd' * count_d + 'e' * count_e\n",
        "\n",
        "        words.append(word)\n",
        "\n",
        "        for c1, c2 in zip(word, word[1:]):\n",
        "            inputs.append(torch.tensor(c2id[c1]))\n",
        "            outputs.append(F.one_hot(torch.tensor(c2id[c2]), 5))\n",
        "\n",
        "    return torch.stack(inputs), torch.stack(outputs), words\n",
        "\n",
        "# MLP model definition\n",
        "class BigramMLP(nn.Module):\n",
        "    def __init__(self):\n",
        "        super().__init__()\n",
        "\n",
        "        # emb = [100, 5] -> emb[2]\n",
        "        # token_embedding = nn.Embedding(5, 2) -> [5, 2]\n",
        "\n",
        "        # predict character after 'c'\n",
        "        # 'c' has an id of 2\n",
        "\n",
        "        \"\"\"\n",
        "        1 2\n",
        "        3 4\n",
        "        5 6\n",
        "        7 8\n",
        "        9 10\n",
        "        \"\"\"\n",
        "\n",
        "        # token id: 1 token_embedding_matrix[1] -> [1, 2]\n",
        "        # fc1: linear(2, 10)\n",
        "        # fc2: linear(10, 5)\n",
        "\n",
        "        self.token_embedding = nn.Embedding(5, 5)\n",
        "        self.fc1 = nn.Linear(5, 10)  # First layer\n",
        "        self.fc2 = nn.Linear(10, 5)  # Second layer\n",
        "\n",
        "    def forward(self, x):\n",
        "        x = self.token_embedding(x)\n",
        "        x = torch.relu(self.fc1(x))\n",
        "        x = self.fc2(x)\n",
        "        return x\n",
        "\n",
        "def cross_entropy_loss(outputs, targets):\n",
        "    batch_size = outputs.size(0)\n",
        "    log_probs = torch.log_softmax(outputs, dim=1)\n",
        "    # pick out prob for gt\n",
        "    loss = -(log_probs * targets).mean()\n",
        "    return loss\n",
        "\n",
        "# Train function\n",
        "def train(model, inputs, outputs, epochs, learning_rate):\n",
        "    optimizer = optim.SGD(model.parameters(), lr=learning_rate)\n",
        "    model.train()\n",
        "    for epoch in range(epochs):\n",
        "        optimizer.zero_grad()\n",
        "        predictions = model(inputs) # CHANGE HERE we want ints instead of floats model(inputs.float())\n",
        "        loss = cross_entropy_loss(predictions, outputs.float())\n",
        "        loss.backward()\n",
        "        optimizer.step()\n",
        "\n",
        "    print(f'Epoch {epoch + 1}, Loss: {loss.item()}')\n",
        "\n",
        "# Generate function\n",
        "def generate(model, start_char='d', max_new_tokens=10):\n",
        "    model.eval()\n",
        "    with torch.no_grad():\n",
        "        current_char = start_char\n",
        "        word = current_char\n",
        "        for _ in range(max_new_tokens):\n",
        "            input_tensor = torch.tensor([c2id[current_char]]) # CHANGE HERE: F.one_hot(torch.tensor(c2id[current_char]), 5).unsqueeze(0).float()\n",
        "            output = model(input_tensor)\n",
        "            next_char_id = torch.argmax(output).item()\n",
        "            next_char = [k for k, v in c2id.items() if v == next_char_id][0]\n",
        "            current_char = next_char\n",
        "            word += current_char\n",
        "        return word\n",
        "\n",
        "# Create and train the model\n",
        "model = BigramMLP()\n",
        "\n",
        "inputs, outputs, words = generate_dataset()\n",
        "print(inputs.shape, outputs.shape)\n",
        "\n",
        "generated_word = generate(model)\n",
        "print(f'Generated word: {generated_word}')\n",
        "\n",
        "train(model, inputs, outputs, epochs=5000, learning_rate=0.01)\n",
        "\n",
        "generated_word = generate(model)\n",
        "print(f'Generated word: {generated_word}')"
      ],
      "metadata": {
        "id": "yPCI8-WUhBQg",
        "outputId": "5a927933-c553-47f5-be4d-7faa044762d1",
        "colab": {
          "base_uri": "https://localhost:8080/"
        }
      },
      "execution_count": null,
      "outputs": [
        {
          "output_type": "stream",
          "name": "stdout",
          "text": [
            "torch.Size([885]) torch.Size([885, 5])\n",
            "Generated word: daaaaaaaaaa\n",
            "Epoch 5000, Loss: 0.1578913927078247\n",
            "Generated word: deeeeeeeeee\n"
          ]
        }
      ]
    },
    {
      "cell_type": "markdown",
      "source": [
        "# Data for Training GPT\n",
        "![](https://i.ibb.co/tZkVqjC/Screenshot-2024-01-25-at-10-14-49-AM.png)\n",
        "We want to predict the next token given some preceding context. We use different input context lengths in order to get the model familiar handling different context lengths. When we use the model (inference), if it hasn't seen a input length during training before, the performance is worse compared to lengths is has seen during training before."
      ],
      "metadata": {
        "id": "HvyzqlanP8X7"
      }
    },
    {
      "cell_type": "markdown",
      "source": [
        "[BATCH, FEATURES/CHANNELS]\n",
        "\n",
        "[BATCH, SEQ_LEN, CHANNELS] -> [B, T, C]\n",
        "\n"
      ],
      "metadata": {
        "id": "UdthQyAZoM7p"
      }
    },
    {
      "cell_type": "code",
      "source": [
        "# data exploration\n",
        "import torch\n",
        "\n",
        "text = \"the fox jumped over the lazy dog\"\n",
        "\n",
        "block_size = 8\n",
        "print(f\"Full block: \", text[:block_size])\n",
        "\n",
        "for context_size in range(block_size):\n",
        "    context = text[:context_size+1]\n",
        "    target = text[context_size+1]\n",
        "    print(f\"{context=} {target=}\")\n"
      ],
      "metadata": {
        "colab": {
          "base_uri": "https://localhost:8080/"
        },
        "id": "_vEzmySZOK59",
        "outputId": "7ff57c7f-f241-4765-c16b-b82eacde8d0b"
      },
      "execution_count": null,
      "outputs": [
        {
          "output_type": "stream",
          "name": "stdout",
          "text": [
            "Full block:  the fox \n",
            "context='t' target='h'\n",
            "context='th' target='e'\n",
            "context='the' target=' '\n",
            "context='the ' target='f'\n",
            "context='the f' target='o'\n",
            "context='the fo' target='x'\n",
            "context='the fox' target=' '\n",
            "context='the fox ' target='j'\n"
          ]
        }
      ]
    },
    {
      "cell_type": "code",
      "source": [
        "\n",
        "# create an encode\n",
        "def create_mappings(text):\n",
        "    unique_chars = sorted(set(text))\n",
        "    char_to_int = {char: i for i, char in enumerate(unique_chars)}\n",
        "    int_to_char = {i: char for i, char in enumerate(unique_chars)}\n",
        "    return char_to_int, int_to_char\n",
        "\n",
        "def encode(text, mapping):\n",
        "    return [mapping[char] for char in text]\n",
        "\n",
        "def decode(encoded_text, mapping):\n",
        "    return ''.join(mapping[i] for i in encoded_text)\n",
        "\n",
        "\n",
        "char_to_int, int_to_char = create_mappings(text)\n",
        "\n",
        "encoded_text = encode(text, char_to_int)\n",
        "decoded_text = decode(encoded_text, int_to_char)\n",
        "\n",
        "print(\"Encoded:\", encoded_text)\n",
        "print(\"Decoded:\", decoded_text)"
      ],
      "metadata": {
        "colab": {
          "base_uri": "https://localhost:8080/"
        },
        "id": "5mt6BJ6KSrK5",
        "outputId": "40b4efd9-89cd-4bbe-84c3-8debc1c71e77"
      },
      "execution_count": null,
      "outputs": [
        {
          "output_type": "stream",
          "name": "stdout",
          "text": [
            "Encoded: [13, 6, 3, 0, 4, 10, 16, 0, 7, 14, 9, 11, 3, 2, 0, 10, 15, 3, 12, 0, 13, 6, 3, 0, 8, 1, 18, 17, 0, 2, 10, 5]\n",
            "Decoded: the fox jumped over the lazy dog\n"
          ]
        }
      ]
    },
    {
      "cell_type": "code",
      "source": [
        "data = torch.tensor(encode(text, char_to_int), dtype=torch.long)"
      ],
      "metadata": {
        "id": "2dRwlDlTWrCr"
      },
      "execution_count": null,
      "outputs": []
    },
    {
      "cell_type": "code",
      "source": [
        "data"
      ],
      "metadata": {
        "colab": {
          "base_uri": "https://localhost:8080/"
        },
        "id": "LIzdIMb1r6jn",
        "outputId": "e1e48aa1-efdd-44c4-8ac3-99112da8a86d"
      },
      "execution_count": null,
      "outputs": [
        {
          "output_type": "execute_result",
          "data": {
            "text/plain": [
              "tensor([13,  6,  3,  0,  4, 10, 16,  0,  7, 14,  9, 11,  3,  2,  0, 10, 15,  3,\n",
              "        12,  0, 13,  6,  3,  0,  8,  1, 18, 17,  0,  2, 10,  5])"
            ]
          },
          "metadata": {},
          "execution_count": 6
        }
      ]
    },
    {
      "cell_type": "code",
      "source": [
        "import torch\n",
        "\n",
        "batch_size = 4\n",
        "device = 'cuda' if torch.cuda.is_available() else 'cpu'\n",
        "def get_batch():\n",
        "    ix = torch.randint(len(data) - block_size, (batch_size,))\n",
        "    x = torch.stack([data[i:i+block_size] for i in ix]) # 6,  3,  0,  8,  1, 18, 17,  0\n",
        "    y = torch.stack([data[i+1:i+block_size+1] for i in ix]) # 3,  0,  8,  1, 18, 17,  0,  2\n",
        "    x, y = x.to(device), y.to(device)\n",
        "    return x, y\n"
      ],
      "metadata": {
        "id": "SpIbieExXEXs"
      },
      "execution_count": null,
      "outputs": []
    },
    {
      "cell_type": "code",
      "source": [
        "# CHANNELS/FEATURES\n",
        "\n",
        "x, y = get_batch()\n",
        "print(x) # B, T -> [BATCH, SEQ_LENGTH]\n",
        "print(y) # B, T -> [BATCH, SEQ_LENGTH]\n",
        "\n",
        "\n",
        "# we need map our ids to embedding/token representation to get B, T, C"
      ],
      "metadata": {
        "colab": {
          "base_uri": "https://localhost:8080/"
        },
        "id": "xNeBimEBuWJc",
        "outputId": "c9be3e1b-63c8-459e-cca6-792f2a69e3d9"
      },
      "execution_count": null,
      "outputs": [
        {
          "output_type": "stream",
          "name": "stdout",
          "text": [
            "tensor([[13,  6,  3,  0,  4, 10, 16,  0],\n",
            "        [ 0,  4, 10, 16,  0,  7, 14,  9],\n",
            "        [ 3,  0,  4, 10, 16,  0,  7, 14],\n",
            "        [ 3, 12,  0, 13,  6,  3,  0,  8]])\n",
            "tensor([[ 6,  3,  0,  4, 10, 16,  0,  7],\n",
            "        [ 4, 10, 16,  0,  7, 14,  9, 11],\n",
            "        [ 0,  4, 10, 16,  0,  7, 14,  9],\n",
            "        [12,  0, 13,  6,  3,  0,  8,  1]])\n"
          ]
        }
      ]
    },
    {
      "cell_type": "code",
      "source": [
        "# CHANNELS/FEATURES/\n",
        "\n",
        "x, y = get_batch()\n",
        "print(x[0]) # B, T\n",
        "print(y[0]) # B, T"
      ],
      "metadata": {
        "colab": {
          "base_uri": "https://localhost:8080/"
        },
        "id": "XocOC2RLXkvF",
        "outputId": "c7d6240c-e32d-40a3-c3a2-50f5e2c6c0a3"
      },
      "execution_count": null,
      "outputs": [
        {
          "output_type": "stream",
          "name": "stdout",
          "text": [
            "tensor([ 0, 10, 15,  3, 12,  0, 13,  6])\n",
            "tensor([10, 15,  3, 12,  0, 13,  6,  3])\n"
          ]
        }
      ]
    },
    {
      "cell_type": "code",
      "source": [
        "# x, y are [B, T] -> [B, T, C]\n",
        "#"
      ],
      "metadata": {
        "id": "W9b1MwHzqQ_c"
      },
      "execution_count": null,
      "outputs": []
    },
    {
      "cell_type": "code",
      "source": [
        "from torch import nn\n",
        "\n",
        "unique_chars = sorted(set(text))\n",
        "\n",
        "print(f\"{unique_chars=}\")\n",
        "\n",
        "print(f\"Number of unique: \", len(unique_chars))\n",
        "\n",
        "x, y = get_batch() # x: [B, T], y: [B, T] (4, 8)\n",
        "\n",
        "n_embd = 2\n",
        "token_embedding_layer = nn.Embedding(len(unique_chars), n_embd).to(device) # [19, 2]\n",
        "\n",
        "print(f\"before embedding x shape: {x.shape}\")\n",
        "x = token_embedding_layer(x)\n",
        "print(f\"after embedding x shape: {x.shape}\")\n",
        "print(x[0]) # (4, 8, 2) -> (8, 2)"
      ],
      "metadata": {
        "colab": {
          "base_uri": "https://localhost:8080/"
        },
        "id": "6Y5OrU5AbxH4",
        "outputId": "e97282b0-d271-454a-af98-487f45488220"
      },
      "execution_count": null,
      "outputs": [
        {
          "output_type": "stream",
          "name": "stdout",
          "text": [
            "unique_chars=[' ', 'a', 'd', 'e', 'f', 'g', 'h', 'j', 'l', 'm', 'o', 'p', 'r', 't', 'u', 'v', 'x', 'y', 'z']\n",
            "Number of unique:  19\n",
            "before embedding x shape: torch.Size([4, 8])\n",
            "after embedding x shape: torch.Size([4, 8, 2])\n",
            "tensor([[ 1.2103, -0.6524],\n",
            "        [-0.1254, -1.8794],\n",
            "        [ 1.3747, -0.5163],\n",
            "        [ 0.8879,  0.2483],\n",
            "        [ 1.0750,  0.3893],\n",
            "        [-0.1113,  0.2621],\n",
            "        [-1.9822,  1.3434],\n",
            "        [-1.1278,  0.4374]], grad_fn=<SelectBackward0>)\n"
          ]
        }
      ]
    },
    {
      "cell_type": "code",
      "source": [
        "B, T, C = x.shape\n",
        "\n",
        "print(x.shape)"
      ],
      "metadata": {
        "id": "fZIJzowlg701",
        "colab": {
          "base_uri": "https://localhost:8080/"
        },
        "outputId": "3bdf832b-d1e6-4faf-e25b-de29402bd39f"
      },
      "execution_count": null,
      "outputs": [
        {
          "output_type": "stream",
          "name": "stdout",
          "text": [
            "torch.Size([4, 8, 2])\n"
          ]
        }
      ]
    },
    {
      "cell_type": "markdown",
      "source": [
        "## GPT Architecture\n",
        "\n",
        "[diagram](https://upload.wikimedia.org/wikipedia/commons/9/91/Full_GPT_architecture.png)![Full_GPT_architecture.png](data:image/png;base64,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)\n",
        "\n"
      ],
      "metadata": {
        "id": "V5pcQZFuvzzQ"
      }
    },
    {
      "cell_type": "markdown",
      "source": [
        "## Attention\n",
        "\n",
        "Attention is a communication mechanism between tokens. Intuitively, a word's meaning depends on how it is used.\n",
        "\n",
        "\"Could you please turn on the light in the room?\"\n",
        "\n",
        "\"This box is very light; I can lift it easily.\"\n",
        "\n",
        "The idea of attention is that a token's representation should be dependent on the representation of the other tokens in a sequence. We want tokens to \"talk\" to each other and be influenced by each other.\n",
        "\n",
        "Each token will create 3 distinct vectors $Q$ (query), $K$ (key), and $V$ (value). We will ignore $V$ for now and just look at $Q$ and $K$. Intuitively, $Q$ is what this token is \"looking\" for and $K$ is what this token is \"offering\". We want measure how well Q (query) and K (key) align. If Q (query) and K (key) between two tokens align well, we will pay more attention to it.\n",
        "\n",
        "\n",
        "More specifically, if token A's query and token B's key are highly aligned, then token B is highly relevant to token A's meaning. Therefore, we will give a high attention score to token B when computing the token A's representation.\n",
        "\n",
        "Here, a representation refers to a tensor that represents the meaning of the token. It is generally uninterpretable (ie you cannot map the tensor values back to a semantic meaning)\n",
        "\n",
        "\n"
      ],
      "metadata": {
        "id": "9-Nu9P_E4HY4"
      }
    },
    {
      "cell_type": "markdown",
      "source": [
        "data = [B, T, C]\n",
        "Q: linear(data) -> [B, T, C]\n",
        "K: linear(data) -> [B, T, C]\n",
        "V: linear(data) -> [B, T, C] (ignore for now)"
      ],
      "metadata": {
        "id": "NUAGhJQKtV2W"
      }
    },
    {
      "cell_type": "markdown",
      "source": [
        "input: [B, T, C]\n",
        "we'll ignore batch dimension\n",
        "\n",
        "input: [T, C]\n",
        "single token: [1, C]\n",
        "\n",
        "we want to create 3 new vectors\n",
        "\n",
        "each token is going to produce 3 new vectors\n",
        "\n",
        "Could you please turn on the light in the room?\n",
        "\n",
        "Query (what I'm looking for): [1, C]\n",
        "\n",
        "Key (what I have): [1, C]\n",
        "\n",
        "Value (ignore for now): [1, C]\n"
      ],
      "metadata": {
        "id": "sst5Sd9HpIpi"
      }
    },
    {
      "cell_type": "markdown",
      "source": [
        "![](http://jalammar.github.io/images/t/self-attention-output.png)\n",
        "\n",
        "![](http://jalammar.github.io/images/t/self-attention-matrix-calculation-2.png)\n"
      ],
      "metadata": {
        "id": "iClXXIgegbup"
      }
    },
    {
      "cell_type": "code",
      "source": [
        "class SelfAttentionHead(nn.Module):\n",
        "    def __init__(self):\n",
        "        super().__init__()\n",
        "        self.q_proj = nn.Linear(2, 2, bias=False)\n",
        "        self.k_proj = nn.Linear(2, 2, bias=False)\n",
        "        self.v_proj = nn.Linear(2, 2, bias=False)\n",
        "    def forward(self, x):\n",
        "        q = self.q_proj(x)\n",
        "        k = self.k_proj(x)\n",
        "        v = self.v_proj(x)\n",
        "\n",
        "        print(f\"q: {q.shape} k: {k.shape} v: {v.shape}\")\n",
        "        return q, k, v\n",
        "\n",
        "attn = SelfAttentionHead()\n",
        "BATCH = 4\n",
        "SEQUENCE_LENGTH = 8\n",
        "CHANNELS = 2\n",
        "x = torch.randn((BATCH, SEQUENCE_LENGTH, CHANNELS)).float()\n",
        "q, k, v = attn(x)\n",
        "\n",
        "for param in attn.parameters():\n",
        "    print(param.shape)"
      ],
      "metadata": {
        "colab": {
          "base_uri": "https://localhost:8080/"
        },
        "id": "hhQSOfEq4dAP",
        "outputId": "5b2f3279-e4ae-4f77-8ad5-3867bc2b7228"
      },
      "execution_count": null,
      "outputs": [
        {
          "output_type": "stream",
          "name": "stdout",
          "text": [
            "q: torch.Size([4, 8, 2]) k: torch.Size([4, 8, 2]) v: torch.Size([4, 8, 2])\n",
            "torch.Size([2, 2])\n",
            "torch.Size([2, 2])\n",
            "torch.Size([2, 2])\n"
          ]
        }
      ]
    },
    {
      "cell_type": "markdown",
      "source": [
        "### Quick review of dot product\n",
        "\n",
        "\\begin{align*}\n",
        "\\mathbf{a} &= \\begin{pmatrix} 2 \\\\ 1 \\\\ -3 \\end{pmatrix} \\\\\n",
        "\\mathbf{b} &= \\begin{pmatrix} 1 \\\\ 4 \\\\ 5 \\end{pmatrix}\n",
        "\\end{align*}\n",
        "\n",
        "$\\mathbf{a} \\cdot \\mathbf{b} = a_1 b_1 + a_2 b_2 + a_3 b_3$\n",
        "\n",
        "\\begin{align*}\n",
        "\\mathbf{a} \\cdot \\mathbf{b} &= 2 \\cdot 1 + 1 \\cdot 4 + (-3) \\cdot 5 \\\\\n",
        "&= 2 + 4 - 15 \\\\\n",
        "&= \\boxed{-9}\n",
        "\\end{align*}\n"
      ],
      "metadata": {
        "id": "IsQnLILSQ4l1"
      }
    },
    {
      "cell_type": "markdown",
      "source": [
        "### Cosine Similarity\n",
        "\n",
        "Cosine similarity measures the angle between two vectors, ranging from -1 (opposite directions) to 1 (identical directions):\n",
        "\n",
        "$$\\cos \\theta = \\frac{\\mathbf{a} \\cdot \\mathbf{b}}{\\|\\mathbf{a}\\| \\|\\mathbf{b}\\|}$$\n",
        "\n",
        "where\n",
        "\n",
        "$\\theta$ is the angle between $a$ and $b$\n",
        "\n",
        "$\\cdot$ represents the dot product\n",
        "\n",
        "$\\|\\cdot\\|$ denotes the L2 norm\n",
        "\n",
        "\n",
        "Example:\n",
        "\n",
        "$\\mathbf{a} = \\begin{pmatrix} 2 \\\\ 1 \\\\ -3 \\end{pmatrix}, \\quad \\mathbf{b} = \\begin{pmatrix} 1 \\\\ 4 \\\\ 5 \\end{pmatrix}$\n",
        "\n",
        "$\\mathbf{a} \\cdot \\mathbf{b} = -9, \\quad \\cos \\theta = \\frac{-9}{\\sqrt{14} \\sqrt{42}} \\approx -0.408\n",
        "$\n",
        "\n",
        "The dot product appears in the numerator of the cosine similarity equation. This implies:\n",
        "\n",
        "* Higher dot product values result in larger cosine values, indicating smaller angles and greater similarity.\n",
        "\n",
        "* Conversely, a lower dot product leads to a smaller cosine value, signifying a larger angle and less similarity.\n",
        "\n",
        "\n",
        "In essence, the dot product provides a measure of \"projection\" of one vector onto another, indicating how much they align directionally. Cosine similarity then normalizes this projection by dividing by the magnitudes, reflecting the actual angle between the vectors and their true level of similarity.\n",
        "\n",
        "The cosine similarity is one way to measure the similarity/alignment between the query and key, however it is expensive to compute the L2 norm of Q and K. Instead, the authors found that normalizing by $\\sqrt{d}$ where $d$ is the dimension of the key (and query and value) performed well empircally.\n",
        "\n",
        "In other words:\n",
        "\n",
        "attention (alignment between keys and queries) = $\\frac{Q @ K^T} {\\sqrt{d}}$"
      ],
      "metadata": {
        "id": "BCpI5s2HRE8u"
      }
    },
    {
      "cell_type": "markdown",
      "source": [
        "## A closer look into attention\n",
        "\n",
        "$ attention = \\frac{Q @ K^T} {\\sqrt{d}}$\n",
        "\n",
        "Originally,\n",
        "\n",
        "$Q$ and $K$ are both of shape $[B, T, C]$ where $B$ is the batch size, $T$ is the number of timesteps, and $C$ is the number of channels/features.\n",
        "\n",
        "To simplify things, let's first not consider the batch dimension. In this case,\n",
        "\n",
        "$Q$ and $K$ are both of shape $[T, C]$\n",
        "\n",
        "$Q @ K^{T}$\n",
        "\n",
        "$\n",
        "\\begin{bmatrix}\n",
        "    \\dots \\hspace{-0.2cm} & q_1 & \\hspace{-0.2cm} \\dots \\\\\n",
        "    \\dots \\hspace{-0.2cm} & q_2 & \\hspace{-0.2cm} \\dots \\\\\n",
        "     \\hspace{-0.2cm} & \\vdots & \\hspace{-0.2cm} \\\\\n",
        "    \\dots \\hspace{-0.2cm} & q_T & \\hspace{-0.2cm} \\dots \\\\\n",
        "\\end{bmatrix}_{T \\times C}\n",
        "\\,\n",
        "\\times\n",
        "\\,\n",
        "\\begin{bmatrix}\n",
        "    \\vdots & \\vdots & & \\vdots \\\\\n",
        "    k_1   & k_2  & \\dots & k_T\\\\\n",
        "    \\vdots & \\vdots & & \\vdots\n",
        "\\end{bmatrix}_{C \\times T}\n",
        "\\,\n",
        "=\n",
        "\\,\n",
        "\\begin{bmatrix}\n",
        "\\text{how much token 1's query matches token 1's key} & \\text{how much token 1's query matches token 2's key} & \\dots \\\\\n",
        "\\text{how much token 2's query matches token 1's key} & \\text{how much token 2's query matches token 2's key} & \\dots \\\\\n",
        "\\vdots & \\vdots & \\vdots \\\\\n",
        "\\end{bmatrix}_{T \\times T}\n",
        "$\n",
        "\n",
        "\n",
        "In order to compute token a's features, it will emit $q_a$, representing what it is looking for. It will compare $q_a$ with the keys of the other tokens."
      ],
      "metadata": {
        "id": "FemRFlpfc2eN"
      }
    },
    {
      "cell_type": "markdown",
      "source": [
        "The output of $\\frac{Q@K^{T}}{\\sqrt{d_k}}$ is a matrix of how much each token should attend to other tokens in the sequence. Ideally we want the values to sum to 1 and all be positive. We want everything to sum to one (so that the scale of the attention across samples are the same). And we also want each attention value to be positive.\n",
        "\n",
        "Therefore, we will apply softmax!"
      ],
      "metadata": {
        "id": "EX7sFMttRoyO"
      }
    },
    {
      "cell_type": "code",
      "source": [
        "BATCH, SEQUENCE_LENGTH, CHANNELS = 4, 8, 2\n",
        "\n",
        "query = torch.randn((BATCH, SEQUENCE_LENGTH, CHANNELS)).float() # [4, 8, 2]\n",
        "key = torch.randn((BATCH, SEQUENCE_LENGTH, CHANNELS)).float() # [4, 8, 2]\n",
        "# k: [4, 8, 2] -> [4, 2, 8]\n",
        "# [4, 8, 2] @ [4, 2, 8]\n",
        "# # [8, 2] @ [2, 8] -> [8, 8]\n",
        "# [4, 8, 8]\n",
        "\n",
        "\n",
        "attention = (query @ key.transpose(-2, -1)) / torch.sqrt(torch.tensor(CHANNELS))\n",
        "\n",
        "print(attention[0])\n",
        "\n",
        "print(attention[0][0])\n",
        "normalized_attention = F.softmax(attention, -1)\n",
        "\n",
        "print(torch.sum(normalized_attention[0][0]))\n",
        "\n",
        "print(attention.shape)\n"
      ],
      "metadata": {
        "id": "2t_uyCcARmJ6",
        "colab": {
          "base_uri": "https://localhost:8080/"
        },
        "outputId": "0e8f2b17-66d4-43fb-e1af-b5903f408301"
      },
      "execution_count": null,
      "outputs": [
        {
          "output_type": "stream",
          "name": "stdout",
          "text": [
            "tensor([[ 2.6348,  0.7699,  1.7533, -0.1671, -0.5835, -2.4994,  1.4022,  0.1903],\n",
            "        [-0.3721, -1.4524, -1.3757, -0.4485, -0.2523,  0.4251, -0.0599, -0.9463],\n",
            "        [ 0.3111,  0.3961,  0.4632,  0.0875,  0.0071, -0.3115,  0.1342,  0.2313],\n",
            "        [ 0.3360, -1.6019, -1.2037, -0.6186, -0.4979, -0.2275,  0.3535, -1.1390],\n",
            "        [ 1.1014,  2.4664,  2.5335,  0.6836,  0.2903, -1.1599,  0.3658,  1.5470],\n",
            "        [-1.9820, -0.3584, -1.1336,  0.2032,  0.4939,  1.8683, -1.0775,  0.0079],\n",
            "        [-0.0044,  0.4729,  0.3952,  0.1669,  0.1191, -0.0213, -0.0510,  0.3241],\n",
            "        [ 1.5536, -0.1339,  0.5403, -0.3050, -0.4905, -1.4422,  0.8872, -0.2900]])\n",
            "tensor([ 2.6348,  0.7699,  1.7533, -0.1671, -0.5835, -2.4994,  1.4022,  0.1903])\n",
            "tensor(1.)\n",
            "torch.Size([4, 8, 8])\n"
          ]
        }
      ]
    },
    {
      "cell_type": "markdown",
      "source": [
        "This is the attention used in models like BERT (Bidirectional Encoder Representations from Transformers) where all tokens are allowed to talk to each other, however this will not work for the GPT model! Since the GPT tries to predict the next token, if you allow a token to talk to all the tokens in the sequence, including tokens that come after it, the model will be able to find shortcuts and cheat since it can see the representation of the next token.\n",
        "\n",
        "![bert](https://huggingface.co/blog/assets/52_bert_101/BERT-size-and-architecture.png)\n",
        "\n",
        "\n",
        "For GPTs, we want to block out all signals from future tokens. To do this, we will apply a binary mask to the attention matrix before we normalize it. Concretely, we apply a lower triangular mask using `torch.tril` and torch's `masked_fill` function.\n",
        "\n",
        "\n",
        "[masked_fill docs](https://pytorch.org/docs/stable/generated/torch.Tensor.masked_fill.html)\n",
        "\n"
      ],
      "metadata": {
        "id": "BeUbYO-LSXJZ"
      }
    },
    {
      "cell_type": "markdown",
      "source": [
        "![](https://miro.medium.com/v2/resize:fit:1400/1*HWX_kpOId4y-oep1qzSfCA.png)"
      ],
      "metadata": {
        "id": "3DYbUNseLXVK"
      }
    },
    {
      "cell_type": "markdown",
      "source": [
        "![](https://cdn.hashnode.com/res/hashnode/image/upload/v1638824585791/vkXCmdGyw.png?auto=compress,format&format=webp)\n",
        "\n",
        "![](https://blog.yunfeizhao.com/img/attention/mask_score.png)\n"
      ],
      "metadata": {
        "id": "fqY_4DvSLiGi"
      }
    },
    {
      "cell_type": "code",
      "source": [
        "mask = torch.tril(torch.ones(T, T))\n",
        "print(mask)"
      ],
      "metadata": {
        "colab": {
          "base_uri": "https://localhost:8080/"
        },
        "id": "xkXhSxoFSV-C",
        "outputId": "e818bd26-c210-4988-da44-e1cae9bd7811"
      },
      "execution_count": null,
      "outputs": [
        {
          "output_type": "stream",
          "name": "stdout",
          "text": [
            "tensor([[1., 0., 0., 0., 0., 0., 0., 0.],\n",
            "        [1., 1., 0., 0., 0., 0., 0., 0.],\n",
            "        [1., 1., 1., 0., 0., 0., 0., 0.],\n",
            "        [1., 1., 1., 1., 0., 0., 0., 0.],\n",
            "        [1., 1., 1., 1., 1., 0., 0., 0.],\n",
            "        [1., 1., 1., 1., 1., 1., 0., 0.],\n",
            "        [1., 1., 1., 1., 1., 1., 1., 0.],\n",
            "        [1., 1., 1., 1., 1., 1., 1., 1.]])\n"
          ]
        }
      ]
    },
    {
      "cell_type": "code",
      "source": [
        "masked_attention = attention.masked_fill(mask == 0, 0)\n",
        "print(masked_attention[0])"
      ],
      "metadata": {
        "id": "RNePcuOsRGeX",
        "colab": {
          "base_uri": "https://localhost:8080/"
        },
        "outputId": "011fce0c-c424-40a4-8270-c0e48151f3b6"
      },
      "execution_count": null,
      "outputs": [
        {
          "output_type": "stream",
          "name": "stdout",
          "text": [
            "tensor([[ 2.6348,  0.0000,  0.0000,  0.0000,  0.0000,  0.0000,  0.0000,  0.0000],\n",
            "        [-0.3721, -1.4524,  0.0000,  0.0000,  0.0000,  0.0000,  0.0000,  0.0000],\n",
            "        [ 0.3111,  0.3961,  0.4632,  0.0000,  0.0000,  0.0000,  0.0000,  0.0000],\n",
            "        [ 0.3360, -1.6019, -1.2037, -0.6186,  0.0000,  0.0000,  0.0000,  0.0000],\n",
            "        [ 1.1014,  2.4664,  2.5335,  0.6836,  0.2903,  0.0000,  0.0000,  0.0000],\n",
            "        [-1.9820, -0.3584, -1.1336,  0.2032,  0.4939,  1.8683,  0.0000,  0.0000],\n",
            "        [-0.0044,  0.4729,  0.3952,  0.1669,  0.1191, -0.0213, -0.0510,  0.0000],\n",
            "        [ 1.5536, -0.1339,  0.5403, -0.3050, -0.4905, -1.4422,  0.8872, -0.2900]])\n"
          ]
        }
      ]
    },
    {
      "cell_type": "code",
      "source": [
        "normalized_masked_attention = F.softmax(masked_attention, -1)\n",
        "print(torch.sum(normalized_masked_attention[0][0]))"
      ],
      "metadata": {
        "colab": {
          "base_uri": "https://localhost:8080/"
        },
        "id": "2XwmdCg3Rp87",
        "outputId": "4cf14250-6dca-4079-afd0-7a1c490a4465"
      },
      "execution_count": null,
      "outputs": [
        {
          "output_type": "stream",
          "name": "stdout",
          "text": [
            "tensor(1.0000)\n"
          ]
        }
      ]
    },
    {
      "cell_type": "code",
      "source": [
        "print(normalized_masked_attention[0])"
      ],
      "metadata": {
        "colab": {
          "base_uri": "https://localhost:8080/"
        },
        "id": "iJ4deNJ7UcsV",
        "outputId": "78846502-d0ca-49ec-e119-4e11d8cb50d7"
      },
      "execution_count": null,
      "outputs": [
        {
          "output_type": "stream",
          "name": "stdout",
          "text": [
            "tensor([[0.6657, 0.0478, 0.0478, 0.0478, 0.0478, 0.0478, 0.0478, 0.0478],\n",
            "        [0.0996, 0.0338, 0.1444, 0.1444, 0.1444, 0.1444, 0.1444, 0.1444],\n",
            "        [0.1446, 0.1574, 0.1683, 0.1059, 0.1059, 0.1059, 0.1059, 0.1059],\n",
            "        [0.2173, 0.0313, 0.0466, 0.0837, 0.1553, 0.1553, 0.1553, 0.1553],\n",
            "        [0.0893, 0.3495, 0.3738, 0.0588, 0.0397, 0.0297, 0.0297, 0.0297],\n",
            "        [0.0110, 0.0559, 0.0258, 0.0980, 0.1311, 0.5182, 0.0800, 0.0800],\n",
            "        [0.1068, 0.1721, 0.1593, 0.1268, 0.1208, 0.1050, 0.1019, 0.1073],\n",
            "        [0.3914, 0.0724, 0.1421, 0.0610, 0.0507, 0.0196, 0.2010, 0.0619]])\n"
          ]
        }
      ]
    },
    {
      "cell_type": "markdown",
      "source": [
        "Didn't we just mask it out? Why do have values there again?\n",
        "\n",
        "Recall that the definition of softmax is $\\frac{e^{x_i}}{\\sum_j{e^{x_j}}}$. So instead of setting all the values to 0, we want to make sure that the softmax is 0. We want the $e^x$ to be 0. We can set x to $-∞$. The numerator becomes $\\frac{1}{e^{\\infty}} → 0$.\n",
        "\n",
        "Let's code it."
      ],
      "metadata": {
        "id": "QV318E2OUm80"
      }
    },
    {
      "cell_type": "code",
      "source": [
        "mask = torch.tril(torch.ones(T, T))\n",
        "masked_attention = attention.masked_fill(mask == 0, float('-inf'))\n",
        "\n",
        "print(masked_attention[0])\n",
        "\n",
        "print(F.softmax(masked_attention, -1)[0])"
      ],
      "metadata": {
        "colab": {
          "base_uri": "https://localhost:8080/"
        },
        "id": "RTApOs9fUgP7",
        "outputId": "87e4215b-5707-4fab-f15d-e30f7a3fcd5f"
      },
      "execution_count": null,
      "outputs": [
        {
          "output_type": "stream",
          "name": "stdout",
          "text": [
            "tensor([[ 2.6348,    -inf,    -inf,    -inf,    -inf,    -inf,    -inf,    -inf],\n",
            "        [-0.3721, -1.4524,    -inf,    -inf,    -inf,    -inf,    -inf,    -inf],\n",
            "        [ 0.3111,  0.3961,  0.4632,    -inf,    -inf,    -inf,    -inf,    -inf],\n",
            "        [ 0.3360, -1.6019, -1.2037, -0.6186,    -inf,    -inf,    -inf,    -inf],\n",
            "        [ 1.1014,  2.4664,  2.5335,  0.6836,  0.2903,    -inf,    -inf,    -inf],\n",
            "        [-1.9820, -0.3584, -1.1336,  0.2032,  0.4939,  1.8683,    -inf,    -inf],\n",
            "        [-0.0044,  0.4729,  0.3952,  0.1669,  0.1191, -0.0213, -0.0510,    -inf],\n",
            "        [ 1.5536, -0.1339,  0.5403, -0.3050, -0.4905, -1.4422,  0.8872, -0.2900]])\n",
            "tensor([[1.0000, 0.0000, 0.0000, 0.0000, 0.0000, 0.0000, 0.0000, 0.0000],\n",
            "        [0.7466, 0.2534, 0.0000, 0.0000, 0.0000, 0.0000, 0.0000, 0.0000],\n",
            "        [0.3074, 0.3347, 0.3579, 0.0000, 0.0000, 0.0000, 0.0000, 0.0000],\n",
            "        [0.5736, 0.0826, 0.1230, 0.2208, 0.0000, 0.0000, 0.0000, 0.0000],\n",
            "        [0.0980, 0.3837, 0.4103, 0.0645, 0.0435, 0.0000, 0.0000, 0.0000],\n",
            "        [0.0131, 0.0666, 0.0307, 0.1167, 0.1561, 0.6169, 0.0000, 0.0000],\n",
            "        [0.1196, 0.1928, 0.1784, 0.1420, 0.1354, 0.1176, 0.1142, 0.0000],\n",
            "        [0.3914, 0.0724, 0.1421, 0.0610, 0.0507, 0.0196, 0.2010, 0.0619]])\n"
          ]
        }
      ]
    },
    {
      "cell_type": "markdown",
      "source": [
        "To summarize, to compute the attention we use in the transformer we do:\n",
        "\n",
        "1. (q @ k.T) / sqrt(d)\n",
        "2. apply mask so we do not use tokens from the future with a fill_value of -inf\n",
        "3. apply softmax so we get normalized attention values"
      ],
      "metadata": {
        "id": "R5SkS35lZt09"
      }
    },
    {
      "cell_type": "markdown",
      "source": [
        "To get our contextual representations we do:\n",
        "\n",
        "v = value(x)\n",
        "\n",
        "out = attention @ v # (B, T, T) @ (B, T, C) -> (B, T, C)\n",
        "\n",
        "Note that we use v instead of x directly. It adds additional expressiveness. The attention can be \"specialized\". And we can have different attention heads looking for different things.\n",
        "\n",
        "For simplicity let's ignore the batch dimension.\n",
        "\n",
        "Suppose v is [T, C] = [3, 2]\n",
        "\n",
        "and attention [T, T] = [3, 3]\n",
        "\n",
        "$\n",
        "\\begin{pmatrix}\n",
        "1 & 0 & 0 \\\\\n",
        "0.2 & 0.8 & 0 \\\\\n",
        "0.1 & 0.6 & 0.3\n",
        "\\end{pmatrix}\n",
        "\\times\n",
        "\\begin{pmatrix}\n",
        "channel\\ 1_{token\\ 1} & channel\\ 2_{token\\ 1} \\\\\n",
        "channel\\ 1_{token\\ 2} & channel\\ 2_{token\\ 2} \\\\\n",
        "channel\\ 1_{token\\ 3} & channel\\ 2_{token\\ 3} \\\\\n",
        "\\end{pmatrix}\n",
        "=\n",
        "\\begin{pmatrix}\n",
        "contextualized\\ channel\\ 1_{token\\ 1} & contextualized\\ channel\\ 2_{token\\ 1} \\\\\n",
        "contextualized\\ channel\\ 1_{token\\ 2} & contextualized\\ channel\\ 2_{token\\ 2} \\\\\n",
        "contextualized\\ channel\\ 1_{token\\ 3} & contextualized\\ channel\\ 2_{token\\ 3} \\\\\n",
        "\\end{pmatrix}\n",
        "$"
      ],
      "metadata": {
        "id": "6cutqtbfe-a_"
      }
    },
    {
      "cell_type": "code",
      "source": [
        "class SelfAttentionHead(nn.Module):\n",
        "    \"\"\" one head of self-attention \"\"\"\n",
        "    def __init__(self):\n",
        "        super().__init__()\n",
        "        self.k_proj = nn.Linear(2, 2, bias=False)\n",
        "        self.q_proj = nn.Linear(2, 2, bias=False)\n",
        "        self.v_proj = nn.Linear(2, 2, bias=False)\n",
        "\n",
        "    def forward(self, x):\n",
        "        B, T, C = x.shape\n",
        "        k = self.k_proj(x)      # (B,T,C)\n",
        "        q = self.q_proj(x)      # (B,T,C)\n",
        "\n",
        "        attention = q @ k.transpose(-2,-1) / C**0.5 # (B, T, C) @ (B, C, T) -> (B, T, T)\n",
        "\n",
        "        mask = torch.tril(torch.ones(T, T))\n",
        "        masked_attention = attention.masked_fill(mask == 0, float('-inf'))\n",
        "        masked_attention = F.softmax(masked_attention, dim=-1) # (B, T, T)\n",
        "\n",
        "        # perform the weighted aggregation of the values\n",
        "        v = self.v_proj(x) # (B,T,C)\n",
        "        out = masked_attention @ v # (B, T, T) @ (B, T, C) -> (B, T, C)\n",
        "        return out"
      ],
      "metadata": {
        "id": "OPp3p4X2QusV"
      },
      "execution_count": null,
      "outputs": []
    },
    {
      "cell_type": "code",
      "source": [
        "x = torch.randn((4, 8, 2))\n",
        "attn = SelfAttentionHead()\n",
        "print(attn(x).shape)"
      ],
      "metadata": {
        "colab": {
          "base_uri": "https://localhost:8080/"
        },
        "id": "Iad8EpOmYuj4",
        "outputId": "2d554fa6-ec18-440e-96f5-ce3267387428"
      },
      "execution_count": null,
      "outputs": [
        {
          "output_type": "stream",
          "name": "stdout",
          "text": [
            "torch.Size([4, 8, 2])\n"
          ]
        }
      ]
    },
    {
      "cell_type": "markdown",
      "source": [
        "### Poor scaling\n",
        "n^2 comparisons\n",
        "\n",
        "\n",
        "### Positional Encodings\n",
        "\n",
        "![](https://i.stack.imgur.com/bFPI9.png)\n",
        "notice how we were doing pairwise comparisons between tokens' key and query vectors. Attention is on operation on sets. It has no idea which tokens come in which order. So we need to encode the positional information into our features. We typically do this by computing a positional embedding and adding that to our token embeddings and using this sum as the input into the network.\n",
        "\n"
      ],
      "metadata": {
        "id": "2zbVHeZqw4rN"
      }
    },
    {
      "cell_type": "code",
      "source": [
        "from torch import nn\n",
        "\n",
        "positional_embedding_layer = nn.Embedding(8, 2)\n",
        "positional_embedding = positional_embedding_layer(torch.arange(8).expand_dims(0))\n",
        "\n",
        "token_embedding_layer = nn.Embedding(26, 2)\n",
        "token_embedding = token_embedding_layer(torch.randint(0, 25, (8,)).expand_dims(0))\n",
        "\n",
        "net_input = token_embedding + positional_embedding\n",
        "\n",
        "print(net_input.shape) # [1, 8, 2]"
      ],
      "metadata": {
        "colab": {
          "base_uri": "https://localhost:8080/"
        },
        "id": "hNw4L4wFyETg",
        "outputId": "0e7aafaf-ccc0-4f89-9087-1a525a5ee3f4"
      },
      "execution_count": null,
      "outputs": [
        {
          "output_type": "stream",
          "name": "stdout",
          "text": [
            "torch.Size([8, 2])\n"
          ]
        }
      ]
    },
    {
      "cell_type": "markdown",
      "source": [
        "#### Dropout\n",
        "\n",
        "Dropout is a regularization technique used in neural networks to prevent overfitting. The basic idea is to randomly \"drop out\" (i.e., set to zero) a fraction of the output features of the layer during training. This forces the network to not rely on any single feature, thus making it more robust and preventing overfitting.\n",
        "\n",
        "Two steps:\n",
        "1. Zeroing out: A proportion of the units (determined by the dropout probability p) are randomly set to zero.\n",
        "\n",
        "2. Scaling: The remaining nonzero units are scaled up by a factor of 1/(1-p). This is done to keep the average activation of the units the same as it would be without dropout.\n",
        "\n",
        "During training, dropout is only active, but during model evaluation (i.e., testing), dropout is deactivated, and the full network is used. This is why it's important to set the model to .eval() mode during testing, which disables dropout (and other training-specific layers like batch normalization)\n",
        "\n",
        "Also since, $p=0$ during evaluation notice that the scaling is just the identity."
      ],
      "metadata": {
        "id": "6HYFLAU9Hq0f"
      }
    },
    {
      "cell_type": "markdown",
      "source": [
        "![](https://python-course.eu/images/machine-learning/weights_input2hidden_dropout_i2_800w.webp)"
      ],
      "metadata": {
        "id": "sK9tXDo__DCI"
      }
    },
    {
      "cell_type": "code",
      "source": [
        "import torch\n",
        "import torch.nn as nn\n",
        "\n",
        "# Create a dropout layer with 50% probability\n",
        "dropout = nn.Dropout(p=0.5)\n",
        "\n",
        "# Create a small tensor for demonstration\n",
        "x = torch.randn(2, 5)  # a 2x5 tensor\n",
        "original_x = x.clone()\n",
        "\n",
        "# Apply dropout\n",
        "dropped_out_x = dropout(x)\n",
        "\n",
        "# Log the original and dropout-applied tensors\n",
        "original_x, dropped_out_x"
      ],
      "metadata": {
        "colab": {
          "base_uri": "https://localhost:8080/"
        },
        "id": "OxfkxqQEH9aD",
        "outputId": "e864ec15-47a1-4837-a367-261bde4e76e4"
      },
      "execution_count": null,
      "outputs": [
        {
          "output_type": "execute_result",
          "data": {
            "text/plain": [
              "(tensor([[-0.5247, -0.9767,  1.0051,  1.1078,  0.5167],\n",
              "         [ 0.0961,  0.0590, -1.4138, -0.3670,  1.5825]]),\n",
              " tensor([[-0.0000, -0.0000,  2.0102,  2.2155,  0.0000],\n",
              "         [ 0.1922,  0.0000, -2.8275, -0.0000,  3.1649]]))"
            ]
          },
          "metadata": {},
          "execution_count": 77
        }
      ]
    },
    {
      "cell_type": "code",
      "source": [
        "import torch\n",
        "import torch.nn as nn\n",
        "\n",
        "# eval\n",
        "\n",
        "dropout = nn.Dropout(p=0.0)\n",
        "\n",
        "# Create a small tensor for demonstration\n",
        "x = torch.randn(2, 5)  # a 2x5 tensor\n",
        "original_x = x.clone()\n",
        "\n",
        "# Apply dropout\n",
        "dropped_out_x = dropout(x)\n",
        "\n",
        "# Log the original and dropout-applied tensors\n",
        "original_x, dropped_out_x"
      ],
      "metadata": {
        "colab": {
          "base_uri": "https://localhost:8080/"
        },
        "id": "-eDOH7OtKUpx",
        "outputId": "9921148f-4e97-448a-b111-c24218022808"
      },
      "execution_count": null,
      "outputs": [
        {
          "output_type": "execute_result",
          "data": {
            "text/plain": [
              "(tensor([[-0.0568, -1.0838,  0.2434,  0.3116,  0.0248],\n",
              "         [ 0.5816,  0.1211,  0.8924,  0.9162, -0.5999]]),\n",
              " tensor([[-0.0568, -1.0838,  0.2434,  0.3116,  0.0248],\n",
              "         [ 0.5816,  0.1211,  0.8924,  0.9162, -0.5999]]))"
            ]
          },
          "metadata": {},
          "execution_count": 78
        }
      ]
    },
    {
      "cell_type": "markdown",
      "source": [
        "Question: Does dropout operate on the weights or the data/features?"
      ],
      "metadata": {
        "id": "2d-hyBdQKVcs"
      }
    },
    {
      "cell_type": "markdown",
      "source": [
        "Quick note on layernorm:\n",
        "\n",
        "![](https://i.ibb.co/BfgTjGQ/Picture1.png)\n",
        "\n",
        "It works by normalizing the values across each feature in a single data sample, instead of across the batch like batch normalization. For each data point, it calculates the mean and variance for that point across all features. Then, it uses these values to normalize the features.\n",
        "\n",
        "Result: After normalization, the features of each data sample in a layer have a mean of zero and a variance of one. This standardization helps to avoid issues where the scale of the input varies widely, which can make training a neural network more difficult.\n",
        "\n",
        "layernorm: for a single sample in the batch, collect all features for all positions and normalize\n",
        "\n",
        "batchnorm: for a single feature, collect all samples for all positions and normalize"
      ],
      "metadata": {
        "id": "CPz-8Cxmwu0g"
      }
    },
    {
      "cell_type": "markdown",
      "source": [
        "### Sampling\n",
        "\n",
        "Top P Sampling: selecting the next token randomly from the smallest set of tokens for which the cumulative probability exceeds a specified value, p. (Top-p sampling is also called nucleus sampling.)\n",
        "\n",
        "Top K Sampling: sample between the top K tokens with the high probabilties\n",
        "\n",
        "Temperature sampling\n",
        "\n",
        "\n"
      ],
      "metadata": {
        "id": "uXnKk7LSQhbB"
      }
    },
    {
      "cell_type": "markdown",
      "source": [
        "<!-- Terminology\n",
        "0. self attention\n",
        "1. cross attention\n",
        "2. encoder only\n",
        "3. decoder only\n",
        "4. encoder decoder -->"
      ],
      "metadata": {
        "id": "UGM9VRQcAZbo"
      }
    }
  ]
}
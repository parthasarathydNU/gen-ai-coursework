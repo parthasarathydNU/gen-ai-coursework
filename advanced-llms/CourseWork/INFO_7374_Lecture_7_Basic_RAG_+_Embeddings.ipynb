{
  "cells": [
    {
      "cell_type": "markdown",
      "metadata": {
        "id": "view-in-github",
        "colab_type": "text"
      },
      "source": [
        "<a href=\"https://colab.research.google.com/github/parthasarathydNU/gen-ai-coursework/blob/main/advanced-llms/CourseWork/INFO_7374_Lecture_7_Basic_RAG_%2B_Embeddings.ipynb\" target=\"_parent\"><img src=\"https://colab.research.google.com/assets/colab-badge.svg\" alt=\"Open In Colab\"/></a>"
      ]
    },
    {
      "cell_type": "markdown",
      "metadata": {
        "id": "NK24jacO5P5r"
      },
      "source": [
        "# Retrieval Augmented Generation"
      ]
    },
    {
      "cell_type": "markdown",
      "source": [],
      "metadata": {
        "id": "69qBYIhs-Nn3"
      }
    },
    {
      "cell_type": "markdown",
      "metadata": {
        "id": "W1Ye-OoUIr9o"
      },
      "source": [
        "## Why RAG?\n",
        "Retrieval augmented generation (RAG) is an important technique for improving the performance and reliability of large language models (LLMs) by grounding their responses in external knowledge sources. RAG addresses a few key problems:\n",
        "\n",
        "### Keeping LLMs Up-to-Date\n",
        "LLMs are trained on vast amounts of data, but that training data can become stale over time. RAG allows LLMs to access the most current information when generating responses, without needing to retrain the model.\n",
        "\n",
        "### Enhancing Accuracy on Specific Domains\n",
        "While LLMs have broad general knowledge, they may struggle with domain-specific questions that require expert-level understanding. RAG can enhance LLM accuracy on niche topics by retrieving relevant information from specialized knowledge bases.\n",
        "\n",
        "### Providing Verifiability and Citations\n",
        "RAG systems typically cite the external sources used to generate a response. This allows users to verify the accuracy of the information and provides transparency into the model's decision making process.\n",
        "\n",
        "### Mitigating \"Hallucinations\"\n",
        "LLMs can sometimes generate false or nonsensical information, known as hallucinations. By grounding responses in authoritative external sources, RAG helps reduce these hallucinations and improves overall reliability."
      ]
    },
    {
      "cell_type": "markdown",
      "metadata": {
        "id": "DEsgIZLcHkMp"
      },
      "source": [
        "![](https://blogs.nvidia.com/wp-content/uploads/2023/11/NVIDIA-RAG-diagram-scaled.jpg.webp)"
      ]
    },
    {
      "cell_type": "markdown",
      "metadata": {
        "id": "lCN4pKBhJUNb"
      },
      "source": [
        "## Basic RAG Algorithm Outline\n",
        "\n",
        "### Retrieval Phase\n",
        "1. The user provides an input query or prompt.\n",
        "2. The RAG system uses the query to search an external knowledge base (e.g. a database, website, or document collection) and retrieves the most relevant snippets of information. This is typically done using semantic search technologies that can map the query to the relevant documents more accurately than keyword-based search.\n",
        "\n",
        "### Generation Phase\n",
        "3. The retrieved information snippets are concatenated with the original user query to form the input to a language model, usually a large pre-trained model like GPT-3.\n",
        "4. The language model generates a response based on the query and the retrieved context, using its internal knowledge as well as the external information provided.\n",
        "5. The generated response aims to directly answer the query by combining the language model's broad knowledge with the specific, up-to-date, and relevant information from the external sources."
      ]
    },
    {
      "cell_type": "markdown",
      "metadata": {
        "id": "TROMKemhKYDn"
      },
      "source": [
        "## Basic RAG Implementation with `transformers`"
      ]
    },
    {
      "cell_type": "code",
      "execution_count": null,
      "metadata": {
        "id": "GIofiqU6_zBa"
      },
      "outputs": [],
      "source": [
        "from transformers import BertTokenizer, BertModel\n",
        "from sklearn.metrics.pairwise import cosine_similarity\n",
        "import torch\n"
      ]
    },
    {
      "cell_type": "code",
      "execution_count": null,
      "metadata": {
        "id": "O-WTspHzFDOE"
      },
      "outputs": [],
      "source": [
        "# Define the corpus of documents\n",
        "corpus = [\n",
        "    \"Elephants are the largest land mammals on Earth and can weigh up to 6 tons.\",\n",
        "    \"Cheetahs are the fastest land animals and can reach speeds of up to 70 mph.\",\n",
        "    \"France is a country located in Western Europe, known for its art, cuisine, and fashion.\",\n",
        "    \"The capital of France is Paris, which is also known as the City of Light.\",\n",
        "    \"Australia is the world's sixth-largest country by total area and is home to unique wildlife like kangaroos and koalas.\",\n",
        "    \"Brazil is the largest country in South America and is known for its vibrant culture, including the Carnival festival.\"\n",
        "]"
      ]
    },
    {
      "cell_type": "code",
      "execution_count": null,
      "metadata": {
        "id": "6XmJViEaFEda"
      },
      "outputs": [],
      "source": [
        "# Initialize BERT tokenizer and model (document) -> vector/embedding/single list of floats\n",
        "# Bert([1, T, C]) -> [1, T, C] -> Average over T's dim -> [1, 1, C] -> Goal: [1, C]\n",
        "# [[1, 2], [3, 4], [5, 6]] -> [3 tokens, each token has 2 features]\n",
        "\n",
        "# [[3, 4]] -> average over T's dim, [1, T, C] -> [1, C]\n",
        "\n",
        "# [CLS]the brown fox[SEP]\n",
        "# [CLS] token's representation\n",
        "\n",
        "# [[1, 2], [3, 4], [5, 6]] -> [[1, 2]]\n",
        "\n",
        "tokenizer = BertTokenizer.from_pretrained('bert-base-uncased')\n",
        "model = BertModel.from_pretrained('bert-base-uncased')"
      ]
    },
    {
      "cell_type": "markdown",
      "metadata": {
        "id": "_xPqZqcjFh2x"
      },
      "source": [
        "The line `outputs.last_hidden_state[0, 0, :]` is extracting a specific part of the output from the BERT model.\n",
        "\n",
        "#### BERT Model Output\n",
        "- When you pass an input through the BERT model, it generates an output tensor called `last_hidden_state`.\n",
        "- This tensor has the shape `(batch_size, sequence_length, hidden_size)`, where:\n",
        "  - `batch_size` is the number of input sequences (in this case, it's 1 since we process one document at a time)\n",
        "  - `sequence_length` is the length of the input sequence (padded or truncated to a fixed length)\n",
        "  - `hidden_size` is the dimensionality of the hidden states in BERT (usually 768 for the base model)\n",
        "\n",
        "#### Indexing the Output Tensor\n",
        "- `outputs.last_hidden_state[0, 0, :]` is indexing into the `last_hidden_state` tensor:\n",
        "  - The first index `0` selects the first (and only) sequence in the batch.\n",
        "  - The second index `0` selects the hidden state corresponding to the first token in the sequence, which is typically the `[CLS]` token.\n",
        "  - The `:` means we select all elements along the last dimension, i.e., the entire hidden state vector.\n",
        "\n",
        "#### Significance of `[CLS]` Token\n",
        "- In BERT, the `[CLS]` token is added to the beginning of every input sequence.\n",
        "- The hidden state corresponding to the `[CLS]` token is often used as an aggregate representation of the entire input sequence.\n",
        "- By selecting `outputs.last_hidden_state[0, 0, :]`, we are essentially extracting the `[CLS]` token's hidden state, which serves as an embedding for the entire document.\n",
        "\n",
        "\n",
        "So in summary, `outputs.last_hidden_state[0, 0, :]` extracts the hidden state of the `[CLS]` token from the BERT model's output, which represents the entire input document, to be used for similarity calculations."
      ]
    },
    {
      "cell_type": "code",
      "execution_count": null,
      "metadata": {
        "id": "ADpQGjM0FEgT"
      },
      "outputs": [],
      "source": [
        "# Encode the corpus documents\n",
        "corpus_embeddings = []\n",
        "for doc in corpus:\n",
        "    inputs = tokenizer(doc, return_tensors='pt', max_length=512, truncation=True, padding=True)\n",
        "    with torch.no_grad():\n",
        "        outputs = model(**inputs)\n",
        "        doc_embedding = outputs.last_hidden_state[0, 0, :].numpy()\n",
        "    corpus_embeddings.append(doc_embedding)"
      ]
    },
    {
      "cell_type": "code",
      "execution_count": null,
      "metadata": {
        "id": "nWnTjyWKFEit"
      },
      "outputs": [],
      "source": [
        "# Function to retrieve relevant documents based on query\n",
        "def retrieve_docs(query, top_k=2):\n",
        "    query_inputs = tokenizer(query, return_tensors='pt', max_length=512, truncation=True, padding=True)\n",
        "    with torch.no_grad():\n",
        "        query_outputs = model(**query_inputs)\n",
        "        query_embedding = query_outputs.last_hidden_state[0, 0, :].numpy()\n",
        "\n",
        "    similarities = cosine_similarity([query_embedding], corpus_embeddings)[0]\n",
        "    top_indices = similarities.argsort()[-top_k:][::-1]\n",
        "    retrieved_docs = [corpus[i] for i in top_indices]\n",
        "    retrieved_similarities = [similarities[i] for i in top_indices]\n",
        "\n",
        "    return retrieved_docs, retrieved_similarities"
      ]
    },
    {
      "cell_type": "code",
      "execution_count": null,
      "metadata": {
        "id": "wrgNvxIqFMaG"
      },
      "outputs": [],
      "source": [
        "# Example usage\n",
        "query = \"What is the capital of France?\"\n",
        "relevant_docs, similarities = retrieve_docs(query)"
      ]
    },
    {
      "cell_type": "code",
      "execution_count": null,
      "metadata": {
        "colab": {
          "base_uri": "https://localhost:8080/"
        },
        "id": "7beSpf0xFQMR",
        "outputId": "d6504cff-183c-4ddb-d8ec-40939217c453"
      },
      "outputs": [
        {
          "name": "stdout",
          "output_type": "stream",
          "text": [
            "Query: What is the capital of France?\n",
            "\n",
            "Relevant documents:\n",
            "Document 1: France is a country located in Western Europe, known for its art, cuisine, and fashion. (Similarity: 0.8476)\n",
            "Document 2: The capital of France is Paris, which is also known as the City of Light. (Similarity: 0.8283)\n"
          ]
        }
      ],
      "source": [
        "# Format the retrieved documents as context\n",
        "context = \"\\n\".join([f\"Document {i+1}: {doc} (Similarity: {sim:.4f})\" for i, (doc, sim) in enumerate(zip(relevant_docs, similarities))])\n",
        "formatted_context = f\"Query: {query}\\n\\nRelevant documents:\\n{context}\"\n",
        "\n",
        "print(formatted_context)"
      ]
    },
    {
      "cell_type": "markdown",
      "metadata": {
        "id": "S8MrHPL95PAS"
      },
      "source": [
        "## Basic RAG Implementation with `LlamaIndex`"
      ]
    },
    {
      "cell_type": "code",
      "execution_count": null,
      "metadata": {
        "colab": {
          "base_uri": "https://localhost:8080/"
        },
        "id": "Udt4-EXc5WqX",
        "outputId": "210f0228-ee82-4b8c-e2b8-4a9db5aa4d4d"
      },
      "outputs": [
        {
          "name": "stdout",
          "output_type": "stream",
          "text": [
            "\u001b[2K     \u001b[90m━━━━━━━━━━━━━━━━━━━━━━━━━━━━━━━━━━━━━━━━\u001b[0m \u001b[32m23.7/23.7 MB\u001b[0m \u001b[31m31.1 MB/s\u001b[0m eta \u001b[36m0:00:00\u001b[0m\n",
            "\u001b[2K     \u001b[90m━━━━━━━━━━━━━━━━━━━━━━━━━━━━━━━━━━━━━━━━\u001b[0m \u001b[32m823.6/823.6 kB\u001b[0m \u001b[31m24.5 MB/s\u001b[0m eta \u001b[36m0:00:00\u001b[0m\n",
            "\u001b[2K     \u001b[90m━━━━━━━━━━━━━━━━━━━━━━━━━━━━━━━━━━━━━━━━\u001b[0m \u001b[32m14.1/14.1 MB\u001b[0m \u001b[31m41.8 MB/s\u001b[0m eta \u001b[36m0:00:00\u001b[0m\n",
            "\u001b[2K     \u001b[90m━━━━━━━━━━━━━━━━━━━━━━━━━━━━━━━━━━━━━━━━\u001b[0m \u001b[32m731.7/731.7 MB\u001b[0m \u001b[31m1.5 MB/s\u001b[0m eta \u001b[36m0:00:00\u001b[0m\n",
            "\u001b[2K     \u001b[90m━━━━━━━━━━━━━━━━━━━━━━━━━━━━━━━━━━━━━━━━\u001b[0m \u001b[32m410.6/410.6 MB\u001b[0m \u001b[31m1.2 MB/s\u001b[0m eta \u001b[36m0:00:00\u001b[0m\n",
            "\u001b[2K     \u001b[90m━━━━━━━━━━━━━━━━━━━━━━━━━━━━━━━━━━━━━━━━\u001b[0m \u001b[32m121.6/121.6 MB\u001b[0m \u001b[31m9.0 MB/s\u001b[0m eta \u001b[36m0:00:00\u001b[0m\n",
            "\u001b[2K     \u001b[90m━━━━━━━━━━━━━━━━━━━━━━━━━━━━━━━━━━━━━━━━\u001b[0m \u001b[32m56.5/56.5 MB\u001b[0m \u001b[31m10.1 MB/s\u001b[0m eta \u001b[36m0:00:00\u001b[0m\n",
            "\u001b[2K     \u001b[90m━━━━━━━━━━━━━━━━━━━━━━━━━━━━━━━━━━━━━━━━\u001b[0m \u001b[32m124.2/124.2 MB\u001b[0m \u001b[31m6.7 MB/s\u001b[0m eta \u001b[36m0:00:00\u001b[0m\n",
            "\u001b[2K     \u001b[90m━━━━━━━━━━━━━━━━━━━━━━━━━━━━━━━━━━━━━━━━\u001b[0m \u001b[32m196.0/196.0 MB\u001b[0m \u001b[31m2.5 MB/s\u001b[0m eta \u001b[36m0:00:00\u001b[0m\n",
            "\u001b[2K     \u001b[90m━━━━━━━━━━━━━━━━━━━━━━━━━━━━━━━━━━━━━━━━\u001b[0m \u001b[32m166.0/166.0 MB\u001b[0m \u001b[31m6.5 MB/s\u001b[0m eta \u001b[36m0:00:00\u001b[0m\n",
            "\u001b[2K     \u001b[90m━━━━━━━━━━━━━━━━━━━━━━━━━━━━━━━━━━━━━━━━\u001b[0m \u001b[32m99.1/99.1 kB\u001b[0m \u001b[31m11.4 MB/s\u001b[0m eta \u001b[36m0:00:00\u001b[0m\n",
            "\u001b[2K     \u001b[90m━━━━━━━━━━━━━━━━━━━━━━━━━━━━━━━━━━━━━━━━\u001b[0m \u001b[32m21.1/21.1 MB\u001b[0m \u001b[31m66.0 MB/s\u001b[0m eta \u001b[36m0:00:00\u001b[0m\n",
            "\u001b[?25h"
          ]
        }
      ],
      "source": [
        "!pip install -q llama-index langchain sentence_transformers"
      ]
    },
    {
      "cell_type": "code",
      "execution_count": null,
      "metadata": {
        "colab": {
          "base_uri": "https://localhost:8080/",
          "height": 401
        },
        "id": "OElYT1My7bv9",
        "outputId": "cbcf6176-8fb9-41ea-f9b4-611fe9e9fe80"
      },
      "outputs": [
        {
          "output_type": "error",
          "ename": "ModuleNotFoundError",
          "evalue": "No module named 'llama_index'",
          "traceback": [
            "\u001b[0;31m---------------------------------------------------------------------------\u001b[0m",
            "\u001b[0;31mModuleNotFoundError\u001b[0m                       Traceback (most recent call last)",
            "\u001b[0;32m<ipython-input-1-43343e8b08a3>\u001b[0m in \u001b[0;36m<cell line: 1>\u001b[0;34m()\u001b[0m\n\u001b[0;32m----> 1\u001b[0;31m \u001b[0;32mfrom\u001b[0m \u001b[0mllama_index\u001b[0m\u001b[0;34m.\u001b[0m\u001b[0mcore\u001b[0m\u001b[0;34m.\u001b[0m\u001b[0mservice_context\u001b[0m \u001b[0;32mimport\u001b[0m \u001b[0mset_global_service_context\u001b[0m\u001b[0;34m\u001b[0m\u001b[0;34m\u001b[0m\u001b[0m\n\u001b[0m\u001b[1;32m      2\u001b[0m \u001b[0;32mfrom\u001b[0m \u001b[0mlangchain\u001b[0m\u001b[0;34m.\u001b[0m\u001b[0membeddings\u001b[0m\u001b[0;34m.\u001b[0m\u001b[0mhuggingface\u001b[0m \u001b[0;32mimport\u001b[0m \u001b[0mHuggingFaceEmbeddings\u001b[0m\u001b[0;34m\u001b[0m\u001b[0;34m\u001b[0m\u001b[0m\n\u001b[1;32m      3\u001b[0m \u001b[0;32mfrom\u001b[0m \u001b[0mllama_index\u001b[0m\u001b[0;34m.\u001b[0m\u001b[0mcore\u001b[0m \u001b[0;32mimport\u001b[0m \u001b[0mServiceContext\u001b[0m\u001b[0;34m\u001b[0m\u001b[0;34m\u001b[0m\u001b[0m\n\u001b[1;32m      4\u001b[0m \u001b[0;32mfrom\u001b[0m \u001b[0mllama_index\u001b[0m\u001b[0;34m.\u001b[0m\u001b[0mlegacy\u001b[0m\u001b[0;34m.\u001b[0m\u001b[0membeddings\u001b[0m\u001b[0;34m.\u001b[0m\u001b[0mlangchain\u001b[0m \u001b[0;32mimport\u001b[0m \u001b[0mLangchainEmbedding\u001b[0m\u001b[0;34m\u001b[0m\u001b[0;34m\u001b[0m\u001b[0m\n\u001b[1;32m      5\u001b[0m \u001b[0;34m\u001b[0m\u001b[0m\n",
            "\u001b[0;31mModuleNotFoundError\u001b[0m: No module named 'llama_index'",
            "",
            "\u001b[0;31m---------------------------------------------------------------------------\u001b[0;32m\nNOTE: If your import is failing due to a missing package, you can\nmanually install dependencies using either !pip or !apt.\n\nTo view examples of installing some common dependencies, click the\n\"Open Examples\" button below.\n\u001b[0;31m---------------------------------------------------------------------------\u001b[0m\n"
          ],
          "errorDetails": {
            "actions": [
              {
                "action": "open_url",
                "actionText": "Open Examples",
                "url": "/notebooks/snippets/importing_libraries.ipynb"
              }
            ]
          }
        }
      ],
      "source": [
        "from llama_index.core.service_context import set_global_service_context\n",
        "from langchain.embeddings.huggingface import HuggingFaceEmbeddings\n",
        "from llama_index.core import ServiceContext\n",
        "from llama_index.legacy.embeddings.langchain import LangchainEmbedding\n",
        "\n",
        "embed_model = LangchainEmbedding(\n",
        "  HuggingFaceEmbeddings(model_name=\"google-bert/bert-base-uncased\")\n",
        ")\n",
        "service_context = ServiceContext.from_defaults(llm=None, embed_model=embed_model)\n",
        "\n",
        "set_global_service_context(service_context)"
      ]
    },
    {
      "cell_type": "code",
      "execution_count": null,
      "metadata": {
        "colab": {
          "base_uri": "https://localhost:8080/"
        },
        "id": "qXzpwFe_5qqD",
        "outputId": "4b5c91ce-395e-4890-fd2d-0b124d1807ba"
      },
      "outputs": [
        {
          "name": "stdout",
          "output_type": "stream",
          "text": [
            "Query: What is the capital of France?\n",
            "\n",
            "Relevant documents:\n",
            "Document 1: The capital of France is Paris, which is also known as the City of Light. Score: 0.6060559045354293\n",
            "Document 2: France is a country located in Western Europe, known for its art, cuisine, and fashion. Score: 0.5757815762461471\n"
          ]
        }
      ],
      "source": [
        "from llama_index.core import VectorStoreIndex, SimpleDirectoryReader\n",
        "from transformers import BertTokenizer, BertModel\n",
        "import torch\n",
        "from pathlib import Path\n",
        "\n",
        "# Define the corpus of documents\n",
        "corpus = [\n",
        "    \"Elephants are the largest land mammals on Earth and can weigh up to 6 tons.\",\n",
        "    \"Cheetahs are the fastest land animals and can reach speeds of up to 70 mph.\",\n",
        "    \"France is a country located in Western Europe, known for its art, cuisine, and fashion.\",\n",
        "    \"The capital of France is Paris, which is also known as the City of Light.\",\n",
        "    \"Australia is the world's sixth-largest country by total area and is home to unique wildlife like kangaroos and koalas.\",\n",
        "    \"Brazil is the largest country in South America and is known for its vibrant culture, including the Carnival festival.\"\n",
        "]\n",
        "\n",
        "# Save the corpus documents to a directory\n",
        "corpus_dir = \"corpus_docs\"\n",
        "Path(corpus_dir).mkdir(exist_ok=True)\n",
        "for i, doc in enumerate(corpus):\n",
        "    with open(f\"{corpus_dir}/doc_{i}.txt\", \"w\") as f:\n",
        "        f.write(doc)\n",
        "\n",
        "# Load documents from the directory\n",
        "documents = SimpleDirectoryReader(corpus_dir).load_data()\n",
        "\n",
        "# Initialize BERT tokenizer and model\n",
        "tokenizer = BertTokenizer.from_pretrained('bert-base-uncased')\n",
        "model = BertModel.from_pretrained('bert-base-uncased')\n",
        "\n",
        "# Create an index using the BERT model\n",
        "index = VectorStoreIndex(documents, tokenizer=tokenizer, model=model)\n",
        "\n",
        "# Function to retrieve relevant documents based on query\n",
        "def retrieve_docs(query, top_k=2):\n",
        "    query_engine = index.as_query_engine(similarity_top_k=top_k)\n",
        "    retrieved_docs = query_engine.query(query)\n",
        "    return retrieved_docs\n",
        "\n",
        "# Example usage\n",
        "query = \"What is the capital of France?\"\n",
        "relevant_docs = retrieve_docs(query)\n",
        "\n",
        "relevant_source_nodes = relevant_docs.source_nodes\n",
        "\n",
        "# Format the retrieved documents as context\n",
        "context = \"\\n\".join([f\"Document {i+1}: {doc.text} Score: {doc.score}\" for i, doc in enumerate(relevant_source_nodes)])\n",
        "formatted_context = f\"Query: {query}\\n\\nRelevant documents:\\n{context}\"\n",
        "\n",
        "print(formatted_context)\n"
      ]
    },
    {
      "cell_type": "markdown",
      "metadata": {
        "id": "CqIZljhoFSJA"
      },
      "source": []
    },
    {
      "cell_type": "code",
      "execution_count": null,
      "metadata": {
        "colab": {
          "base_uri": "https://localhost:8080/"
        },
        "id": "YK1NvhahHDHF",
        "outputId": "1c6e8b0c-e059-4a2a-fe5f-84ff29c8d8ff"
      },
      "outputs": [
        {
          "name": "stdout",
          "output_type": "stream",
          "text": [
            "Collecting faiss-cpu\n",
            "  Downloading faiss_cpu-1.8.0-cp310-cp310-manylinux_2_17_x86_64.manylinux2014_x86_64.whl (27.0 MB)\n",
            "\u001b[2K     \u001b[90m━━━━━━━━━━━━━━━━━━━━━━━━━━━━━━━━━━━━━━━━\u001b[0m \u001b[32m27.0/27.0 MB\u001b[0m \u001b[31m19.5 MB/s\u001b[0m eta \u001b[36m0:00:00\u001b[0m\n",
            "\u001b[?25hRequirement already satisfied: numpy in /usr/local/lib/python3.10/dist-packages (from faiss-cpu) (1.25.2)\n",
            "Installing collected packages: faiss-cpu\n",
            "Successfully installed faiss-cpu-1.8.0\n"
          ]
        }
      ],
      "source": [
        "!pip install -q faiss-cpu"
      ]
    },
    {
      "cell_type": "code",
      "execution_count": null,
      "metadata": {
        "colab": {
          "base_uri": "https://localhost:8080/"
        },
        "id": "WGDSPEsPFSaW",
        "outputId": "c92c9746-09ca-4fa8-a46d-9f35facf7b7b"
      },
      "outputs": [
        {
          "name": "stderr",
          "output_type": "stream",
          "text": [
            "WARNING:sentence_transformers.SentenceTransformer:No sentence-transformers model found with name google-bert/bert-base-uncased. Creating a new one with MEAN pooling.\n"
          ]
        },
        {
          "name": "stdout",
          "output_type": "stream",
          "text": [
            "Query: What is the capital of France?\n",
            "\n",
            "Relevant documents:\n",
            "Document 1: The capital of France is Paris, which is also known as the City of Light.\n",
            "Document 2: France is a country located in Western Europe, known for its art, cuisine, and fashion.\n"
          ]
        }
      ],
      "source": [
        "from langchain_community.vectorstores import FAISS\n",
        "from langchain_core.output_parsers import StrOutputParser\n",
        "from langchain.embeddings.huggingface import HuggingFaceEmbeddings\n",
        "\n",
        "corpus = [\n",
        "    \"Elephants are the largest land mammals on Earth and can weigh up to 6 tons.\",\n",
        "    \"Cheetahs are the fastest land animals and can reach speeds of up to 70 mph.\",\n",
        "    \"France is a country located in Western Europe, known for its art, cuisine, and fashion.\",\n",
        "    \"The capital of France is Paris, which is also known as the City of Light.\",\n",
        "    \"Australia is the world's sixth-largest country by total area and is home to unique wildlife like kangaroos and koalas.\",\n",
        "    \"Brazil is the largest country in South America and is known for its vibrant culture, including the Carnival festival.\"\n",
        "]\n",
        "\n",
        "embed_model = HuggingFaceEmbeddings(model_name=\"google-bert/bert-base-uncased\")\n",
        "vectorstore = FAISS.from_texts(corpus, embedding=embed_model)\n",
        "\n",
        "retriever = vectorstore.as_retriever(search_kwargs=dict(k=2))\n",
        "query = \"What is the capital of France?\"\n",
        "relevant_docs = retriever.invoke(query)\n",
        "context = \"\\n\".join([f\"Document {i+1}: {doc.page_content}\" for i, doc in enumerate(relevant_docs)])\n",
        "formatted_context = f\"Query: {query}\\n\\nRelevant documents:\\n{context}\"\n",
        "\n",
        "print(formatted_context)\n"
      ]
    },
    {
      "cell_type": "markdown",
      "metadata": {
        "id": "hfjvaynZKQFk"
      },
      "source": [
        "## Haystack"
      ]
    },
    {
      "cell_type": "code",
      "execution_count": null,
      "metadata": {
        "colab": {
          "base_uri": "https://localhost:8080/"
        },
        "id": "wLrItPlGKRpn",
        "outputId": "6c100452-1fcd-4c1b-d75a-08abacd9ff9d"
      },
      "outputs": [
        {
          "name": "stdout",
          "output_type": "stream",
          "text": [
            "\u001b[2K     \u001b[90m━━━━━━━━━━━━━━━━━━━━━━━━━━━━━━━━━━━━━━━━\u001b[0m \u001b[32m265.1/265.1 kB\u001b[0m \u001b[31m2.6 MB/s\u001b[0m eta \u001b[36m0:00:00\u001b[0m\n",
            "\u001b[2K     \u001b[90m━━━━━━━━━━━━━━━━━━━━━━━━━━━━━━━━━━━━━━━━\u001b[0m \u001b[32m41.3/41.3 kB\u001b[0m \u001b[31m2.0 MB/s\u001b[0m eta \u001b[36m0:00:00\u001b[0m\n",
            "\u001b[2K     \u001b[90m━━━━━━━━━━━━━━━━━━━━━━━━━━━━━━━━━━━━━━━━\u001b[0m \u001b[32m506.0/506.0 kB\u001b[0m \u001b[31m7.8 MB/s\u001b[0m eta \u001b[36m0:00:00\u001b[0m\n",
            "\u001b[2K     \u001b[90m━━━━━━━━━━━━━━━━━━━━━━━━━━━━━━━━━━━━━━━━\u001b[0m \u001b[32m2.4/2.4 MB\u001b[0m \u001b[31m15.2 MB/s\u001b[0m eta \u001b[36m0:00:00\u001b[0m\n",
            "\u001b[2K     \u001b[90m━━━━━━━━━━━━━━━━━━━━━━━━━━━━━━━━━━━━━━━━\u001b[0m \u001b[32m92.1/92.1 kB\u001b[0m \u001b[31m6.8 MB/s\u001b[0m eta \u001b[36m0:00:00\u001b[0m\n",
            "\u001b[2K     \u001b[90m━━━━━━━━━━━━━━━━━━━━━━━━━━━━━━━━━━━━━━━━\u001b[0m \u001b[32m60.6/60.6 kB\u001b[0m \u001b[31m2.7 MB/s\u001b[0m eta \u001b[36m0:00:00\u001b[0m\n",
            "\u001b[2K     \u001b[90m━━━━━━━━━━━━━━━━━━━━━━━━━━━━━━━━━━━━━━━━\u001b[0m \u001b[32m5.4/5.4 MB\u001b[0m \u001b[31m28.3 MB/s\u001b[0m eta \u001b[36m0:00:00\u001b[0m\n",
            "\u001b[2K     \u001b[90m━━━━━━━━━━━━━━━━━━━━━━━━━━━━━━━━━━━━━━━━\u001b[0m \u001b[32m6.8/6.8 MB\u001b[0m \u001b[31m28.0 MB/s\u001b[0m eta \u001b[36m0:00:00\u001b[0m\n",
            "\u001b[2K     \u001b[90m━━━━━━━━━━━━━━━━━━━━━━━━━━━━━━━━━━━━━━━━\u001b[0m \u001b[32m58.4/58.4 kB\u001b[0m \u001b[31m6.0 MB/s\u001b[0m eta \u001b[36m0:00:00\u001b[0m\n",
            "\u001b[2K     \u001b[90m━━━━━━━━━━━━━━━━━━━━━━━━━━━━━━━━━━━━━━━━\u001b[0m \u001b[32m105.7/105.7 kB\u001b[0m \u001b[31m11.2 MB/s\u001b[0m eta \u001b[36m0:00:00\u001b[0m\n",
            "\u001b[2K     \u001b[90m━━━━━━━━━━━━━━━━━━━━━━━━━━━━━━━━━━━━━━━━\u001b[0m \u001b[32m67.3/67.3 kB\u001b[0m \u001b[31m6.3 MB/s\u001b[0m eta \u001b[36m0:00:00\u001b[0m\n",
            "\u001b[?25h  Installing build dependencies ... \u001b[?25l\u001b[?25hdone\n",
            "  Getting requirements to build wheel ... \u001b[?25l\u001b[?25hdone\n",
            "  Preparing metadata (pyproject.toml) ... \u001b[?25l\u001b[?25hdone\n",
            "\u001b[2K     \u001b[90m━━━━━━━━━━━━━━━━━━━━━━━━━━━━━━━━━━━━━━━━\u001b[0m \u001b[32m698.9/698.9 kB\u001b[0m \u001b[31m32.5 MB/s\u001b[0m eta \u001b[36m0:00:00\u001b[0m\n",
            "\u001b[2K     \u001b[90m━━━━━━━━━━━━━━━━━━━━━━━━━━━━━━━━━━━━━━━━\u001b[0m \u001b[32m1.6/1.6 MB\u001b[0m \u001b[31m52.3 MB/s\u001b[0m eta \u001b[36m0:00:00\u001b[0m\n",
            "\u001b[2K     \u001b[90m━━━━━━━━━━━━━━━━━━━━━━━━━━━━━━━━━━━━━━━━\u001b[0m \u001b[32m67.6/67.6 kB\u001b[0m \u001b[31m6.9 MB/s\u001b[0m eta \u001b[36m0:00:00\u001b[0m\n",
            "\u001b[2K     \u001b[90m━━━━━━━━━━━━━━━━━━━━━━━━━━━━━━━━━━━━━━━━\u001b[0m \u001b[32m71.5/71.5 kB\u001b[0m \u001b[31m7.6 MB/s\u001b[0m eta \u001b[36m0:00:00\u001b[0m\n",
            "\u001b[2K     \u001b[90m━━━━━━━━━━━━━━━━━━━━━━━━━━━━━━━━━━━━━━━━\u001b[0m \u001b[32m46.0/46.0 kB\u001b[0m \u001b[31m4.8 MB/s\u001b[0m eta \u001b[36m0:00:00\u001b[0m\n",
            "\u001b[2K     \u001b[90m━━━━━━━━━━━━━━━━━━━━━━━━━━━━━━━━━━━━━━━━\u001b[0m \u001b[32m50.8/50.8 kB\u001b[0m \u001b[31m5.8 MB/s\u001b[0m eta \u001b[36m0:00:00\u001b[0m\n",
            "\u001b[2K     \u001b[90m━━━━━━━━━━━━━━━━━━━━━━━━━━━━━━━━━━━━━━━━\u001b[0m \u001b[32m341.4/341.4 kB\u001b[0m \u001b[31m31.9 MB/s\u001b[0m eta \u001b[36m0:00:00\u001b[0m\n",
            "\u001b[2K     \u001b[90m━━━━━━━━━━━━━━━━━━━━━━━━━━━━━━━━━━━━━━━━\u001b[0m \u001b[32m3.4/3.4 MB\u001b[0m \u001b[31m63.1 MB/s\u001b[0m eta \u001b[36m0:00:00\u001b[0m\n",
            "\u001b[2K     \u001b[90m━━━━━━━━━━━━━━━━━━━━━━━━━━━━━━━━━━━━━━━━\u001b[0m \u001b[32m1.3/1.3 MB\u001b[0m \u001b[31m64.4 MB/s\u001b[0m eta \u001b[36m0:00:00\u001b[0m\n",
            "\u001b[2K     \u001b[90m━━━━━━━━━━━━━━━━━━━━━━━━━━━━━━━━━━━━━━━━\u001b[0m \u001b[32m130.2/130.2 kB\u001b[0m \u001b[31m13.7 MB/s\u001b[0m eta \u001b[36m0:00:00\u001b[0m\n",
            "\u001b[2K     \u001b[90m━━━━━━━━━━━━━━━━━━━━━━━━━━━━━━━━━━━━━━━━\u001b[0m \u001b[32m86.8/86.8 kB\u001b[0m \u001b[31m1.4 MB/s\u001b[0m eta \u001b[36m0:00:00\u001b[0m\n",
            "\u001b[?25h  Building wheel for pypika (pyproject.toml) ... \u001b[?25l\u001b[?25hdone\n"
          ]
        }
      ],
      "source": [
        "!pip install -q haystack-ai  chroma-haystack"
      ]
    },
    {
      "cell_type": "code",
      "execution_count": null,
      "metadata": {
        "id": "O3oaGD47L-yb"
      },
      "outputs": [],
      "source": [
        "from haystack import Document\n",
        "\n",
        "corpus = [\n",
        "    \"Elephants are the largest land mammals on Earth and can weigh up to 6 tons.\",\n",
        "    \"Cheetahs are the fastest land animals and can reach speeds of up to 70 mph.\",\n",
        "    \"France is a country located in Western Europe, known for its art, cuisine, and fashion.\",\n",
        "    \"The capital of France is Paris, which is also known as the City of Light.\",\n",
        "    \"Australia is the world's sixth-largest country by total area and is home to unique wildlife like kangaroos and koalas.\",\n",
        "    \"Brazil is the largest country in South America and is known for its vibrant culture, including the Carnival festival.\"\n",
        "]\n",
        "\n",
        "docs = [Document(content=doc) for doc in corpus]"
      ]
    },
    {
      "cell_type": "code",
      "execution_count": null,
      "metadata": {
        "colab": {
          "base_uri": "https://localhost:8080/"
        },
        "id": "t3f6YLmZMNl_",
        "outputId": "bddd69a8-4a34-4d5a-f718-58172fe86fe1"
      },
      "outputs": [
        {
          "name": "stderr",
          "output_type": "stream",
          "text": [
            "WARNING:sentence_transformers.SentenceTransformer:No sentence-transformers model found with name google-bert/bert-base-uncased. Creating a new one with MEAN pooling.\n"
          ]
        }
      ],
      "source": [
        "from haystack.components.embedders import SentenceTransformersDocumentEmbedder\n",
        "\n",
        "doc_embedder = SentenceTransformersDocumentEmbedder(model=\"google-bert/bert-base-uncased\")\n",
        "doc_embedder.warm_up() # download model\n"
      ]
    },
    {
      "cell_type": "code",
      "execution_count": null,
      "metadata": {
        "colab": {
          "base_uri": "https://localhost:8080/",
          "height": 66,
          "referenced_widgets": [
            "9993586b6ff34f788f9ebf003d572011",
            "d133875774744d82aa90cb74159ce2ec",
            "8616941ec23947b9b20503b31059d5c0",
            "d9780c00ee5849edbb045011f4781a71",
            "abdea1b3d71f45bb9fd0beeffcf8aff6",
            "2eeb72dd9baa4bb0947a8bfd86b80653",
            "f321a56896684a22a06017d1a6a33d42",
            "5eb605f8daa14883bc2e25b64ac097ba",
            "1e8772df3a7748ef9c253f81976f1776",
            "e27b5f6046f14b67802804f88ce54198",
            "545dca58249b4a79a04a1d1bc47344f1"
          ]
        },
        "id": "oyXh3betMWgA",
        "outputId": "6753ce8f-1f10-4e64-8173-a56e28f97fce"
      },
      "outputs": [
        {
          "data": {
            "application/vnd.jupyter.widget-view+json": {
              "model_id": "9993586b6ff34f788f9ebf003d572011",
              "version_major": 2,
              "version_minor": 0
            },
            "text/plain": [
              "Batches:   0%|          | 0/1 [00:00<?, ?it/s]"
            ]
          },
          "metadata": {},
          "output_type": "display_data"
        },
        {
          "data": {
            "text/plain": [
              "6"
            ]
          },
          "execution_count": 3,
          "metadata": {},
          "output_type": "execute_result"
        }
      ],
      "source": [
        "from haystack.document_stores.in_memory import InMemoryDocumentStore\n",
        "\n",
        "document_store = InMemoryDocumentStore()\n",
        "\n",
        "docs_with_embeddings = doc_embedder.run(docs)\n",
        "document_store.write_documents(docs_with_embeddings[\"documents\"])\n"
      ]
    },
    {
      "cell_type": "markdown",
      "metadata": {
        "id": "VD9RF77ANg7c"
      },
      "source": [
        "Question can you use a different model for a text embedder here?"
      ]
    },
    {
      "cell_type": "code",
      "execution_count": null,
      "metadata": {
        "id": "pFOiycYKMgq0"
      },
      "outputs": [],
      "source": [
        "from haystack.components.embedders import SentenceTransformersTextEmbedder\n",
        "\n",
        "text_embedder = SentenceTransformersTextEmbedder(model=\"google-bert/bert-base-uncased\")\n"
      ]
    },
    {
      "cell_type": "markdown",
      "metadata": {
        "id": "Ew_8hj4KNl8M"
      },
      "source": []
    },
    {
      "cell_type": "code",
      "execution_count": null,
      "metadata": {
        "id": "GX2k1ruoNm3j"
      },
      "outputs": [],
      "source": [
        "from haystack.components.retrievers.in_memory import InMemoryEmbeddingRetriever\n",
        "\n",
        "retriever = InMemoryEmbeddingRetriever(document_store, top_k=2)\n"
      ]
    },
    {
      "cell_type": "code",
      "execution_count": null,
      "metadata": {
        "colab": {
          "base_uri": "https://localhost:8080/",
          "height": 641
        },
        "id": "w1B___cAN5mz",
        "outputId": "e273d0af-aed9-4aef-ac9b-ecdaa119905d"
      },
      "outputs": [
        {
          "data": {
            "image/png": "[encoded data removed]",
            "text/plain": [
              "<IPython.core.display.Image object>"
            ]
          },
          "metadata": {},
          "output_type": "display_data"
        },
        {
          "data": {
            "text/plain": []
          },
          "execution_count": 6,
          "metadata": {},
          "output_type": "execute_result"
        }
      ],
      "source": [
        "from haystack import Pipeline\n",
        "query_pipeline = Pipeline()\n",
        "query_pipeline.add_component(\"text_embedder\", text_embedder)\n",
        "query_pipeline.add_component(\"retriever\", retriever)\n",
        "query_pipeline.connect(\"text_embedder.embedding\", \"retriever.query_embedding\")"
      ]
    },
    {
      "cell_type": "code",
      "execution_count": null,
      "metadata": {
        "colab": {
          "base_uri": "https://localhost:8080/",
          "height": 154,
          "referenced_widgets": [
            "800d35e0fdec497c908d6b8401a535e3",
            "81cbbd3b50a64b169a38eec7b4d318d9",
            "4b3b206949754a0d8b01d70cf1099556",
            "81de47efe2ce48aa8756d9ffb6a9a553",
            "04ed78cb43e24131a1a8bef3f94fd3e5",
            "aedd94b696404a7db51345fdf500234e",
            "0b5401d5f83f48b8a14baccecf0fe188",
            "040dd7a593894b62b937c7afd254f643",
            "eb6ce43127184e3b82e18cfb0c2f4775",
            "7a81069e09104cb599be92741d441c8c",
            "9db15f4881084c25a69e6ae34437c8c3"
          ]
        },
        "id": "qNWS47PEP38j",
        "outputId": "0de45113-4ada-441a-bfb6-4518447a4379"
      },
      "outputs": [
        {
          "data": {
            "application/vnd.jupyter.widget-view+json": {
              "model_id": "800d35e0fdec497c908d6b8401a535e3",
              "version_major": 2,
              "version_minor": 0
            },
            "text/plain": [
              "Batches:   0%|          | 0/1 [00:00<?, ?it/s]"
            ]
          },
          "metadata": {},
          "output_type": "display_data"
        },
        {
          "name": "stdout",
          "output_type": "stream",
          "text": [
            "Query: What is the capital of France?\n",
            "\n",
            "Relevant documents:\n",
            "Document 1: The capital of France is Paris, which is also known as the City of Light. Score: 62.385650221333094\n",
            "Document 2: France is a country located in Western Europe, known for its art, cuisine, and fashion. Score: 55.546081880260644\n"
          ]
        }
      ],
      "source": [
        "query = \"What is the capital of France?\"\n",
        "\n",
        "result = query_pipeline.run({\"text\": query})\n",
        "\n",
        "context = \"\\n\".join([f\"Document {i+1}: {doc.content} Score: {doc.score}\" for i, doc in enumerate(result['retriever']['documents'])])\n",
        "formatted_context = f\"Query: {query}\\n\\nRelevant documents:\\n{context}\"\n",
        "\n",
        "print(formatted_context)\n",
        "\n"
      ]
    },
    {
      "cell_type": "markdown",
      "metadata": {
        "id": "lS9JE7af_uUI"
      },
      "source": [
        "# Embeddings"
      ]
    },
    {
      "cell_type": "markdown",
      "metadata": {
        "id": "Fmt31f3uCk2P"
      },
      "source": [
        "<!-- ## Overview\n",
        "\n",
        "### Problems With Using LMs in isolation\n",
        "1. Interpretability: hard to determine how the LM came up with their answer\n",
        "2. Outdated Information: LM soak up knowledge about the world by training on a lot of text. If we don't train on something, we cannot expect the LM to know about things it has never seen\n",
        "3. Hallucinations: did the LM just make it up?\n",
        "4. Controllability: LMs don't always \"get\" what you're asking of it\n",
        "\n",
        "*Idea*: Fetch some data from your DB and include as part of the prompt\n",
        "\n",
        "But it is not clear how to get the relevant information. Most times, the query will not be a nicely formatted SQL query. And the data collection you're fetching may not be well structured (pdfs, powerpoints, videos, text files) -->\n",
        "\n",
        "Questions: how do you determine which pieces of data are the most relevant for answering a user's question?\n"
      ]
    },
    {
      "cell_type": "markdown",
      "metadata": {
        "id": "5JJUFasRAcHq"
      },
      "source": [
        "![](https://partee.io/images/posts/vector-embeddings/embedding-creation.png)"
      ]
    },
    {
      "cell_type": "markdown",
      "metadata": {
        "id": "5qL_Wkrv5UVW"
      },
      "source": [
        "\n",
        "### Intuition Behind Text Embeddings\n",
        "\n",
        "\n",
        "Text embeddings are a way to represent words and sentences in a numerical form that can be understood and processed by machine learning models. The intuition behind text embeddings is to capture the semantic meaning of words and their relationships with each other in a high-dimensional space.\n",
        "\n",
        "In this high-dimensional space, each dimension corresponds to a latent feature of the word, and the position of a word in this space is determined by its meaning and context in the language. Words that are semantically similar or share similar contexts in the language are positioned close to each other in this space, while words that are dissimilar are positioned far apart.\n",
        "\n",
        "For example, in a well-trained text embedding model, words like \"king\" and \"queen\" would be closer to each other than words like \"king\" and \"apple\", because \"king\" and \"queen\" share more semantic and contextual similarities.\n",
        "\n",
        "![](https://encrypted-tbn0.gstatic.com/images?q=tbn:ANd9GcR4Ut9ay0iZqvpWXkGuH39WNpjFn6Xr-IctFg&usqp=CAU)"
      ]
    },
    {
      "cell_type": "markdown",
      "metadata": {
        "id": "5LVNOz7m-nck"
      },
      "source": [
        "![](https://miro.medium.com/v2/resize:fit:901/1*dT3594m7X1N0zdZhydw2FA.png)"
      ]
    },
    {
      "cell_type": "markdown",
      "metadata": {
        "id": "a6sAr-hv_w4F"
      },
      "source": [
        "![](https://i.ibb.co/YXHWYqx/Screenshot-2024-02-22-at-10-04-21-AM.png)\n",
        "\n",
        "https://projector.tensorflow.org"
      ]
    },
    {
      "cell_type": "markdown",
      "metadata": {
        "id": "T15NtVPHAOSd"
      },
      "source": [
        "![](https://cdn.openai.com/embeddings/draft-20220124e/vectors-mobile-1.svg)"
      ]
    },
    {
      "cell_type": "markdown",
      "metadata": {
        "id": "QAofMOYi4XS6"
      },
      "source": [
        "### Difference Between Token Embeddings and Text Embeddings\n",
        "\n",
        "Token Embeddings: These are representations of individual tokens (which could be words, subwords, or characters) in a text. Each token in the text is mapped to a vector in a high-dimensional space. The position of a token in this space is determined by its meaning and context in the language. Token embeddings are used to capture the semantic and syntactic relationships between individual tokens. For example, in a well-trained token embedding model, the token \"king\" would be closer to \"queen\" than to \"apple\" in the embedding space.\n",
        "\n",
        "Text Embeddings: These are representations of entire pieces of text, such as sentences, paragraphs, or documents. A text embedding is a single vector that represents the entire piece of text. The position of a text in the embedding space is determined by the combined meaning and context of all the tokens in the text. Text embeddings are used to capture the overall semantic meaning of a piece of text. For example, in a well-trained text embedding model, the sentence \"I love dogs\" would be closer to \"Dogs are my favorite\" than to \"I hate dogs\" in the embedding space.\n",
        "\n",
        "Token embeddings operate at the level of individual tokens and are used to capture the relationships between tokens, text embeddings operate at the level of entire pieces of text and are used to capture the overall semantic meaning of a piece of text."
      ]
    },
    {
      "cell_type": "markdown",
      "metadata": {
        "id": "yqcbOL6a8dKT"
      },
      "source": [
        "### High Level Overview for Training Text Embedding Models\n",
        "\n",
        "1. Model Training: The first step in training text embedding models involves training a model on a specific task. For instance, in the case of transformer-based models like GPT or BERT, the model is trained to predict the next token in a sequence given the previous tokens. This training process allows the model to learn the underlying patterns and structures in the text data.\n",
        "\n",
        "2. Embedding Extraction: Once the model is trained, we can extract the embeddings from the model. These embeddings may not final output of the model, but rather the intermediate representations that the model learns during training. Specifically, the embeddings are the output of one of the model's intermediate layers."
      ]
    },
    {
      "cell_type": "markdown",
      "metadata": {
        "id": "khHvZno09TMB"
      },
      "source": [
        "### Extracting Embeddings from GPT\n",
        "\n",
        "In transformer-based models like GPT, the training process involves predicting the next token in a sequence. However, the embeddings for each token are not the final output of the model. Instead, they are intermediate representations that the model learns during training.\n",
        "\n",
        "When the model is given a sequence of tokens, it first converts each token into an initial embedding vector. These initial embeddings are then processed by the transformer layers, which use self-attention mechanisms to create new embeddings that capture the context of each token in relation to all other tokens in the sequence.\n",
        "\n",
        "The final embeddings for each token are the output of the last transformer layer. These embeddings are then passed through a linear layer and a softmax function to produce a probability distribution over the vocabulary for the next token prediction.\n",
        "\n",
        "To get the embeddings for a piece of text, you can simply take the output of the last transformer layer before it is passed through the final linear layer and softmax function. These embeddings will be a sequence of vectors, with one vector for each token in the input text.\n",
        "\n",
        "For example, in GPT models, if you want to get the embedding for a sentence, you can take the output of the last transformer layer for the last token in the sentence. This will give you a single vector that represents the entire sentence. Similarly, if you want to get the embeddings for each token in the sentence, you can take the output of the last transformer layer for each token.\n",
        "\n",
        "![](https://vaclavkosar.com/images/transformer-architecture-tokens-vs-embeddings.drawio.svg)"
      ]
    },
    {
      "cell_type": "markdown",
      "metadata": {
        "id": "fMoNWHiaC4Nt"
      },
      "source": [
        "#### GPT Embedding Code Example - Last Token"
      ]
    },
    {
      "cell_type": "code",
      "execution_count": null,
      "metadata": {
        "colab": {
          "base_uri": "https://localhost:8080/"
        },
        "id": "xv02gPbO6v-h",
        "outputId": "1d5656d0-7f89-4ca2-d595-e57b4ea235d2"
      },
      "outputs": [
        {
          "name": "stdout",
          "output_type": "stream",
          "text": [
            "Shape of encoded input: torch.Size([1, 9])\n",
            "Shape of last layer hidden states: torch.Size([1, 9, 768])\n",
            "Extracting last token's embedding...\n",
            "Embedding shape: torch.Size([768])\n"
          ]
        }
      ],
      "source": [
        "# last token\n",
        "from transformers import GPT2Model, GPT2Tokenizer\n",
        "\n",
        "# Initialize the tokenizer and the model\n",
        "tokenizer = GPT2Tokenizer.from_pretrained('gpt2')\n",
        "model = GPT2Model.from_pretrained('gpt2')\n",
        "\n",
        "# Encode the text\n",
        "input_text = \"This is a sample sentence for embedding.\"\n",
        "encoded_input = tokenizer(input_text, return_tensors='pt')\n",
        "\n",
        "# Print the shape of the encoded input\n",
        "print(f\"Shape of encoded input: {encoded_input['input_ids'].shape}\")\n",
        "\n",
        "# Get the embeddings\n",
        "outputs = model(**encoded_input)\n",
        "\n",
        "# The output of the GPT-2 model is a tuple where the first element represents\n",
        "# the hidden states from all layers. We take the hidden states from the last layer.\n",
        "last_layer_hidden_states = outputs.last_hidden_state\n",
        "\n",
        "# Print the shape of the last layer hidden states\n",
        "print(f\"Shape of last layer hidden states: {last_layer_hidden_states.shape}\")\n",
        "\n",
        "print(\"Extracting last token's embedding...\")\n",
        "# To get a single vector for the entire sentence, we take the embedding of the last token\n",
        "sentence_embedding = last_layer_hidden_states[0, -1, :]\n",
        "\n",
        "print(f\"Embedding shape: {sentence_embedding.shape}\")\n"
      ]
    },
    {
      "cell_type": "markdown",
      "metadata": {
        "id": "mQVUmAcGEPsX"
      },
      "source": [
        "#### GPT Embedding Code Example - Average over All Tokens"
      ]
    },
    {
      "cell_type": "code",
      "execution_count": null,
      "metadata": {
        "colab": {
          "base_uri": "https://localhost:8080/"
        },
        "id": "GISreS6b7CRE",
        "outputId": "bb789214-4dd5-4c94-8fab-58cf470233b1"
      },
      "outputs": [
        {
          "name": "stdout",
          "output_type": "stream",
          "text": [
            "Shape of encoded input: torch.Size([1, 9])\n",
            "Shape of last layer hidden states: torch.Size([1, 9, 768])\n",
            "Average all tokens' embedding...\n",
            "Embedding shape: torch.Size([768])\n"
          ]
        }
      ],
      "source": [
        "# average\n",
        "from transformers import GPT2Model, GPT2Tokenizer\n",
        "\n",
        "# Initialize the tokenizer and the model\n",
        "tokenizer = GPT2Tokenizer.from_pretrained('gpt2')\n",
        "model = GPT2Model.from_pretrained('gpt2')\n",
        "\n",
        "# Encode the text\n",
        "input_text = \"This is a sample sentence for embedding.\"\n",
        "encoded_input = tokenizer(input_text, return_tensors='pt')\n",
        "\n",
        "# Print the shape of the encoded input\n",
        "print(f\"Shape of encoded input: {encoded_input['input_ids'].shape}\")\n",
        "\n",
        "# Get the embeddings\n",
        "outputs = model(**encoded_input)\n",
        "\n",
        "# The output of the GPT-2 model is a tuple where the first element represents\n",
        "# the hidden states from all layers. We take the hidden states from the last layer.\n",
        "last_layer_hidden_states = outputs.last_hidden_state\n",
        "\n",
        "# Print the shape of the last layer hidden states\n",
        "print(f\"Shape of last layer hidden states: {last_layer_hidden_states.shape}\")\n",
        "\n",
        "print(\"Average all tokens' embedding...\")\n",
        "# To get a single vector for the entire sentence, we take the mean of all token vectors\n",
        "sentence_embedding = last_layer_hidden_states.mean(dim=1)[0]\n",
        "\n",
        "print(f\"Embedding shape: {sentence_embedding.shape}\")\n"
      ]
    },
    {
      "cell_type": "markdown",
      "metadata": {
        "id": "kJs5FkmNDaUu"
      },
      "source": [
        "### Extracting Text Embeddings From BERT\n",
        "\n",
        "One common strategy is to take the hidden state of the special [CLS] token at the beginning of the sentence. This token is designed to capture the overall semantics of the sentence. Another strategy is to average the hidden states of all the tokens in the sentence."
      ]
    },
    {
      "cell_type": "markdown",
      "metadata": {
        "id": "Yqp2hvlrElwz"
      },
      "source": [
        "#### BERT Embedding Code Example - [CLS]"
      ]
    },
    {
      "cell_type": "code",
      "execution_count": null,
      "metadata": {
        "colab": {
          "base_uri": "https://localhost:8080/"
        },
        "id": "1nlPHOl-Eq5d",
        "outputId": "1781ef49-3818-4eba-87b2-13b57a5abeb2"
      },
      "outputs": [
        {
          "name": "stdout",
          "output_type": "stream",
          "text": [
            "Tokenized input with [CLS] and [SEP]: ['[CLS]', 'this', 'is', 'a', 'sample', 'sentence', 'for', 'em', '##bed', '##ding', '.', '[SEP]']\n",
            "Shape of last layer hidden states: torch.Size([1, 12, 768])\n",
            "CLS embedding: torch.Size([768])\n"
          ]
        }
      ],
      "source": [
        "from transformers import BertModel, BertTokenizer\n",
        "import torch\n",
        "\n",
        "# Initialize the tokenizer and the model\n",
        "tokenizer = BertTokenizer.from_pretrained('bert-base-uncased')\n",
        "model = BertModel.from_pretrained('bert-base-uncased')\n",
        "\n",
        "# Input text\n",
        "input_text = \"This is a sample sentence for embedding.\"\n",
        "\n",
        "# Add [CLS] and [SEP] tokens and tokenize\n",
        "tokenized_input = tokenizer.tokenize(input_text)\n",
        "tokenized_input = ['[CLS]'] + tokenized_input + ['[SEP]']\n",
        "\n",
        "print(f\"Tokenized input with [CLS] and [SEP]: {tokenized_input}\")\n",
        "\n",
        "# Convert tokens to their IDs\n",
        "input_ids = tokenizer.convert_tokens_to_ids(tokenized_input)\n",
        "\n",
        "# Convert list of input IDs into tensor\n",
        "input_ids_tensor = torch.tensor([input_ids])\n",
        "\n",
        "# Get the embeddings\n",
        "outputs = model(input_ids_tensor)\n",
        "\n",
        "# The output of the BERT model is a tuple where the first element represents\n",
        "# the hidden states from all layers. We take the hidden states from the last layer.\n",
        "last_layer_hidden_states = outputs.last_hidden_state\n",
        "\n",
        "print(f\"Shape of last layer hidden states: {last_layer_hidden_states.shape}\")\n",
        "\n",
        "# To get a single vector for the entire sentence, we take the embedding of the [CLS] token\n",
        "cls_embedding = last_layer_hidden_states[0, 0, :]\n",
        "\n",
        "print(f\"CLS embedding: {cls_embedding.shape}\")\n"
      ]
    },
    {
      "cell_type": "markdown",
      "metadata": {
        "id": "UprWsShoEdww"
      },
      "source": [
        "#### BERT Embedding Code Example - Average over All Tokens"
      ]
    },
    {
      "cell_type": "code",
      "execution_count": null,
      "metadata": {
        "colab": {
          "base_uri": "https://localhost:8080/"
        },
        "id": "hzX86ge7Ei9C",
        "outputId": "9d3cda35-f286-4e29-8ffe-cc62c320715b"
      },
      "outputs": [
        {
          "name": "stdout",
          "output_type": "stream",
          "text": [
            "Encoded input: {'input_ids': tensor([[ 101, 2023, 2003, 1037, 7099, 6251, 2005, 7861, 8270, 4667, 1012,  102]]), 'token_type_ids': tensor([[0, 0, 0, 0, 0, 0, 0, 0, 0, 0, 0, 0]]), 'attention_mask': tensor([[1, 1, 1, 1, 1, 1, 1, 1, 1, 1, 1, 1]])}\n",
            "Shape of last layer hidden states: torch.Size([1, 12, 768])\n",
            "Sentence embedding (average of all token vectors): torch.Size([1, 768])\n"
          ]
        }
      ],
      "source": [
        "from transformers import BertModel, BertTokenizer\n",
        "\n",
        "# Initialize the tokenizer and the model\n",
        "tokenizer = BertTokenizer.from_pretrained('bert-base-uncased')\n",
        "model = BertModel.from_pretrained('bert-base-uncased')\n",
        "\n",
        "# Encode the text\n",
        "input_text = \"This is a sample sentence for embedding.\"\n",
        "encoded_input = tokenizer(input_text, return_tensors='pt')\n",
        "\n",
        "print(f\"Encoded input: {encoded_input}\")\n",
        "\n",
        "# Get the embeddings\n",
        "outputs = model(**encoded_input)\n",
        "\n",
        "# The output of the BERT model is a tuple where the first element represents\n",
        "# the hidden states from all layers. We take the hidden states from the last layer.\n",
        "last_layer_hidden_states = outputs.last_hidden_state\n",
        "\n",
        "print(f\"Shape of last layer hidden states: {last_layer_hidden_states.shape}\")\n",
        "\n",
        "# To get a single vector for the entire sentence, we take the mean of all token vectors\n",
        "sentence_embedding = last_layer_hidden_states.mean(dim=1)\n",
        "\n",
        "print(f\"Sentence embedding (average of all token vectors): {sentence_embedding.shape}\")\n"
      ]
    },
    {
      "cell_type": "code",
      "source": [],
      "metadata": {
        "id": "EMeoQ2KXNMR_"
      },
      "execution_count": null,
      "outputs": []
    },
    {
      "cell_type": "markdown",
      "source": [
        "Classify positive/negative sentiment\n",
        "\n",
        "Sentence: im really happy\n",
        "sentiment: positive\n",
        "\n",
        "Sentence: im really sad\n",
        "sentiment: negative\n",
        "\n",
        "example 1 input\n",
        "example 1 output\n",
        "example 1 good/bad\n",
        "\n",
        "example 2 input: input\n",
        "example 2 output: input + output\n",
        "example 2 bad\n",
        "\n",
        "input\n",
        "ouput\n",
        "good/bad: LLM\n",
        "\n",
        "\n"
      ],
      "metadata": {
        "id": "EsIZnjrvNNK9"
      }
    },
    {
      "cell_type": "markdown",
      "metadata": {
        "id": "JTL6qEc9u0-6"
      },
      "source": [
        "## Evaluation\n",
        "\n",
        "Linear probe classification: the embeddings are used as features to train a linear classifier to solve a variety of downstream tasks\n",
        "\n",
        "\n",
        "Massive Text Embedding Benchmark (MTEB)\n",
        "\n",
        "![](https://huggingface.co/blog/assets/110_mteb/mteb_diagram_white_background.png)\n",
        "\n",
        "\n",
        "\n",
        "- **Bitext Mining**:\n",
        "  - Inputs: Two sets of sentences from different languages.\n",
        "  - Task: Find the best match for each sentence in the first set from the second set, typically translations.\n",
        "  - Model: Embed sentences and find closest pairs using cosine similarity.\n",
        "  - Metrics: F1 (main), accuracy, precision, and recall.\n",
        "\n",
        "- **Classification**:\n",
        "  - Inputs: Train and test sets.\n",
        "  - Task: Train a logistic regression classifier with embedded train set and score on the test set.\n",
        "  - Model: Logistic regression with 100 maximum iterations.\n",
        "  - Metrics: Accuracy (main), average precision, and F1.\n",
        "\n",
        "- **Clustering**:\n",
        "  - Inputs: A set of sentences or paragraphs.\n",
        "  - Task: Group texts into meaningful clusters.\n",
        "  - Model: Mini-batch k-means with batch size 32 and k equal to the number of different labels.\n",
        "  - Metrics: V-measure (main).\n",
        "\n",
        "- **Pair Classification**:\n",
        "  - Inputs: A pair of text inputs.\n",
        "  - Task: Assign a binary label (e.g., duplicate or paraphrase pairs).\n",
        "  - Model: Embed texts and compute distance using various metrics.\n",
        "  - Metrics: Best binary threshold accuracy, average precision, F1, precision, and recall. Average precision based on cosine similarity (main).\n",
        "\n",
        "- **Reranking**:\n",
        "  - Inputs: A query and a list of relevant and irrelevant reference texts.\n",
        "  - Task: Rank the references according to their relevance to the query.\n",
        "  - Model: Embed references and compare to query using cosine similarity.\n",
        "  - Metrics: Mean MRR@k and MAP (main).\n",
        "\n",
        "- **Retrieval**:\n",
        "  - Inputs: A corpus, queries, and a mapping to relevant documents.\n",
        "  - Task: Find relevant documents for each query.\n",
        "  - Model: Embed queries and corpus documents, compute similarity scores using cosine similarity.\n",
        "  - Metrics: nDCG@k, MRR@k, MAP@k, precision@k, recall@k. nDCG@10 (main).\n",
        "\n",
        "- **Semantic Textual Similarity (STS)**:\n",
        "  - Inputs: A pair of sentences.\n",
        "  - Task: Determine their similarity with continuous scores.\n",
        "  - Model: Embed sentences and compute similarity using various distance metrics.\n",
        "  - Metrics: Pearson and Spearman correlations. Spearman correlation based on cosine similarity (main).\n",
        "\n",
        "- **Summarization**:\n",
        "  - Inputs: Human-written and machine-generated summaries.\n",
        "  - Task: Score the machine summaries.\n",
        "  - Model: Embed summaries, compute distances to human summaries, and keep the closest score.\n",
        "  - Metrics: Pearson and Spearman correlations with ground truth assessments. Spearman correlation based on cosine similarity (main).\n"
      ]
    },
    {
      "cell_type": "markdown",
      "metadata": {
        "id": "J6yrlXdc57BE"
      },
      "source": [
        "## Algorithms\n",
        "\n",
        "Many text embedding algorithms have been developed in parallel to GPT-like models and the training process is different.\n",
        "\n",
        "\n",
        "Terminology:\n",
        "\n",
        "- in-batch negatives: For each example in a mini batch of $M$ examples ,the other $M-1$ in the batch are used as negative examples.\n",
        "\n"
      ]
    },
    {
      "cell_type": "markdown",
      "metadata": {
        "id": "_8RzOcluDQgb"
      },
      "source": [
        "### SentenceBert\n",
        "\n",
        "https://arxiv.org/abs/1908.10084\n",
        "\n",
        "Task: Efficiently compute the similarity between two sentences\n",
        "\n",
        "With vanilla BERT\n",
        "\n",
        "$$\\text{similarity} = \\text{linear}(BERT(\\text{sentence 1} + \\text{sentence2})[0])$$\n",
        "\n",
        "Cons: Requires both sentences to be fed into the network, scales quadratically, slow\n",
        "\n",
        "\n",
        "Sentence-BERT (SBERT) is a modification of the pre-trained BERT model to generate sentence embeddings more efficiently. Unlike BERT, which generates embeddings for individual tokens in a sentence, SBERT generates embeddings for entire sentences."
      ]
    },
    {
      "cell_type": "markdown",
      "metadata": {
        "id": "WEBluVUcMn0m"
      },
      "source": [
        "![](https://roomylee.github.io/assets/images/blog/2020-02-20-sentence-bert/figure1-and-2.png)\n",
        "\n",
        "In SBERT, the embeddings are generated by passing sentences through the model and then applying a pooling operation (like mean or max pooling) to the output of the model. This results in a single vector that represents the entire sentence. The advantage of this approach is that it allows for the pre-computation of sentence embeddings, which can then be compared using simple distance metrics like cosine similarity. This makes SBERT much more efficient than BERT for tasks that involve comparing the semantic similarity of sentences.\n",
        "\n",
        "#### Training Objectives\n",
        "\n",
        "\n",
        "Let $u$ and $v$ be the sentence embeddings, and $|u-v|$ is the element wise difference.\n",
        "\n",
        "##### Classification Loss (figure 1)\n",
        "\n",
        "$u$, $v$, $|u-v|$ are concatenated then passed through a linear layer\n",
        "\n",
        "$$L = \\text{cross entropy}(\\text{softmax}(W_t(u,v,|u-v|)))$$\n",
        "\n",
        "##### Cosine Similarity Loss (figure 2)\n",
        "\n",
        "$$L = MSE(\\text{cos_sim(u, v)}, \\text{gt_sim})$$\n",
        "\n",
        "\n"
      ]
    },
    {
      "cell_type": "markdown",
      "metadata": {
        "id": "Jn-ZAzbiMg_g"
      },
      "source": [
        "#### Data\n",
        "https://huggingface.co/datasets/snli\n",
        "\n",
        "The SNLI corpus (version 1.0) is a collection of 570k human-written English sentence pairs manually labeled for balanced classification with the labels entailment, contradiction, and neutral, supporting the task of natural language inference (NLI), also known as recognizing textual entailment (RTE).\n",
        "\n",
        "![](https://i.ibb.co/LRPZbmF/Screenshot-2024-02-22-at-10-59-47-AM.png)"
      ]
    },
    {
      "cell_type": "markdown",
      "metadata": {
        "id": "ZeSoVFxQNvQr"
      },
      "source": [
        "#### Usage Example\n",
        "\n",
        "https://www.sbert.net/index.html"
      ]
    },
    {
      "cell_type": "code",
      "execution_count": null,
      "metadata": {
        "id": "siT1UJ35NyFH"
      },
      "outputs": [],
      "source": [
        "!pip install -q sentence_transformers datasets"
      ]
    },
    {
      "cell_type": "code",
      "execution_count": null,
      "metadata": {
        "colab": {
          "base_uri": "https://localhost:8080/"
        },
        "id": "h4OFfBX4N4jM",
        "outputId": "9a39104f-70fe-4e2c-e8f6-d19a90a7d75d"
      },
      "outputs": [
        {
          "name": "stdout",
          "output_type": "stream",
          "text": [
            "Sentence: This framework generates embeddings for each input sentence\n",
            "Embedding: (384,)\n",
            "\n",
            "Sentence: Sentences are passed as a list of string.\n",
            "Embedding: (384,)\n",
            "\n",
            "Sentence: The quick brown fox jumps over the lazy dog.\n",
            "Embedding: (384,)\n",
            "\n"
          ]
        }
      ],
      "source": [
        "from sentence_transformers import SentenceTransformer\n",
        "model = SentenceTransformer(\"all-MiniLM-L6-v2\")\n",
        "\n",
        "# Our sentences to encode\n",
        "sentences = [\n",
        "    \"This framework generates embeddings for each input sentence\",\n",
        "    \"Sentences are passed as a list of string.\",\n",
        "    \"The quick brown fox jumps over the lazy dog.\"\n",
        "]\n",
        "\n",
        "# Sentences are encoded by calling model.encode()\n",
        "embeddings = model.encode(sentences)\n",
        "\n",
        "# Print the embeddings\n",
        "for sentence, embedding in zip(sentences, embeddings):\n",
        "    print(\"Sentence:\", sentence)\n",
        "    print(\"Embedding:\", embedding.shape)\n",
        "    print(\"\")"
      ]
    },
    {
      "cell_type": "markdown",
      "metadata": {
        "id": "LWKh8QKBNYWk"
      },
      "source": [
        "#### Finetuning Example"
      ]
    },
    {
      "cell_type": "code",
      "execution_count": null,
      "metadata": {
        "colab": {
          "base_uri": "https://localhost:8080/",
          "height": 81,
          "referenced_widgets": [
            "f08c81e148cd45f79734b32e4d7c0095",
            "f4e70681fd0446ffbe305f3ba004068b",
            "f58dd36327a0455b9188975ac5d9d189",
            "525dccf70397473e877957de6bc5725e",
            "4568518c476944bdbed8ad6291d32da3",
            "43be6b834c344322aad752af445915c7",
            "b37e2f46f9a347128d513a984d65a6c8",
            "7cc47f38c4c1464e909fe33abb130287",
            "005c3dcba1784a8b963c0fab29f87ef0",
            "c7de726e73844f30ab5f4b0e833f23de",
            "6d3e4c93e24a4683974ebdf9f3dad3b7",
            "b789484b9fa3479b8b6173b352bb0806",
            "e79bd6a3daee4959826f1707426bb09c",
            "9b504de1889a4069afb52b29fcd74e37",
            "38d05532b2b549ab83e02b8f97152835",
            "01dccd87563d48169557d735a2691785",
            "51970f8bbc644db7809b6fd56deb3605",
            "18ff6c10af034db58fc0bb09fb1cfebc",
            "b287d7b7c9554c89ae616a6c10367a64",
            "a2b25dba81da4a8aa261e333dc4bdf82",
            "4525b0318dab4722aa28bb780b20983c",
            "7121f525892144bc93d69f5d5f11e321"
          ]
        },
        "id": "IzxH3wHUNe2s",
        "outputId": "8b7b271e-e715-4315-8869-0ef57962c17e"
      },
      "outputs": [
        {
          "data": {
            "application/vnd.jupyter.widget-view+json": {
              "model_id": "f08c81e148cd45f79734b32e4d7c0095",
              "version_major": 2,
              "version_minor": 0
            },
            "text/plain": [
              "Epoch:   0%|          | 0/1 [00:00<?, ?it/s]"
            ]
          },
          "metadata": {},
          "output_type": "display_data"
        },
        {
          "data": {
            "application/vnd.jupyter.widget-view+json": {
              "model_id": "b789484b9fa3479b8b6173b352bb0806",
              "version_major": 2,
              "version_minor": 0
            },
            "text/plain": [
              "Iteration:   0%|          | 0/1 [00:00<?, ?it/s]"
            ]
          },
          "metadata": {},
          "output_type": "display_data"
        }
      ],
      "source": [
        "from sentence_transformers import (\n",
        "    SentenceTransformer,\n",
        "    SentencesDataset,\n",
        "    InputExample,\n",
        "    losses\n",
        ")\n",
        "from torch.utils.data import DataLoader\n",
        "\n",
        "model = SentenceTransformer(\"nli-distilroberta-base-v2\")\n",
        "train_examples = [\n",
        "    InputExample(texts=[\"My first sentence\", \"My second sentence\"], label=0.8),\n",
        "    InputExample(texts=[\"Another pair\", \"Unrelated sentence\"], label=0.3),\n",
        "]\n",
        "\n",
        "# Define your train dataset, the dataloader and the train loss\n",
        "train_dataloader = DataLoader(train_examples, shuffle=True, batch_size=16)\n",
        "train_loss = losses.CosineSimilarityLoss(model)\n",
        "\n",
        "# Tune the model\n",
        "model.fit(train_objectives=[(train_dataloader, train_loss)], epochs=1, warmup_steps=100)"
      ]
    },
    {
      "cell_type": "markdown",
      "metadata": {
        "id": "rjeTpAZrRaAb"
      },
      "source": [
        "### Contrastive Learning Background\n",
        "\n",
        "![](https://production-media.paperswithcode.com/tasks/34886962-1da9-4e2d-a833-40699515230a.png)\n",
        "\n",
        "Contrastive learning is a type of machine learning method where the focus is on learning to distinguish between different types of data. The technique involves using an anchor sample, positive samples (similar to the anchor), and negative samples (dissimilar to the anchor). The objective is to bring the anchor and positive samples closer together in the representation space, while pushing the anchor and negative samples further apart.\n",
        "\n",
        "This approach is valuable because it allows models to extract meaningful representations from unlabeled or partially labeled data. It's been successfully applied in various fields like computer vision, natural language processing, and reinforcement learning.\n",
        "\n",
        "\n",
        "\n",
        "\n"
      ]
    },
    {
      "cell_type": "markdown",
      "metadata": {
        "id": "699pEUfAb-Ua"
      },
      "source": [
        "#### InfoNCE\n",
        "\n",
        "https://arxiv.org/pdf/1807.03748.pdf\n",
        "\n",
        "The InfoNCE loss, where NCE stands for Noise-Contrastive Estimation, is a contrastive loss function used for self-supervised learning. The InfoNCE loss is designed to bring representations of positive pairs closer together in the embedding space while pushing representations of negative pairs further apart.\n",
        "\n",
        "$$\n",
        "\\min L_{\\text{cont}} = -\\frac{1}{n} \\sum_{i} \\log \\left( \\frac{e^{s_\\theta(q_i, p_i^+)}}{e^{s_\\theta(q_i, p_i^+)} + \\sum_{j} e^{s_\\theta(q_i, {p}_j^-)}} \\right)\n",
        "$$\n",
        "\n",
        "$$s_\\theta(p, q) = cos(E_q, E_p)\\ / \\ \\tau$$\n",
        "\n",
        "\n",
        "$q_i$​: A query, which is typically a representation of a data sample, often generated by a neural network.\n",
        "\n",
        "$p_i$​: A positive example that is semantically related to the query $q_i$. In many cases, this could be a different augmented version of the same data point as the query.\n",
        "\n",
        "$p_j^-$​: Negative examples that are not semantically related to the query $q_i$.\n",
        "$s_\\theta$: A scoring function, which measures the similarity between two representations. A common choice for this function is the dot product, but it can also be a more complex function like a neural network.\n",
        "$n$: The number of query-positive pairs; in practice, it often corresponds to the batch size."
      ]
    },
    {
      "cell_type": "code",
      "execution_count": null,
      "metadata": {
        "id": "_xaDNOIXObTM"
      },
      "outputs": [],
      "source": [
        "import torch\n",
        "\n",
        "def infonce_loss(query, positive, negatives, temperature=0.1):\n",
        "    \"\"\"\n",
        "    InfoNCE loss implementation\n",
        "\n",
        "    Args:\n",
        "        query (torch.Tensor): Query feature from the model, shape (feature_dim,).\n",
        "        positive (torch.Tensor): Positive feature from the model, shape (feature_dim,).\n",
        "        negatives (torch.Tensor): Negative features from the model, shape (num_negatives, feature_dim).\n",
        "        temperature (float): Temperature scaling parameter.\n",
        "\n",
        "    Returns:\n",
        "        torch.Tensor: The InfoNCE loss.\n",
        "    \"\"\"\n",
        "    # Step 1: Compute the dot product (similarity) between the query and the positive sample\n",
        "    positive_similarity = torch.dot(query, positive) / temperature\n",
        "\n",
        "    # Step 2: Compute the dot product (similarity) between the query and each negative sample\n",
        "    negative_similarities = torch.matmul(negatives, query) / temperature\n",
        "\n",
        "    # Step 3: Concatenate the positive similarity with the negative similarities\n",
        "    all_similarities = torch.cat([positive_similarity.unsqueeze(0), negative_similarities], dim=0)\n",
        "\n",
        "    # Step 4: Divide the exponentiated positive similarity by the sum of exponentiated similarities\n",
        "    exponentiated_similarities = torch.exp(all_similarities)\n",
        "    probability = torch.exp(positive_similarity) / torch.sum(exponentiated_similarities)\n",
        "\n",
        "    # Step 5: Compute the negative logarithm of the probability\n",
        "    loss = -torch.log(probability)\n",
        "\n",
        "    return loss\n"
      ]
    },
    {
      "cell_type": "markdown",
      "metadata": {
        "id": "SYpwSMbGsfoP"
      },
      "source": [
        "### Data\n",
        "\n",
        "How do you construct positive pairs? There are many works that explore this question.\n"
      ]
    },
    {
      "cell_type": "markdown",
      "metadata": {
        "id": "Zz7NPLWZfMBG"
      },
      "source": [
        "### OpenAI\n",
        "\n",
        "https://arxiv.org/abs/2201.10005\n",
        "\n",
        "Neighboring pieces of text on the internet are positive samples\n"
      ]
    },
    {
      "cell_type": "markdown",
      "metadata": {
        "id": "b3o0hSLUQDwb"
      },
      "source": [
        "### E5\n",
        "\n",
        "https://arxiv.org/pdf/2212.03533.pdf\n",
        "\n",
        "Introduces the CCPairs dataset\n",
        "\n",
        "- (post, comment) pairs from Reddit\n",
        "- (question, upvoted answer) pairs from Stack exchange\n",
        "- (entity name + section title, passage) from Wikipedia\n",
        "- (title, abstract) from scientific papers\n",
        "- (title, passage) from Common Crawl web pages + news sources\n",
        "\n",
        "Filtering\n",
        "- remove reddit comments that are too long (>4096 character)\n",
        "- remove reddit comments that have scores < 1\n",
        "- remove passages from web pages with high perplexity\n",
        "\n",
        "\n",
        "InfoNCE loss\n",
        "\n"
      ]
    },
    {
      "cell_type": "markdown",
      "metadata": {
        "id": "h9eMt5Vze4u-"
      },
      "source": [
        "### E5 Mistral Instruct\n",
        "\n",
        "https://arxiv.org/pdf/2401.00368.pdf\n",
        "\n",
        "- Uses Mistral to generate synthetic data\n",
        "\n",
        "- Finetunes Mistral on this synthetic dataset using the InfoNCE loss\n",
        "\n",
        "![](https://i.ibb.co/1LY2q9w/Screenshot-2024-02-22-at-7-46-56-PM.png)\n"
      ]
    },
    {
      "cell_type": "markdown",
      "metadata": {
        "id": "dV7sUGAIe6_P"
      },
      "source": []
    },
    {
      "cell_type": "markdown",
      "metadata": {
        "id": "lR3JfDmXe_pr"
      },
      "source": [
        "### SimCSE\n",
        "https://arxiv.org/abs/2104.08821\n",
        "\n",
        "\n",
        "For computer vision representation learning, an effective solution is to take two random transformations of the *same* image (eg cropping, flipping, distortion, and rotation).\n",
        "\n",
        "A similar approach has been recently adopted in learning text representations by applying augmentation techniques such as word deletion, reordering, and substitution but is difficult because of the discrete nature.\n",
        "\n",
        "![](https://i.ibb.co/G9Tbs5K/Screenshot-2024-02-22-at-6-05-45-PM.png)\n",
        "\n",
        "SimCSE constructs positive samples by passing a sentence through the network multiple times (using different dropout masks). Negative samples are randomly sampled from the batch.\n",
        "\n",
        "\n",
        "Trained using the InfoNCE loss.\n"
      ]
    },
    {
      "cell_type": "markdown",
      "metadata": {
        "id": "iALy78Iii4-Y"
      },
      "source": [
        "### Matryoshka Representation Learning\n",
        "\n",
        "https://arxiv.org/pdf/2205.13147.pdf\n",
        "\n",
        "- encodes information at coarse to fine granularities in a single vector\n",
        "- different tasks have different compute requirements. So it may be infeasible to use a single embedding vector for all tasks\n",
        "- MRL solves this with a “Russian-doll” like training step. Create O(log n) subsets (dolls) of increasing size, and apply the training loss for all subsets and add them up. This forces all increasing subsets to be meaningful.\n",
        "\n",
        "![](https://i.ibb.co/mbNqL01/Screenshot-2024-02-22-at-12-46-44-PM.png)\n",
        "\n"
      ]
    },
    {
      "cell_type": "markdown",
      "metadata": {
        "id": "2Ik1qJABHhfe"
      },
      "source": [
        "## Applications\n",
        "- Information Retrieval: Enhancing search engines by finding relevant documents based on the similarity of their embeddings to a query embedding.\n",
        "- Recommendation Systems: Recommending similar items (e.g., articles, products) based on the similarity of their text descriptions' embeddings.\n",
        "- Text Classification: Assigning categories or labels to text, such as spam detection or topic classification, by using embeddings as features for machine learning models.\n",
        "- Sentiment Analysis: Determining the sentiment of text (positive, negative, neutral) by analyzing the embeddings of words or sentences."
      ]
    },
    {
      "cell_type": "markdown",
      "metadata": {
        "id": "dvgcXjX1u9An"
      },
      "source": [
        "# Retrieval"
      ]
    },
    {
      "cell_type": "markdown",
      "metadata": {
        "id": "7Qo4VNeR0BCX"
      },
      "source": [
        "## Evaluation\n",
        "\n",
        "https://en.wikipedia.org/wiki/Evaluation_measures_(information_retrieval)"
      ]
    },
    {
      "cell_type": "markdown",
      "metadata": {
        "id": "wrhSiELH0D4M"
      },
      "source": [
        "### Metric: MRR (Mean Reciprocal Rank)\n",
        "\n",
        "MRR (Mean Reciprocal Rank) is a metric used to evaluate the effectiveness of a ranking system. It is commonly used in information retrieval and natural language processing tasks such as search engine ranking or question answering.\n",
        "\n",
        "MRR is calculated as the average of the reciprocal ranks of the first relevant item in a list of ranked items. The rank of the first relevant item is the position of the first relevant item in the list, with the top position being rank 1. If there are no relevant items in the list, the reciprocal rank is 0.\n",
        "\n",
        "The formula for MRR is:\n",
        "\n",
        "$$\\text{MRR} = \\frac{1}{Q} \\sum_{i=1}^{Q} \\frac{1}{\\text{rank}_i}$$\n",
        "\n",
        "where $Q$ is the number of queries, and $\\text{rank}_i$ is the rank of the first relevant item for the $i$-th query.\n",
        "\n",
        "Higher is better"
      ]
    },
    {
      "cell_type": "code",
      "execution_count": null,
      "metadata": {
        "colab": {
          "base_uri": "https://localhost:8080/"
        },
        "id": "haXOT1SI0QXD",
        "outputId": "c2fa335a-81d4-4c34-ba15-9e01f52510af"
      },
      "outputs": [
        {
          "name": "stdout",
          "output_type": "stream",
          "text": [
            "MRR: 0.41666666666666663\n"
          ]
        }
      ],
      "source": [
        "def mean_reciprocal_rank(ranks):\n",
        "    \"\"\"Calculate Mean Reciprocal Rank (MRR).\n",
        "\n",
        "    Args:\n",
        "        ranks (list of int): List of ranks of the first relevant item for each query.\n",
        "\n",
        "    Returns:\n",
        "        float: Mean Reciprocal Rank (MRR).\n",
        "    \"\"\"\n",
        "    return sum(1.0 / rank for rank in ranks if rank > 0) / len(ranks)\n",
        "\n",
        "# Example usage\n",
        "query_ranks = [1, 3, 2, 0, 4]  # 0 indicates no relevant item found\n",
        "mrr = mean_reciprocal_rank(query_ranks)\n",
        "print(f\"MRR: {mrr}\")\n"
      ]
    },
    {
      "cell_type": "markdown",
      "metadata": {
        "id": "_2qvc5764IeE"
      },
      "source": [
        "### NDCG\n",
        "\n",
        "Normalized Discounted Cumulative Gain (NDCG) is a metric used to evaluate the quality of a ranking model. More relevant items should be ranked higher than less relevant ones. Therefore, a higher NDCG score indicates that the relevant items are ranked higher.\n",
        "\n",
        "#### How to Calculate NDCG?\n",
        "\n",
        "1. **Discounted Cumulative Gain (DCG):** DCG weighs each relevance score based on its position in the ranking. The recommendations at the top get a higher weight, while the relevance of those at the bottom get a lower weight. The formula for DCG is:\n",
        "\n",
        "    ```\n",
        "    DCG = relevance_score_1 + relevance_score_2/log(2) + relevance_score_3/log(3) + ... + relevance_score_n/log(n)\n",
        "    ```\n",
        "\n",
        "    Here, `relevance_score_i` is the relevance score of the item at position `i` in the ranking, and `log(i)` is the logarithm of `i`.\n",
        "\n",
        "2. **Ideal Discounted Cumulative Gain (IDCG):** IDCG is the DCG score when we recommend the most relevant items first. In other words, it's the DCG of the ideal ranking.\n",
        "\n",
        "Finally, NDCG is calculated by dividing the DCG by the IDCG. This normalization allows for fair comparisons between different lists, regardless of their lengths.\n",
        "\n",
        "Here's a concrete example:\n",
        "\n",
        "Suppose we have a list of five items with true relevance scores `[3, 2, 1, 0, 0]` and our model gives them relevance scores `[3, 2, 0, 0, 1]`. We can calculate DCG and IDCG as follows:\n",
        "\n",
        "```\n",
        "DCG = 3 + 2/log(2) + 0/log(3) + 0/log(4) + 1/log(5) = 4.67\n",
        "IDCG = 3 + 2/log(2) + 1/log(3) + 0/log(4) + 0/log(5) = 4.76\n",
        "```\n",
        "\n",
        "Then, we calculate NDCG:\n",
        "\n",
        "```\n",
        "NDCG = DCG / IDCG = 4.67 / 4.76 = 0.98\n",
        "```\n",
        "\n",
        "#### Is Higher NDCG Better or Worse?\n",
        "\n",
        "A higher NDCG score is better. The NDCG score ranges from 0 to 1. A score of 1 means that the order of items in a ranking is perfectly ordered by relevance, while a score of 0 is the opposite. Therefore, the closer the NDCG score is to 1, the better the ranking model is at ordering items by their relevance."
      ]
    },
    {
      "cell_type": "markdown",
      "metadata": {
        "id": "e_m7IEZV1BvB"
      },
      "source": [
        "### Dataset: MS MARCO (nDCG)\n",
        "\n",
        "The MS MARCO (Microsoft MAchine Reading COmprehension) benchmark is a large-scale dataset and set of evaluation metrics designed for research in information retrieval, natural language processing, and machine learning. It was created to improve search and question-answering systems by providing real-world queries and relevant documents. The dataset includes:\n",
        "\n",
        "1. Passage Ranking: A collection of passages and queries where the goal is to rank the passages in order of relevance to the query.\n",
        "2. Document Ranking: Similar to passage ranking, but with entire documents instead of passages.\n",
        "3. Question Answering: A set of questions with corresponding passages that contain the answers.\n",
        "\n",
        "The benchmark is used to evaluate models on tasks such as passage retrieval, document retrieval, and question answering, with the aim of improving the accuracy and relevance of search results and answers provided by AI systems.\n"
      ]
    },
    {
      "cell_type": "markdown",
      "metadata": {
        "id": "f7Gcb9ubt0gz"
      },
      "source": [
        "## Baseline: BM25\n",
        "\n",
        "BM25 is a ranking function used in information retrieval systems to rank documents based on their relevance to a given search query. It is based on the probabilistic retrieval model and incorporates the following key ideas:\n",
        "\n",
        "1. **Term Frequency (TF)**: The more often a query term appears in a document, the more relevant that document is likely to be to the query.\n",
        "2. **Inverse Document Frequency (IDF)**: Terms that appear in many documents are less informative and are given less weight.\n",
        "3. **Document Length Normalization**: Longer documents are more likely to contain a term by chance, so the scoring function is normalized to prevent bias towards longer documents.\n",
        "\n",
        "Inverse Document Frequency (IDF) is a measure used in information retrieval and text mining to reflect the importance of a term in a collection of documents. It is based on the idea that terms that appear frequently across many documents are less informative than those that appear less frequently. The IDF of a term is calculated as follows:\n",
        "\n",
        "$$\n",
        "\\text{IDF}(t) = \\log \\left( \\frac{N}{n_t} \\right)\n",
        "$$\n",
        "\n",
        "where:\n",
        "- $N$ is the total number of documents in the collection.\n",
        "- $n_t$ is the number of documents containing the term $t$.\n",
        "- $\\log$ is the logarithm, typically using base 10 or base $e$ (natural logarithm).\n",
        "\n",
        "The logarithm is used to dampen the effect of the term frequency. As a result, terms that are present in many documents (such as common words like \"the\" or \"and\") will have a lower IDF and contribute less to the overall weight of the term in the document. Conversely, terms that are rare across the document collection will have a higher IDF and contribute more to the term's weight.\n",
        "\n",
        "\n",
        "\n",
        "The BM25 formula for a document \\(d\\) and a query \\(q\\) is:\n",
        "\n",
        "$$\n",
        "\\text{score}(d, q) = \\sum_{i=1}^{n} \\text{IDF}(q_i) \\cdot \\frac{\\text{TF}(q_i, d) \\cdot (k_1 + 1)}{\\text{TF}(q_i, d) + k_1 \\cdot (1 - b + b \\cdot \\frac{\\text{length}(d)}{\\text{avg_length}})}\n",
        "$$\n",
        "\n",
        "where:\n",
        "\n",
        "- $q_i$ is the \\(i\\)-th term in the query.\n",
        "- $\\text{TF}(q_i, d)$ is the term frequency of \\(q_i\\) in document \\(d\\).\n",
        "- $\\text{IDF}(q_i)$ is the inverse document frequency of \\(q_i\\).\n",
        "- $k_1$ and $b$ are free parameters, usually chosen empirically.\n",
        "- $\\text{length}(d)$ is the length of document \\(d\\).\n",
        "- $\\text{avg_length}$ is the average document length in the collection.\n",
        "\n",
        "In essence, BM25 scores each document based on the occurrence of query terms, giving higher scores to documents that contain many query terms and penalizing longer documents.\n"
      ]
    },
    {
      "cell_type": "markdown",
      "metadata": {
        "id": "CgGgjjghPvQx"
      },
      "source": [
        "## ColBERT\n",
        "\n",
        "Efficient and Effective Passage Search via Contextualized Late Interaction over BERT\n",
        "\n",
        "https://arxiv.org/pdf/2004.12832.pdf\n",
        "\n",
        "Task: document ranking\n",
        "\n",
        "Problem: Existing ranking models are expensive since they pass every query-document pair through a model to create a relevance score\n",
        "\n",
        "$$\\text{score} = \\text{net}(\\text{query}, \\text{document})$$\n",
        "\n",
        "The amount of compute scales *quadratically* with the number of queries and documents.\n",
        "\n",
        "ColBERT:\n",
        "* encodes query and document individually, then uses a cheap way to measure their fine-grained similarity -- this is called late-interaction\n",
        "* number of model calls scales *linearly* with the number of queries and documents\n",
        "\n",
        "\n"
      ]
    },
    {
      "cell_type": "markdown",
      "metadata": {
        "id": "5ygROcB9-K-B"
      },
      "source": [
        "![](https://i.ibb.co/C7RFhZ8/Screenshot-2024-02-25-at-5-11-25-PM.png)\n",
        "\n",
        "* (a) Representation based similarity: independently compute and embedding for $q$ and $d$ and estimate relevance as a single similarity score between two vectors\n",
        "\n",
        "* (b) and (c): Interaction based methods: Instead of summarizing $q$ and $d$ into individual embeddings, these rankers model word and phrase level relationships across $q$ and $d$ and match them using a deep neural network. Good performance, but requires more compute. Empirically, Fine grained matching is useful.\n",
        "    * (b): feed the neural network and interaction matrix that reflects the similarity between every pair of words across $q$ and $d$\n",
        "    * (c): more powerful interaction-based which model the interaction between word within as across $q$ and $d$ at the same time\n",
        "* (d) Late interaction models, uses pre computation and delays the query-document interaction.\n",
        "\n",
        "In ColBERT, every query embedding interacts with all document embeddings via a MaxSim operator, which computes maximum similairty (eg cosine similarity), and the scalar outputs of these operators are summed across query terms.\n"
      ]
    },
    {
      "cell_type": "markdown",
      "metadata": {
        "id": "811Y1Mws2Y78"
      },
      "source": [
        "## Ragatouille"
      ]
    },
    {
      "cell_type": "code",
      "execution_count": null,
      "metadata": {
        "colab": {
          "base_uri": "https://localhost:8080/"
        },
        "id": "e_3pcZozm7dS",
        "outputId": "1d8b8486-cf12-408e-93ce-44f17c385052"
      },
      "outputs": [
        {
          "output_type": "stream",
          "name": "stdout",
          "text": [
            "\u001b[2K     \u001b[90m━━━━━━━━━━━━━━━━━━━━━━━━━━━━━━━━━━━━━━━━\u001b[0m \u001b[32m1.2/1.2 MB\u001b[0m \u001b[31m14.6 MB/s\u001b[0m eta \u001b[36m0:00:00\u001b[0m\n",
            "\u001b[2K     \u001b[90m━━━━━━━━━━━━━━━━━━━━━━━━━━━━━━━━━━━━━━━━\u001b[0m \u001b[32m86.7/86.7 kB\u001b[0m \u001b[31m9.0 MB/s\u001b[0m eta \u001b[36m0:00:00\u001b[0m\n",
            "\u001b[?25h  Preparing metadata (setup.py) ... \u001b[?25l\u001b[?25hdone\n",
            "\u001b[2K     \u001b[90m━━━━━━━━━━━━━━━━━━━━━━━━━━━━━━━━━━━━━━━━\u001b[0m \u001b[32m27.0/27.0 MB\u001b[0m \u001b[31m16.1 MB/s\u001b[0m eta \u001b[36m0:00:00\u001b[0m\n",
            "\u001b[2K     \u001b[90m━━━━━━━━━━━━━━━━━━━━━━━━━━━━━━━━━━━━━━━━\u001b[0m \u001b[32m809.1/809.1 kB\u001b[0m \u001b[31m52.2 MB/s\u001b[0m eta \u001b[36m0:00:00\u001b[0m\n",
            "\u001b[2K     \u001b[90m━━━━━━━━━━━━━━━━━━━━━━━━━━━━━━━━━━━━━━━━\u001b[0m \u001b[32m260.9/260.9 kB\u001b[0m \u001b[31m24.6 MB/s\u001b[0m eta \u001b[36m0:00:00\u001b[0m\n",
            "\u001b[2K     \u001b[90m━━━━━━━━━━━━━━━━━━━━━━━━━━━━━━━━━━━━━━━━\u001b[0m \u001b[32m15.9/15.9 MB\u001b[0m \u001b[31m32.8 MB/s\u001b[0m eta \u001b[36m0:00:00\u001b[0m\n",
            "\u001b[2K     \u001b[90m━━━━━━━━━━━━━━━━━━━━━━━━━━━━━━━━━━━━━━━━\u001b[0m \u001b[32m15.7/15.7 MB\u001b[0m \u001b[31m39.9 MB/s\u001b[0m eta \u001b[36m0:00:00\u001b[0m\n",
            "\u001b[2K     \u001b[90m━━━━━━━━━━━━━━━━━━━━━━━━━━━━━━━━━━━━━━━━\u001b[0m \u001b[32m7.5/7.5 MB\u001b[0m \u001b[31m31.1 MB/s\u001b[0m eta \u001b[36m0:00:00\u001b[0m\n",
            "\u001b[2K     \u001b[90m━━━━━━━━━━━━━━━━━━━━━━━━━━━━━━━━━━━━━━━━\u001b[0m \u001b[32m156.5/156.5 kB\u001b[0m \u001b[31m17.0 MB/s\u001b[0m eta \u001b[36m0:00:00\u001b[0m\n",
            "\u001b[2K     \u001b[90m━━━━━━━━━━━━━━━━━━━━━━━━━━━━━━━━━━━━━━━━\u001b[0m \u001b[32m4.1/4.1 MB\u001b[0m \u001b[31m76.3 MB/s\u001b[0m eta \u001b[36m0:00:00\u001b[0m\n",
            "\u001b[2K     \u001b[90m━━━━━━━━━━━━━━━━━━━━━━━━━━━━━━━━━━━━━━━━\u001b[0m \u001b[32m288.3/288.3 kB\u001b[0m \u001b[31m17.8 MB/s\u001b[0m eta \u001b[36m0:00:00\u001b[0m\n",
            "\u001b[2K     \u001b[90m━━━━━━━━━━━━━━━━━━━━━━━━━━━━━━━━━━━━━━━━\u001b[0m \u001b[32m510.5/510.5 kB\u001b[0m \u001b[31m28.6 MB/s\u001b[0m eta \u001b[36m0:00:00\u001b[0m\n",
            "\u001b[2K     \u001b[90m━━━━━━━━━━━━━━━━━━━━━━━━━━━━━━━━━━━━━━━━\u001b[0m \u001b[32m307.2/307.2 kB\u001b[0m \u001b[31m28.1 MB/s\u001b[0m eta \u001b[36m0:00:00\u001b[0m\n",
            "\u001b[2K     \u001b[90m━━━━━━━━━━━━━━━━━━━━━━━━━━━━━━━━━━━━━━━━\u001b[0m \u001b[32m53.2/53.2 kB\u001b[0m \u001b[31m4.8 MB/s\u001b[0m eta \u001b[36m0:00:00\u001b[0m\n",
            "\u001b[2K     \u001b[90m━━━━━━━━━━━━━━━━━━━━━━━━━━━━━━━━━━━━━━━━\u001b[0m \u001b[32m1.8/1.8 MB\u001b[0m \u001b[31m40.8 MB/s\u001b[0m eta \u001b[36m0:00:00\u001b[0m\n",
            "\u001b[2K     \u001b[90m━━━━━━━━━━━━━━━━━━━━━━━━━━━━━━━━━━━━━━━━\u001b[0m \u001b[32m68.0/68.0 kB\u001b[0m \u001b[31m8.5 MB/s\u001b[0m eta \u001b[36m0:00:00\u001b[0m\n",
            "\u001b[2K     \u001b[90m━━━━━━━━━━━━━━━━━━━━━━━━━━━━━━━━━━━━━━━━\u001b[0m \u001b[32m53.0/53.0 kB\u001b[0m \u001b[31m4.3 MB/s\u001b[0m eta \u001b[36m0:00:00\u001b[0m\n",
            "\u001b[2K     \u001b[90m━━━━━━━━━━━━━━━━━━━━━━━━━━━━━━━━━━━━━━━━\u001b[0m \u001b[32m75.6/75.6 kB\u001b[0m \u001b[31m6.9 MB/s\u001b[0m eta \u001b[36m0:00:00\u001b[0m\n",
            "\u001b[2K     \u001b[90m━━━━━━━━━━━━━━━━━━━━━━━━━━━━━━━━━━━━━━━━\u001b[0m \u001b[32m257.5/257.5 kB\u001b[0m \u001b[31m22.8 MB/s\u001b[0m eta \u001b[36m0:00:00\u001b[0m\n",
            "\u001b[2K     \u001b[90m━━━━━━━━━━━━━━━━━━━━━━━━━━━━━━━━━━━━━━━━\u001b[0m \u001b[32m1.8/1.8 MB\u001b[0m \u001b[31m57.7 MB/s\u001b[0m eta \u001b[36m0:00:00\u001b[0m\n",
            "\u001b[2K     \u001b[90m━━━━━━━━━━━━━━━━━━━━━━━━━━━━━━━━━━━━━━━━\u001b[0m \u001b[32m23.7/23.7 MB\u001b[0m \u001b[31m34.3 MB/s\u001b[0m eta \u001b[36m0:00:00\u001b[0m\n",
            "\u001b[2K     \u001b[90m━━━━━━━━━━━━━━━━━━━━━━━━━━━━━━━━━━━━━━━━\u001b[0m \u001b[32m823.6/823.6 kB\u001b[0m \u001b[31m23.4 MB/s\u001b[0m eta \u001b[36m0:00:00\u001b[0m\n",
            "\u001b[2K     \u001b[90m━━━━━━━━━━━━━━━━━━━━━━━━━━━━━━━━━━━━━━━━\u001b[0m \u001b[32m14.1/14.1 MB\u001b[0m \u001b[31m56.5 MB/s\u001b[0m eta \u001b[36m0:00:00\u001b[0m\n",
            "\u001b[2K     \u001b[90m━━━━━━━━━━━━━━━━━━━━━━━━━━━━━━━━━━━━━━━━\u001b[0m \u001b[32m731.7/731.7 MB\u001b[0m \u001b[31m1.7 MB/s\u001b[0m eta \u001b[36m0:00:00\u001b[0m\n",
            "\u001b[2K     \u001b[90m━━━━━━━━━━━━━━━━━━━━━━━━━━━━━━━━━━━━━━━━\u001b[0m \u001b[32m410.6/410.6 MB\u001b[0m \u001b[31m2.1 MB/s\u001b[0m eta \u001b[36m0:00:00\u001b[0m\n",
            "\u001b[2K     \u001b[90m━━━━━━━━━━━━━━━━━━━━━━━━━━━━━━━━━━━━━━━━\u001b[0m \u001b[32m121.6/121.6 MB\u001b[0m \u001b[31m8.8 MB/s\u001b[0m eta \u001b[36m0:00:00\u001b[0m\n",
            "\u001b[2K     \u001b[90m━━━━━━━━━━━━━━━━━━━━━━━━━━━━━━━━━━━━━━━━\u001b[0m \u001b[32m56.5/56.5 MB\u001b[0m \u001b[31m10.5 MB/s\u001b[0m eta \u001b[36m0:00:00\u001b[0m\n",
            "\u001b[2K     \u001b[90m━━━━━━━━━━━━━━━━━━━━━━━━━━━━━━━━━━━━━━━━\u001b[0m \u001b[32m124.2/124.2 MB\u001b[0m \u001b[31m8.5 MB/s\u001b[0m eta \u001b[36m0:00:00\u001b[0m\n",
            "\u001b[2K     \u001b[90m━━━━━━━━━━━━━━━━━━━━━━━━━━━━━━━━━━━━━━━━\u001b[0m \u001b[32m196.0/196.0 MB\u001b[0m \u001b[31m6.9 MB/s\u001b[0m eta \u001b[36m0:00:00\u001b[0m\n",
            "\u001b[2K     \u001b[90m━━━━━━━━━━━━━━━━━━━━━━━━━━━━━━━━━━━━━━━━\u001b[0m \u001b[32m166.0/166.0 MB\u001b[0m \u001b[31m7.3 MB/s\u001b[0m eta \u001b[36m0:00:00\u001b[0m\n",
            "\u001b[2K     \u001b[90m━━━━━━━━━━━━━━━━━━━━━━━━━━━━━━━━━━━━━━━━\u001b[0m \u001b[32m99.1/99.1 kB\u001b[0m \u001b[31m13.8 MB/s\u001b[0m eta \u001b[36m0:00:00\u001b[0m\n",
            "\u001b[2K     \u001b[90m━━━━━━━━━━━━━━━━━━━━━━━━━━━━━━━━━━━━━━━━\u001b[0m \u001b[32m21.1/21.1 MB\u001b[0m \u001b[31m78.3 MB/s\u001b[0m eta \u001b[36m0:00:00\u001b[0m\n",
            "\u001b[2K     \u001b[90m━━━━━━━━━━━━━━━━━━━━━━━━━━━━━━━━━━━━━━━━\u001b[0m \u001b[32m49.4/49.4 kB\u001b[0m \u001b[31m7.0 MB/s\u001b[0m eta \u001b[36m0:00:00\u001b[0m\n",
            "\u001b[2K     \u001b[90m━━━━━━━━━━━━━━━━━━━━━━━━━━━━━━━━━━━━━━━━\u001b[0m \u001b[32m138.5/138.5 kB\u001b[0m \u001b[31m19.3 MB/s\u001b[0m eta \u001b[36m0:00:00\u001b[0m\n",
            "\u001b[2K     \u001b[90m━━━━━━━━━━━━━━━━━━━━━━━━━━━━━━━━━━━━━━━━\u001b[0m \u001b[32m77.8/77.8 kB\u001b[0m \u001b[31m11.4 MB/s\u001b[0m eta \u001b[36m0:00:00\u001b[0m\n",
            "\u001b[2K     \u001b[90m━━━━━━━━━━━━━━━━━━━━━━━━━━━━━━━━━━━━━━━━\u001b[0m \u001b[32m58.3/58.3 kB\u001b[0m \u001b[31m8.3 MB/s\u001b[0m eta \u001b[36m0:00:00\u001b[0m\n",
            "\u001b[2K     \u001b[90m━━━━━━━━━━━━━━━━━━━━━━━━━━━━━━━━━━━━━━━━\u001b[0m \u001b[32m116.3/116.3 kB\u001b[0m \u001b[31m16.4 MB/s\u001b[0m eta \u001b[36m0:00:00\u001b[0m\n",
            "\u001b[2K     \u001b[90m━━━━━━━━━━━━━━━━━━━━━━━━━━━━━━━━━━━━━━━━\u001b[0m \u001b[32m194.1/194.1 kB\u001b[0m \u001b[31m21.1 MB/s\u001b[0m eta \u001b[36m0:00:00\u001b[0m\n",
            "\u001b[2K     \u001b[90m━━━━━━━━━━━━━━━━━━━━━━━━━━━━━━━━━━━━━━━━\u001b[0m \u001b[32m134.8/134.8 kB\u001b[0m \u001b[31m19.7 MB/s\u001b[0m eta \u001b[36m0:00:00\u001b[0m\n",
            "\u001b[2K     \u001b[90m━━━━━━━━━━━━━━━━━━━━━━━━━━━━━━━━━━━━━━━━\u001b[0m \u001b[32m195.4/195.4 kB\u001b[0m \u001b[31m23.7 MB/s\u001b[0m eta \u001b[36m0:00:00\u001b[0m\n",
            "\u001b[2K     \u001b[90m━━━━━━━━━━━━━━━━━━━━━━━━━━━━━━━━━━━━━━━━\u001b[0m \u001b[32m62.7/62.7 kB\u001b[0m \u001b[31m9.2 MB/s\u001b[0m eta \u001b[36m0:00:00\u001b[0m\n",
            "\u001b[?25h  Building wheel for colbert-ai (setup.py) ... \u001b[?25l\u001b[?25hdone\n"
          ]
        }
      ],
      "source": [
        "!pip install -q ragatouille"
      ]
    },
    {
      "cell_type": "code",
      "source": [
        "!pip uninstall --y faiss-cpu & pip install faiss-gpu"
      ],
      "metadata": {
        "colab": {
          "base_uri": "https://localhost:8080/"
        },
        "id": "qGTG26CLrmZB",
        "outputId": "93de8fd1-918e-407a-be56-2c4ea25c6cb5"
      },
      "execution_count": null,
      "outputs": [
        {
          "output_type": "stream",
          "name": "stdout",
          "text": [
            "Found existing installation: faiss-cpu 1.8.0\n",
            "Uninstalling faiss-cpu-1.8.0:\n",
            "  Successfully uninstalled faiss-cpu-1.8.0\n",
            "Collecting faiss-gpu\n",
            "  Downloading faiss_gpu-1.7.2-cp310-cp310-manylinux_2_17_x86_64.manylinux2014_x86_64.whl (85.5 MB)\n",
            "\u001b[2K     \u001b[90m━━━━━━━━━━━━━━━━━━━━━━━━━━━━━━━━━━━━━━━━\u001b[0m \u001b[32m85.5/85.5 MB\u001b[0m \u001b[31m9.3 MB/s\u001b[0m eta \u001b[36m0:00:00\u001b[0m\n",
            "\u001b[?25h\u001b[33mWARNING: Error parsing requirements for faiss-cpu: [Errno 2] No such file or directory: '/usr/local/lib/python3.10/dist-packages/faiss_cpu-1.8.0.dist-info/METADATA'\u001b[0m\u001b[33m\n",
            "\u001b[0mInstalling collected packages: faiss-gpu\n",
            "Successfully installed faiss-gpu-1.7.2\n"
          ]
        }
      ]
    },
    {
      "cell_type": "code",
      "execution_count": null,
      "metadata": {
        "colab": {
          "base_uri": "https://localhost:8080/"
        },
        "id": "br2XJLpmsHfI",
        "outputId": "fb9a787e-e3ca-4c6c-cc8f-046cc858bc49"
      },
      "outputs": [
        {
          "output_type": "stream",
          "name": "stdout",
          "text": [
            "\n",
            "\n",
            "[Mar 17, 23:11:32] #> Creating directory .ragatouille/colbert/indexes/my_index \n",
            "\n",
            "\n",
            "[Mar 17, 23:11:34] [0] \t\t #> Encoding 16 passages..\n",
            "[Mar 17, 23:11:38] [0] \t\t avg_doclen_est = 22.75 \t len(local_sample) = 16\n",
            "[Mar 17, 23:11:38] [0] \t\t Creating 256 partitions.\n",
            "[Mar 17, 23:11:38] [0] \t\t *Estimated* 364 embeddings.\n",
            "[Mar 17, 23:11:38] [0] \t\t #> Saving the indexing plan to .ragatouille/colbert/indexes/my_index/plan.json ..\n",
            "[Mar 17, 23:11:40] Loading decompress_residuals_cpp extension (set COLBERT_LOAD_TORCH_EXTENSION_VERBOSE=True for more info)...\n",
            "[Mar 17, 23:13:12] Loading packbits_cpp extension (set COLBERT_LOAD_TORCH_EXTENSION_VERBOSE=True for more info)...\n",
            "[0.043, 0.035, 0.045, 0.04, 0.036, 0.044, 0.033, 0.037, 0.047, 0.043, 0.055, 0.033, 0.046, 0.032, 0.039, 0.048, 0.051, 0.034, 0.03, 0.052, 0.047, 0.044, 0.044, 0.056, 0.04, 0.044, 0.037, 0.044, 0.037, 0.051, 0.051, 0.03, 0.052, 0.04, 0.04, 0.042, 0.032, 0.045, 0.036, 0.043, 0.033, 0.038, 0.039, 0.041, 0.031, 0.038, 0.035, 0.048, 0.042, 0.049, 0.042, 0.056, 0.052, 0.041, 0.041, 0.05, 0.036, 0.05, 0.036, 0.04, 0.043, 0.038, 0.038, 0.025, 0.04, 0.037, 0.031, 0.045, 0.04, 0.041, 0.057, 0.032, 0.04, 0.044, 0.035, 0.057, 0.028, 0.038, 0.035, 0.03, 0.035, 0.047, 0.048, 0.058, 0.04, 0.052, 0.04, 0.049, 0.047, 0.048, 0.057, 0.038, 0.032, 0.045, 0.057, 0.026, 0.036, 0.045, 0.037, 0.041, 0.043, 0.048, 0.033, 0.02, 0.03, 0.041, 0.04, 0.034, 0.046, 0.056, 0.032, 0.033, 0.05, 0.05, 0.04, 0.033, 0.033, 0.058, 0.032, 0.041, 0.032, 0.037, 0.035, 0.051, 0.039, 0.046, 0.042, 0.047]\n"
          ]
        },
        {
          "output_type": "stream",
          "name": "stderr",
          "text": [
            "\r0it [00:00, ?it/s]"
          ]
        },
        {
          "output_type": "stream",
          "name": "stdout",
          "text": [
            "[Mar 17, 23:14:42] [0] \t\t #> Encoding 16 passages..\n"
          ]
        },
        {
          "output_type": "stream",
          "name": "stderr",
          "text": [
            "1it [00:00,  9.25it/s]\n",
            "100%|██████████| 1/1 [00:00<00:00, 1665.73it/s]"
          ]
        },
        {
          "output_type": "stream",
          "name": "stdout",
          "text": [
            "[Mar 17, 23:14:42] #> Optimizing IVF to store map from centroids to list of pids..\n",
            "[Mar 17, 23:14:42] #> Building the emb2pid mapping..\n",
            "[Mar 17, 23:14:42] len(emb2pid) = 364\n"
          ]
        },
        {
          "output_type": "stream",
          "name": "stderr",
          "text": [
            "\n",
            "100%|██████████| 256/256 [00:00<00:00, 29208.72it/s]"
          ]
        },
        {
          "output_type": "stream",
          "name": "stdout",
          "text": [
            "[Mar 17, 23:14:43] #> Saved optimized IVF to .ragatouille/colbert/indexes/my_index/ivf.pid.pt\n",
            "Done indexing!\n"
          ]
        },
        {
          "output_type": "stream",
          "name": "stderr",
          "text": [
            "\n"
          ]
        }
      ],
      "source": [
        "from ragatouille import RAGPretrainedModel\n",
        "from ragatouille.utils import get_wikipedia_page\n",
        "\n",
        "RAG = RAGPretrainedModel.from_pretrained(\"colbert-ir/colbertv2.0\")\n",
        "corpus = [\n",
        "    \"Elephants are the largest land mammals on Earth and can weigh up to 6 tons.\",\n",
        "    \"Cheetahs are the fastest land animals and can reach speeds of up to 70 mph.\",\n",
        "    \"The shortest war in history was between Zanzibar and England in 1896. Zanzibar surrendered after 38 minutes.\",\n",
        "    \"The world's oldest known musical instrument is a flute made from a bird bone, discovered in Germany and dated to be about 40,000 years old.\",\n",
        "    \"The word 'hippopotomonstrosesquippedaliophobia' ironically means a fear of long words.\",\n",
        "    \"The average human body contains enough carbon to make 900 pencils.\",\n",
        "    \"The world's most expensive coffee, Kopi Luwak, is made from coffee beans eaten and excreted by the Asian palm civet.\",\n",
        "    \"The shortest commercial flight in the world is between the islands of Westray and Papa Westray in Scotland, lasting only 1.5 minutes.\",\n",
        "    \"The world's quietest room, called the anechoic chamber, is located at Microsoft's headquarters in Washington State.\",\n",
        "    \"The probability of a coin landing on its edge is about 1 in 6,000 tosses.\",\n",
        "    \"The world's oldest known musical composition is the Hurrian Hymn No. 6, which dates back to around 1400 BC.\",\n",
        "    \"The world's most expensive pizza, the Louis XIII, costs $12,000 and takes 72 hours to make.\",\n",
        "    \"France is a country located in Western Europe, known for its art, cuisine, and fashion.\",\n",
        "    \"The capital of France is Paris, which is also known as the City of Light.\",\n",
        "    \"Australia is the world's sixth-largest country by total area and is home to unique wildlife like kangaroos and koalas.\",\n",
        "    \"Brazil is the largest country in South America and is known for its vibrant culture, including the Carnival festival.\"\n",
        "]\n",
        "index_path = RAG.index(index_name=\"my_index\", collection=corpus)"
      ]
    },
    {
      "cell_type": "code",
      "execution_count": null,
      "metadata": {
        "colab": {
          "base_uri": "https://localhost:8080/"
        },
        "id": "J255eCgNnvGE",
        "outputId": "cfd04a58-e157-4ef7-94ef-776f9fdfaa87"
      },
      "outputs": [
        {
          "output_type": "stream",
          "name": "stdout",
          "text": [
            "Loading searcher for index my_index for the first time... This may take a few seconds\n",
            "[Mar 17, 23:15:27] #> Loading codec...\n",
            "[Mar 17, 23:15:27] #> Loading IVF...\n",
            "[Mar 17, 23:15:27] #> Loading doclens...\n"
          ]
        },
        {
          "output_type": "stream",
          "name": "stderr",
          "text": [
            "100%|██████████| 1/1 [00:00<00:00, 5077.85it/s]"
          ]
        },
        {
          "output_type": "stream",
          "name": "stdout",
          "text": [
            "[Mar 17, 23:15:27] #> Loading codes and residuals...\n"
          ]
        },
        {
          "output_type": "stream",
          "name": "stderr",
          "text": [
            "\n",
            "100%|██████████| 1/1 [00:00<00:00, 876.55it/s]"
          ]
        },
        {
          "output_type": "stream",
          "name": "stdout",
          "text": [
            "Searcher loaded!\n",
            "\n",
            "#> QueryTokenizer.tensorize(batch_text[0], batch_background[0], bsize) ==\n",
            "#> Input: . What is the capital of France?, \t\t True, \t\t None\n",
            "#> Output IDs: torch.Size([32]), tensor([ 101,    1, 2054, 2003, 1996, 3007, 1997, 2605, 1029,  102,  103,  103,\n",
            "         103,  103,  103,  103,  103,  103,  103,  103,  103,  103,  103,  103,\n",
            "         103,  103,  103,  103,  103,  103,  103,  103], device='cuda:0')\n",
            "#> Output Mask: torch.Size([32]), tensor([1, 1, 1, 1, 1, 1, 1, 1, 1, 1, 0, 0, 0, 0, 0, 0, 0, 0, 0, 0, 0, 0, 0, 0,\n",
            "        0, 0, 0, 0, 0, 0, 0, 0], device='cuda:0')\n",
            "\n"
          ]
        },
        {
          "output_type": "stream",
          "name": "stderr",
          "text": [
            "\n"
          ]
        }
      ],
      "source": [
        "from ragatouille import RAGPretrainedModel\n",
        "\n",
        "query = \"What is the capital of France?\"\n",
        "RAG = RAGPretrainedModel.from_index(index_path)\n",
        "results = RAG.search(query)"
      ]
    },
    {
      "cell_type": "code",
      "execution_count": null,
      "metadata": {
        "id": "eJszFnnno0lF",
        "colab": {
          "base_uri": "https://localhost:8080/"
        },
        "outputId": "0bb3252b-2505-4c20-f498-ee2b3260a20e"
      },
      "outputs": [
        {
          "output_type": "execute_result",
          "data": {
            "text/plain": [
              "[{'content': 'The capital of France is Paris, which is also known as the City of Light.',\n",
              "  'score': 29.484375,\n",
              "  'rank': 1,\n",
              "  'document_id': '76aa9e3f-ff4b-43ca-bb8b-5fa973f87b5a',\n",
              "  'passage_id': 13},\n",
              " {'content': 'France is a country located in Western Europe, known for its art, cuisine, and fashion.',\n",
              "  'score': 20.109375,\n",
              "  'rank': 2,\n",
              "  'document_id': '283af110-52a9-43e6-8c6b-77285ef95145',\n",
              "  'passage_id': 12}]"
            ]
          },
          "metadata": {},
          "execution_count": 3
        }
      ],
      "source": [
        "results"
      ]
    },
    {
      "cell_type": "code",
      "source": [],
      "metadata": {
        "id": "SC1v9TyCq2rE"
      },
      "execution_count": null,
      "outputs": []
    }
  ],
  "metadata": {
    "colab": {
      "provenance": [],
      "toc_visible": true,
      "include_colab_link": true
    },
    "kernelspec": {
      "display_name": "Python 3",
      "name": "python3"
    },
    "language_info": {
      "name": "python"
    },
    "widgets": {
      "application/vnd.jupyter.widget-state+json": {
        "005c3dcba1784a8b963c0fab29f87ef0": {
          "model_module": "@jupyter-widgets/controls",
          "model_module_version": "1.5.0",
          "model_name": "ProgressStyleModel",
          "state": {
            "_model_module": "@jupyter-widgets/controls",
            "_model_module_version": "1.5.0",
            "_model_name": "ProgressStyleModel",
            "_view_count": null,
            "_view_module": "@jupyter-widgets/base",
            "_view_module_version": "1.2.0",
            "_view_name": "StyleView",
            "bar_color": null,
            "description_width": ""
          }
        },
        "01dccd87563d48169557d735a2691785": {
          "model_module": "@jupyter-widgets/base",
          "model_module_version": "1.2.0",
          "model_name": "LayoutModel",
          "state": {
            "_model_module": "@jupyter-widgets/base",
            "_model_module_version": "1.2.0",
            "_model_name": "LayoutModel",
            "_view_count": null,
            "_view_module": "@jupyter-widgets/base",
            "_view_module_version": "1.2.0",
            "_view_name": "LayoutView",
            "align_content": null,
            "align_items": null,
            "align_self": null,
            "border": null,
            "bottom": null,
            "display": null,
            "flex": null,
            "flex_flow": null,
            "grid_area": null,
            "grid_auto_columns": null,
            "grid_auto_flow": null,
            "grid_auto_rows": null,
            "grid_column": null,
            "grid_gap": null,
            "grid_row": null,
            "grid_template_areas": null,
            "grid_template_columns": null,
            "grid_template_rows": null,
            "height": null,
            "justify_content": null,
            "justify_items": null,
            "left": null,
            "margin": null,
            "max_height": null,
            "max_width": null,
            "min_height": null,
            "min_width": null,
            "object_fit": null,
            "object_position": null,
            "order": null,
            "overflow": null,
            "overflow_x": null,
            "overflow_y": null,
            "padding": null,
            "right": null,
            "top": null,
            "visibility": null,
            "width": null
          }
        },
        "040dd7a593894b62b937c7afd254f643": {
          "model_module": "@jupyter-widgets/base",
          "model_module_version": "1.2.0",
          "model_name": "LayoutModel",
          "state": {
            "_model_module": "@jupyter-widgets/base",
            "_model_module_version": "1.2.0",
            "_model_name": "LayoutModel",
            "_view_count": null,
            "_view_module": "@jupyter-widgets/base",
            "_view_module_version": "1.2.0",
            "_view_name": "LayoutView",
            "align_content": null,
            "align_items": null,
            "align_self": null,
            "border": null,
            "bottom": null,
            "display": null,
            "flex": null,
            "flex_flow": null,
            "grid_area": null,
            "grid_auto_columns": null,
            "grid_auto_flow": null,
            "grid_auto_rows": null,
            "grid_column": null,
            "grid_gap": null,
            "grid_row": null,
            "grid_template_areas": null,
            "grid_template_columns": null,
            "grid_template_rows": null,
            "height": null,
            "justify_content": null,
            "justify_items": null,
            "left": null,
            "margin": null,
            "max_height": null,
            "max_width": null,
            "min_height": null,
            "min_width": null,
            "object_fit": null,
            "object_position": null,
            "order": null,
            "overflow": null,
            "overflow_x": null,
            "overflow_y": null,
            "padding": null,
            "right": null,
            "top": null,
            "visibility": null,
            "width": null
          }
        },
        "04ed78cb43e24131a1a8bef3f94fd3e5": {
          "model_module": "@jupyter-widgets/base",
          "model_module_version": "1.2.0",
          "model_name": "LayoutModel",
          "state": {
            "_model_module": "@jupyter-widgets/base",
            "_model_module_version": "1.2.0",
            "_model_name": "LayoutModel",
            "_view_count": null,
            "_view_module": "@jupyter-widgets/base",
            "_view_module_version": "1.2.0",
            "_view_name": "LayoutView",
            "align_content": null,
            "align_items": null,
            "align_self": null,
            "border": null,
            "bottom": null,
            "display": null,
            "flex": null,
            "flex_flow": null,
            "grid_area": null,
            "grid_auto_columns": null,
            "grid_auto_flow": null,
            "grid_auto_rows": null,
            "grid_column": null,
            "grid_gap": null,
            "grid_row": null,
            "grid_template_areas": null,
            "grid_template_columns": null,
            "grid_template_rows": null,
            "height": null,
            "justify_content": null,
            "justify_items": null,
            "left": null,
            "margin": null,
            "max_height": null,
            "max_width": null,
            "min_height": null,
            "min_width": null,
            "object_fit": null,
            "object_position": null,
            "order": null,
            "overflow": null,
            "overflow_x": null,
            "overflow_y": null,
            "padding": null,
            "right": null,
            "top": null,
            "visibility": null,
            "width": null
          }
        },
        "0b5401d5f83f48b8a14baccecf0fe188": {
          "model_module": "@jupyter-widgets/controls",
          "model_module_version": "1.5.0",
          "model_name": "DescriptionStyleModel",
          "state": {
            "_model_module": "@jupyter-widgets/controls",
            "_model_module_version": "1.5.0",
            "_model_name": "DescriptionStyleModel",
            "_view_count": null,
            "_view_module": "@jupyter-widgets/base",
            "_view_module_version": "1.2.0",
            "_view_name": "StyleView",
            "description_width": ""
          }
        },
        "18ff6c10af034db58fc0bb09fb1cfebc": {
          "model_module": "@jupyter-widgets/controls",
          "model_module_version": "1.5.0",
          "model_name": "DescriptionStyleModel",
          "state": {
            "_model_module": "@jupyter-widgets/controls",
            "_model_module_version": "1.5.0",
            "_model_name": "DescriptionStyleModel",
            "_view_count": null,
            "_view_module": "@jupyter-widgets/base",
            "_view_module_version": "1.2.0",
            "_view_name": "StyleView",
            "description_width": ""
          }
        },
        "1e8772df3a7748ef9c253f81976f1776": {
          "model_module": "@jupyter-widgets/controls",
          "model_module_version": "1.5.0",
          "model_name": "ProgressStyleModel",
          "state": {
            "_model_module": "@jupyter-widgets/controls",
            "_model_module_version": "1.5.0",
            "_model_name": "ProgressStyleModel",
            "_view_count": null,
            "_view_module": "@jupyter-widgets/base",
            "_view_module_version": "1.2.0",
            "_view_name": "StyleView",
            "bar_color": null,
            "description_width": ""
          }
        },
        "2eeb72dd9baa4bb0947a8bfd86b80653": {
          "model_module": "@jupyter-widgets/base",
          "model_module_version": "1.2.0",
          "model_name": "LayoutModel",
          "state": {
            "_model_module": "@jupyter-widgets/base",
            "_model_module_version": "1.2.0",
            "_model_name": "LayoutModel",
            "_view_count": null,
            "_view_module": "@jupyter-widgets/base",
            "_view_module_version": "1.2.0",
            "_view_name": "LayoutView",
            "align_content": null,
            "align_items": null,
            "align_self": null,
            "border": null,
            "bottom": null,
            "display": null,
            "flex": null,
            "flex_flow": null,
            "grid_area": null,
            "grid_auto_columns": null,
            "grid_auto_flow": null,
            "grid_auto_rows": null,
            "grid_column": null,
            "grid_gap": null,
            "grid_row": null,
            "grid_template_areas": null,
            "grid_template_columns": null,
            "grid_template_rows": null,
            "height": null,
            "justify_content": null,
            "justify_items": null,
            "left": null,
            "margin": null,
            "max_height": null,
            "max_width": null,
            "min_height": null,
            "min_width": null,
            "object_fit": null,
            "object_position": null,
            "order": null,
            "overflow": null,
            "overflow_x": null,
            "overflow_y": null,
            "padding": null,
            "right": null,
            "top": null,
            "visibility": null,
            "width": null
          }
        },
        "38d05532b2b549ab83e02b8f97152835": {
          "model_module": "@jupyter-widgets/controls",
          "model_module_version": "1.5.0",
          "model_name": "HTMLModel",
          "state": {
            "_dom_classes": [],
            "_model_module": "@jupyter-widgets/controls",
            "_model_module_version": "1.5.0",
            "_model_name": "HTMLModel",
            "_view_count": null,
            "_view_module": "@jupyter-widgets/controls",
            "_view_module_version": "1.5.0",
            "_view_name": "HTMLView",
            "description": "",
            "description_tooltip": null,
            "layout": "IPY_MODEL_4525b0318dab4722aa28bb780b20983c",
            "placeholder": "​",
            "style": "IPY_MODEL_7121f525892144bc93d69f5d5f11e321",
            "value": " 1/1 [00:03&lt;00:00,  3.05s/it]"
          }
        },
        "43be6b834c344322aad752af445915c7": {
          "model_module": "@jupyter-widgets/base",
          "model_module_version": "1.2.0",
          "model_name": "LayoutModel",
          "state": {
            "_model_module": "@jupyter-widgets/base",
            "_model_module_version": "1.2.0",
            "_model_name": "LayoutModel",
            "_view_count": null,
            "_view_module": "@jupyter-widgets/base",
            "_view_module_version": "1.2.0",
            "_view_name": "LayoutView",
            "align_content": null,
            "align_items": null,
            "align_self": null,
            "border": null,
            "bottom": null,
            "display": null,
            "flex": null,
            "flex_flow": null,
            "grid_area": null,
            "grid_auto_columns": null,
            "grid_auto_flow": null,
            "grid_auto_rows": null,
            "grid_column": null,
            "grid_gap": null,
            "grid_row": null,
            "grid_template_areas": null,
            "grid_template_columns": null,
            "grid_template_rows": null,
            "height": null,
            "justify_content": null,
            "justify_items": null,
            "left": null,
            "margin": null,
            "max_height": null,
            "max_width": null,
            "min_height": null,
            "min_width": null,
            "object_fit": null,
            "object_position": null,
            "order": null,
            "overflow": null,
            "overflow_x": null,
            "overflow_y": null,
            "padding": null,
            "right": null,
            "top": null,
            "visibility": null,
            "width": null
          }
        },
        "4525b0318dab4722aa28bb780b20983c": {
          "model_module": "@jupyter-widgets/base",
          "model_module_version": "1.2.0",
          "model_name": "LayoutModel",
          "state": {
            "_model_module": "@jupyter-widgets/base",
            "_model_module_version": "1.2.0",
            "_model_name": "LayoutModel",
            "_view_count": null,
            "_view_module": "@jupyter-widgets/base",
            "_view_module_version": "1.2.0",
            "_view_name": "LayoutView",
            "align_content": null,
            "align_items": null,
            "align_self": null,
            "border": null,
            "bottom": null,
            "display": null,
            "flex": null,
            "flex_flow": null,
            "grid_area": null,
            "grid_auto_columns": null,
            "grid_auto_flow": null,
            "grid_auto_rows": null,
            "grid_column": null,
            "grid_gap": null,
            "grid_row": null,
            "grid_template_areas": null,
            "grid_template_columns": null,
            "grid_template_rows": null,
            "height": null,
            "justify_content": null,
            "justify_items": null,
            "left": null,
            "margin": null,
            "max_height": null,
            "max_width": null,
            "min_height": null,
            "min_width": null,
            "object_fit": null,
            "object_position": null,
            "order": null,
            "overflow": null,
            "overflow_x": null,
            "overflow_y": null,
            "padding": null,
            "right": null,
            "top": null,
            "visibility": null,
            "width": null
          }
        },
        "4568518c476944bdbed8ad6291d32da3": {
          "model_module": "@jupyter-widgets/base",
          "model_module_version": "1.2.0",
          "model_name": "LayoutModel",
          "state": {
            "_model_module": "@jupyter-widgets/base",
            "_model_module_version": "1.2.0",
            "_model_name": "LayoutModel",
            "_view_count": null,
            "_view_module": "@jupyter-widgets/base",
            "_view_module_version": "1.2.0",
            "_view_name": "LayoutView",
            "align_content": null,
            "align_items": null,
            "align_self": null,
            "border": null,
            "bottom": null,
            "display": null,
            "flex": null,
            "flex_flow": null,
            "grid_area": null,
            "grid_auto_columns": null,
            "grid_auto_flow": null,
            "grid_auto_rows": null,
            "grid_column": null,
            "grid_gap": null,
            "grid_row": null,
            "grid_template_areas": null,
            "grid_template_columns": null,
            "grid_template_rows": null,
            "height": null,
            "justify_content": null,
            "justify_items": null,
            "left": null,
            "margin": null,
            "max_height": null,
            "max_width": null,
            "min_height": null,
            "min_width": null,
            "object_fit": null,
            "object_position": null,
            "order": null,
            "overflow": null,
            "overflow_x": null,
            "overflow_y": null,
            "padding": null,
            "right": null,
            "top": null,
            "visibility": null,
            "width": null
          }
        },
        "4b3b206949754a0d8b01d70cf1099556": {
          "model_module": "@jupyter-widgets/controls",
          "model_module_version": "1.5.0",
          "model_name": "FloatProgressModel",
          "state": {
            "_dom_classes": [],
            "_model_module": "@jupyter-widgets/controls",
            "_model_module_version": "1.5.0",
            "_model_name": "FloatProgressModel",
            "_view_count": null,
            "_view_module": "@jupyter-widgets/controls",
            "_view_module_version": "1.5.0",
            "_view_name": "ProgressView",
            "bar_style": "success",
            "description": "",
            "description_tooltip": null,
            "layout": "IPY_MODEL_040dd7a593894b62b937c7afd254f643",
            "max": 1,
            "min": 0,
            "orientation": "horizontal",
            "style": "IPY_MODEL_eb6ce43127184e3b82e18cfb0c2f4775",
            "value": 1
          }
        },
        "51970f8bbc644db7809b6fd56deb3605": {
          "model_module": "@jupyter-widgets/base",
          "model_module_version": "1.2.0",
          "model_name": "LayoutModel",
          "state": {
            "_model_module": "@jupyter-widgets/base",
            "_model_module_version": "1.2.0",
            "_model_name": "LayoutModel",
            "_view_count": null,
            "_view_module": "@jupyter-widgets/base",
            "_view_module_version": "1.2.0",
            "_view_name": "LayoutView",
            "align_content": null,
            "align_items": null,
            "align_self": null,
            "border": null,
            "bottom": null,
            "display": null,
            "flex": null,
            "flex_flow": null,
            "grid_area": null,
            "grid_auto_columns": null,
            "grid_auto_flow": null,
            "grid_auto_rows": null,
            "grid_column": null,
            "grid_gap": null,
            "grid_row": null,
            "grid_template_areas": null,
            "grid_template_columns": null,
            "grid_template_rows": null,
            "height": null,
            "justify_content": null,
            "justify_items": null,
            "left": null,
            "margin": null,
            "max_height": null,
            "max_width": null,
            "min_height": null,
            "min_width": null,
            "object_fit": null,
            "object_position": null,
            "order": null,
            "overflow": null,
            "overflow_x": null,
            "overflow_y": null,
            "padding": null,
            "right": null,
            "top": null,
            "visibility": null,
            "width": null
          }
        },
        "525dccf70397473e877957de6bc5725e": {
          "model_module": "@jupyter-widgets/controls",
          "model_module_version": "1.5.0",
          "model_name": "HTMLModel",
          "state": {
            "_dom_classes": [],
            "_model_module": "@jupyter-widgets/controls",
            "_model_module_version": "1.5.0",
            "_model_name": "HTMLModel",
            "_view_count": null,
            "_view_module": "@jupyter-widgets/controls",
            "_view_module_version": "1.5.0",
            "_view_name": "HTMLView",
            "description": "",
            "description_tooltip": null,
            "layout": "IPY_MODEL_c7de726e73844f30ab5f4b0e833f23de",
            "placeholder": "​",
            "style": "IPY_MODEL_6d3e4c93e24a4683974ebdf9f3dad3b7",
            "value": " 1/1 [00:03&lt;00:00,  3.13s/it]"
          }
        },
        "545dca58249b4a79a04a1d1bc47344f1": {
          "model_module": "@jupyter-widgets/controls",
          "model_module_version": "1.5.0",
          "model_name": "DescriptionStyleModel",
          "state": {
            "_model_module": "@jupyter-widgets/controls",
            "_model_module_version": "1.5.0",
            "_model_name": "DescriptionStyleModel",
            "_view_count": null,
            "_view_module": "@jupyter-widgets/base",
            "_view_module_version": "1.2.0",
            "_view_name": "StyleView",
            "description_width": ""
          }
        },
        "5eb605f8daa14883bc2e25b64ac097ba": {
          "model_module": "@jupyter-widgets/base",
          "model_module_version": "1.2.0",
          "model_name": "LayoutModel",
          "state": {
            "_model_module": "@jupyter-widgets/base",
            "_model_module_version": "1.2.0",
            "_model_name": "LayoutModel",
            "_view_count": null,
            "_view_module": "@jupyter-widgets/base",
            "_view_module_version": "1.2.0",
            "_view_name": "LayoutView",
            "align_content": null,
            "align_items": null,
            "align_self": null,
            "border": null,
            "bottom": null,
            "display": null,
            "flex": null,
            "flex_flow": null,
            "grid_area": null,
            "grid_auto_columns": null,
            "grid_auto_flow": null,
            "grid_auto_rows": null,
            "grid_column": null,
            "grid_gap": null,
            "grid_row": null,
            "grid_template_areas": null,
            "grid_template_columns": null,
            "grid_template_rows": null,
            "height": null,
            "justify_content": null,
            "justify_items": null,
            "left": null,
            "margin": null,
            "max_height": null,
            "max_width": null,
            "min_height": null,
            "min_width": null,
            "object_fit": null,
            "object_position": null,
            "order": null,
            "overflow": null,
            "overflow_x": null,
            "overflow_y": null,
            "padding": null,
            "right": null,
            "top": null,
            "visibility": null,
            "width": null
          }
        },
        "6d3e4c93e24a4683974ebdf9f3dad3b7": {
          "model_module": "@jupyter-widgets/controls",
          "model_module_version": "1.5.0",
          "model_name": "DescriptionStyleModel",
          "state": {
            "_model_module": "@jupyter-widgets/controls",
            "_model_module_version": "1.5.0",
            "_model_name": "DescriptionStyleModel",
            "_view_count": null,
            "_view_module": "@jupyter-widgets/base",
            "_view_module_version": "1.2.0",
            "_view_name": "StyleView",
            "description_width": ""
          }
        },
        "7121f525892144bc93d69f5d5f11e321": {
          "model_module": "@jupyter-widgets/controls",
          "model_module_version": "1.5.0",
          "model_name": "DescriptionStyleModel",
          "state": {
            "_model_module": "@jupyter-widgets/controls",
            "_model_module_version": "1.5.0",
            "_model_name": "DescriptionStyleModel",
            "_view_count": null,
            "_view_module": "@jupyter-widgets/base",
            "_view_module_version": "1.2.0",
            "_view_name": "StyleView",
            "description_width": ""
          }
        },
        "7a81069e09104cb599be92741d441c8c": {
          "model_module": "@jupyter-widgets/base",
          "model_module_version": "1.2.0",
          "model_name": "LayoutModel",
          "state": {
            "_model_module": "@jupyter-widgets/base",
            "_model_module_version": "1.2.0",
            "_model_name": "LayoutModel",
            "_view_count": null,
            "_view_module": "@jupyter-widgets/base",
            "_view_module_version": "1.2.0",
            "_view_name": "LayoutView",
            "align_content": null,
            "align_items": null,
            "align_self": null,
            "border": null,
            "bottom": null,
            "display": null,
            "flex": null,
            "flex_flow": null,
            "grid_area": null,
            "grid_auto_columns": null,
            "grid_auto_flow": null,
            "grid_auto_rows": null,
            "grid_column": null,
            "grid_gap": null,
            "grid_row": null,
            "grid_template_areas": null,
            "grid_template_columns": null,
            "grid_template_rows": null,
            "height": null,
            "justify_content": null,
            "justify_items": null,
            "left": null,
            "margin": null,
            "max_height": null,
            "max_width": null,
            "min_height": null,
            "min_width": null,
            "object_fit": null,
            "object_position": null,
            "order": null,
            "overflow": null,
            "overflow_x": null,
            "overflow_y": null,
            "padding": null,
            "right": null,
            "top": null,
            "visibility": null,
            "width": null
          }
        },
        "7cc47f38c4c1464e909fe33abb130287": {
          "model_module": "@jupyter-widgets/base",
          "model_module_version": "1.2.0",
          "model_name": "LayoutModel",
          "state": {
            "_model_module": "@jupyter-widgets/base",
            "_model_module_version": "1.2.0",
            "_model_name": "LayoutModel",
            "_view_count": null,
            "_view_module": "@jupyter-widgets/base",
            "_view_module_version": "1.2.0",
            "_view_name": "LayoutView",
            "align_content": null,
            "align_items": null,
            "align_self": null,
            "border": null,
            "bottom": null,
            "display": null,
            "flex": null,
            "flex_flow": null,
            "grid_area": null,
            "grid_auto_columns": null,
            "grid_auto_flow": null,
            "grid_auto_rows": null,
            "grid_column": null,
            "grid_gap": null,
            "grid_row": null,
            "grid_template_areas": null,
            "grid_template_columns": null,
            "grid_template_rows": null,
            "height": null,
            "justify_content": null,
            "justify_items": null,
            "left": null,
            "margin": null,
            "max_height": null,
            "max_width": null,
            "min_height": null,
            "min_width": null,
            "object_fit": null,
            "object_position": null,
            "order": null,
            "overflow": null,
            "overflow_x": null,
            "overflow_y": null,
            "padding": null,
            "right": null,
            "top": null,
            "visibility": null,
            "width": null
          }
        },
        "800d35e0fdec497c908d6b8401a535e3": {
          "model_module": "@jupyter-widgets/controls",
          "model_module_version": "1.5.0",
          "model_name": "HBoxModel",
          "state": {
            "_dom_classes": [],
            "_model_module": "@jupyter-widgets/controls",
            "_model_module_version": "1.5.0",
            "_model_name": "HBoxModel",
            "_view_count": null,
            "_view_module": "@jupyter-widgets/controls",
            "_view_module_version": "1.5.0",
            "_view_name": "HBoxView",
            "box_style": "",
            "children": [
              "IPY_MODEL_81cbbd3b50a64b169a38eec7b4d318d9",
              "IPY_MODEL_4b3b206949754a0d8b01d70cf1099556",
              "IPY_MODEL_81de47efe2ce48aa8756d9ffb6a9a553"
            ],
            "layout": "IPY_MODEL_04ed78cb43e24131a1a8bef3f94fd3e5"
          }
        },
        "81cbbd3b50a64b169a38eec7b4d318d9": {
          "model_module": "@jupyter-widgets/controls",
          "model_module_version": "1.5.0",
          "model_name": "HTMLModel",
          "state": {
            "_dom_classes": [],
            "_model_module": "@jupyter-widgets/controls",
            "_model_module_version": "1.5.0",
            "_model_name": "HTMLModel",
            "_view_count": null,
            "_view_module": "@jupyter-widgets/controls",
            "_view_module_version": "1.5.0",
            "_view_name": "HTMLView",
            "description": "",
            "description_tooltip": null,
            "layout": "IPY_MODEL_aedd94b696404a7db51345fdf500234e",
            "placeholder": "​",
            "style": "IPY_MODEL_0b5401d5f83f48b8a14baccecf0fe188",
            "value": "Batches: 100%"
          }
        },
        "81de47efe2ce48aa8756d9ffb6a9a553": {
          "model_module": "@jupyter-widgets/controls",
          "model_module_version": "1.5.0",
          "model_name": "HTMLModel",
          "state": {
            "_dom_classes": [],
            "_model_module": "@jupyter-widgets/controls",
            "_model_module_version": "1.5.0",
            "_model_name": "HTMLModel",
            "_view_count": null,
            "_view_module": "@jupyter-widgets/controls",
            "_view_module_version": "1.5.0",
            "_view_name": "HTMLView",
            "description": "",
            "description_tooltip": null,
            "layout": "IPY_MODEL_7a81069e09104cb599be92741d441c8c",
            "placeholder": "​",
            "style": "IPY_MODEL_9db15f4881084c25a69e6ae34437c8c3",
            "value": " 1/1 [00:00&lt;00:00,  1.73it/s]"
          }
        },
        "8616941ec23947b9b20503b31059d5c0": {
          "model_module": "@jupyter-widgets/controls",
          "model_module_version": "1.5.0",
          "model_name": "FloatProgressModel",
          "state": {
            "_dom_classes": [],
            "_model_module": "@jupyter-widgets/controls",
            "_model_module_version": "1.5.0",
            "_model_name": "FloatProgressModel",
            "_view_count": null,
            "_view_module": "@jupyter-widgets/controls",
            "_view_module_version": "1.5.0",
            "_view_name": "ProgressView",
            "bar_style": "success",
            "description": "",
            "description_tooltip": null,
            "layout": "IPY_MODEL_5eb605f8daa14883bc2e25b64ac097ba",
            "max": 1,
            "min": 0,
            "orientation": "horizontal",
            "style": "IPY_MODEL_1e8772df3a7748ef9c253f81976f1776",
            "value": 1
          }
        },
        "9993586b6ff34f788f9ebf003d572011": {
          "model_module": "@jupyter-widgets/controls",
          "model_module_version": "1.5.0",
          "model_name": "HBoxModel",
          "state": {
            "_dom_classes": [],
            "_model_module": "@jupyter-widgets/controls",
            "_model_module_version": "1.5.0",
            "_model_name": "HBoxModel",
            "_view_count": null,
            "_view_module": "@jupyter-widgets/controls",
            "_view_module_version": "1.5.0",
            "_view_name": "HBoxView",
            "box_style": "",
            "children": [
              "IPY_MODEL_d133875774744d82aa90cb74159ce2ec",
              "IPY_MODEL_8616941ec23947b9b20503b31059d5c0",
              "IPY_MODEL_d9780c00ee5849edbb045011f4781a71"
            ],
            "layout": "IPY_MODEL_abdea1b3d71f45bb9fd0beeffcf8aff6"
          }
        },
        "9b504de1889a4069afb52b29fcd74e37": {
          "model_module": "@jupyter-widgets/controls",
          "model_module_version": "1.5.0",
          "model_name": "FloatProgressModel",
          "state": {
            "_dom_classes": [],
            "_model_module": "@jupyter-widgets/controls",
            "_model_module_version": "1.5.0",
            "_model_name": "FloatProgressModel",
            "_view_count": null,
            "_view_module": "@jupyter-widgets/controls",
            "_view_module_version": "1.5.0",
            "_view_name": "ProgressView",
            "bar_style": "success",
            "description": "",
            "description_tooltip": null,
            "layout": "IPY_MODEL_b287d7b7c9554c89ae616a6c10367a64",
            "max": 1,
            "min": 0,
            "orientation": "horizontal",
            "style": "IPY_MODEL_a2b25dba81da4a8aa261e333dc4bdf82",
            "value": 1
          }
        },
        "9db15f4881084c25a69e6ae34437c8c3": {
          "model_module": "@jupyter-widgets/controls",
          "model_module_version": "1.5.0",
          "model_name": "DescriptionStyleModel",
          "state": {
            "_model_module": "@jupyter-widgets/controls",
            "_model_module_version": "1.5.0",
            "_model_name": "DescriptionStyleModel",
            "_view_count": null,
            "_view_module": "@jupyter-widgets/base",
            "_view_module_version": "1.2.0",
            "_view_name": "StyleView",
            "description_width": ""
          }
        },
        "a2b25dba81da4a8aa261e333dc4bdf82": {
          "model_module": "@jupyter-widgets/controls",
          "model_module_version": "1.5.0",
          "model_name": "ProgressStyleModel",
          "state": {
            "_model_module": "@jupyter-widgets/controls",
            "_model_module_version": "1.5.0",
            "_model_name": "ProgressStyleModel",
            "_view_count": null,
            "_view_module": "@jupyter-widgets/base",
            "_view_module_version": "1.2.0",
            "_view_name": "StyleView",
            "bar_color": null,
            "description_width": ""
          }
        },
        "abdea1b3d71f45bb9fd0beeffcf8aff6": {
          "model_module": "@jupyter-widgets/base",
          "model_module_version": "1.2.0",
          "model_name": "LayoutModel",
          "state": {
            "_model_module": "@jupyter-widgets/base",
            "_model_module_version": "1.2.0",
            "_model_name": "LayoutModel",
            "_view_count": null,
            "_view_module": "@jupyter-widgets/base",
            "_view_module_version": "1.2.0",
            "_view_name": "LayoutView",
            "align_content": null,
            "align_items": null,
            "align_self": null,
            "border": null,
            "bottom": null,
            "display": null,
            "flex": null,
            "flex_flow": null,
            "grid_area": null,
            "grid_auto_columns": null,
            "grid_auto_flow": null,
            "grid_auto_rows": null,
            "grid_column": null,
            "grid_gap": null,
            "grid_row": null,
            "grid_template_areas": null,
            "grid_template_columns": null,
            "grid_template_rows": null,
            "height": null,
            "justify_content": null,
            "justify_items": null,
            "left": null,
            "margin": null,
            "max_height": null,
            "max_width": null,
            "min_height": null,
            "min_width": null,
            "object_fit": null,
            "object_position": null,
            "order": null,
            "overflow": null,
            "overflow_x": null,
            "overflow_y": null,
            "padding": null,
            "right": null,
            "top": null,
            "visibility": null,
            "width": null
          }
        },
        "aedd94b696404a7db51345fdf500234e": {
          "model_module": "@jupyter-widgets/base",
          "model_module_version": "1.2.0",
          "model_name": "LayoutModel",
          "state": {
            "_model_module": "@jupyter-widgets/base",
            "_model_module_version": "1.2.0",
            "_model_name": "LayoutModel",
            "_view_count": null,
            "_view_module": "@jupyter-widgets/base",
            "_view_module_version": "1.2.0",
            "_view_name": "LayoutView",
            "align_content": null,
            "align_items": null,
            "align_self": null,
            "border": null,
            "bottom": null,
            "display": null,
            "flex": null,
            "flex_flow": null,
            "grid_area": null,
            "grid_auto_columns": null,
            "grid_auto_flow": null,
            "grid_auto_rows": null,
            "grid_column": null,
            "grid_gap": null,
            "grid_row": null,
            "grid_template_areas": null,
            "grid_template_columns": null,
            "grid_template_rows": null,
            "height": null,
            "justify_content": null,
            "justify_items": null,
            "left": null,
            "margin": null,
            "max_height": null,
            "max_width": null,
            "min_height": null,
            "min_width": null,
            "object_fit": null,
            "object_position": null,
            "order": null,
            "overflow": null,
            "overflow_x": null,
            "overflow_y": null,
            "padding": null,
            "right": null,
            "top": null,
            "visibility": null,
            "width": null
          }
        },
        "b287d7b7c9554c89ae616a6c10367a64": {
          "model_module": "@jupyter-widgets/base",
          "model_module_version": "1.2.0",
          "model_name": "LayoutModel",
          "state": {
            "_model_module": "@jupyter-widgets/base",
            "_model_module_version": "1.2.0",
            "_model_name": "LayoutModel",
            "_view_count": null,
            "_view_module": "@jupyter-widgets/base",
            "_view_module_version": "1.2.0",
            "_view_name": "LayoutView",
            "align_content": null,
            "align_items": null,
            "align_self": null,
            "border": null,
            "bottom": null,
            "display": null,
            "flex": null,
            "flex_flow": null,
            "grid_area": null,
            "grid_auto_columns": null,
            "grid_auto_flow": null,
            "grid_auto_rows": null,
            "grid_column": null,
            "grid_gap": null,
            "grid_row": null,
            "grid_template_areas": null,
            "grid_template_columns": null,
            "grid_template_rows": null,
            "height": null,
            "justify_content": null,
            "justify_items": null,
            "left": null,
            "margin": null,
            "max_height": null,
            "max_width": null,
            "min_height": null,
            "min_width": null,
            "object_fit": null,
            "object_position": null,
            "order": null,
            "overflow": null,
            "overflow_x": null,
            "overflow_y": null,
            "padding": null,
            "right": null,
            "top": null,
            "visibility": null,
            "width": null
          }
        },
        "b37e2f46f9a347128d513a984d65a6c8": {
          "model_module": "@jupyter-widgets/controls",
          "model_module_version": "1.5.0",
          "model_name": "DescriptionStyleModel",
          "state": {
            "_model_module": "@jupyter-widgets/controls",
            "_model_module_version": "1.5.0",
            "_model_name": "DescriptionStyleModel",
            "_view_count": null,
            "_view_module": "@jupyter-widgets/base",
            "_view_module_version": "1.2.0",
            "_view_name": "StyleView",
            "description_width": ""
          }
        },
        "b789484b9fa3479b8b6173b352bb0806": {
          "model_module": "@jupyter-widgets/controls",
          "model_module_version": "1.5.0",
          "model_name": "HBoxModel",
          "state": {
            "_dom_classes": [],
            "_model_module": "@jupyter-widgets/controls",
            "_model_module_version": "1.5.0",
            "_model_name": "HBoxModel",
            "_view_count": null,
            "_view_module": "@jupyter-widgets/controls",
            "_view_module_version": "1.5.0",
            "_view_name": "HBoxView",
            "box_style": "",
            "children": [
              "IPY_MODEL_e79bd6a3daee4959826f1707426bb09c",
              "IPY_MODEL_9b504de1889a4069afb52b29fcd74e37",
              "IPY_MODEL_38d05532b2b549ab83e02b8f97152835"
            ],
            "layout": "IPY_MODEL_01dccd87563d48169557d735a2691785"
          }
        },
        "c7de726e73844f30ab5f4b0e833f23de": {
          "model_module": "@jupyter-widgets/base",
          "model_module_version": "1.2.0",
          "model_name": "LayoutModel",
          "state": {
            "_model_module": "@jupyter-widgets/base",
            "_model_module_version": "1.2.0",
            "_model_name": "LayoutModel",
            "_view_count": null,
            "_view_module": "@jupyter-widgets/base",
            "_view_module_version": "1.2.0",
            "_view_name": "LayoutView",
            "align_content": null,
            "align_items": null,
            "align_self": null,
            "border": null,
            "bottom": null,
            "display": null,
            "flex": null,
            "flex_flow": null,
            "grid_area": null,
            "grid_auto_columns": null,
            "grid_auto_flow": null,
            "grid_auto_rows": null,
            "grid_column": null,
            "grid_gap": null,
            "grid_row": null,
            "grid_template_areas": null,
            "grid_template_columns": null,
            "grid_template_rows": null,
            "height": null,
            "justify_content": null,
            "justify_items": null,
            "left": null,
            "margin": null,
            "max_height": null,
            "max_width": null,
            "min_height": null,
            "min_width": null,
            "object_fit": null,
            "object_position": null,
            "order": null,
            "overflow": null,
            "overflow_x": null,
            "overflow_y": null,
            "padding": null,
            "right": null,
            "top": null,
            "visibility": null,
            "width": null
          }
        },
        "d133875774744d82aa90cb74159ce2ec": {
          "model_module": "@jupyter-widgets/controls",
          "model_module_version": "1.5.0",
          "model_name": "HTMLModel",
          "state": {
            "_dom_classes": [],
            "_model_module": "@jupyter-widgets/controls",
            "_model_module_version": "1.5.0",
            "_model_name": "HTMLModel",
            "_view_count": null,
            "_view_module": "@jupyter-widgets/controls",
            "_view_module_version": "1.5.0",
            "_view_name": "HTMLView",
            "description": "",
            "description_tooltip": null,
            "layout": "IPY_MODEL_2eeb72dd9baa4bb0947a8bfd86b80653",
            "placeholder": "​",
            "style": "IPY_MODEL_f321a56896684a22a06017d1a6a33d42",
            "value": "Batches: 100%"
          }
        },
        "d9780c00ee5849edbb045011f4781a71": {
          "model_module": "@jupyter-widgets/controls",
          "model_module_version": "1.5.0",
          "model_name": "HTMLModel",
          "state": {
            "_dom_classes": [],
            "_model_module": "@jupyter-widgets/controls",
            "_model_module_version": "1.5.0",
            "_model_name": "HTMLModel",
            "_view_count": null,
            "_view_module": "@jupyter-widgets/controls",
            "_view_module_version": "1.5.0",
            "_view_name": "HTMLView",
            "description": "",
            "description_tooltip": null,
            "layout": "IPY_MODEL_e27b5f6046f14b67802804f88ce54198",
            "placeholder": "​",
            "style": "IPY_MODEL_545dca58249b4a79a04a1d1bc47344f1",
            "value": " 1/1 [00:02&lt;00:00,  2.97s/it]"
          }
        },
        "e27b5f6046f14b67802804f88ce54198": {
          "model_module": "@jupyter-widgets/base",
          "model_module_version": "1.2.0",
          "model_name": "LayoutModel",
          "state": {
            "_model_module": "@jupyter-widgets/base",
            "_model_module_version": "1.2.0",
            "_model_name": "LayoutModel",
            "_view_count": null,
            "_view_module": "@jupyter-widgets/base",
            "_view_module_version": "1.2.0",
            "_view_name": "LayoutView",
            "align_content": null,
            "align_items": null,
            "align_self": null,
            "border": null,
            "bottom": null,
            "display": null,
            "flex": null,
            "flex_flow": null,
            "grid_area": null,
            "grid_auto_columns": null,
            "grid_auto_flow": null,
            "grid_auto_rows": null,
            "grid_column": null,
            "grid_gap": null,
            "grid_row": null,
            "grid_template_areas": null,
            "grid_template_columns": null,
            "grid_template_rows": null,
            "height": null,
            "justify_content": null,
            "justify_items": null,
            "left": null,
            "margin": null,
            "max_height": null,
            "max_width": null,
            "min_height": null,
            "min_width": null,
            "object_fit": null,
            "object_position": null,
            "order": null,
            "overflow": null,
            "overflow_x": null,
            "overflow_y": null,
            "padding": null,
            "right": null,
            "top": null,
            "visibility": null,
            "width": null
          }
        },
        "e79bd6a3daee4959826f1707426bb09c": {
          "model_module": "@jupyter-widgets/controls",
          "model_module_version": "1.5.0",
          "model_name": "HTMLModel",
          "state": {
            "_dom_classes": [],
            "_model_module": "@jupyter-widgets/controls",
            "_model_module_version": "1.5.0",
            "_model_name": "HTMLModel",
            "_view_count": null,
            "_view_module": "@jupyter-widgets/controls",
            "_view_module_version": "1.5.0",
            "_view_name": "HTMLView",
            "description": "",
            "description_tooltip": null,
            "layout": "IPY_MODEL_51970f8bbc644db7809b6fd56deb3605",
            "placeholder": "​",
            "style": "IPY_MODEL_18ff6c10af034db58fc0bb09fb1cfebc",
            "value": "Iteration: 100%"
          }
        },
        "eb6ce43127184e3b82e18cfb0c2f4775": {
          "model_module": "@jupyter-widgets/controls",
          "model_module_version": "1.5.0",
          "model_name": "ProgressStyleModel",
          "state": {
            "_model_module": "@jupyter-widgets/controls",
            "_model_module_version": "1.5.0",
            "_model_name": "ProgressStyleModel",
            "_view_count": null,
            "_view_module": "@jupyter-widgets/base",
            "_view_module_version": "1.2.0",
            "_view_name": "StyleView",
            "bar_color": null,
            "description_width": ""
          }
        },
        "f08c81e148cd45f79734b32e4d7c0095": {
          "model_module": "@jupyter-widgets/controls",
          "model_module_version": "1.5.0",
          "model_name": "HBoxModel",
          "state": {
            "_dom_classes": [],
            "_model_module": "@jupyter-widgets/controls",
            "_model_module_version": "1.5.0",
            "_model_name": "HBoxModel",
            "_view_count": null,
            "_view_module": "@jupyter-widgets/controls",
            "_view_module_version": "1.5.0",
            "_view_name": "HBoxView",
            "box_style": "",
            "children": [
              "IPY_MODEL_f4e70681fd0446ffbe305f3ba004068b",
              "IPY_MODEL_f58dd36327a0455b9188975ac5d9d189",
              "IPY_MODEL_525dccf70397473e877957de6bc5725e"
            ],
            "layout": "IPY_MODEL_4568518c476944bdbed8ad6291d32da3"
          }
        },
        "f321a56896684a22a06017d1a6a33d42": {
          "model_module": "@jupyter-widgets/controls",
          "model_module_version": "1.5.0",
          "model_name": "DescriptionStyleModel",
          "state": {
            "_model_module": "@jupyter-widgets/controls",
            "_model_module_version": "1.5.0",
            "_model_name": "DescriptionStyleModel",
            "_view_count": null,
            "_view_module": "@jupyter-widgets/base",
            "_view_module_version": "1.2.0",
            "_view_name": "StyleView",
            "description_width": ""
          }
        },
        "f4e70681fd0446ffbe305f3ba004068b": {
          "model_module": "@jupyter-widgets/controls",
          "model_module_version": "1.5.0",
          "model_name": "HTMLModel",
          "state": {
            "_dom_classes": [],
            "_model_module": "@jupyter-widgets/controls",
            "_model_module_version": "1.5.0",
            "_model_name": "HTMLModel",
            "_view_count": null,
            "_view_module": "@jupyter-widgets/controls",
            "_view_module_version": "1.5.0",
            "_view_name": "HTMLView",
            "description": "",
            "description_tooltip": null,
            "layout": "IPY_MODEL_43be6b834c344322aad752af445915c7",
            "placeholder": "​",
            "style": "IPY_MODEL_b37e2f46f9a347128d513a984d65a6c8",
            "value": "Epoch: 100%"
          }
        },
        "f58dd36327a0455b9188975ac5d9d189": {
          "model_module": "@jupyter-widgets/controls",
          "model_module_version": "1.5.0",
          "model_name": "FloatProgressModel",
          "state": {
            "_dom_classes": [],
            "_model_module": "@jupyter-widgets/controls",
            "_model_module_version": "1.5.0",
            "_model_name": "FloatProgressModel",
            "_view_count": null,
            "_view_module": "@jupyter-widgets/controls",
            "_view_module_version": "1.5.0",
            "_view_name": "ProgressView",
            "bar_style": "success",
            "description": "",
            "description_tooltip": null,
            "layout": "IPY_MODEL_7cc47f38c4c1464e909fe33abb130287",
            "max": 1,
            "min": 0,
            "orientation": "horizontal",
            "style": "IPY_MODEL_005c3dcba1784a8b963c0fab29f87ef0",
            "value": 1
          }
        }
      }
    }
  },
  "nbformat": 4,
  "nbformat_minor": 0
}
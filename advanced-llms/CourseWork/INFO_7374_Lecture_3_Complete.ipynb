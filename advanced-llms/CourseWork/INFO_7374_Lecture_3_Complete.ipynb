{
  "nbformat": 4,
  "nbformat_minor": 0,
  "metadata": {
    "colab": {
      "provenance": [],
      "include_colab_link": true
    },
    "kernelspec": {
      "name": "python3",
      "display_name": "Python 3"
    },
    "language_info": {
      "name": "python"
    },
    "widgets": {
      "application/vnd.jupyter.widget-state+json": {
        "5c7c4a60f1a647cbbf36d37588d1f1de": {
          "model_module": "@jupyter-widgets/controls",
          "model_name": "HBoxModel",
          "model_module_version": "1.5.0",
          "state": {
            "_dom_classes": [],
            "_model_module": "@jupyter-widgets/controls",
            "_model_module_version": "1.5.0",
            "_model_name": "HBoxModel",
            "_view_count": null,
            "_view_module": "@jupyter-widgets/controls",
            "_view_module_version": "1.5.0",
            "_view_name": "HBoxView",
            "box_style": "",
            "children": [
              "IPY_MODEL_add972f7d9e14d95bda74f68e074e0da",
              "IPY_MODEL_9fc23728ad644d5c8f45d70c0ec075ef",
              "IPY_MODEL_4c55ef9a097342c1b02c10ec8dc090a8"
            ],
            "layout": "IPY_MODEL_4351ad7ac426444788320c4a6c887016"
          }
        },
        "add972f7d9e14d95bda74f68e074e0da": {
          "model_module": "@jupyter-widgets/controls",
          "model_name": "HTMLModel",
          "model_module_version": "1.5.0",
          "state": {
            "_dom_classes": [],
            "_model_module": "@jupyter-widgets/controls",
            "_model_module_version": "1.5.0",
            "_model_name": "HTMLModel",
            "_view_count": null,
            "_view_module": "@jupyter-widgets/controls",
            "_view_module_version": "1.5.0",
            "_view_name": "HTMLView",
            "description": "",
            "description_tooltip": null,
            "layout": "IPY_MODEL_65d9d2522cfa40f0acee76d9e77e6d0d",
            "placeholder": "​",
            "style": "IPY_MODEL_351e7f7ad19444d9829b07b8387c34ce",
            "value": "config.json: 100%"
          }
        },
        "9fc23728ad644d5c8f45d70c0ec075ef": {
          "model_module": "@jupyter-widgets/controls",
          "model_name": "FloatProgressModel",
          "model_module_version": "1.5.0",
          "state": {
            "_dom_classes": [],
            "_model_module": "@jupyter-widgets/controls",
            "_model_module_version": "1.5.0",
            "_model_name": "FloatProgressModel",
            "_view_count": null,
            "_view_module": "@jupyter-widgets/controls",
            "_view_module_version": "1.5.0",
            "_view_name": "ProgressView",
            "bar_style": "success",
            "description": "",
            "description_tooltip": null,
            "layout": "IPY_MODEL_b1c612d0723f429e97ceac9382d278a8",
            "max": 665,
            "min": 0,
            "orientation": "horizontal",
            "style": "IPY_MODEL_8ecc410cecc04c4bafdfe88a561e24a8",
            "value": 665
          }
        },
        "4c55ef9a097342c1b02c10ec8dc090a8": {
          "model_module": "@jupyter-widgets/controls",
          "model_name": "HTMLModel",
          "model_module_version": "1.5.0",
          "state": {
            "_dom_classes": [],
            "_model_module": "@jupyter-widgets/controls",
            "_model_module_version": "1.5.0",
            "_model_name": "HTMLModel",
            "_view_count": null,
            "_view_module": "@jupyter-widgets/controls",
            "_view_module_version": "1.5.0",
            "_view_name": "HTMLView",
            "description": "",
            "description_tooltip": null,
            "layout": "IPY_MODEL_83d05e9b0dc64a59b4dee33970158ef8",
            "placeholder": "​",
            "style": "IPY_MODEL_f47347243cb24d2ba54ddd420d1217c8",
            "value": " 665/665 [00:00&lt;00:00, 15.0kB/s]"
          }
        },
        "4351ad7ac426444788320c4a6c887016": {
          "model_module": "@jupyter-widgets/base",
          "model_name": "LayoutModel",
          "model_module_version": "1.2.0",
          "state": {
            "_model_module": "@jupyter-widgets/base",
            "_model_module_version": "1.2.0",
            "_model_name": "LayoutModel",
            "_view_count": null,
            "_view_module": "@jupyter-widgets/base",
            "_view_module_version": "1.2.0",
            "_view_name": "LayoutView",
            "align_content": null,
            "align_items": null,
            "align_self": null,
            "border": null,
            "bottom": null,
            "display": null,
            "flex": null,
            "flex_flow": null,
            "grid_area": null,
            "grid_auto_columns": null,
            "grid_auto_flow": null,
            "grid_auto_rows": null,
            "grid_column": null,
            "grid_gap": null,
            "grid_row": null,
            "grid_template_areas": null,
            "grid_template_columns": null,
            "grid_template_rows": null,
            "height": null,
            "justify_content": null,
            "justify_items": null,
            "left": null,
            "margin": null,
            "max_height": null,
            "max_width": null,
            "min_height": null,
            "min_width": null,
            "object_fit": null,
            "object_position": null,
            "order": null,
            "overflow": null,
            "overflow_x": null,
            "overflow_y": null,
            "padding": null,
            "right": null,
            "top": null,
            "visibility": null,
            "width": null
          }
        },
        "65d9d2522cfa40f0acee76d9e77e6d0d": {
          "model_module": "@jupyter-widgets/base",
          "model_name": "LayoutModel",
          "model_module_version": "1.2.0",
          "state": {
            "_model_module": "@jupyter-widgets/base",
            "_model_module_version": "1.2.0",
            "_model_name": "LayoutModel",
            "_view_count": null,
            "_view_module": "@jupyter-widgets/base",
            "_view_module_version": "1.2.0",
            "_view_name": "LayoutView",
            "align_content": null,
            "align_items": null,
            "align_self": null,
            "border": null,
            "bottom": null,
            "display": null,
            "flex": null,
            "flex_flow": null,
            "grid_area": null,
            "grid_auto_columns": null,
            "grid_auto_flow": null,
            "grid_auto_rows": null,
            "grid_column": null,
            "grid_gap": null,
            "grid_row": null,
            "grid_template_areas": null,
            "grid_template_columns": null,
            "grid_template_rows": null,
            "height": null,
            "justify_content": null,
            "justify_items": null,
            "left": null,
            "margin": null,
            "max_height": null,
            "max_width": null,
            "min_height": null,
            "min_width": null,
            "object_fit": null,
            "object_position": null,
            "order": null,
            "overflow": null,
            "overflow_x": null,
            "overflow_y": null,
            "padding": null,
            "right": null,
            "top": null,
            "visibility": null,
            "width": null
          }
        },
        "351e7f7ad19444d9829b07b8387c34ce": {
          "model_module": "@jupyter-widgets/controls",
          "model_name": "DescriptionStyleModel",
          "model_module_version": "1.5.0",
          "state": {
            "_model_module": "@jupyter-widgets/controls",
            "_model_module_version": "1.5.0",
            "_model_name": "DescriptionStyleModel",
            "_view_count": null,
            "_view_module": "@jupyter-widgets/base",
            "_view_module_version": "1.2.0",
            "_view_name": "StyleView",
            "description_width": ""
          }
        },
        "b1c612d0723f429e97ceac9382d278a8": {
          "model_module": "@jupyter-widgets/base",
          "model_name": "LayoutModel",
          "model_module_version": "1.2.0",
          "state": {
            "_model_module": "@jupyter-widgets/base",
            "_model_module_version": "1.2.0",
            "_model_name": "LayoutModel",
            "_view_count": null,
            "_view_module": "@jupyter-widgets/base",
            "_view_module_version": "1.2.0",
            "_view_name": "LayoutView",
            "align_content": null,
            "align_items": null,
            "align_self": null,
            "border": null,
            "bottom": null,
            "display": null,
            "flex": null,
            "flex_flow": null,
            "grid_area": null,
            "grid_auto_columns": null,
            "grid_auto_flow": null,
            "grid_auto_rows": null,
            "grid_column": null,
            "grid_gap": null,
            "grid_row": null,
            "grid_template_areas": null,
            "grid_template_columns": null,
            "grid_template_rows": null,
            "height": null,
            "justify_content": null,
            "justify_items": null,
            "left": null,
            "margin": null,
            "max_height": null,
            "max_width": null,
            "min_height": null,
            "min_width": null,
            "object_fit": null,
            "object_position": null,
            "order": null,
            "overflow": null,
            "overflow_x": null,
            "overflow_y": null,
            "padding": null,
            "right": null,
            "top": null,
            "visibility": null,
            "width": null
          }
        },
        "8ecc410cecc04c4bafdfe88a561e24a8": {
          "model_module": "@jupyter-widgets/controls",
          "model_name": "ProgressStyleModel",
          "model_module_version": "1.5.0",
          "state": {
            "_model_module": "@jupyter-widgets/controls",
            "_model_module_version": "1.5.0",
            "_model_name": "ProgressStyleModel",
            "_view_count": null,
            "_view_module": "@jupyter-widgets/base",
            "_view_module_version": "1.2.0",
            "_view_name": "StyleView",
            "bar_color": null,
            "description_width": ""
          }
        },
        "83d05e9b0dc64a59b4dee33970158ef8": {
          "model_module": "@jupyter-widgets/base",
          "model_name": "LayoutModel",
          "model_module_version": "1.2.0",
          "state": {
            "_model_module": "@jupyter-widgets/base",
            "_model_module_version": "1.2.0",
            "_model_name": "LayoutModel",
            "_view_count": null,
            "_view_module": "@jupyter-widgets/base",
            "_view_module_version": "1.2.0",
            "_view_name": "LayoutView",
            "align_content": null,
            "align_items": null,
            "align_self": null,
            "border": null,
            "bottom": null,
            "display": null,
            "flex": null,
            "flex_flow": null,
            "grid_area": null,
            "grid_auto_columns": null,
            "grid_auto_flow": null,
            "grid_auto_rows": null,
            "grid_column": null,
            "grid_gap": null,
            "grid_row": null,
            "grid_template_areas": null,
            "grid_template_columns": null,
            "grid_template_rows": null,
            "height": null,
            "justify_content": null,
            "justify_items": null,
            "left": null,
            "margin": null,
            "max_height": null,
            "max_width": null,
            "min_height": null,
            "min_width": null,
            "object_fit": null,
            "object_position": null,
            "order": null,
            "overflow": null,
            "overflow_x": null,
            "overflow_y": null,
            "padding": null,
            "right": null,
            "top": null,
            "visibility": null,
            "width": null
          }
        },
        "f47347243cb24d2ba54ddd420d1217c8": {
          "model_module": "@jupyter-widgets/controls",
          "model_name": "DescriptionStyleModel",
          "model_module_version": "1.5.0",
          "state": {
            "_model_module": "@jupyter-widgets/controls",
            "_model_module_version": "1.5.0",
            "_model_name": "DescriptionStyleModel",
            "_view_count": null,
            "_view_module": "@jupyter-widgets/base",
            "_view_module_version": "1.2.0",
            "_view_name": "StyleView",
            "description_width": ""
          }
        },
        "53943386cdc24ddfb3cb7928b8dbd154": {
          "model_module": "@jupyter-widgets/controls",
          "model_name": "HBoxModel",
          "model_module_version": "1.5.0",
          "state": {
            "_dom_classes": [],
            "_model_module": "@jupyter-widgets/controls",
            "_model_module_version": "1.5.0",
            "_model_name": "HBoxModel",
            "_view_count": null,
            "_view_module": "@jupyter-widgets/controls",
            "_view_module_version": "1.5.0",
            "_view_name": "HBoxView",
            "box_style": "",
            "children": [
              "IPY_MODEL_3800c18116d649f5b28577ac96e75b7c",
              "IPY_MODEL_b0e76cac7f2548079248e1aeed35cd40",
              "IPY_MODEL_82926a6e90e642b48c18512cc1cfe818"
            ],
            "layout": "IPY_MODEL_63cc0ee1a0ed4f63b9f519fa72ac692e"
          }
        },
        "3800c18116d649f5b28577ac96e75b7c": {
          "model_module": "@jupyter-widgets/controls",
          "model_name": "HTMLModel",
          "model_module_version": "1.5.0",
          "state": {
            "_dom_classes": [],
            "_model_module": "@jupyter-widgets/controls",
            "_model_module_version": "1.5.0",
            "_model_name": "HTMLModel",
            "_view_count": null,
            "_view_module": "@jupyter-widgets/controls",
            "_view_module_version": "1.5.0",
            "_view_name": "HTMLView",
            "description": "",
            "description_tooltip": null,
            "layout": "IPY_MODEL_1d236364bbcf4e8d9f378f73b6ad2f57",
            "placeholder": "​",
            "style": "IPY_MODEL_c92453d4860940aca5c2c5b734d5d432",
            "value": "vocab.json: 100%"
          }
        },
        "b0e76cac7f2548079248e1aeed35cd40": {
          "model_module": "@jupyter-widgets/controls",
          "model_name": "FloatProgressModel",
          "model_module_version": "1.5.0",
          "state": {
            "_dom_classes": [],
            "_model_module": "@jupyter-widgets/controls",
            "_model_module_version": "1.5.0",
            "_model_name": "FloatProgressModel",
            "_view_count": null,
            "_view_module": "@jupyter-widgets/controls",
            "_view_module_version": "1.5.0",
            "_view_name": "ProgressView",
            "bar_style": "success",
            "description": "",
            "description_tooltip": null,
            "layout": "IPY_MODEL_a786a86c3b044eb0ba86311e0c6f986c",
            "max": 1042301,
            "min": 0,
            "orientation": "horizontal",
            "style": "IPY_MODEL_7f356ee2927f4ed6a6ba4a42f265dcb8",
            "value": 1042301
          }
        },
        "82926a6e90e642b48c18512cc1cfe818": {
          "model_module": "@jupyter-widgets/controls",
          "model_name": "HTMLModel",
          "model_module_version": "1.5.0",
          "state": {
            "_dom_classes": [],
            "_model_module": "@jupyter-widgets/controls",
            "_model_module_version": "1.5.0",
            "_model_name": "HTMLModel",
            "_view_count": null,
            "_view_module": "@jupyter-widgets/controls",
            "_view_module_version": "1.5.0",
            "_view_name": "HTMLView",
            "description": "",
            "description_tooltip": null,
            "layout": "IPY_MODEL_6459d946109c4b91afcbcee3a9eccc08",
            "placeholder": "​",
            "style": "IPY_MODEL_dff90cb6ddf24befb4ab1ac30b8598c1",
            "value": " 1.04M/1.04M [00:00&lt;00:00, 8.94MB/s]"
          }
        },
        "63cc0ee1a0ed4f63b9f519fa72ac692e": {
          "model_module": "@jupyter-widgets/base",
          "model_name": "LayoutModel",
          "model_module_version": "1.2.0",
          "state": {
            "_model_module": "@jupyter-widgets/base",
            "_model_module_version": "1.2.0",
            "_model_name": "LayoutModel",
            "_view_count": null,
            "_view_module": "@jupyter-widgets/base",
            "_view_module_version": "1.2.0",
            "_view_name": "LayoutView",
            "align_content": null,
            "align_items": null,
            "align_self": null,
            "border": null,
            "bottom": null,
            "display": null,
            "flex": null,
            "flex_flow": null,
            "grid_area": null,
            "grid_auto_columns": null,
            "grid_auto_flow": null,
            "grid_auto_rows": null,
            "grid_column": null,
            "grid_gap": null,
            "grid_row": null,
            "grid_template_areas": null,
            "grid_template_columns": null,
            "grid_template_rows": null,
            "height": null,
            "justify_content": null,
            "justify_items": null,
            "left": null,
            "margin": null,
            "max_height": null,
            "max_width": null,
            "min_height": null,
            "min_width": null,
            "object_fit": null,
            "object_position": null,
            "order": null,
            "overflow": null,
            "overflow_x": null,
            "overflow_y": null,
            "padding": null,
            "right": null,
            "top": null,
            "visibility": null,
            "width": null
          }
        },
        "1d236364bbcf4e8d9f378f73b6ad2f57": {
          "model_module": "@jupyter-widgets/base",
          "model_name": "LayoutModel",
          "model_module_version": "1.2.0",
          "state": {
            "_model_module": "@jupyter-widgets/base",
            "_model_module_version": "1.2.0",
            "_model_name": "LayoutModel",
            "_view_count": null,
            "_view_module": "@jupyter-widgets/base",
            "_view_module_version": "1.2.0",
            "_view_name": "LayoutView",
            "align_content": null,
            "align_items": null,
            "align_self": null,
            "border": null,
            "bottom": null,
            "display": null,
            "flex": null,
            "flex_flow": null,
            "grid_area": null,
            "grid_auto_columns": null,
            "grid_auto_flow": null,
            "grid_auto_rows": null,
            "grid_column": null,
            "grid_gap": null,
            "grid_row": null,
            "grid_template_areas": null,
            "grid_template_columns": null,
            "grid_template_rows": null,
            "height": null,
            "justify_content": null,
            "justify_items": null,
            "left": null,
            "margin": null,
            "max_height": null,
            "max_width": null,
            "min_height": null,
            "min_width": null,
            "object_fit": null,
            "object_position": null,
            "order": null,
            "overflow": null,
            "overflow_x": null,
            "overflow_y": null,
            "padding": null,
            "right": null,
            "top": null,
            "visibility": null,
            "width": null
          }
        },
        "c92453d4860940aca5c2c5b734d5d432": {
          "model_module": "@jupyter-widgets/controls",
          "model_name": "DescriptionStyleModel",
          "model_module_version": "1.5.0",
          "state": {
            "_model_module": "@jupyter-widgets/controls",
            "_model_module_version": "1.5.0",
            "_model_name": "DescriptionStyleModel",
            "_view_count": null,
            "_view_module": "@jupyter-widgets/base",
            "_view_module_version": "1.2.0",
            "_view_name": "StyleView",
            "description_width": ""
          }
        },
        "a786a86c3b044eb0ba86311e0c6f986c": {
          "model_module": "@jupyter-widgets/base",
          "model_name": "LayoutModel",
          "model_module_version": "1.2.0",
          "state": {
            "_model_module": "@jupyter-widgets/base",
            "_model_module_version": "1.2.0",
            "_model_name": "LayoutModel",
            "_view_count": null,
            "_view_module": "@jupyter-widgets/base",
            "_view_module_version": "1.2.0",
            "_view_name": "LayoutView",
            "align_content": null,
            "align_items": null,
            "align_self": null,
            "border": null,
            "bottom": null,
            "display": null,
            "flex": null,
            "flex_flow": null,
            "grid_area": null,
            "grid_auto_columns": null,
            "grid_auto_flow": null,
            "grid_auto_rows": null,
            "grid_column": null,
            "grid_gap": null,
            "grid_row": null,
            "grid_template_areas": null,
            "grid_template_columns": null,
            "grid_template_rows": null,
            "height": null,
            "justify_content": null,
            "justify_items": null,
            "left": null,
            "margin": null,
            "max_height": null,
            "max_width": null,
            "min_height": null,
            "min_width": null,
            "object_fit": null,
            "object_position": null,
            "order": null,
            "overflow": null,
            "overflow_x": null,
            "overflow_y": null,
            "padding": null,
            "right": null,
            "top": null,
            "visibility": null,
            "width": null
          }
        },
        "7f356ee2927f4ed6a6ba4a42f265dcb8": {
          "model_module": "@jupyter-widgets/controls",
          "model_name": "ProgressStyleModel",
          "model_module_version": "1.5.0",
          "state": {
            "_model_module": "@jupyter-widgets/controls",
            "_model_module_version": "1.5.0",
            "_model_name": "ProgressStyleModel",
            "_view_count": null,
            "_view_module": "@jupyter-widgets/base",
            "_view_module_version": "1.2.0",
            "_view_name": "StyleView",
            "bar_color": null,
            "description_width": ""
          }
        },
        "6459d946109c4b91afcbcee3a9eccc08": {
          "model_module": "@jupyter-widgets/base",
          "model_name": "LayoutModel",
          "model_module_version": "1.2.0",
          "state": {
            "_model_module": "@jupyter-widgets/base",
            "_model_module_version": "1.2.0",
            "_model_name": "LayoutModel",
            "_view_count": null,
            "_view_module": "@jupyter-widgets/base",
            "_view_module_version": "1.2.0",
            "_view_name": "LayoutView",
            "align_content": null,
            "align_items": null,
            "align_self": null,
            "border": null,
            "bottom": null,
            "display": null,
            "flex": null,
            "flex_flow": null,
            "grid_area": null,
            "grid_auto_columns": null,
            "grid_auto_flow": null,
            "grid_auto_rows": null,
            "grid_column": null,
            "grid_gap": null,
            "grid_row": null,
            "grid_template_areas": null,
            "grid_template_columns": null,
            "grid_template_rows": null,
            "height": null,
            "justify_content": null,
            "justify_items": null,
            "left": null,
            "margin": null,
            "max_height": null,
            "max_width": null,
            "min_height": null,
            "min_width": null,
            "object_fit": null,
            "object_position": null,
            "order": null,
            "overflow": null,
            "overflow_x": null,
            "overflow_y": null,
            "padding": null,
            "right": null,
            "top": null,
            "visibility": null,
            "width": null
          }
        },
        "dff90cb6ddf24befb4ab1ac30b8598c1": {
          "model_module": "@jupyter-widgets/controls",
          "model_name": "DescriptionStyleModel",
          "model_module_version": "1.5.0",
          "state": {
            "_model_module": "@jupyter-widgets/controls",
            "_model_module_version": "1.5.0",
            "_model_name": "DescriptionStyleModel",
            "_view_count": null,
            "_view_module": "@jupyter-widgets/base",
            "_view_module_version": "1.2.0",
            "_view_name": "StyleView",
            "description_width": ""
          }
        },
        "612e0101b6b44290803f17c5d2e41c57": {
          "model_module": "@jupyter-widgets/controls",
          "model_name": "HBoxModel",
          "model_module_version": "1.5.0",
          "state": {
            "_dom_classes": [],
            "_model_module": "@jupyter-widgets/controls",
            "_model_module_version": "1.5.0",
            "_model_name": "HBoxModel",
            "_view_count": null,
            "_view_module": "@jupyter-widgets/controls",
            "_view_module_version": "1.5.0",
            "_view_name": "HBoxView",
            "box_style": "",
            "children": [
              "IPY_MODEL_fbdcf217077d4c40860271b9cc9ba20f",
              "IPY_MODEL_5e87d1d4e79c4371b58b546ba06765a2",
              "IPY_MODEL_504a382510554146b7316e42f79a00b4"
            ],
            "layout": "IPY_MODEL_2980de3a353540fd9cef9d89fef6d05f"
          }
        },
        "fbdcf217077d4c40860271b9cc9ba20f": {
          "model_module": "@jupyter-widgets/controls",
          "model_name": "HTMLModel",
          "model_module_version": "1.5.0",
          "state": {
            "_dom_classes": [],
            "_model_module": "@jupyter-widgets/controls",
            "_model_module_version": "1.5.0",
            "_model_name": "HTMLModel",
            "_view_count": null,
            "_view_module": "@jupyter-widgets/controls",
            "_view_module_version": "1.5.0",
            "_view_name": "HTMLView",
            "description": "",
            "description_tooltip": null,
            "layout": "IPY_MODEL_f328f95495a144d6bc2b9ddf8b08f920",
            "placeholder": "​",
            "style": "IPY_MODEL_272742cf3a9a4cd88cdd9eb23f564a02",
            "value": "merges.txt: 100%"
          }
        },
        "5e87d1d4e79c4371b58b546ba06765a2": {
          "model_module": "@jupyter-widgets/controls",
          "model_name": "FloatProgressModel",
          "model_module_version": "1.5.0",
          "state": {
            "_dom_classes": [],
            "_model_module": "@jupyter-widgets/controls",
            "_model_module_version": "1.5.0",
            "_model_name": "FloatProgressModel",
            "_view_count": null,
            "_view_module": "@jupyter-widgets/controls",
            "_view_module_version": "1.5.0",
            "_view_name": "ProgressView",
            "bar_style": "success",
            "description": "",
            "description_tooltip": null,
            "layout": "IPY_MODEL_b0602f4c0faa48d6b2b53cf9c2eb981f",
            "max": 456318,
            "min": 0,
            "orientation": "horizontal",
            "style": "IPY_MODEL_b42383c41cd54e73ad72c7fb262baabe",
            "value": 456318
          }
        },
        "504a382510554146b7316e42f79a00b4": {
          "model_module": "@jupyter-widgets/controls",
          "model_name": "HTMLModel",
          "model_module_version": "1.5.0",
          "state": {
            "_dom_classes": [],
            "_model_module": "@jupyter-widgets/controls",
            "_model_module_version": "1.5.0",
            "_model_name": "HTMLModel",
            "_view_count": null,
            "_view_module": "@jupyter-widgets/controls",
            "_view_module_version": "1.5.0",
            "_view_name": "HTMLView",
            "description": "",
            "description_tooltip": null,
            "layout": "IPY_MODEL_31d0def8bea44e07a0551a256d31862a",
            "placeholder": "​",
            "style": "IPY_MODEL_022742bb59264901909cab4d8d2c8705",
            "value": " 456k/456k [00:00&lt;00:00, 5.98MB/s]"
          }
        },
        "2980de3a353540fd9cef9d89fef6d05f": {
          "model_module": "@jupyter-widgets/base",
          "model_name": "LayoutModel",
          "model_module_version": "1.2.0",
          "state": {
            "_model_module": "@jupyter-widgets/base",
            "_model_module_version": "1.2.0",
            "_model_name": "LayoutModel",
            "_view_count": null,
            "_view_module": "@jupyter-widgets/base",
            "_view_module_version": "1.2.0",
            "_view_name": "LayoutView",
            "align_content": null,
            "align_items": null,
            "align_self": null,
            "border": null,
            "bottom": null,
            "display": null,
            "flex": null,
            "flex_flow": null,
            "grid_area": null,
            "grid_auto_columns": null,
            "grid_auto_flow": null,
            "grid_auto_rows": null,
            "grid_column": null,
            "grid_gap": null,
            "grid_row": null,
            "grid_template_areas": null,
            "grid_template_columns": null,
            "grid_template_rows": null,
            "height": null,
            "justify_content": null,
            "justify_items": null,
            "left": null,
            "margin": null,
            "max_height": null,
            "max_width": null,
            "min_height": null,
            "min_width": null,
            "object_fit": null,
            "object_position": null,
            "order": null,
            "overflow": null,
            "overflow_x": null,
            "overflow_y": null,
            "padding": null,
            "right": null,
            "top": null,
            "visibility": null,
            "width": null
          }
        },
        "f328f95495a144d6bc2b9ddf8b08f920": {
          "model_module": "@jupyter-widgets/base",
          "model_name": "LayoutModel",
          "model_module_version": "1.2.0",
          "state": {
            "_model_module": "@jupyter-widgets/base",
            "_model_module_version": "1.2.0",
            "_model_name": "LayoutModel",
            "_view_count": null,
            "_view_module": "@jupyter-widgets/base",
            "_view_module_version": "1.2.0",
            "_view_name": "LayoutView",
            "align_content": null,
            "align_items": null,
            "align_self": null,
            "border": null,
            "bottom": null,
            "display": null,
            "flex": null,
            "flex_flow": null,
            "grid_area": null,
            "grid_auto_columns": null,
            "grid_auto_flow": null,
            "grid_auto_rows": null,
            "grid_column": null,
            "grid_gap": null,
            "grid_row": null,
            "grid_template_areas": null,
            "grid_template_columns": null,
            "grid_template_rows": null,
            "height": null,
            "justify_content": null,
            "justify_items": null,
            "left": null,
            "margin": null,
            "max_height": null,
            "max_width": null,
            "min_height": null,
            "min_width": null,
            "object_fit": null,
            "object_position": null,
            "order": null,
            "overflow": null,
            "overflow_x": null,
            "overflow_y": null,
            "padding": null,
            "right": null,
            "top": null,
            "visibility": null,
            "width": null
          }
        },
        "272742cf3a9a4cd88cdd9eb23f564a02": {
          "model_module": "@jupyter-widgets/controls",
          "model_name": "DescriptionStyleModel",
          "model_module_version": "1.5.0",
          "state": {
            "_model_module": "@jupyter-widgets/controls",
            "_model_module_version": "1.5.0",
            "_model_name": "DescriptionStyleModel",
            "_view_count": null,
            "_view_module": "@jupyter-widgets/base",
            "_view_module_version": "1.2.0",
            "_view_name": "StyleView",
            "description_width": ""
          }
        },
        "b0602f4c0faa48d6b2b53cf9c2eb981f": {
          "model_module": "@jupyter-widgets/base",
          "model_name": "LayoutModel",
          "model_module_version": "1.2.0",
          "state": {
            "_model_module": "@jupyter-widgets/base",
            "_model_module_version": "1.2.0",
            "_model_name": "LayoutModel",
            "_view_count": null,
            "_view_module": "@jupyter-widgets/base",
            "_view_module_version": "1.2.0",
            "_view_name": "LayoutView",
            "align_content": null,
            "align_items": null,
            "align_self": null,
            "border": null,
            "bottom": null,
            "display": null,
            "flex": null,
            "flex_flow": null,
            "grid_area": null,
            "grid_auto_columns": null,
            "grid_auto_flow": null,
            "grid_auto_rows": null,
            "grid_column": null,
            "grid_gap": null,
            "grid_row": null,
            "grid_template_areas": null,
            "grid_template_columns": null,
            "grid_template_rows": null,
            "height": null,
            "justify_content": null,
            "justify_items": null,
            "left": null,
            "margin": null,
            "max_height": null,
            "max_width": null,
            "min_height": null,
            "min_width": null,
            "object_fit": null,
            "object_position": null,
            "order": null,
            "overflow": null,
            "overflow_x": null,
            "overflow_y": null,
            "padding": null,
            "right": null,
            "top": null,
            "visibility": null,
            "width": null
          }
        },
        "b42383c41cd54e73ad72c7fb262baabe": {
          "model_module": "@jupyter-widgets/controls",
          "model_name": "ProgressStyleModel",
          "model_module_version": "1.5.0",
          "state": {
            "_model_module": "@jupyter-widgets/controls",
            "_model_module_version": "1.5.0",
            "_model_name": "ProgressStyleModel",
            "_view_count": null,
            "_view_module": "@jupyter-widgets/base",
            "_view_module_version": "1.2.0",
            "_view_name": "StyleView",
            "bar_color": null,
            "description_width": ""
          }
        },
        "31d0def8bea44e07a0551a256d31862a": {
          "model_module": "@jupyter-widgets/base",
          "model_name": "LayoutModel",
          "model_module_version": "1.2.0",
          "state": {
            "_model_module": "@jupyter-widgets/base",
            "_model_module_version": "1.2.0",
            "_model_name": "LayoutModel",
            "_view_count": null,
            "_view_module": "@jupyter-widgets/base",
            "_view_module_version": "1.2.0",
            "_view_name": "LayoutView",
            "align_content": null,
            "align_items": null,
            "align_self": null,
            "border": null,
            "bottom": null,
            "display": null,
            "flex": null,
            "flex_flow": null,
            "grid_area": null,
            "grid_auto_columns": null,
            "grid_auto_flow": null,
            "grid_auto_rows": null,
            "grid_column": null,
            "grid_gap": null,
            "grid_row": null,
            "grid_template_areas": null,
            "grid_template_columns": null,
            "grid_template_rows": null,
            "height": null,
            "justify_content": null,
            "justify_items": null,
            "left": null,
            "margin": null,
            "max_height": null,
            "max_width": null,
            "min_height": null,
            "min_width": null,
            "object_fit": null,
            "object_position": null,
            "order": null,
            "overflow": null,
            "overflow_x": null,
            "overflow_y": null,
            "padding": null,
            "right": null,
            "top": null,
            "visibility": null,
            "width": null
          }
        },
        "022742bb59264901909cab4d8d2c8705": {
          "model_module": "@jupyter-widgets/controls",
          "model_name": "DescriptionStyleModel",
          "model_module_version": "1.5.0",
          "state": {
            "_model_module": "@jupyter-widgets/controls",
            "_model_module_version": "1.5.0",
            "_model_name": "DescriptionStyleModel",
            "_view_count": null,
            "_view_module": "@jupyter-widgets/base",
            "_view_module_version": "1.2.0",
            "_view_name": "StyleView",
            "description_width": ""
          }
        },
        "f9a0a74f5e7c4230b12f1dd0062ac3c9": {
          "model_module": "@jupyter-widgets/controls",
          "model_name": "HBoxModel",
          "model_module_version": "1.5.0",
          "state": {
            "_dom_classes": [],
            "_model_module": "@jupyter-widgets/controls",
            "_model_module_version": "1.5.0",
            "_model_name": "HBoxModel",
            "_view_count": null,
            "_view_module": "@jupyter-widgets/controls",
            "_view_module_version": "1.5.0",
            "_view_name": "HBoxView",
            "box_style": "",
            "children": [
              "IPY_MODEL_06c337582d0043b9878485f4482876c2",
              "IPY_MODEL_1752f2d0024149008a13ebb7248fb1bc",
              "IPY_MODEL_f3bdee51bd2149cda7650d5d40861f29"
            ],
            "layout": "IPY_MODEL_8ed444391a6944f2a7690e0f41b6bfc5"
          }
        },
        "06c337582d0043b9878485f4482876c2": {
          "model_module": "@jupyter-widgets/controls",
          "model_name": "HTMLModel",
          "model_module_version": "1.5.0",
          "state": {
            "_dom_classes": [],
            "_model_module": "@jupyter-widgets/controls",
            "_model_module_version": "1.5.0",
            "_model_name": "HTMLModel",
            "_view_count": null,
            "_view_module": "@jupyter-widgets/controls",
            "_view_module_version": "1.5.0",
            "_view_name": "HTMLView",
            "description": "",
            "description_tooltip": null,
            "layout": "IPY_MODEL_f955c714ba0b45cdbd9d8a8dfbe5c6fe",
            "placeholder": "​",
            "style": "IPY_MODEL_6ba9251e816f4280bfd1b3dacf7343ec",
            "value": "tokenizer.json: 100%"
          }
        },
        "1752f2d0024149008a13ebb7248fb1bc": {
          "model_module": "@jupyter-widgets/controls",
          "model_name": "FloatProgressModel",
          "model_module_version": "1.5.0",
          "state": {
            "_dom_classes": [],
            "_model_module": "@jupyter-widgets/controls",
            "_model_module_version": "1.5.0",
            "_model_name": "FloatProgressModel",
            "_view_count": null,
            "_view_module": "@jupyter-widgets/controls",
            "_view_module_version": "1.5.0",
            "_view_name": "ProgressView",
            "bar_style": "success",
            "description": "",
            "description_tooltip": null,
            "layout": "IPY_MODEL_3aeff5ab0e294f66b6f7fddeaadf8c4f",
            "max": 1355256,
            "min": 0,
            "orientation": "horizontal",
            "style": "IPY_MODEL_799d4b83fdea4b32a3a71571ae9cc5dd",
            "value": 1355256
          }
        },
        "f3bdee51bd2149cda7650d5d40861f29": {
          "model_module": "@jupyter-widgets/controls",
          "model_name": "HTMLModel",
          "model_module_version": "1.5.0",
          "state": {
            "_dom_classes": [],
            "_model_module": "@jupyter-widgets/controls",
            "_model_module_version": "1.5.0",
            "_model_name": "HTMLModel",
            "_view_count": null,
            "_view_module": "@jupyter-widgets/controls",
            "_view_module_version": "1.5.0",
            "_view_name": "HTMLView",
            "description": "",
            "description_tooltip": null,
            "layout": "IPY_MODEL_be4d55ba064c42c6a308e46947e1c31e",
            "placeholder": "​",
            "style": "IPY_MODEL_0140fb31eeab4f8dad6218e81aa25c53",
            "value": " 1.36M/1.36M [00:00&lt;00:00, 12.3MB/s]"
          }
        },
        "8ed444391a6944f2a7690e0f41b6bfc5": {
          "model_module": "@jupyter-widgets/base",
          "model_name": "LayoutModel",
          "model_module_version": "1.2.0",
          "state": {
            "_model_module": "@jupyter-widgets/base",
            "_model_module_version": "1.2.0",
            "_model_name": "LayoutModel",
            "_view_count": null,
            "_view_module": "@jupyter-widgets/base",
            "_view_module_version": "1.2.0",
            "_view_name": "LayoutView",
            "align_content": null,
            "align_items": null,
            "align_self": null,
            "border": null,
            "bottom": null,
            "display": null,
            "flex": null,
            "flex_flow": null,
            "grid_area": null,
            "grid_auto_columns": null,
            "grid_auto_flow": null,
            "grid_auto_rows": null,
            "grid_column": null,
            "grid_gap": null,
            "grid_row": null,
            "grid_template_areas": null,
            "grid_template_columns": null,
            "grid_template_rows": null,
            "height": null,
            "justify_content": null,
            "justify_items": null,
            "left": null,
            "margin": null,
            "max_height": null,
            "max_width": null,
            "min_height": null,
            "min_width": null,
            "object_fit": null,
            "object_position": null,
            "order": null,
            "overflow": null,
            "overflow_x": null,
            "overflow_y": null,
            "padding": null,
            "right": null,
            "top": null,
            "visibility": null,
            "width": null
          }
        },
        "f955c714ba0b45cdbd9d8a8dfbe5c6fe": {
          "model_module": "@jupyter-widgets/base",
          "model_name": "LayoutModel",
          "model_module_version": "1.2.0",
          "state": {
            "_model_module": "@jupyter-widgets/base",
            "_model_module_version": "1.2.0",
            "_model_name": "LayoutModel",
            "_view_count": null,
            "_view_module": "@jupyter-widgets/base",
            "_view_module_version": "1.2.0",
            "_view_name": "LayoutView",
            "align_content": null,
            "align_items": null,
            "align_self": null,
            "border": null,
            "bottom": null,
            "display": null,
            "flex": null,
            "flex_flow": null,
            "grid_area": null,
            "grid_auto_columns": null,
            "grid_auto_flow": null,
            "grid_auto_rows": null,
            "grid_column": null,
            "grid_gap": null,
            "grid_row": null,
            "grid_template_areas": null,
            "grid_template_columns": null,
            "grid_template_rows": null,
            "height": null,
            "justify_content": null,
            "justify_items": null,
            "left": null,
            "margin": null,
            "max_height": null,
            "max_width": null,
            "min_height": null,
            "min_width": null,
            "object_fit": null,
            "object_position": null,
            "order": null,
            "overflow": null,
            "overflow_x": null,
            "overflow_y": null,
            "padding": null,
            "right": null,
            "top": null,
            "visibility": null,
            "width": null
          }
        },
        "6ba9251e816f4280bfd1b3dacf7343ec": {
          "model_module": "@jupyter-widgets/controls",
          "model_name": "DescriptionStyleModel",
          "model_module_version": "1.5.0",
          "state": {
            "_model_module": "@jupyter-widgets/controls",
            "_model_module_version": "1.5.0",
            "_model_name": "DescriptionStyleModel",
            "_view_count": null,
            "_view_module": "@jupyter-widgets/base",
            "_view_module_version": "1.2.0",
            "_view_name": "StyleView",
            "description_width": ""
          }
        },
        "3aeff5ab0e294f66b6f7fddeaadf8c4f": {
          "model_module": "@jupyter-widgets/base",
          "model_name": "LayoutModel",
          "model_module_version": "1.2.0",
          "state": {
            "_model_module": "@jupyter-widgets/base",
            "_model_module_version": "1.2.0",
            "_model_name": "LayoutModel",
            "_view_count": null,
            "_view_module": "@jupyter-widgets/base",
            "_view_module_version": "1.2.0",
            "_view_name": "LayoutView",
            "align_content": null,
            "align_items": null,
            "align_self": null,
            "border": null,
            "bottom": null,
            "display": null,
            "flex": null,
            "flex_flow": null,
            "grid_area": null,
            "grid_auto_columns": null,
            "grid_auto_flow": null,
            "grid_auto_rows": null,
            "grid_column": null,
            "grid_gap": null,
            "grid_row": null,
            "grid_template_areas": null,
            "grid_template_columns": null,
            "grid_template_rows": null,
            "height": null,
            "justify_content": null,
            "justify_items": null,
            "left": null,
            "margin": null,
            "max_height": null,
            "max_width": null,
            "min_height": null,
            "min_width": null,
            "object_fit": null,
            "object_position": null,
            "order": null,
            "overflow": null,
            "overflow_x": null,
            "overflow_y": null,
            "padding": null,
            "right": null,
            "top": null,
            "visibility": null,
            "width": null
          }
        },
        "799d4b83fdea4b32a3a71571ae9cc5dd": {
          "model_module": "@jupyter-widgets/controls",
          "model_name": "ProgressStyleModel",
          "model_module_version": "1.5.0",
          "state": {
            "_model_module": "@jupyter-widgets/controls",
            "_model_module_version": "1.5.0",
            "_model_name": "ProgressStyleModel",
            "_view_count": null,
            "_view_module": "@jupyter-widgets/base",
            "_view_module_version": "1.2.0",
            "_view_name": "StyleView",
            "bar_color": null,
            "description_width": ""
          }
        },
        "be4d55ba064c42c6a308e46947e1c31e": {
          "model_module": "@jupyter-widgets/base",
          "model_name": "LayoutModel",
          "model_module_version": "1.2.0",
          "state": {
            "_model_module": "@jupyter-widgets/base",
            "_model_module_version": "1.2.0",
            "_model_name": "LayoutModel",
            "_view_count": null,
            "_view_module": "@jupyter-widgets/base",
            "_view_module_version": "1.2.0",
            "_view_name": "LayoutView",
            "align_content": null,
            "align_items": null,
            "align_self": null,
            "border": null,
            "bottom": null,
            "display": null,
            "flex": null,
            "flex_flow": null,
            "grid_area": null,
            "grid_auto_columns": null,
            "grid_auto_flow": null,
            "grid_auto_rows": null,
            "grid_column": null,
            "grid_gap": null,
            "grid_row": null,
            "grid_template_areas": null,
            "grid_template_columns": null,
            "grid_template_rows": null,
            "height": null,
            "justify_content": null,
            "justify_items": null,
            "left": null,
            "margin": null,
            "max_height": null,
            "max_width": null,
            "min_height": null,
            "min_width": null,
            "object_fit": null,
            "object_position": null,
            "order": null,
            "overflow": null,
            "overflow_x": null,
            "overflow_y": null,
            "padding": null,
            "right": null,
            "top": null,
            "visibility": null,
            "width": null
          }
        },
        "0140fb31eeab4f8dad6218e81aa25c53": {
          "model_module": "@jupyter-widgets/controls",
          "model_name": "DescriptionStyleModel",
          "model_module_version": "1.5.0",
          "state": {
            "_model_module": "@jupyter-widgets/controls",
            "_model_module_version": "1.5.0",
            "_model_name": "DescriptionStyleModel",
            "_view_count": null,
            "_view_module": "@jupyter-widgets/base",
            "_view_module_version": "1.2.0",
            "_view_name": "StyleView",
            "description_width": ""
          }
        }
      }
    }
  },
  "cells": [
    {
      "cell_type": "markdown",
      "metadata": {
        "id": "view-in-github",
        "colab_type": "text"
      },
      "source": [
        "<a href=\"https://colab.research.google.com/github/parthasarathydNU/gen-ai-coursework/blob/main/advanced-llms/CourseWork/INFO_7374_Lecture_3_Complete.ipynb\" target=\"_parent\"><img src=\"https://colab.research.google.com/assets/colab-badge.svg\" alt=\"Open In Colab\"/></a>"
      ]
    },
    {
      "cell_type": "code",
      "source": [
        "%matplotlib inline\n",
        "import matplotlib.pyplot as plt\n",
        "import numpy as np\n",
        "import torch\n",
        "from torch import nn as nn\n",
        "from torch.nn import functional as F\n",
        "from torch import optim"
      ],
      "metadata": {
        "id": "kb31I_Eulq9y"
      },
      "execution_count": null,
      "outputs": []
    },
    {
      "cell_type": "markdown",
      "source": [
        "# Vanilla Transformer"
      ],
      "metadata": {
        "id": "B7gCuD4MIKL6"
      }
    },
    {
      "cell_type": "markdown",
      "source": [
        "## Self Attention Review\n",
        "\n",
        "Self Attention creates contextualized token features using the features from its context\n",
        "\n",
        "![](http://jalammar.github.io/images/t/transformer_self-attention_visualization.png)\n"
      ],
      "metadata": {
        "id": "dJ8t7OzpuOZY"
      }
    },
    {
      "cell_type": "markdown",
      "source": [
        "![](http://jalammar.github.io/images/t/self-attention-output.png)\n",
        "\n",
        "![](http://jalammar.github.io/images/t/self-attention-matrix-calculation-2.png)\n"
      ],
      "metadata": {
        "id": "J42vFpKIuqAq"
      }
    },
    {
      "cell_type": "markdown",
      "source": [
        "<!-- ![](https://i.ibb.co/wN24cJV/Screenshot-2024-01-27-at-11-56-04-PM.png) -->"
      ],
      "metadata": {
        "id": "xDZhzDAgExU1"
      }
    },
    {
      "cell_type": "code",
      "source": [
        "from torch import nn as nn\n",
        "class SelfAttentionHead(nn.Module):\n",
        "    \"\"\" one head of self-attention \"\"\"\n",
        "    def __init__(self):\n",
        "        super().__init__()\n",
        "        self.k_proj = nn.Linear(2, 2, bias=False)\n",
        "        self.q_proj = nn.Linear(2, 2, bias=False)\n",
        "        self.v_proj = nn.Linear(2, 2, bias=False)\n",
        "\n",
        "    def forward(self, x):\n",
        "        batch, timesteps, channels = x.shape\n",
        "        key = self.k_proj(x)\n",
        "        query = self.q_proj(x)\n",
        "        value = self.v_proj(x)\n",
        "\n",
        "        attention = query @ key.transpose(-2,-1) * channels**-0.5\n",
        "\n",
        "        mask = torch.tril(torch.ones(timesteps, timesteps))\n",
        "        masked_attention = attention.masked_fill(mask == 0, float('-inf'))\n",
        "        masked_attention = F.softmax(masked_attention, dim=-1)\n",
        "\n",
        "        # perform the weighted aggregation of the values\n",
        "        out = masked_attention @ value\n",
        "        return out"
      ],
      "metadata": {
        "id": "1vpK8PQL5ulJ"
      },
      "execution_count": null,
      "outputs": []
    },
    {
      "cell_type": "markdown",
      "source": [
        "## MultiHead Attention\n",
        "\n",
        "Conceptually, think of multi-head attention as a team of experts where each member focuses on a different aspect of the problem, combining their insights to arrive at a more comprehensive understanding.\n",
        "\n",
        "![](http://jalammar.github.io/images/t/transformer_attention_heads_qkv.png)\n",
        "\n",
        "![](http://jalammar.github.io/images/t/transformer_attention_heads_z.png)\n",
        "\n",
        "![](http://jalammar.github.io/images/t/transformer_multi-headed_self-attention-recap.png)"
      ],
      "metadata": {
        "id": "Cs4bcu1ZZ5M6"
      }
    },
    {
      "cell_type": "markdown",
      "source": [
        "8 x (4, 8, 2) # (BATCH, SEQUENCE_LENGTH, FEATURES)\n",
        "\n",
        "stack along last dimension (feature dim)\n",
        "\n",
        "output of MHA after concatenation: (4, 8, 16)\n",
        "\n",
        "(4, 8, 16) -> Linear(16, 2) -> (4, 8, 2)\n",
        "\n"
      ],
      "metadata": {
        "id": "6ZDVUNsvtUHb"
      }
    },
    {
      "cell_type": "markdown",
      "source": [
        "## Positional Encodings\n",
        "\n",
        "\n",
        "![](http://jalammar.github.io/images/t/transformer_positional_encoding_example.png)\n",
        "\n",
        "\n",
        "Question: Do the position embeddings and the token embeddings need to be the same size?"
      ],
      "metadata": {
        "id": "rD3JRqCrISNO"
      }
    },
    {
      "cell_type": "markdown",
      "source": [
        "### Sinusoidal Position Encodings\n",
        "![](https://erdem.pl/static/88272d0cec92896a91fc252b66f4faab/21b4d/position-values-20.png)\n",
        "![](https://miro.medium.com/v2/resize:fit:1044/1*fX8TN02pB5G1pLNsJIC6QA.png)\n",
        "\n",
        "Each dimension of the positional embedding alternates between sine and cosine. If you decide for your position embedding dimension to be 5, for each position in your sequence, you will calculate a positional embedding value for that position. $i$ is the dimension.\n",
        "\n",
        "1. For even values of $i$ (like 0 and 2), you use the sine function\n",
        "2. For odd values of $i$, (like 1 and 3), you use the cosine function\n",
        "\n",
        "\n",
        "\\begin{align*}\n",
        "PE(pos, 0) &= \\sin\\left(\\frac{pos}{10000^{0/5}}\\right) \\\\\n",
        "PE(pos, 1) &= \\cos\\left(\\frac{pos}{10000^{0/5}}\\right) \\\\\n",
        "PE(pos, 2) &= \\sin\\left(\\frac{pos}{10000^{2/5}}\\right) \\\\\n",
        "PE(pos, 3) &= \\cos\\left(\\frac{pos}{10000^{2/5}}\\right) \\\\\n",
        "PE(pos, 4) &= \\sin\\left(\\frac{pos}{10000^{4/5}}\\right)\n",
        "\\end{align*}\n",
        "\n",
        "#### Drawbacks\n",
        "Scaling Issues: For very long sequences, the sinusoidal waves can become very compressed, leading to less distinct positional representations, which might affect the model's ability to distinguish position information effectively.\n",
        "\n",
        "Generalization to Unseen Lengths: While sinusoidal embeddings can, in theory, generalize to sequence lengths beyond those seen during training, their effectiveness in doing so can be limited, especially for significantly longer sequences."
      ],
      "metadata": {
        "id": "2gtQey3AIlIh"
      }
    },
    {
      "cell_type": "code",
      "source": [
        "import torch\n",
        "import math\n",
        "\n",
        "def sinusoidal_position_encoding(seq_len, d_model):\n",
        "    position = torch.arange(seq_len).unsqueeze(1).float()  # Shape: [seq_len, 1]\n",
        "    i = torch.arange(0, d_model, step=2).float()  # Even indices\n",
        "\n",
        "    # The original paper uses the formula 1 / (10000^(2i/d_model))\n",
        "    # for the denominator.\n",
        "    div_term = torch.pow(10000.0, i / d_model)  # Shape: [d_model // 2]\n",
        "\n",
        "    # Initialize the positional encoding with zeros\n",
        "    pe = torch.zeros(seq_len, d_model)\n",
        "\n",
        "    # Apply the sinusoidal encoding\n",
        "    pe[:, 0::2] = torch.sin(position / div_term)  # for all positions, we want sine for even indices\n",
        "    pe[:, 1::2] = torch.cos(position / div_term)  # for all positions, we want cosine for odd indices\n",
        "\n",
        "    return pe\n",
        "\n",
        "# Example usage\n",
        "seq_len = 100  # sequence length\n",
        "d_model = 512  # dimension of the model\n",
        "position_encoding = sinusoidal_position_encoding(seq_len, d_model)\n"
      ],
      "metadata": {
        "id": "wywrLRdsMCU8"
      },
      "execution_count": null,
      "outputs": []
    },
    {
      "cell_type": "code",
      "source": [
        "torch.arange(0, 128, step=2)"
      ],
      "metadata": {
        "colab": {
          "base_uri": "https://localhost:8080/"
        },
        "id": "HFRzZ_tYbNJB",
        "outputId": "34c58ac4-9f89-4fc0-cbe2-0353e4268c2e"
      },
      "execution_count": null,
      "outputs": [
        {
          "output_type": "execute_result",
          "data": {
            "text/plain": [
              "tensor([  0,   2,   4,   6,   8,  10,  12,  14,  16,  18,  20,  22,  24,  26,\n",
              "         28,  30,  32,  34,  36,  38,  40,  42,  44,  46,  48,  50,  52,  54,\n",
              "         56,  58,  60,  62,  64,  66,  68,  70,  72,  74,  76,  78,  80,  82,\n",
              "         84,  86,  88,  90,  92,  94,  96,  98, 100, 102, 104, 106, 108, 110,\n",
              "        112, 114, 116, 118, 120, 122, 124, 126])"
            ]
          },
          "metadata": {},
          "execution_count": 18
        }
      ]
    },
    {
      "cell_type": "markdown",
      "source": [
        "### Absolute Position Encodings\n",
        "Similar implementation to word embeddings. Instead of using a token id, we use the position directly.\n",
        "\n",
        "#### Drawbacks\n",
        "Cannot extrapolate to longer lengths"
      ],
      "metadata": {
        "id": "eOsgCSHCInla"
      }
    },
    {
      "cell_type": "code",
      "source": [
        "import torch\n",
        "torch.arange(10)"
      ],
      "metadata": {
        "colab": {
          "base_uri": "https://localhost:8080/"
        },
        "id": "kFwgUDMXtQE9",
        "outputId": "eb4c8cca-0ebd-42db-bd45-f1a40f506e0b"
      },
      "execution_count": null,
      "outputs": [
        {
          "output_type": "execute_result",
          "data": {
            "text/plain": [
              "tensor([0, 1, 2, 3, 4, 5, 6, 7, 8, 9])"
            ]
          },
          "metadata": {},
          "execution_count": 3
        }
      ]
    },
    {
      "cell_type": "code",
      "source": [
        "import torch\n",
        "import torch.nn as nn\n",
        "\n",
        "class PositionalEncoding(nn.Module):\n",
        "    def __init__(self, max_seq_len, embedding_dim):\n",
        "        super(PositionalEncoding, self).__init__()\n",
        "        self.positional_embeddings = nn.Embedding(max_seq_len, embedding_dim)\n",
        "\n",
        "    def forward(self, x):\n",
        "        positions = torch.arange(0, x.size(1)).unsqueeze(0)\n",
        "        positions = positions.to(x.device)\n",
        "        position_embeddings = self.positional_embeddings(positions)\n",
        "        return x + position_embeddings\n",
        "\n",
        "# Example usage\n",
        "max_seq_len = 100  # Adjust as needed\n",
        "embedding_dim = 512  # Should match your model's dimension\n",
        "pos_encoder = PositionalEncoding(max_seq_len, embedding_dim)\n",
        "\n",
        "# Dummy input tensor representing a batch of sequences\n",
        "input_tensor = torch.randn(32, max_seq_len, embedding_dim)  # Batch size 32, Sequence length 100, Embedding dim 512\n",
        "\n",
        "# Apply positional encoding\n",
        "encoded = pos_encoder(input_tensor)\n",
        "\n",
        "print(encoded.shape)\n"
      ],
      "metadata": {
        "id": "BN1JS6u5M4Jw",
        "colab": {
          "base_uri": "https://localhost:8080/"
        },
        "outputId": "c7a4fe8c-3d7d-413e-b112-dd30a7cb6267"
      },
      "execution_count": null,
      "outputs": [
        {
          "output_type": "stream",
          "name": "stdout",
          "text": [
            "torch.Size([32, 100, 512])\n"
          ]
        }
      ]
    },
    {
      "cell_type": "markdown",
      "source": [
        "<!-- ## Dropout\n",
        "![](https://python-course.eu/images/machine-learning/weights_input2hidden_dropout_i2_800w.webp)\n",
        "\n",
        "\n",
        "Dropout is a regularization technique used in neural networks to prevent overfitting. It works by randomly \"dropping out\" (i.e., setting to zero) a number of output features of the layer during training.\n",
        "\n",
        "During training, randomly selected neurons are ignored or \"dropped out.\"\n",
        "This means their contribution to the activation of downstream neurons is temporally removed on the forward pass and any weight updates are not applied to the neuron on the backward pass.\n",
        "\n",
        "As a result, the network becomes less sensitive to the specific weights of neurons. This leads to a network that is capable of better generalization and is less likely to overfit to the training data.\n",
        "\n",
        "### Scaling\n",
        "\n",
        "Dropout randomly sets a fraction of input units to zero during training to prevent overfitting. However, this changes the expected sum of the inputs to the next layer. To compensate, outputs are scaled by a factor of $\\frac{1}{1-p}$\n",
        "during training, where $p$ is the dropout probability. This scaling ensures that the sum of the inputs during training and inference (when dropout is not applied) remains approximately the same. This helps maintain the overall activation levels consistent across both phases.\n",
        "\n",
        "### Train/Test\n",
        "\n",
        "Dropout is only used during training. During evaluation or inference, dropout is not applied. Note that when we call `model.train()` or `model.eval()`, PyTorch will help us turn on/off dropout automatically -->"
      ],
      "metadata": {
        "id": "K1o_u9AJI148"
      }
    },
    {
      "cell_type": "markdown",
      "source": [],
      "metadata": {
        "id": "Ef0t8RMVPeyp"
      }
    },
    {
      "cell_type": "markdown",
      "source": [
        "## Normalization"
      ],
      "metadata": {
        "id": "Cf2NltaPI6cN"
      }
    },
    {
      "cell_type": "markdown",
      "source": [
        "### LayerNorm (used in the original transformer)\n",
        "\n",
        "Normalizes the inputs across the features for each sample independently.\n",
        "Computes the mean and variance used for normalization from all of the summed inputs to the neurons in a layer on a single training sample.\n",
        "\n",
        "$$y = \\frac{x - \\mu}{\\sqrt{\\sigma^2 + \\epsilon}} \\times \\gamma + \\beta$$\n",
        "\n",
        "Where $x$ is the input, $\\mu$ is the mean, $\\sigma^2$ is the variance, $\\epsilon$ is a small constant and $\\gamma$ and $\\beta$ are learnable parameters for scaling and shifting.\n"
      ],
      "metadata": {
        "id": "8bAh-fjxJBUs"
      }
    },
    {
      "cell_type": "code",
      "source": [
        "from torch import nn as nn\n",
        "\n",
        "batch, sentence_length, embedding_dim = 20, 5, 10\n",
        "embedding = torch.randn(batch, sentence_length, embedding_dim)\n",
        "\n",
        "# embedding dim is the input shape, we want to normalize all feature of\n",
        "layer_norm = nn.LayerNorm(embedding_dim)\n",
        "\n",
        "# using the layer norm\n",
        "layer_norm(embedding).shape"
      ],
      "metadata": {
        "colab": {
          "base_uri": "https://localhost:8080/"
        },
        "id": "99nDxf7mJFOJ",
        "outputId": "52cf4f48-7988-4175-8f1a-9fa711813a0b"
      },
      "execution_count": null,
      "outputs": [
        {
          "output_type": "execute_result",
          "data": {
            "text/plain": [
              "torch.Size([20, 5, 10])"
            ]
          },
          "metadata": {},
          "execution_count": 8
        }
      ]
    },
    {
      "cell_type": "markdown",
      "source": [
        "### RMSNorm (used by llama)\n",
        "\n",
        "A variation of LayerNorm, RMSNorm normalizes the inputs using the root mean square (RMS) value instead of the mean and variance.\n",
        "\n",
        "Intended to provide a simpler and more efficient computation than LayerNorm, especially in terms of memory and computational requirements.\n",
        "\n",
        "$$y = \\frac{x}{\\sqrt{\\frac{1}{N}\\sum_{i=1}^{N}x_i^2 + \\epsilon}} \\times \\gamma\n",
        "$$\n",
        "\n",
        "Where $x$ is the input, $N$ is the number of inputs, $\\epsilon$ is a small constant for numerical stability, and $\\gamma$ is a learnable scaling parameter\n"
      ],
      "metadata": {
        "id": "AxTJp1trJIun"
      }
    },
    {
      "cell_type": "code",
      "source": [
        "from torch import nn\n",
        "# official implementation: https://github.com/bzhangGo/rmsnorm/blob/master/rmsnorm_torch.py\n",
        "class RMSNorm(nn.Module):\n",
        "    def __init__(self, n):\n",
        "        self.n = n\n",
        "        scale = nn.Parameter(torch.ones(d))\n",
        "        self.register_parameter(scale, self.scale)\n",
        "\n",
        "    def forward(self, x):\n",
        "        x_normed = F.normalize(x, p=2, dim=-1) * ( (1/self.n) ** -0.5)\n",
        "        # x_normed = F.normalize(x, p=2, dim=-1) * (self.n ** 0.5) # equivalent\n",
        "\n",
        "        return self.scale * x_normed"
      ],
      "metadata": {
        "id": "_oHz8J5ZJtTZ"
      },
      "execution_count": null,
      "outputs": []
    },
    {
      "cell_type": "markdown",
      "source": [
        "# Sampling\n",
        "<!-- ![](https://i.ibb.co/fddncgs/Screenshot-2024-01-24-at-4-03-45-PM.png) -->"
      ],
      "metadata": {
        "id": "K0w0z0RuJvaK"
      }
    },
    {
      "cell_type": "markdown",
      "source": [
        "## Greedy Decoding\n",
        "![](https://files.readme.io/2a0cc2f-Top-KTop-P_Visual_3.png)"
      ],
      "metadata": {
        "id": "TEiDRqMKJ18J"
      }
    },
    {
      "cell_type": "code",
      "source": [
        "import numpy as np\n",
        "\n",
        "def greedy_decode(probabilities):\n",
        "    return np.argmax(probabilities)\n",
        "\n",
        "# Example usage\n",
        "probabilities = np.array([0.1, 0.3, 0.6])\n",
        "decoded_index = greedy_decode(probabilities)\n",
        "\n",
        "print(\"Decoded Index:\", decoded_index)\n"
      ],
      "metadata": {
        "colab": {
          "base_uri": "https://localhost:8080/"
        },
        "id": "_4e4J0IrQ7Kb",
        "outputId": "5d5c4aa8-515c-4261-e478-2ca7cdda742b"
      },
      "execution_count": null,
      "outputs": [
        {
          "output_type": "stream",
          "name": "stdout",
          "text": [
            "Decoded Index: 2\n"
          ]
        }
      ]
    },
    {
      "cell_type": "markdown",
      "source": [
        "## Top P Sampling (Nucleus sampling)\n",
        "![](https://files.readme.io/fb9c5f9-Top-KTop-P_Visual_6.png)"
      ],
      "metadata": {
        "id": "BEMi6bAEJ4BI"
      }
    },
    {
      "cell_type": "code",
      "source": [
        "import numpy as np\n",
        "\n",
        "def top_p_sampling(probabilities, p=0.9):\n",
        "    \"\"\"\n",
        "    Selects tokens from a probability distribution that have a cumulative probability\n",
        "    greater than the threshold p.\n",
        "\n",
        "    :param probabilities: A 1D numpy array containing the probability distribution.\n",
        "    :param p: The cumulative probability threshold (0 < p <= 1).\n",
        "    :return: An index sampled according to the top-p distribution.\n",
        "    \"\"\"\n",
        "    print(f\"{probabilities=}\")\n",
        "    # Sort probabilities in descending order and also get the original indices\n",
        "    sorted_indices = np.argsort(probabilities)[::-1]\n",
        "    print(f\"{sorted_indices=}\")\n",
        "    sorted_probabilities = probabilities[sorted_indices]\n",
        "\n",
        "    print(f\"{sorted_probabilities=}\")\n",
        "\n",
        "    # Compute cumulative probabilities\n",
        "    cumulative_probabilities = np.cumsum(sorted_probabilities)\n",
        "    print(f\"{cumulative_probabilities=}\")\n",
        "\n",
        "    # Find the threshold index\n",
        "    cutoff_index = np.where(cumulative_probabilities > p)[0][0]\n",
        "    print(f\"{cutoff_index=}\")\n",
        "\n",
        "    # Filter out indices and probabilities that don't meet the threshold\n",
        "    filtered_indices = sorted_indices[:cutoff_index + 1]\n",
        "    print(f\"{filtered_indices=}\")\n",
        "    filtered_probabilities = sorted_probabilities[:cutoff_index + 1]\n",
        "    print(f\"{filtered_probabilities=}\")\n",
        "\n",
        "    # Normalize the filtered probabilities\n",
        "    filtered_probabilities /= filtered_probabilities.sum()\n",
        "    print(f\"normalized_filtered_probabilities{filtered_probabilities}\")\n",
        "\n",
        "    # Sample from the filtered distribution\n",
        "    chosen_index = np.random.choice(filtered_indices, p=filtered_probabilities)\n",
        "\n",
        "    return chosen_index\n",
        "\n",
        "# Example usage\n",
        "probabilities = np.array([0.4, 0.1, 0.2, 0.3])\n",
        "selected_index = top_p_sampling(probabilities, p=0.7)\n",
        "\n",
        "print(\"Selected Index:\", selected_index)\n"
      ],
      "metadata": {
        "colab": {
          "base_uri": "https://localhost:8080/"
        },
        "id": "NPpHZf8TRGsK",
        "outputId": "c6c43d25-2eb0-4915-8fd5-38abd1eb0dfb"
      },
      "execution_count": null,
      "outputs": [
        {
          "output_type": "stream",
          "name": "stdout",
          "text": [
            "probabilities=array([0.4, 0.1, 0.2, 0.3])\n",
            "sorted_indices=array([0, 3, 2, 1])\n",
            "sorted_probabilities=array([0.4, 0.3, 0.2, 0.1])\n",
            "cumulative_probabilities=array([0.4, 0.7, 0.9, 1. ])\n",
            "cutoff_index=2\n",
            "filtered_indices=array([0, 3, 2])\n",
            "filtered_probabilities=array([0.4, 0.3, 0.2])\n",
            "normalized_filtered_probabilities[0.44444444 0.33333333 0.22222222]\n",
            "Selected Index: 3\n"
          ]
        }
      ]
    },
    {
      "cell_type": "markdown",
      "source": [
        "## Top K Sampling\n",
        "![](https://files.readme.io/8beb940-Top-KTop-P_Visual_4.png)\n",
        "![](https://files.readme.io/1810654-Top-KTop-P_Visual_5.png)"
      ],
      "metadata": {
        "id": "WjxOawe0KDD9"
      }
    },
    {
      "cell_type": "code",
      "source": [
        "import numpy as np\n",
        "\n",
        "def top_k_sampling(probabilities, k=5):\n",
        "    \"\"\"\n",
        "    Performs top-k sampling from a probability distribution.\n",
        "\n",
        "    :param probabilities: A 1D numpy array containing the probability distribution.\n",
        "    :param k: The number of top elements to consider for sampling.\n",
        "    :return: An index sampled from the top-k distribution.\n",
        "    \"\"\"\n",
        "    # Get indices of the top k probabilities\n",
        "    top_k_indices = np.argsort(probabilities)[-k:]\n",
        "\n",
        "    # Extract the top k probabilities\n",
        "    top_k_probabilities = probabilities[top_k_indices]\n",
        "\n",
        "    # Normalize the top k probabilities so they sum to 1\n",
        "    top_k_probabilities /= top_k_probabilities.sum()\n",
        "\n",
        "    # Sample from the top k elements\n",
        "    chosen_index = np.random.choice(top_k_indices, p=top_k_probabilities)\n",
        "\n",
        "    return chosen_index\n",
        "\n",
        "# Example usage\n",
        "probabilities = np.array([0.1, 0.2, 0.3, 0.4])\n",
        "selected_index = top_k_sampling(probabilities, k=2)\n",
        "\n",
        "print(\"Selected Index:\", selected_index)\n"
      ],
      "metadata": {
        "colab": {
          "base_uri": "https://localhost:8080/"
        },
        "id": "2f7tH4utRbP-",
        "outputId": "4caf6c7d-21fa-4421-c547-6ed19583e8d6"
      },
      "execution_count": null,
      "outputs": [
        {
          "output_type": "stream",
          "name": "stdout",
          "text": [
            "Selected Index: 2\n"
          ]
        }
      ]
    },
    {
      "cell_type": "markdown",
      "source": [
        "\n",
        "## Temperature\n",
        "![](https://txt.cohere.com/content/images/size/w1000/2023/03/LLM-parameters-demystified.jpg)"
      ],
      "metadata": {
        "id": "P7dWphSFKIvi"
      }
    },
    {
      "cell_type": "markdown",
      "source": [
        "$$P_{\\text{temp}}(y_i) = \\frac{e^{\\frac{z_i}{T}}}{\\sum_{j} e^{\\frac{z_j}{T}}}$$\n"
      ],
      "metadata": {
        "id": "FIrRNoQMT2DO"
      }
    },
    {
      "cell_type": "code",
      "source": [
        "import numpy as np\n",
        "import matplotlib.pyplot as plt\n",
        "\n",
        "def softmax(logits, temperature=1.0):\n",
        "    scaled_logits = logits / temperature\n",
        "    exp_logits = np.exp(scaled_logits - np.max(scaled_logits))  # For numerical stability\n",
        "    probabilities = exp_logits / np.sum(exp_logits)\n",
        "    return probabilities\n",
        "\n",
        "# Example logits from a language model's output\n",
        "logits = np.array([2.0, 1.0, 0.1, -1.0])\n",
        "\n",
        "\n",
        "temperatures = [0.5, 1.0, 2.0, 5.0]\n",
        "plt.figure(figsize=(10, 10))\n",
        "\n",
        "for i, T in enumerate(temperatures):\n",
        "    probabilities = softmax(logits, T)\n",
        "    plt.subplot(2, 2, i + 1)\n",
        "    plt.bar(range(len(logits)), probabilities)\n",
        "    plt.title(f\"Temperature = {T}\")\n",
        "    plt.xlabel(\"Word Index\")\n",
        "    plt.ylabel(\"Probability\")\n",
        "    plt.ylim(0, 1)\n",
        "\n",
        "plt.tight_layout()\n",
        "plt.show()"
      ],
      "metadata": {
        "colab": {
          "base_uri": "https://localhost:8080/",
          "height": 1000
        },
        "id": "nMnDVPreTJFe",
        "outputId": "af1a7ae8-761d-4fb4-9458-35917ea09af3"
      },
      "execution_count": null,
      "outputs": [
        {
          "output_type": "display_data",
          "data": {
            "text/plain": [
              "<Figure size 1000x1000 with 4 Axes>"
            ],
            "image/png": "[encoded data removed]"
          },
          "metadata": {}
        }
      ]
    },
    {
      "cell_type": "markdown",
      "source": [
        "## Repetition Penalty\n",
        "\n",
        "How it Works:\n",
        "\n",
        "When a word is generated, its future probability is decreased.\n",
        "**For** example, if \"sunshine\" is generated, its score is reduced in subsequent steps.\n",
        "This is done by multiplying the word's score by a factor (e.g., 0.7) before softmax.\n",
        "\n",
        "Example:\n",
        "\n",
        "Original score for \"sunshine\": 5.\n",
        "\n",
        "Apply penalty:\n",
        "\n",
        "new score = 5 × 0.7 = 3.5\n",
        "Reduced score leads to a lower probability after softmax.\n",
        "\n",
        "$\\text{new score} = \\text{original score} \\times \\text{penalty factor}$\n",
        "\n",
        "This method helps prevent repetitive text, encouraging more diverse and natural language generation."
      ],
      "metadata": {
        "id": "QNVZBtjWKQlQ"
      }
    },
    {
      "cell_type": "markdown",
      "source": [
        "## Special Tokens\n",
        "\n"
      ],
      "metadata": {
        "id": "hpXVGPCW26P7"
      }
    },
    {
      "cell_type": "code",
      "source": [
        "<user>what is the capital of france?</user>\n",
        "<assistant>paris</assistant>\n",
        "<user>what is the capital of france?</user>\n",
        "<assistant>paris</assistant>\n",
        "<user>what is the capital of france?</user>\n",
        "<assistant>paris</assistant>\n",
        "<user>what is the capital of france?</user>\n",
        "<assistant>paris</assistant>\n",
        "\n",
        "<sys>your role</sys>"
      ],
      "metadata": {
        "id": "MT5GNwBz0Uqa",
        "colab": {
          "base_uri": "https://localhost:8080/",
          "height": 110
        },
        "outputId": "5cc5e39e-4b8c-4ea9-9a32-90ec255b72d1"
      },
      "execution_count": null,
      "outputs": [
        {
          "output_type": "error",
          "ename": "SyntaxError",
          "evalue": "invalid syntax (<ipython-input-1-28a1557c0df8>, line 1)",
          "traceback": [
            "\u001b[0;36m  File \u001b[0;32m\"<ipython-input-1-28a1557c0df8>\"\u001b[0;36m, line \u001b[0;32m1\u001b[0m\n\u001b[0;31m    <user>what is the capital of france?</user>\u001b[0m\n\u001b[0m    ^\u001b[0m\n\u001b[0;31mSyntaxError\u001b[0m\u001b[0;31m:\u001b[0m invalid syntax\n"
          ]
        }
      ]
    },
    {
      "cell_type": "markdown",
      "source": [
        "\n",
        "<!-- ![](https://i.ibb.co/tDMM9zN/Screenshot-2024-01-24-at-9-04-17-PM.png) -->\n",
        "\n",
        "Special tokens in language models serve specific purposes:\n",
        "\n",
        "System Tokens: These are tokens used to control model behavior or provide specific instructions. For example, in GPT models, system tokens might be used to switch between different modes of text generation, like summarization or translation.\n",
        "\n",
        "Role Tokens (User, Assistant): These tokens indicate the speaker in a conversation. For instance, \"user\" might precede text generated by the user, and \"assistant\" for text generated by the AI model. This helps in distinguishing between different speakers in a dialogue, maintaining the flow and context of the conversation.\n",
        "\n",
        "EOS Tokens: \"End of Sentence\" (EOS) tokens signify the end of a text sequence. When a language model generates an EOS token, it indicates that the sentence or text segment is complete. This helps in determining when to stop generating further text in tasks like translation or chatbot responses.\n",
        "Both types of tokens are crucial for guiding the language model's generation process and ensuring coherent and contextually appropriate outputs."
      ],
      "metadata": {
        "id": "GFUGAPF6KaI0"
      }
    },
    {
      "cell_type": "markdown",
      "source": [
        "# Modern GPTs\n",
        "\n",
        "(online)"
      ],
      "metadata": {
        "id": "aUtwZOfXFafD"
      }
    },
    {
      "cell_type": "markdown",
      "source": [],
      "metadata": {
        "id": "5EIBDP055PiD"
      }
    },
    {
      "cell_type": "markdown",
      "source": [
        "## Positional Embeddings\n",
        "\n",
        "* absolute position embeddings: have generalization issues if you try to run something is longer that what it has seen before, you will need to start chopping off context just to be able to run it. this is what we are using in the assignments. also you do not model how close words are. One prior, is that tokens that are closer together than tokens that are further away from each other.\n",
        "\n",
        "* RoPE\n",
        "* Alibi: add something to attention values. value is scaled by how far away the key is away from query token.\n"
      ],
      "metadata": {
        "id": "jStEMkghlbGB"
      }
    },
    {
      "cell_type": "markdown",
      "source": [
        "### RoPE Embeddings (meta llama)\n",
        "\n",
        "Unlike traditional position embeddings, which add separate position vectors to token embeddings, RoPE integrates positional information directly into the attention mechanism. This is achieved by rotating the token embeddings based on their positions before computing self-attention.\n",
        "\n",
        "1. Rotation-Based Encoding: RoPE rotates each token embedding in a way that depends on its position, effectively encoding the position into the embedding itself.\n",
        "2. Preservation of Relative Position: This method maintains relative positional information, allowing the model to better understand the order of tokens.\n",
        "3. Integration with Self-Attention: By altering the token embeddings before they are fed into the self-attention mechanism, RoPE simplifies the model's ability to incorporate positional information.\n",
        "4. Efficiency and Scalability: This approach can be more efficient and scalable compared to traditional position embeddings, as it avoids the need for additional positional parameters."
      ],
      "metadata": {
        "id": "G9_ZOBS--9FQ"
      }
    },
    {
      "cell_type": "markdown",
      "source": [
        "<!-- ![](https://i.ibb.co/DWzvvdM/Screenshot-2024-01-29-at-7-59-41-AM.png) -->\n",
        "![](https://miro.medium.com/v2/resize:fit:1400/format:webp/1*Bz0z7dYRTfNo5uGPpAWKtw.png)\n",
        "<!-- ![](https://i.ibb.co/xfKkdHW/Screenshot-2024-01-29-at-8-00-39-AM.png) -->"
      ],
      "metadata": {
        "id": "OpDGQWfmGH35"
      }
    },
    {
      "cell_type": "markdown",
      "source": [
        "$R(\\theta) = \\begin{bmatrix} \\cos(\\theta) & -\\sin(\\theta) \\\\ \\sin(\\theta) & \\cos(\\theta) \\end{bmatrix} [x1, x2]$\n",
        "\n",
        "x1 cos(theta) -x2 *sin(theta)\n",
        "\n",
        "x1 sin(theta) + x2 cos(theta)\n",
        "\n",
        "\n",
        "\n"
      ],
      "metadata": {
        "id": "vsR5geI1rZHz"
      }
    },
    {
      "cell_type": "markdown",
      "source": [
        "\n",
        "\n",
        "#### 2D Rotation Matrix\n",
        "In 2D space, a rotation matrix looks like this:\n",
        "$R(\\theta) = \\begin{bmatrix} \\cos(\\theta) & -\\sin(\\theta) \\\\ \\sin(\\theta) & \\cos(\\theta) \\end{bmatrix}$\n",
        "Here, $\\theta$ is the angle of rotation. This matrix rotates a vector by $\\theta$ degrees counterclockwise.\n",
        "\n",
        "**Multiplying a Vector**\n",
        "\n",
        "If you have a vector (like a point on a graph), $\\mathbf{v} = \\begin{bmatrix} x \\\\ y \\end{bmatrix}$, multiplying it by this matrix rotates it:\n",
        "$\\mathbf{v'} = R(\\theta) \\mathbf{v}$\n",
        "\n",
        "The result, $\\mathbf{v'}$, is the new, rotated position of the vector.\n",
        "\n",
        "\n",
        "**Rotation Matrix for 30 Degrees**\n",
        "\n",
        "The rotation matrix for a 30-degree (or $\\pi/6$ radians) counterclockwise rotation is:\n",
        "\n",
        "$R(30^\\circ) = \\begin{bmatrix} \\cos(30^\\circ) & -\\sin(30^\\circ) \\\\ \\sin(30^\\circ) & \\cos(30^\\circ) \\end{bmatrix} = \\begin{bmatrix} \\cos(\\pi/6) & -\\sin(\\pi/6) \\\\ \\sin(\\pi/6) & \\cos(\\pi/6) \\end{bmatrix}$\n",
        "\n",
        "**Original Point (1,0)**\n",
        "\n",
        "The vector representation of the point (1,0) is:\n",
        "\n",
        "$\\mathbf{v} = \\begin{bmatrix} 1 \\\\ 0 \\end{bmatrix}$\n",
        "\n",
        "**Applying the Rotation**\n",
        "Multiply the rotation matrix by the vector:\n",
        "\n",
        "$\\mathbf{v'} = R(30^\\circ)$\n",
        "\n",
        "$\\mathbf{v} = \\begin{bmatrix} \\cos(\\pi/6) & -\\sin(\\pi/6) \\\\ \\sin(\\pi/6) & \\cos(\\pi/6) \\end{bmatrix} \\begin{bmatrix} 1 \\\\ 0 \\end{bmatrix}$\n",
        "\n",
        "**Resulting Point**\n",
        "\n",
        "Simplifying the multiplication, we get the new position of the point:\n",
        "\n",
        "$\\mathbf{v'} = \\begin{bmatrix} \\cos(\\pi/6) \\\\ \\sin(\\pi/6) \\end{bmatrix} = \\begin{bmatrix} \\sqrt{3}/2 \\\\ 1/2 \\end{bmatrix}$\n",
        "\n",
        "This is the new position of the point after a 30-degree rotation.\n",
        "\n",
        "\n",
        "\n",
        "\n",
        "\n",
        "<!-- $R^d_{\\theta, m} = \\left(\\begin{array}{cccccc}\n",
        "\\cos m\\theta_1 & -\\sin m\\theta_1 & 0 & \\cdots & 0 & 0 \\\\\n",
        "\\sin m\\theta_1 & \\cos m\\theta_1 & 0 & \\cdots & 0 & 0 \\\\\n",
        "0 & 0 & \\cos m\\theta_2 & -\\sin m\\theta_2 & \\cdots & 0 \\\\\n",
        "0 & 0 & \\sin m\\theta_2 & \\cos m\\theta_2 & \\cdots & 0 \\\\\n",
        "\\vdots & \\vdots & \\vdots & \\vdots & \\ddots & \\vdots \\\\\n",
        "0 & 0 & 0 & 0 & \\cos m\\theta_{d/2} & -\\sin m\\theta_{d/2} \\\\\n",
        "0 & 0 & 0 & 0 & \\sin m\\theta_{d/2} & \\cos m\\theta_{d/2}\n",
        "\\end{array}\\right)$ -->\n",
        "\n",
        "\n",
        "For larger dimensions, we do the same operator to every pair of features\n",
        "\n",
        "\n",
        "$\n",
        "R^d_{\\theta,m} \\mathbf{x} = \\left( \\begin{array}{c}\n",
        "x_1 \\\\\n",
        "x_2 \\\\\n",
        "x_3 \\\\\n",
        "x_4 \\\\\n",
        "\\vdots \\\\\n",
        "x_{d-1} \\\\\n",
        "x_d\n",
        "\\end{array} \\right) \\otimes \\left( \\begin{array}{c}\n",
        "\\cos m\\theta_1 \\\\\n",
        "\\cos m\\theta_1 \\\\\n",
        "\\cos m\\theta_2 \\\\\n",
        "\\cos m\\theta_2 \\\\\n",
        "\\vdots \\\\\n",
        "\\cos m\\theta_{d/2} \\\\\n",
        "\\cos m\\theta_{d/2}\n",
        "\\end{array} \\right) + \\left( \\begin{array}{c}\n",
        "-x_2 \\\\\n",
        "x_1 \\\\\n",
        "-x_4 \\\\\n",
        "x_3 \\\\\n",
        "\\vdots \\\\\n",
        "-x_{d-1} \\\\\n",
        "x_d\n",
        "\\end{array} \\right) \\otimes \\left( \\begin{array}{c}\n",
        "\\sin m\\theta_1 \\\\\n",
        "\\sin m\\theta_1 \\\\\n",
        "\\sin m\\theta_2 \\\\\n",
        "\\sin m\\theta_2 \\\\\n",
        "\\vdots \\\\\n",
        "\\sin m\\theta_{d/2} \\\\\n",
        "\\sin m\\theta_{d/2}\n",
        "\\end{array} \\right)\n",
        "$\n",
        "\n",
        "\n",
        "$$θ_i = 10000^{−2i/d}$$"
      ],
      "metadata": {
        "id": "6ValGS_ieo26"
      }
    },
    {
      "cell_type": "markdown",
      "source": [
        "x1 cos(theta) -x2 *sin(theta)\n",
        "\n",
        " x2 cos(theta) + x1 sin(theta)"
      ],
      "metadata": {
        "id": "F8UV_d5fr2Da"
      }
    },
    {
      "cell_type": "code",
      "source": [],
      "metadata": {
        "id": "Mx-sH-uuNdGa"
      },
      "execution_count": null,
      "outputs": []
    },
    {
      "cell_type": "code",
      "source": [
        "import torch\n",
        "from torch import nn as nn\n",
        "\n",
        "def rotate_half(x):\n",
        "    x1, x2 = x.chunk(2, dim=-1)\n",
        "    return torch.cat((-x2, x1), dim=-1)\n",
        "\n",
        "def apply_rotary_pos_emb(q, k, cos, sin):\n",
        "    q_embed = (q * cos) + (rotate_half(q) * sin)\n",
        "    k_embed = (k * cos) + (rotate_half(k) * sin)\n",
        "    return q_embed, k_embed"
      ],
      "metadata": {
        "id": "JBNlQ4mU1NH7"
      },
      "execution_count": null,
      "outputs": []
    },
    {
      "cell_type": "markdown",
      "source": [
        "#### Rope Position Interpolation\n",
        "\n",
        "At inference time we can feed in different values that we saw during training. In particular, instead of using $m\\theta$ as our angle, we can do $\\frac{1}{4}m\\theta$ and see good results. This effectively extends our context by 4x since we can train on up to 8k context and do inference on up to 32k!\n",
        "\n",
        "\n",
        "[hf implementation](https://github.com/huggingface/transformers/blob/8e164c5400b7b413c7b8fb32e35132001effc970/src/transformers/models/llama/modeling_llama.py#L124-L128)"
      ],
      "metadata": {
        "id": "eSZqwPPlNgCC"
      }
    },
    {
      "cell_type": "markdown",
      "source": [
        "### Alibi Position Embeddings (mosaic mpt)\n",
        "\n",
        "Attention With Linear Biases\n",
        "\n",
        "$m$ is head-specific not trainable parameter. The idea is that different heads can be more/less about immedidate token neighborhood\n",
        "\n",
        "![](https://miro.medium.com/v2/resize:fit:1062/1*9D_DIgDJz5WQbreZ1a9xTA.png)"
      ],
      "metadata": {
        "id": "58VH6UOVGP8L"
      }
    },
    {
      "cell_type": "code",
      "source": [
        "import torch\n",
        "from torch import nn\n",
        "\n",
        "\n",
        "class Alibi(nn.Module):\n",
        "    def __init__(self, m, seq_len):\n",
        "        super().__init__()\n",
        "        self.m = m\n",
        "        tril = torch.tril(torch.ones(seq_len, seq_len))\n",
        "        self.alibi = -torch.cumsum(tril, 0)\n",
        "\n",
        "        self.register_buffer('alibi_pe', self.alibi)\n",
        "\n",
        "    def forward(self, x):\n",
        "        return x + self.m *self.alibi\n",
        "\n",
        "\n",
        "\n",
        "seq_len = 4\n",
        "\n",
        "alibi = Alibi(m=0.01, seq_len=seq_len)\n",
        "\n",
        "zeros = torch.zeros((seq_len, seq_len))\n",
        "print(alibi(zeros))\n",
        "\n",
        "\n",
        "batch = 4\n",
        "batched_query_dot_key = torch.tril(torch.randn((batch, seq_len, seq_len)))\n",
        "print(alibi(batched_query_dot_key))\n"
      ],
      "metadata": {
        "colab": {
          "base_uri": "https://localhost:8080/"
        },
        "id": "vKOo19MLi2jU",
        "outputId": "3008bc74-7df1-4016-a2ed-9410918c9117"
      },
      "execution_count": null,
      "outputs": [
        {
          "output_type": "stream",
          "name": "stdout",
          "text": [
            "tensor([[-0.0100,  0.0000,  0.0000,  0.0000],\n",
            "        [-0.0200, -0.0100,  0.0000,  0.0000],\n",
            "        [-0.0300, -0.0200, -0.0100,  0.0000],\n",
            "        [-0.0400, -0.0300, -0.0200, -0.0100]])\n",
            "tensor([[[-1.7279,  0.0000,  0.0000,  0.0000],\n",
            "         [ 1.0847, -1.5766,  0.0000,  0.0000],\n",
            "         [ 0.4823,  0.2532,  0.0222,  0.0000],\n",
            "         [-0.8694,  0.9100, -0.9984, -1.0275]],\n",
            "\n",
            "        [[ 0.8839,  0.0000,  0.0000,  0.0000],\n",
            "         [-0.8806,  0.3302,  0.0000,  0.0000],\n",
            "         [-0.8325,  0.4510,  0.3548,  0.0000],\n",
            "         [-0.7117, -0.5995,  0.0068, -0.6867]],\n",
            "\n",
            "        [[-0.1045,  0.0000,  0.0000,  0.0000],\n",
            "         [-0.4575,  1.0201,  0.0000,  0.0000],\n",
            "         [ 0.9982, -0.3955, -0.7383,  0.0000],\n",
            "         [ 1.5227, -0.0917,  0.8196, -0.5769]],\n",
            "\n",
            "        [[ 1.5433,  0.0000,  0.0000,  0.0000],\n",
            "         [ 0.5655, -0.2667,  0.0000,  0.0000],\n",
            "         [-1.1370, -0.3153, -0.8158,  0.0000],\n",
            "         [ 0.5065, -0.3080,  0.4517,  1.3569]]])\n"
          ]
        }
      ]
    },
    {
      "cell_type": "markdown",
      "source": [
        "## Normalization"
      ],
      "metadata": {
        "id": "EyqXJgqm6X5t"
      }
    },
    {
      "cell_type": "markdown",
      "source": [
        "### RMSNorm (used by llama)\n",
        "\n",
        "A variation of LayerNorm, RMSNorm normalizes the inputs using the root mean square (RMS) value instead of the mean and variance.\n",
        "\n",
        "Intended to provide a simpler and more efficient computation than LayerNorm, especially in terms of memory and computational requirements.\n",
        "\n",
        "$$y = \\frac{x}{\\sqrt{\\frac{1}{N}\\sum_{i=1}^{N}x_i^2 + \\epsilon}} \\times \\gamma\n",
        "$$\n",
        "\n",
        "Where $x$ is the input, $N$ is the number of inputs, $\\epsilon$ is a small constant for numerical stability, and $\\gamma$ is a learnable scaling parameter\n"
      ],
      "metadata": {
        "id": "4XGnP3qv6ORM"
      }
    },
    {
      "cell_type": "code",
      "source": [
        "# official implementation: https://github.com/bzhangGo/rmsnorm/blob/master/rmsnorm_torch.py\n",
        "class RMSNorm(nn.Module):\n",
        "    def __init__(self, n):\n",
        "        self.n = n\n",
        "        self.scale = nn.Parameter(torch.ones(d))\n",
        "        self.register_parameter(self.scale, self.scale)\n",
        "\n",
        "    def forward(self, x):\n",
        "        x_normed = F.normalize(x, p=2, dim=-1) * ( (1/self.n) ** -0.5)\n",
        "        # x_normed = F.normalize(x, p=2, dim=-1) * (self.n ** 0.5) # equivalent\n",
        "\n",
        "        return self.scale * x_normed"
      ],
      "metadata": {
        "id": "9m9F5iXQ6Waa"
      },
      "execution_count": null,
      "outputs": []
    },
    {
      "cell_type": "markdown",
      "source": [
        "## Architecture\n",
        "* MultiQueryAttention: Multi Query attention is a change to the model architecture that shrinks the size of the KV cache by assigning multiple heads to Q, and only a single head to K and V. It needs to be trained into the model from the beginning\n",
        "* GroupedQueryAttention: In between MultiHeadAttention and MultiQueryAttention. Using a single key-value per subgroup of query heads.\n",
        "\n",
        "\n",
        "![](https://miro.medium.com/v2/resize:fit:1400/1*VDWPMgjQzFEgiTHcL5-9fw.png)\n",
        "\n",
        "Question: Can you rank these variants from least to most compute intensive?"
      ],
      "metadata": {
        "id": "ZlzzXll2W9Ek"
      }
    },
    {
      "cell_type": "code",
      "source": [
        "import torch\n",
        "from torch import nn, Tensor\n",
        "import torch.nn.functional as F\n",
        "import time\n",
        "import math\n",
        "\n",
        "class Attention(nn.Module):\n",
        "    def __init__(self, dim_size:int=64) -> None:\n",
        "        super().__init__()\n",
        "        self.dim_size = dim_size\n",
        "        self.query = nn.Linear(in_features=dim_size, out_features=dim_size)\n",
        "        self.key  = nn.Linear(in_features=dim_size, out_features=dim_size)\n",
        "        self.value = nn.Linear(in_features=dim_size, out_features=dim_size)\n",
        "\n",
        "    def self_attention(self, Q:Tensor, K:Tensor, V:Tensor) -> Tensor:\n",
        "        d_k = Q.size(-1)\n",
        "        score = Q @ K.transpose(-2, -1) / math.sqrt(d_k)\n",
        "        score = torch.softmax(score, dim=-1)\n",
        "        Z = score @ V\n",
        "        return Z\n",
        "\n",
        "    def forward(self, x:Tensor) -> Tensor:\n",
        "        Q = self.query(x)\n",
        "        K = self.key(x)\n",
        "        V = self.value(x)\n",
        "        Z = self.self_attention(Q, K, V)\n",
        "        return Z\n",
        "\n",
        "\n",
        "class MultiheadAttention(nn.Module):\n",
        "    r\"\"\"\n",
        "    https://arxiv.org/abs/1706.03762\n",
        "    \"\"\"\n",
        "    def __init__(self, dim_size: int = 64, n_head:int=8) -> None:\n",
        "        super().__init__()\n",
        "        self.n_head = n_head\n",
        "        self.dim_size = dim_size\n",
        "        self.proj = nn.Linear(in_features=dim_size * n_head, out_features=dim_size)\n",
        "        self.multihead = nn.ModuleList([\n",
        "            Attention(dim_size) for _ in range(n_head)\n",
        "        ])\n",
        "\n",
        "    def forward(self, x: Tensor) -> Tensor:\n",
        "        Z_s = torch.cat([head(x) for head in self.multihead], dim=-1)\n",
        "        Z = self.proj(Z_s)\n",
        "        return Z\n",
        "\n",
        "\n",
        "class  MultiQueryAttention(Attention):\n",
        "    r\"\"\"\n",
        "    https://arxiv.org/pdf/1911.02150.pdf\n",
        "    \"\"\"\n",
        "    def __init__(self, dim_size: int = 64, n_query:int=8) -> None:\n",
        "        super().__init__(dim_size)\n",
        "        self.n_query = n_query\n",
        "        self.proj = nn.Linear(in_features=dim_size * n_query, out_features=dim_size)\n",
        "        self.queries = nn.ModuleList([\n",
        "            nn.Linear(in_features=dim_size, out_features=dim_size)\n",
        "            for _ in range(n_query)\n",
        "        ])\n",
        "\n",
        "    def forward(self, x: Tensor) -> Tensor:\n",
        "        K = self.key(x)\n",
        "        V = self.value(x)\n",
        "        Z_s = torch.cat([\n",
        "            self.self_attention(query(x), K, V) for query in self.queries\n",
        "        ], dim=-1)\n",
        "        Z = self.proj(Z_s)\n",
        "        return Z\n",
        "\n",
        "\n",
        "class  GroupedQueryAttention(Attention):\n",
        "    \"\"\"\n",
        "    https://arxiv.org/pdf/2305.13245.pdf\n",
        "    \"\"\"\n",
        "    def __init__(\n",
        "            self,\n",
        "            dim_size: int = 64,\n",
        "            n_groups: int = 4,\n",
        "            group_size: int=2\n",
        "        ) -> None:\n",
        "        super().__init__(dim_size)\n",
        "\n",
        "        self.grouped = nn.ModuleList([\n",
        "            MultiQueryAttention(dim_size, n_query=group_size)\n",
        "            for _ in range(n_groups)\n",
        "        ])\n",
        "        self.proj = nn.Linear(in_features=n_groups*dim_size, out_features=dim_size)\n",
        "\n",
        "    def forward(self, x: Tensor) -> Tensor:\n",
        "        Z_s = torch.cat([head(x) for head in self.grouped], dim=-1)\n",
        "        Z = self.proj(Z_s)\n",
        "        return Z\n"
      ],
      "metadata": {
        "id": "uTJhwS4W7o7l"
      },
      "execution_count": null,
      "outputs": []
    },
    {
      "cell_type": "markdown",
      "source": [
        "## Evaluation"
      ],
      "metadata": {
        "id": "dKl4yBoXFtIe"
      }
    },
    {
      "cell_type": "markdown",
      "source": [
        "### Perplexity\n",
        "\n",
        "Perplexity is a metric used to measure how well a probabilistic model predicts a sample. It's commonly used in natural language processing to evaluate language models. Perplexity is defined as the exponentiation of the average negative log-likelihood of a sequence of tokens.\n",
        "\n",
        "Perplexity of a language model for a sequence of tokens is defined as:\n",
        "\n",
        "\\begin{equation}\n",
        "    \\text{Perplexity} = \\exp\\left(\\frac{\\sum_{i=1}^{N} -\\log P(w_i)}{N}\\right)\n",
        "\\end{equation}\n",
        "\n",
        "where $P(w_i)$ is the probability of the $i$-th token in the sequence and $N$ is the total number of tokens in the sequence.\n",
        "\n"
      ],
      "metadata": {
        "id": "5RGYXsw51B92"
      }
    },
    {
      "cell_type": "code",
      "source": [],
      "metadata": {
        "colab": {
          "base_uri": "https://localhost:8080/"
        },
        "id": "jkQJ7dXmBZ9I",
        "outputId": "c53ecb60-b67c-4abc-9cd2-432df4f35391"
      },
      "execution_count": null,
      "outputs": [
        {
          "output_type": "stream",
          "name": "stdout",
          "text": [
            "Perplexity: 4.518010018049224\n"
          ]
        }
      ]
    },
    {
      "cell_type": "markdown",
      "source": [
        "![](https://substackcdn.com/image/fetch/f_auto,q_auto:good,fl_progressive:steep/https%3A%2F%2Fsubstack-post-media.s3.amazonaws.com%2Fpublic%2Fimages%2F6b8169ae-0337-41d6-a4dd-1c15a4e31b79_1200x914.png)\n"
      ],
      "metadata": {
        "id": "LbbA6T2-JGzh"
      }
    },
    {
      "cell_type": "code",
      "source": [],
      "metadata": {
        "id": "tMexVHSMERjn"
      },
      "execution_count": null,
      "outputs": []
    },
    {
      "cell_type": "markdown",
      "source": [],
      "metadata": {
        "id": "Qz1pDE0X4T_q"
      }
    },
    {
      "cell_type": "markdown",
      "source": [
        "## Data\n",
        "\n",
        "### Internet\n",
        "[red pajama](https://www.together.ai/blog/redpajama-data-v2)\n",
        "\n",
        "[refined web](https://arxiv.org/pdf/2306.01116.pdf)\n",
        "\n",
        "\n",
        "### Phi -- Textbooks are all you need\n",
        "\n",
        "#### Data\n",
        "\n",
        "Synthetic code exercises:\n",
        "\n",
        "![](https://i.imgur.com/yGDoyKd.png)\n",
        "\n",
        "Synthetic code textbooks\n",
        "\n",
        "![](https://i.imgur.com/O4l7VHT.png)\n",
        "\n",
        "Filtered open-source\n",
        "\n",
        "<!-- ![](https://i.ibb.co/t37zYBh/Screenshot-2024-01-25-at-10-50-24-AM.png)\n",
        "\n",
        "\n",
        "\n",
        "\n",
        "\n",
        "![](https://i.ibb.co/LnhMQGS/Screenshot-2024-01-25-at-10-49-01-AM.png) -->\n",
        "\n",
        "![](https://i.imgur.com/b9Ftk7i.png)\n",
        "\n",
        "![](https://miro.medium.com/v2/resize:fit:1400/1*wiNeStO5x06iLks7WQWKxw.png)\n",
        "\n",
        "\n",
        "![](https://miro.medium.com/v2/resize:fit:1400/1*tBr1LW5uee7NyG9QgB3eeQ.png)\n"
      ],
      "metadata": {
        "id": "52KeqG8QC8WF"
      }
    },
    {
      "cell_type": "markdown",
      "source": [],
      "metadata": {
        "id": "NgQs_FyR6gS4"
      }
    },
    {
      "cell_type": "markdown",
      "source": [
        "## BPE Tokenizer\n",
        "\n",
        "A tokenizer may not be suitable if it has been trained on text that is different from the one you will use to train a model from scratch\n",
        "\n",
        "for example:\n",
        "* new language\n",
        "* new characters\n",
        "* new domain\n",
        "\n",
        "\n",
        "Training a tokenizer is different from training a model. A model uses gradient descent. Training a tokenizer is a statistical process that tries to identify which subwords are best to pick for a given corpus, and the way the subwords are chosen depend on the tokenization algorith. It is deterministic.\n",
        "\n",
        "\n",
        "Byte Pair Encoding (BPE) works by iteratively merging the most frequent pair of adjacent symbols (bytes or characters) in a text dataset to form new symbols. This process continues until a specified vocabulary size is reached, effectively encoding more frequent sequences as single units and reducing the overall number of tokens needed to represent the text.\n"
      ],
      "metadata": {
        "id": "pmkl_WTN8VYC"
      }
    },
    {
      "cell_type": "markdown",
      "source": [
        "### Implementing BPE"
      ],
      "metadata": {
        "id": "crpCGng_hWDV"
      }
    },
    {
      "cell_type": "code",
      "source": [
        "corpus = [\n",
        "    \"The sun shines brightly.\",\n",
        "    \"Cats love to sleep.\",\n",
        "    \"Python is a versatile language.\",\n",
        "    \"Music brings joy.\",\n",
        "    \"The ocean is vast and deep.\",\n",
        "    \"Books are windows to the world.\",\n",
        "    \"Space exploration inspires imagination.\",\n",
        "    \"Art transcends boundaries.\",\n",
        "    \"Technology advances rapidly.\",\n",
        "    \"Dreams fuel progress.\"\n",
        "]"
      ],
      "metadata": {
        "id": "q4WpLtNbhb_d"
      },
      "execution_count": null,
      "outputs": []
    },
    {
      "cell_type": "code",
      "source": [
        "from transformers import AutoTokenizer\n",
        "\n",
        "tokenizer = AutoTokenizer.from_pretrained(\"gpt2\")"
      ],
      "metadata": {
        "id": "Bg1ZPCr9oVWQ",
        "colab": {
          "base_uri": "https://localhost:8080/",
          "height": 274,
          "referenced_widgets": [
            "5c7c4a60f1a647cbbf36d37588d1f1de",
            "add972f7d9e14d95bda74f68e074e0da",
            "9fc23728ad644d5c8f45d70c0ec075ef",
            "4c55ef9a097342c1b02c10ec8dc090a8",
            "4351ad7ac426444788320c4a6c887016",
            "65d9d2522cfa40f0acee76d9e77e6d0d",
            "351e7f7ad19444d9829b07b8387c34ce",
            "b1c612d0723f429e97ceac9382d278a8",
            "8ecc410cecc04c4bafdfe88a561e24a8",
            "83d05e9b0dc64a59b4dee33970158ef8",
            "f47347243cb24d2ba54ddd420d1217c8",
            "53943386cdc24ddfb3cb7928b8dbd154",
            "3800c18116d649f5b28577ac96e75b7c",
            "b0e76cac7f2548079248e1aeed35cd40",
            "82926a6e90e642b48c18512cc1cfe818",
            "63cc0ee1a0ed4f63b9f519fa72ac692e",
            "1d236364bbcf4e8d9f378f73b6ad2f57",
            "c92453d4860940aca5c2c5b734d5d432",
            "a786a86c3b044eb0ba86311e0c6f986c",
            "7f356ee2927f4ed6a6ba4a42f265dcb8",
            "6459d946109c4b91afcbcee3a9eccc08",
            "dff90cb6ddf24befb4ab1ac30b8598c1",
            "612e0101b6b44290803f17c5d2e41c57",
            "fbdcf217077d4c40860271b9cc9ba20f",
            "5e87d1d4e79c4371b58b546ba06765a2",
            "504a382510554146b7316e42f79a00b4",
            "2980de3a353540fd9cef9d89fef6d05f",
            "f328f95495a144d6bc2b9ddf8b08f920",
            "272742cf3a9a4cd88cdd9eb23f564a02",
            "b0602f4c0faa48d6b2b53cf9c2eb981f",
            "b42383c41cd54e73ad72c7fb262baabe",
            "31d0def8bea44e07a0551a256d31862a",
            "022742bb59264901909cab4d8d2c8705",
            "f9a0a74f5e7c4230b12f1dd0062ac3c9",
            "06c337582d0043b9878485f4482876c2",
            "1752f2d0024149008a13ebb7248fb1bc",
            "f3bdee51bd2149cda7650d5d40861f29",
            "8ed444391a6944f2a7690e0f41b6bfc5",
            "f955c714ba0b45cdbd9d8a8dfbe5c6fe",
            "6ba9251e816f4280bfd1b3dacf7343ec",
            "3aeff5ab0e294f66b6f7fddeaadf8c4f",
            "799d4b83fdea4b32a3a71571ae9cc5dd",
            "be4d55ba064c42c6a308e46947e1c31e",
            "0140fb31eeab4f8dad6218e81aa25c53"
          ]
        },
        "outputId": "72afbb5b-93a6-4b5c-bcf5-69df5fbcdaa4"
      },
      "execution_count": null,
      "outputs": [
        {
          "output_type": "stream",
          "name": "stderr",
          "text": [
            "/usr/local/lib/python3.10/dist-packages/huggingface_hub/utils/_token.py:88: UserWarning: \n",
            "The secret `HF_TOKEN` does not exist in your Colab secrets.\n",
            "To authenticate with the Hugging Face Hub, create a token in your settings tab (https://huggingface.co/settings/tokens), set it as secret in your Google Colab and restart your session.\n",
            "You will be able to reuse this secret in all of your notebooks.\n",
            "Please note that authentication is recommended but still optional to access public models or datasets.\n",
            "  warnings.warn(\n"
          ]
        },
        {
          "output_type": "display_data",
          "data": {
            "text/plain": [
              "config.json:   0%|          | 0.00/665 [00:00<?, ?B/s]"
            ],
            "application/vnd.jupyter.widget-view+json": {
              "version_major": 2,
              "version_minor": 0,
              "model_id": "5c7c4a60f1a647cbbf36d37588d1f1de"
            }
          },
          "metadata": {}
        },
        {
          "output_type": "display_data",
          "data": {
            "text/plain": [
              "vocab.json:   0%|          | 0.00/1.04M [00:00<?, ?B/s]"
            ],
            "application/vnd.jupyter.widget-view+json": {
              "version_major": 2,
              "version_minor": 0,
              "model_id": "53943386cdc24ddfb3cb7928b8dbd154"
            }
          },
          "metadata": {}
        },
        {
          "output_type": "display_data",
          "data": {
            "text/plain": [
              "merges.txt:   0%|          | 0.00/456k [00:00<?, ?B/s]"
            ],
            "application/vnd.jupyter.widget-view+json": {
              "version_major": 2,
              "version_minor": 0,
              "model_id": "612e0101b6b44290803f17c5d2e41c57"
            }
          },
          "metadata": {}
        },
        {
          "output_type": "display_data",
          "data": {
            "text/plain": [
              "tokenizer.json:   0%|          | 0.00/1.36M [00:00<?, ?B/s]"
            ],
            "application/vnd.jupyter.widget-view+json": {
              "version_major": 2,
              "version_minor": 0,
              "model_id": "f9a0a74f5e7c4230b12f1dd0062ac3c9"
            }
          },
          "metadata": {}
        }
      ]
    },
    {
      "cell_type": "markdown",
      "source": [
        "Next, we need to pre tokenize that corpus into words.\n",
        "\n",
        "The character Ġ is used in place of a space. This is way to tell the model taht it is the beginning of a new word. Note that we do not add it to beginning of a sentence, because often there is a `<S>` or `<bos>` start token so additionally adding Ġ would be unnecessary."
      ],
      "metadata": {
        "id": "-T_7HmedhguX"
      }
    },
    {
      "cell_type": "code",
      "source": [
        "tokenizer.backend_tokenizer.pre_tokenizer.pre_tokenize_str(corpus[0])"
      ],
      "metadata": {
        "colab": {
          "base_uri": "https://localhost:8080/"
        },
        "id": "z-KaFZeFoH4Q",
        "outputId": "80861609-8984-4e43-f439-4814e470142c"
      },
      "execution_count": null,
      "outputs": [
        {
          "output_type": "execute_result",
          "data": {
            "text/plain": [
              "[('The', (0, 3)),\n",
              " ('Ġsun', (3, 7)),\n",
              " ('Ġshines', (7, 14)),\n",
              " ('Ġbrightly', (14, 23)),\n",
              " ('.', (23, 24))]"
            ]
          },
          "metadata": {},
          "execution_count": 14
        }
      ]
    },
    {
      "cell_type": "markdown",
      "source": [
        "Then we compute the frequencies of each word in the corpus as we do the pre tokenization"
      ],
      "metadata": {
        "id": "FAtKX67mhz-a"
      }
    },
    {
      "cell_type": "code",
      "source": [
        "from collections import Counter\n",
        "\n",
        "word_freqs = Counter()\n",
        "\n",
        "for text in corpus:\n",
        "    words_with_offsets = tokenizer.backend_tokenizer.pre_tokenizer.pre_tokenize_str(text)\n",
        "    words = [word for word, offset in words_with_offsets]\n",
        "    word_freqs.update(words)\n",
        "\n",
        "print(word_freqs)"
      ],
      "metadata": {
        "colab": {
          "base_uri": "https://localhost:8080/"
        },
        "id": "G-Z-FD2vhype",
        "outputId": "65a8ddf6-4d74-44cc-8dcc-48dec11188c4"
      },
      "execution_count": null,
      "outputs": [
        {
          "output_type": "stream",
          "name": "stdout",
          "text": [
            "Counter({'.': 10, 'The': 2, 'Ġto': 2, 'Ġis': 2, 'Ġsun': 1, 'Ġshines': 1, 'Ġbrightly': 1, 'Cats': 1, 'Ġlove': 1, 'Ġsleep': 1, 'Python': 1, 'Ġa': 1, 'Ġversatile': 1, 'Ġlanguage': 1, 'Music': 1, 'Ġbrings': 1, 'Ġjoy': 1, 'Ġocean': 1, 'Ġvast': 1, 'Ġand': 1, 'Ġdeep': 1, 'Books': 1, 'Ġare': 1, 'Ġwindows': 1, 'Ġthe': 1, 'Ġworld': 1, 'Space': 1, 'Ġexploration': 1, 'Ġinspires': 1, 'Ġimagination': 1, 'Art': 1, 'Ġtranscends': 1, 'Ġboundaries': 1, 'Technology': 1, 'Ġadvances': 1, 'Ġrapidly': 1, 'Dreams': 1, 'Ġfuel': 1, 'Ġprogress': 1})\n"
          ]
        }
      ]
    },
    {
      "cell_type": "markdown",
      "source": [
        "Compute base vocabulary"
      ],
      "metadata": {
        "id": "0SVkZNrjhzFP"
      }
    },
    {
      "cell_type": "code",
      "source": [
        "alphabet = list(set(''.join(word_freqs.keys())))\n",
        "alphabet.sort()\n",
        "alphabet\n",
        "\n",
        "vocab = alphabet.copy()"
      ],
      "metadata": {
        "id": "6FNHZ9M2nzQ-"
      },
      "execution_count": null,
      "outputs": []
    },
    {
      "cell_type": "markdown",
      "source": [
        "Now we split each word into its individual characters."
      ],
      "metadata": {
        "id": "XffgowAonysS"
      }
    },
    {
      "cell_type": "code",
      "source": [
        "splits = {word: [c for c in word] for word in word_freqs.keys()}\n",
        "print(splits)"
      ],
      "metadata": {
        "colab": {
          "base_uri": "https://localhost:8080/"
        },
        "id": "yl4GqCGopZ4t",
        "outputId": "76e54c33-7a17-48a0-9d2e-c53fc2bb4c37"
      },
      "execution_count": null,
      "outputs": [
        {
          "output_type": "stream",
          "name": "stdout",
          "text": [
            "{'The': ['T', 'h', 'e'], 'Ġsun': ['Ġ', 's', 'u', 'n'], 'Ġshines': ['Ġ', 's', 'h', 'i', 'n', 'e', 's'], 'Ġbrightly': ['Ġ', 'b', 'r', 'i', 'g', 'h', 't', 'l', 'y'], '.': ['.'], 'Cats': ['C', 'a', 't', 's'], 'Ġlove': ['Ġ', 'l', 'o', 'v', 'e'], 'Ġto': ['Ġ', 't', 'o'], 'Ġsleep': ['Ġ', 's', 'l', 'e', 'e', 'p'], 'Python': ['P', 'y', 't', 'h', 'o', 'n'], 'Ġis': ['Ġ', 'i', 's'], 'Ġa': ['Ġ', 'a'], 'Ġversatile': ['Ġ', 'v', 'e', 'r', 's', 'a', 't', 'i', 'l', 'e'], 'Ġlanguage': ['Ġ', 'l', 'a', 'n', 'g', 'u', 'a', 'g', 'e'], 'Music': ['M', 'u', 's', 'i', 'c'], 'Ġbrings': ['Ġ', 'b', 'r', 'i', 'n', 'g', 's'], 'Ġjoy': ['Ġ', 'j', 'o', 'y'], 'Ġocean': ['Ġ', 'o', 'c', 'e', 'a', 'n'], 'Ġvast': ['Ġ', 'v', 'a', 's', 't'], 'Ġand': ['Ġ', 'a', 'n', 'd'], 'Ġdeep': ['Ġ', 'd', 'e', 'e', 'p'], 'Books': ['B', 'o', 'o', 'k', 's'], 'Ġare': ['Ġ', 'a', 'r', 'e'], 'Ġwindows': ['Ġ', 'w', 'i', 'n', 'd', 'o', 'w', 's'], 'Ġthe': ['Ġ', 't', 'h', 'e'], 'Ġworld': ['Ġ', 'w', 'o', 'r', 'l', 'd'], 'Space': ['S', 'p', 'a', 'c', 'e'], 'Ġexploration': ['Ġ', 'e', 'x', 'p', 'l', 'o', 'r', 'a', 't', 'i', 'o', 'n'], 'Ġinspires': ['Ġ', 'i', 'n', 's', 'p', 'i', 'r', 'e', 's'], 'Ġimagination': ['Ġ', 'i', 'm', 'a', 'g', 'i', 'n', 'a', 't', 'i', 'o', 'n'], 'Art': ['A', 'r', 't'], 'Ġtranscends': ['Ġ', 't', 'r', 'a', 'n', 's', 'c', 'e', 'n', 'd', 's'], 'Ġboundaries': ['Ġ', 'b', 'o', 'u', 'n', 'd', 'a', 'r', 'i', 'e', 's'], 'Technology': ['T', 'e', 'c', 'h', 'n', 'o', 'l', 'o', 'g', 'y'], 'Ġadvances': ['Ġ', 'a', 'd', 'v', 'a', 'n', 'c', 'e', 's'], 'Ġrapidly': ['Ġ', 'r', 'a', 'p', 'i', 'd', 'l', 'y'], 'Dreams': ['D', 'r', 'e', 'a', 'm', 's'], 'Ġfuel': ['Ġ', 'f', 'u', 'e', 'l'], 'Ġprogress': ['Ġ', 'p', 'r', 'o', 'g', 'r', 'e', 's', 's']}\n"
          ]
        }
      ]
    },
    {
      "cell_type": "markdown",
      "source": [
        "Now we write a function that computes the frequence of each pair."
      ],
      "metadata": {
        "id": "-lStTb_9pjAm"
      }
    },
    {
      "cell_type": "code",
      "source": [],
      "metadata": {
        "id": "8fyC-qTyXQME"
      },
      "execution_count": null,
      "outputs": []
    },
    {
      "cell_type": "code",
      "source": [
        "def compute_pair_freqs(splits):\n",
        "    pair_freqs = Counter()\n",
        "    for word, freq in word_freqs.items():\n",
        "        split = splits[word]\n",
        "\n",
        "        if len(split) == 1:\n",
        "            # cannot merge any further\n",
        "            continue\n",
        "        for i in range(1, len(split)):\n",
        "            pair = (split[i-1], split[i]) # tuple of candidate tokens\n",
        "            pair_freqs[pair] += freq\n",
        "    return pair_freqs"
      ],
      "metadata": {
        "id": "qWuquywcpgCS"
      },
      "execution_count": null,
      "outputs": []
    },
    {
      "cell_type": "code",
      "source": [
        "pair_freqs = compute_pair_freqs(splits)\n",
        "\n",
        "for i, (pair, count) in enumerate(pair_freqs.items()):\n",
        "    if i == 5:\n",
        "        break\n",
        "    print(f\"{pair=} {count=}\")"
      ],
      "metadata": {
        "colab": {
          "base_uri": "https://localhost:8080/"
        },
        "id": "exvLeDqBp2fZ",
        "outputId": "0832ceee-80bc-47f3-952f-dac9105ef97f"
      },
      "execution_count": null,
      "outputs": [
        {
          "output_type": "stream",
          "name": "stdout",
          "text": [
            "pair=('T', 'h') count=2\n",
            "pair=('h', 'e') count=3\n",
            "pair=('Ġ', 's') count=3\n",
            "pair=('s', 'u') count=1\n",
            "pair=('u', 'n') count=2\n"
          ]
        }
      ]
    },
    {
      "cell_type": "markdown",
      "source": [
        "Get most frequent pair"
      ],
      "metadata": {
        "id": "1rytHBNmsx7c"
      }
    },
    {
      "cell_type": "code",
      "source": [
        "best_pair = None\n",
        "max_freq = 0\n",
        "\n",
        "for pair, freq in pair_freqs.items():\n",
        "    if freq > max_freq:\n",
        "        max_freq = freq\n",
        "        best_pair = pair\n",
        "print(best_pair, max_freq)"
      ],
      "metadata": {
        "colab": {
          "base_uri": "https://localhost:8080/"
        },
        "id": "1M3LbihCqlca",
        "outputId": "ed6df49d-0a5b-441b-ad4f-82386fa30b8d"
      },
      "execution_count": null,
      "outputs": [
        {
          "output_type": "stream",
          "name": "stdout",
          "text": [
            "('i', 'n') 5\n"
          ]
        }
      ]
    },
    {
      "cell_type": "markdown",
      "source": [
        "Now we need to merge 'i', 'n' -> in"
      ],
      "metadata": {
        "id": "1NCaBOqKtFV7"
      }
    },
    {
      "cell_type": "code",
      "source": [
        "merges = {(\"i\", \"n\"): \"in\"}\n",
        "vocab.append(\"in\")\n",
        "\n",
        "def merge_pair(a, b, splits):\n",
        "    for word in word_freqs:\n",
        "        split = splits[word]\n",
        "        if len(split) == 1:\n",
        "            continue\n",
        "\n",
        "        i = 0\n",
        "        while i < len(split) - 1:\n",
        "            if split[i] == a and split[i + 1] == b:\n",
        "                split = split[:i] + [a + b] + split[i + 2 :]\n",
        "            else:\n",
        "                i += 1\n",
        "        splits[word] = split\n",
        "    return splits"
      ],
      "metadata": {
        "id": "RfsjerretBk4"
      },
      "execution_count": null,
      "outputs": []
    },
    {
      "cell_type": "markdown",
      "source": [
        "then we repeat, until we reach our target vocab size"
      ],
      "metadata": {
        "id": "hoH6gYYAuD8G"
      }
    },
    {
      "cell_type": "code",
      "source": [
        "vocab_size = 50\n",
        "\n",
        "while len(vocab) < vocab_size:\n",
        "    pair_freqs = compute_pair_freqs(splits)\n",
        "    best_pair = \"\"\n",
        "    max_freq = None\n",
        "    for pair, freq in pair_freqs.items():\n",
        "        if max_freq is None or max_freq < freq:\n",
        "            best_pair = pair\n",
        "            max_freq = freq\n",
        "    splits = merge_pair(*best_pair, splits)\n",
        "    merges[best_pair] = best_pair[0] + best_pair[1]\n",
        "    vocab.append(best_pair[0] + best_pair[1])"
      ],
      "metadata": {
        "id": "qDx1hgCRtj3w"
      },
      "execution_count": null,
      "outputs": []
    },
    {
      "cell_type": "code",
      "source": [
        "vocab"
      ],
      "metadata": {
        "colab": {
          "base_uri": "https://localhost:8080/"
        },
        "id": "xgElYp-8uLRa",
        "outputId": "4a324cf5-2304-4608-b6b2-e02ff37e9935"
      },
      "execution_count": null,
      "outputs": [
        {
          "output_type": "execute_result",
          "data": {
            "text/plain": [
              "['.',\n",
              " 'A',\n",
              " 'B',\n",
              " 'C',\n",
              " 'D',\n",
              " 'M',\n",
              " 'P',\n",
              " 'S',\n",
              " 'T',\n",
              " 'a',\n",
              " 'b',\n",
              " 'c',\n",
              " 'd',\n",
              " 'e',\n",
              " 'f',\n",
              " 'g',\n",
              " 'h',\n",
              " 'i',\n",
              " 'j',\n",
              " 'k',\n",
              " 'l',\n",
              " 'm',\n",
              " 'n',\n",
              " 'o',\n",
              " 'p',\n",
              " 'r',\n",
              " 's',\n",
              " 't',\n",
              " 'u',\n",
              " 'v',\n",
              " 'w',\n",
              " 'x',\n",
              " 'y',\n",
              " 'Ġ',\n",
              " 'in',\n",
              " 'in',\n",
              " 'es',\n",
              " 'an',\n",
              " 'at',\n",
              " 'Ġt',\n",
              " 'he',\n",
              " 'Ġs',\n",
              " 'Ġb',\n",
              " 'lo',\n",
              " 'on',\n",
              " 'Ġi',\n",
              " 'Ġa',\n",
              " 'ati',\n",
              " 'ce',\n",
              " 'The']"
            ]
          },
          "metadata": {},
          "execution_count": 23
        }
      ]
    },
    {
      "cell_type": "code",
      "source": [],
      "metadata": {
        "id": "n0F1GwAyvKcl"
      },
      "execution_count": null,
      "outputs": []
    }
  ]
}